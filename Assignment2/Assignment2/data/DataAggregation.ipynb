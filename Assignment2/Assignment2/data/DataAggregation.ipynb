{
 "cells": [
  {
   "cell_type": "code",
   "execution_count": 1,
   "metadata": {
    "collapsed": true
   },
   "outputs": [],
   "source": [
    "%matplotlib inline \n",
    "import pandas as pd\n",
    "import json,csv\n",
    "import urllib2\n",
    "import cPickle as pickle\n",
    "from collections import Counter\n",
    "from collections import defaultdict\n",
    "from collections import OrderedDict\n",
    "from __future__ import division\n",
    "import numpy as np\n",
    "import matplotlib.pyplot as plt\n",
    "import geoplotlib as gp\n",
    "import scipy as sp\n",
    "import datetime\n",
    "from geoplotlib.utils import BoundingBox\n",
    "from sklearn import neighbors, datasets,linear_model,preprocessing\n",
    "from sklearn.preprocessing import scale\n",
    "from pylab import *\n",
    "from geoplotlib.colors import colorbrewer\n",
    "from geoplotlib.core import BatchPainter\n",
    "from geoplotlib.layers import BaseLayer\n",
    "from geoplotlib.colors import create_set_cmap"
   ]
  },
  {
   "cell_type": "code",
   "execution_count": 2,
   "metadata": {
    "collapsed": false
   },
   "outputs": [],
   "source": [
    "df_inc=pd.read_csv('SFPD_Incidents_-_from_1_January_2003.csv').dropna();\n",
    "focus_areas=['PROSTITUTION','VEHICLE THEFT'];\n",
    "df_focus=df_inc[df_inc['Category'].isin(focus_areas)];\n",
    "df_03_focus=df_focus.loc[df_focus['Date'].str.contains(\"2003\")];\n",
    "df_15_focus=df_focus.loc[df_focus['Date'].str.contains(\"2015\")];\n",
    "ser_03_total=df_inc[df_inc['Date'].str.contains(\"2003\")].groupby(['PdDistrict'], as_index=False).count();\n",
    "ser_15_total=df_inc[df_inc['Date'].str.contains(\"2015\")].groupby(['PdDistrict'], as_index=False).count();\n",
    "#df_03_focus=df_03_focus[['Category','PdDistrict']];\n",
    "#df_15_focus=df_15_focus[['Category','PdDistrict']];\n"
   ]
  },
  {
   "cell_type": "code",
   "execution_count": 11,
   "metadata": {
    "collapsed": true
   },
   "outputs": [],
   "source": [
    "df_03_focus=df_03_focus.groupby(['PdDistrict','Category'], as_index=False).count();\n",
    "df_03_focus.rename(columns = {'X':'Counts'},inplace=True);\n",
    "df_15_focus=df_15_focus.groupby(['PdDistrict','Category'], as_index=False).count();\n",
    "df_15_focus.rename(columns = {'X':'Counts'},inplace=True);\n",
    "df_03_focus=df_03_focus[['PdDistrict','Category','Counts']];\n",
    "df_15_focus=df_15_focus[['PdDistrict','Category','Counts']];\n",
    "ser_03_total.rename(columns = {'Category':'Counts'},inplace=True);\n",
    "ser_15_total.rename(columns = {'Category':'Counts'},inplace=True);\n",
    "ser_03_total=ser_03_total[['PdDistrict','Counts']];\n",
    "ser_15_total=ser_15_total[['PdDistrict','Counts']];\n",
    "dict_03=dict();\n",
    "#print ser_03_total.set_index('PdDistrict').T.to_dict('records');\n",
    "dict03=ser_03_total.set_index('PdDistrict').T.to_dict('records')[0];\n",
    "dict15=ser_15_total.set_index('PdDistrict').T.to_dict('records')[0];\n"
   ]
  },
  {
   "cell_type": "code",
   "execution_count": null,
   "metadata": {
    "collapsed": true
   },
   "outputs": [],
   "source": [
    "#print df_03_focus.set_index('PdDistrict').T.to_dict()\n",
    "with open('03total.csv', 'wb') as f:  # Just use 'w' mode in 3.x\n",
    "    writer = csv.writer(f)\n",
    "    for row in sorted(dict03.iteritems()):\n",
    "        writer.writerow(row)\n",
    "with open('15total.csv', 'wb') as f:  # Just use 'w' mode in 3.x   \n",
    "    writer = csv.writer(f)\n",
    "    for row in sorted(dict15.iteritems()):\n",
    "        writer.writerow(row)"
   ]
  },
  {
   "cell_type": "code",
   "execution_count": 5,
   "metadata": {
    "collapsed": false
   },
   "outputs": [
    {
     "data": {
      "text/plain": [
       "(17277, 13)"
      ]
     },
     "execution_count": 5,
     "metadata": {},
     "output_type": "execute_result"
    }
   ],
   "source": [
    "df_03_focus.shape"
   ]
  },
  {
   "cell_type": "code",
   "execution_count": 6,
   "metadata": {
    "collapsed": false
   },
   "outputs": [
    {
     "data": {
      "text/plain": [
       "(8320, 13)"
      ]
     },
     "execution_count": 6,
     "metadata": {},
     "output_type": "execute_result"
    }
   ],
   "source": [
    "df_15_focus.shape"
   ]
  },
  {
   "cell_type": "code",
   "execution_count": 12,
   "metadata": {
    "collapsed": false,
    "scrolled": false
   },
   "outputs": [
    {
     "data": {
      "text/html": [
       "<div>\n",
       "<table border=\"1\" class=\"dataframe\">\n",
       "  <thead>\n",
       "    <tr style=\"text-align: right;\">\n",
       "      <th></th>\n",
       "      <th>PdDistrict</th>\n",
       "      <th>Category</th>\n",
       "      <th>Counts</th>\n",
       "    </tr>\n",
       "  </thead>\n",
       "  <tbody>\n",
       "    <tr>\n",
       "      <th>0</th>\n",
       "      <td>BAYVIEW</td>\n",
       "      <td>PROSTITUTION</td>\n",
       "      <td>11</td>\n",
       "    </tr>\n",
       "    <tr>\n",
       "      <th>1</th>\n",
       "      <td>BAYVIEW</td>\n",
       "      <td>VEHICLE THEFT</td>\n",
       "      <td>2121</td>\n",
       "    </tr>\n",
       "    <tr>\n",
       "      <th>2</th>\n",
       "      <td>CENTRAL</td>\n",
       "      <td>PROSTITUTION</td>\n",
       "      <td>70</td>\n",
       "    </tr>\n",
       "    <tr>\n",
       "      <th>3</th>\n",
       "      <td>CENTRAL</td>\n",
       "      <td>VEHICLE THEFT</td>\n",
       "      <td>1193</td>\n",
       "    </tr>\n",
       "    <tr>\n",
       "      <th>4</th>\n",
       "      <td>INGLESIDE</td>\n",
       "      <td>PROSTITUTION</td>\n",
       "      <td>5</td>\n",
       "    </tr>\n",
       "  </tbody>\n",
       "</table>\n",
       "</div>"
      ],
      "text/plain": [
       "  PdDistrict       Category  Counts\n",
       "0    BAYVIEW   PROSTITUTION      11\n",
       "1    BAYVIEW  VEHICLE THEFT    2121\n",
       "2    CENTRAL   PROSTITUTION      70\n",
       "3    CENTRAL  VEHICLE THEFT    1193\n",
       "4  INGLESIDE   PROSTITUTION       5"
      ]
     },
     "execution_count": 12,
     "metadata": {},
     "output_type": "execute_result"
    }
   ],
   "source": [
    "df_03_focus.head()"
   ]
  },
  {
   "cell_type": "code",
   "execution_count": 95,
   "metadata": {
    "collapsed": false
   },
   "outputs": [
    {
     "data": {
      "text/html": [
       "<div>\n",
       "<table border=\"1\" class=\"dataframe\">\n",
       "  <thead>\n",
       "    <tr style=\"text-align: right;\">\n",
       "      <th></th>\n",
       "      <th>PdDistrict</th>\n",
       "      <th>Category</th>\n",
       "      <th>Counts</th>\n",
       "    </tr>\n",
       "  </thead>\n",
       "  <tbody>\n",
       "    <tr>\n",
       "      <th>0</th>\n",
       "      <td>BAYVIEW</td>\n",
       "      <td>PROSTITUTION</td>\n",
       "      <td>3</td>\n",
       "    </tr>\n",
       "    <tr>\n",
       "      <th>1</th>\n",
       "      <td>BAYVIEW</td>\n",
       "      <td>VEHICLE THEFT</td>\n",
       "      <td>665</td>\n",
       "    </tr>\n",
       "    <tr>\n",
       "      <th>2</th>\n",
       "      <td>CENTRAL</td>\n",
       "      <td>PROSTITUTION</td>\n",
       "      <td>28</td>\n",
       "    </tr>\n",
       "    <tr>\n",
       "      <th>3</th>\n",
       "      <td>CENTRAL</td>\n",
       "      <td>VEHICLE THEFT</td>\n",
       "      <td>402</td>\n",
       "    </tr>\n",
       "    <tr>\n",
       "      <th>4</th>\n",
       "      <td>INGLESIDE</td>\n",
       "      <td>PROSTITUTION</td>\n",
       "      <td>3</td>\n",
       "    </tr>\n",
       "    <tr>\n",
       "      <th>5</th>\n",
       "      <td>INGLESIDE</td>\n",
       "      <td>VEHICLE THEFT</td>\n",
       "      <td>952</td>\n",
       "    </tr>\n",
       "    <tr>\n",
       "      <th>6</th>\n",
       "      <td>MISSION</td>\n",
       "      <td>PROSTITUTION</td>\n",
       "      <td>28</td>\n",
       "    </tr>\n",
       "    <tr>\n",
       "      <th>7</th>\n",
       "      <td>MISSION</td>\n",
       "      <td>VEHICLE THEFT</td>\n",
       "      <td>808</td>\n",
       "    </tr>\n",
       "    <tr>\n",
       "      <th>8</th>\n",
       "      <td>NORTHERN</td>\n",
       "      <td>PROSTITUTION</td>\n",
       "      <td>29</td>\n",
       "    </tr>\n",
       "    <tr>\n",
       "      <th>9</th>\n",
       "      <td>NORTHERN</td>\n",
       "      <td>VEHICLE THEFT</td>\n",
       "      <td>655</td>\n",
       "    </tr>\n",
       "    <tr>\n",
       "      <th>10</th>\n",
       "      <td>PARK</td>\n",
       "      <td>PROSTITUTION</td>\n",
       "      <td>1</td>\n",
       "    </tr>\n",
       "    <tr>\n",
       "      <th>11</th>\n",
       "      <td>PARK</td>\n",
       "      <td>VEHICLE THEFT</td>\n",
       "      <td>418</td>\n",
       "    </tr>\n",
       "    <tr>\n",
       "      <th>12</th>\n",
       "      <td>RICHMOND</td>\n",
       "      <td>PROSTITUTION</td>\n",
       "      <td>9</td>\n",
       "    </tr>\n",
       "    <tr>\n",
       "      <th>13</th>\n",
       "      <td>RICHMOND</td>\n",
       "      <td>VEHICLE THEFT</td>\n",
       "      <td>390</td>\n",
       "    </tr>\n",
       "    <tr>\n",
       "      <th>14</th>\n",
       "      <td>SOUTHERN</td>\n",
       "      <td>PROSTITUTION</td>\n",
       "      <td>88</td>\n",
       "    </tr>\n",
       "    <tr>\n",
       "      <th>15</th>\n",
       "      <td>SOUTHERN</td>\n",
       "      <td>VEHICLE THEFT</td>\n",
       "      <td>549</td>\n",
       "    </tr>\n",
       "    <tr>\n",
       "      <th>16</th>\n",
       "      <td>TARAVAL</td>\n",
       "      <td>PROSTITUTION</td>\n",
       "      <td>21</td>\n",
       "    </tr>\n",
       "    <tr>\n",
       "      <th>17</th>\n",
       "      <td>TARAVAL</td>\n",
       "      <td>VEHICLE THEFT</td>\n",
       "      <td>566</td>\n",
       "    </tr>\n",
       "    <tr>\n",
       "      <th>18</th>\n",
       "      <td>TENDERLOIN</td>\n",
       "      <td>PROSTITUTION</td>\n",
       "      <td>7</td>\n",
       "    </tr>\n",
       "    <tr>\n",
       "      <th>19</th>\n",
       "      <td>TENDERLOIN</td>\n",
       "      <td>VEHICLE THEFT</td>\n",
       "      <td>73</td>\n",
       "    </tr>\n",
       "  </tbody>\n",
       "</table>\n",
       "</div>"
      ],
      "text/plain": [
       "    PdDistrict       Category  Counts\n",
       "0      BAYVIEW   PROSTITUTION       3\n",
       "1      BAYVIEW  VEHICLE THEFT     665\n",
       "2      CENTRAL   PROSTITUTION      28\n",
       "3      CENTRAL  VEHICLE THEFT     402\n",
       "4    INGLESIDE   PROSTITUTION       3\n",
       "5    INGLESIDE  VEHICLE THEFT     952\n",
       "6      MISSION   PROSTITUTION      28\n",
       "7      MISSION  VEHICLE THEFT     808\n",
       "8     NORTHERN   PROSTITUTION      29\n",
       "9     NORTHERN  VEHICLE THEFT     655\n",
       "10        PARK   PROSTITUTION       1\n",
       "11        PARK  VEHICLE THEFT     418\n",
       "12    RICHMOND   PROSTITUTION       9\n",
       "13    RICHMOND  VEHICLE THEFT     390\n",
       "14    SOUTHERN   PROSTITUTION      88\n",
       "15    SOUTHERN  VEHICLE THEFT     549\n",
       "16     TARAVAL   PROSTITUTION      21\n",
       "17     TARAVAL  VEHICLE THEFT     566\n",
       "18  TENDERLOIN   PROSTITUTION       7\n",
       "19  TENDERLOIN  VEHICLE THEFT      73"
      ]
     },
     "execution_count": 95,
     "metadata": {},
     "output_type": "execute_result"
    }
   ],
   "source": [
    "df_15_focus"
   ]
  }
 ],
 "metadata": {
  "anaconda-cloud": {},
  "kernelspec": {
   "display_name": "Python [conda root]",
   "language": "python",
   "name": "conda-root-py"
  },
  "language_info": {
   "codemirror_mode": {
    "name": "ipython",
    "version": 2
   },
   "file_extension": ".py",
   "mimetype": "text/x-python",
   "name": "python",
   "nbconvert_exporter": "python",
   "pygments_lexer": "ipython2",
   "version": "2.7.12"
  }
 },
 "nbformat": 4,
 "nbformat_minor": 2
}
