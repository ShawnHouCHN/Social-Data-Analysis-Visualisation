{
 "cells": [
  {
   "cell_type": "markdown",
   "metadata": {},
   "source": [
    "##### DTU - 02806 Social data analyse og visualisering F17 "
   ]
  },
  {
   "cell_type": "markdown",
   "metadata": {},
   "source": [
    "## Project Assignment A\n",
    "\n",
    "** Note: ** We followed the approach to better display too much than too few information. That way everyone is able to follow each step precisely. If some outputs are too long download the notebook from nbviewer by using the icon at the top right. Then open the notebook with Jupyter and select Cell > All Output > Toggle Scrolling."
   ]
  },
  {
   "cell_type": "markdown",
   "metadata": {},
   "source": [
    "### 0. Video Introduction"
   ]
  },
  {
   "cell_type": "code",
   "execution_count": null,
   "metadata": {
    "collapsed": false
   },
   "outputs": [],
   "source": [
    "# IPython global cell magic\n",
    "%reset\n",
    "%matplotlib inline"
   ]
  },
  {
   "cell_type": "code",
   "execution_count": 83,
   "metadata": {
    "collapsed": true
   },
   "outputs": [],
   "source": [
    "import numpy as np\n",
    "import pandas as pd\n",
    "import geoplotlib as gp\n",
    "from random import randint\n",
    "from scipy import stats\n",
    "from collections import Counter\n",
    "from __future__ import division\n",
    "from collections import defaultdict\n",
    "from collections import OrderedDict\n",
    "import matplotlib.pyplot as plt\n",
    "import geoplotlib as gp\n",
    "import operator\n",
    "from geoplotlib.utils import BoundingBox\n",
    "import plotly.plotly as py\n",
    "import plotly.tools as pt\n",
    "import plotly.offline as opy\n",
    "from plotly.graph_objs import *\n",
    "from plotly import tools"
   ]
  },
  {
   "cell_type": "code",
   "execution_count": 2,
   "metadata": {
    "collapsed": false
   },
   "outputs": [],
   "source": [
    "df = pd.read_csv(\"NYPD_Motor_Vehicle_Collisions_reduced_data.csv\", low_memory=False)"
   ]
  },
  {
   "cell_type": "code",
   "execution_count": 3,
   "metadata": {
    "collapsed": false
   },
   "outputs": [],
   "source": [
    "# Drop NaN values from Lat and Lon\n",
    "df = df.dropna(subset=['LATITUDE','LONGITUDE'])"
   ]
  },
  {
   "cell_type": "code",
   "execution_count": 4,
   "metadata": {
    "collapsed": false
   },
   "outputs": [
    {
     "data": {
      "text/html": [
       "<div>\n",
       "<table border=\"1\" class=\"dataframe\">\n",
       "  <thead>\n",
       "    <tr style=\"text-align: right;\">\n",
       "      <th></th>\n",
       "      <th>Date</th>\n",
       "      <th>TIME</th>\n",
       "      <th>BOROUGH</th>\n",
       "      <th>ZIP CODE</th>\n",
       "      <th>LATITUDE</th>\n",
       "      <th>LONGITUDE</th>\n",
       "      <th>LOCATION</th>\n",
       "      <th>ON STREET NAME</th>\n",
       "      <th>NUMBER OF PERSONS INJURED</th>\n",
       "      <th>NUMBER OF PERSONS KILLED</th>\n",
       "      <th>...</th>\n",
       "      <th>Maximum Humidity</th>\n",
       "      <th>Mean Temperature</th>\n",
       "      <th>Min Temperature</th>\n",
       "      <th>Minimum Humidity</th>\n",
       "      <th>Precipitation</th>\n",
       "      <th>Sea Level Pressure</th>\n",
       "      <th>Snow</th>\n",
       "      <th>Snow Depth</th>\n",
       "      <th>Visibility</th>\n",
       "      <th>Wind Speed</th>\n",
       "    </tr>\n",
       "  </thead>\n",
       "  <tbody>\n",
       "    <tr>\n",
       "      <th>0</th>\n",
       "      <td>2017/03/28</td>\n",
       "      <td>0:00</td>\n",
       "      <td>BRONX</td>\n",
       "      <td>10466</td>\n",
       "      <td>40.894600</td>\n",
       "      <td>-73.861206</td>\n",
       "      <td>(40.8946, -73.861206)</td>\n",
       "      <td>NaN</td>\n",
       "      <td>0</td>\n",
       "      <td>0</td>\n",
       "      <td>...</td>\n",
       "      <td>100</td>\n",
       "      <td>7</td>\n",
       "      <td>5</td>\n",
       "      <td>89</td>\n",
       "      <td>18.29</td>\n",
       "      <td>1014.0</td>\n",
       "      <td>0.00</td>\n",
       "      <td>0.00</td>\n",
       "      <td>7.0</td>\n",
       "      <td>9</td>\n",
       "    </tr>\n",
       "    <tr>\n",
       "      <th>1</th>\n",
       "      <td>2017/03/28</td>\n",
       "      <td>0:00</td>\n",
       "      <td>BROOKLYN</td>\n",
       "      <td>11218</td>\n",
       "      <td>40.654080</td>\n",
       "      <td>-73.977610</td>\n",
       "      <td>(40.65408, -73.97761)</td>\n",
       "      <td>18 STREET</td>\n",
       "      <td>0</td>\n",
       "      <td>0</td>\n",
       "      <td>...</td>\n",
       "      <td>100</td>\n",
       "      <td>7</td>\n",
       "      <td>5</td>\n",
       "      <td>89</td>\n",
       "      <td>18.29</td>\n",
       "      <td>1014.0</td>\n",
       "      <td>0.00</td>\n",
       "      <td>0.00</td>\n",
       "      <td>7.0</td>\n",
       "      <td>9</td>\n",
       "    </tr>\n",
       "    <tr>\n",
       "      <th>2</th>\n",
       "      <td>2017/03/28</td>\n",
       "      <td>0:00</td>\n",
       "      <td>BROOKLYN</td>\n",
       "      <td>11235</td>\n",
       "      <td>40.583847</td>\n",
       "      <td>-73.940590</td>\n",
       "      <td>(40.583847, -73.94059)</td>\n",
       "      <td>NaN</td>\n",
       "      <td>0</td>\n",
       "      <td>0</td>\n",
       "      <td>...</td>\n",
       "      <td>100</td>\n",
       "      <td>7</td>\n",
       "      <td>5</td>\n",
       "      <td>89</td>\n",
       "      <td>18.29</td>\n",
       "      <td>1014.0</td>\n",
       "      <td>0.00</td>\n",
       "      <td>0.00</td>\n",
       "      <td>7.0</td>\n",
       "      <td>9</td>\n",
       "    </tr>\n",
       "    <tr>\n",
       "      <th>3</th>\n",
       "      <td>2017/03/28</td>\n",
       "      <td>0:00</td>\n",
       "      <td>MANHATTAN</td>\n",
       "      <td>10019</td>\n",
       "      <td>40.762770</td>\n",
       "      <td>-73.975590</td>\n",
       "      <td>(40.76277, -73.97559)</td>\n",
       "      <td>NaN</td>\n",
       "      <td>0</td>\n",
       "      <td>0</td>\n",
       "      <td>...</td>\n",
       "      <td>100</td>\n",
       "      <td>7</td>\n",
       "      <td>5</td>\n",
       "      <td>89</td>\n",
       "      <td>18.29</td>\n",
       "      <td>1014.0</td>\n",
       "      <td>0.00</td>\n",
       "      <td>0.00</td>\n",
       "      <td>7.0</td>\n",
       "      <td>9</td>\n",
       "    </tr>\n",
       "    <tr>\n",
       "      <th>4</th>\n",
       "      <td>2017/03/28</td>\n",
       "      <td>0:00</td>\n",
       "      <td>QUEENS</td>\n",
       "      <td>11429</td>\n",
       "      <td>40.713715</td>\n",
       "      <td>-73.731440</td>\n",
       "      <td>(40.713715, -73.73144)</td>\n",
       "      <td>222 STREET</td>\n",
       "      <td>0</td>\n",
       "      <td>0</td>\n",
       "      <td>...</td>\n",
       "      <td>100</td>\n",
       "      <td>7</td>\n",
       "      <td>5</td>\n",
       "      <td>89</td>\n",
       "      <td>18.29</td>\n",
       "      <td>1014.0</td>\n",
       "      <td>0.00</td>\n",
       "      <td>0.00</td>\n",
       "      <td>7.0</td>\n",
       "      <td>9</td>\n",
       "    </tr>\n",
       "  </tbody>\n",
       "</table>\n",
       "<p>5 rows × 37 columns</p>\n",
       "</div>"
      ],
      "text/plain": [
       "         Date  TIME    BOROUGH ZIP CODE   LATITUDE  LONGITUDE  \\\n",
       "0  2017/03/28  0:00      BRONX    10466  40.894600 -73.861206   \n",
       "1  2017/03/28  0:00   BROOKLYN    11218  40.654080 -73.977610   \n",
       "2  2017/03/28  0:00   BROOKLYN    11235  40.583847 -73.940590   \n",
       "3  2017/03/28  0:00  MANHATTAN    10019  40.762770 -73.975590   \n",
       "4  2017/03/28  0:00     QUEENS    11429  40.713715 -73.731440   \n",
       "\n",
       "                 LOCATION                    ON STREET NAME  \\\n",
       "0   (40.8946, -73.861206)                               NaN   \n",
       "1   (40.65408, -73.97761)  18 STREET                          \n",
       "2  (40.583847, -73.94059)                               NaN   \n",
       "3   (40.76277, -73.97559)                               NaN   \n",
       "4  (40.713715, -73.73144)  222 STREET                         \n",
       "\n",
       "   NUMBER OF PERSONS INJURED  NUMBER OF PERSONS KILLED    ...      \\\n",
       "0                          0                         0    ...       \n",
       "1                          0                         0    ...       \n",
       "2                          0                         0    ...       \n",
       "3                          0                         0    ...       \n",
       "4                          0                         0    ...       \n",
       "\n",
       "   Maximum Humidity  Mean Temperature  Min Temperature  Minimum Humidity  \\\n",
       "0               100                 7                5                89   \n",
       "1               100                 7                5                89   \n",
       "2               100                 7                5                89   \n",
       "3               100                 7                5                89   \n",
       "4               100                 7                5                89   \n",
       "\n",
       "   Precipitation  Sea Level Pressure  Snow Snow Depth  Visibility Wind Speed  \n",
       "0          18.29              1014.0  0.00       0.00         7.0          9  \n",
       "1          18.29              1014.0  0.00       0.00         7.0          9  \n",
       "2          18.29              1014.0  0.00       0.00         7.0          9  \n",
       "3          18.29              1014.0  0.00       0.00         7.0          9  \n",
       "4          18.29              1014.0  0.00       0.00         7.0          9  \n",
       "\n",
       "[5 rows x 37 columns]"
      ]
     },
     "execution_count": 4,
     "metadata": {},
     "output_type": "execute_result"
    }
   ],
   "source": [
    "df.head(5)"
   ]
  },
  {
   "cell_type": "markdown",
   "metadata": {},
   "source": [
    "### 1. Preliminary Analysis"
   ]
  },
  {
   "cell_type": "code",
   "execution_count": 6,
   "metadata": {
    "collapsed": false
   },
   "outputs": [
    {
     "name": "stdout",
     "output_type": "stream",
     "text": [
      "Number of people injured since July 2012 : 204536\n",
      "Number of people killed since July 2012 : 943\n"
     ]
    }
   ],
   "source": [
    "year_injur_df=df[(df['NUMBER OF PERSONS INJURED']!=0) | (df['NUMBER OF PERSONS KILLED']!=0)]\n",
    "A=year_injur_df['NUMBER OF PERSONS INJURED'].sum()\n",
    "B=year_injur_df['NUMBER OF PERSONS KILLED'].sum()\n",
    "print \"Number of people injured since July 2012 :\", A\n",
    "print \"Number of people killed since July 2012 :\", B\n"
   ]
  },
  {
   "cell_type": "code",
   "execution_count": 26,
   "metadata": {
    "collapsed": false
   },
   "outputs": [],
   "source": [
    "years=sorted(Counter(df.Date.str[0:4]).keys())\n",
    "months= range(1,13)\n",
    "injured_list=OrderedDict()\n",
    "died_list=OrderedDict()\n",
    "for year in years:\n",
    "    for month in months:\n",
    "        injur_per_year=df[(df['NUMBER OF PERSONS INJURED']!=0) & (df['Date'].str[0:4] == year) & (df['Date'].str[5:7] == str(month).zfill(2))]\n",
    "        if(injur_per_year['NUMBER OF PERSONS INJURED'].sum()!=0):\n",
    "            key=str(year)+\"/\"+str(month).zfill(2)\n",
    "            injured_list[key]=injur_per_year['NUMBER OF PERSONS INJURED'].sum()\n",
    "\n",
    "for year in years:\n",
    "    for month in months:\n",
    "        died_per_year=df[(df['NUMBER OF PERSONS KILED']!=0) & (df['Date'].str[0:4] == year) & (df['Date'].str[5:7] == str(month).zfill(2))]\n",
    "        if(died_per_year['NUMBER OF PERSONS KILLED'].sum()!=0):\n",
    "            key=str(year)+\"/\"+str(month).zfill(2)\n",
    "            died_list[key]=died_per_year['NUMBER OF PERSONS KILLED'].sum()"
   ]
  },
  {
   "cell_type": "code",
   "execution_count": 29,
   "metadata": {
    "collapsed": false
   },
   "outputs": [
    {
     "data": {
      "text/html": [
       "<iframe id=\"igraph\" scrolling=\"no\" style=\"border:none;\" seamless=\"seamless\" src=\"https://plot.ly/~ShawnHouCHN/91.embed\" height=\"525px\" width=\"100%\"></iframe>"
      ],
      "text/plain": [
       "<plotly.tools.PlotlyDisplay object>"
      ]
     },
     "execution_count": 29,
     "metadata": {},
     "output_type": "execute_result"
    }
   ],
   "source": [
    "#fig = plt.figure(num=None, figsize=(18, 14))\n",
    "#ax = fig.add_subplot(211)\n",
    "\n",
    "#ind = np.arange(len(injured_list))  # the x locations for the groups\n",
    "#width = 0.35       # the width of the bars\n",
    "\n",
    "#rects1 = ax.bar(ind, injured_list.values(), width, color='r')\n",
    "#rects2 = ax.bar(ind, died_list.values(), width, color='y')\n",
    "\n",
    "# add axis labels\n",
    "#ax.legend(loc=2, fontsize=15)\n",
    "#ax.set_title(\"Number of injured/killed per month in last 5 years\", fontsize=20)\n",
    "#ax.set_xlabel('Timeline', fontsize=15)\n",
    "#ax.set_ylabel('Count', fontsize=15)\n",
    "\n",
    "# set axis limit\n",
    "#ax.set_xticks(ind + width / 2)\n",
    "#ax.set_xticklabels(injured_list.keys())\n",
    "\n",
    "# show and save plot\n",
    "#plt.show()\n",
    "#fig.savefig('pics/die_injure')\n",
    "\n",
    "#plotly logic@@@@@@@@@@@@@@@@@@@@@@@@@@@@@@\n",
    "opacity = 0.4\n",
    "injured_bar = Bar(x=injured_list.keys(),y = injured_list.values(),name=\"Injured\",opacity=opacity)\n",
    "killed_bar = Bar(x=died_list.keys(),y = died_list.values(),name=\"Killed\",opacity=opacity)\n",
    "data=[injured_bar,killed_bar]\n",
    "layout = Layout(title=\"Number of injured/killed in every month in 5 years\",\n",
    "                barmode='stack',\n",
    "                xaxis=dict(title='Month'),\n",
    "                yaxis=dict(title='Count'))\n",
    "fig = Figure(data=data, layout=layout)\n",
    "py.iplot(fig)"
   ]
  },
  {
   "cell_type": "code",
   "execution_count": 30,
   "metadata": {
    "collapsed": false
   },
   "outputs": [],
   "source": [
    "years=sorted(Counter(df.Date.str[0:4]).keys())\n",
    "dirty_dis=sorted(Counter(df.BOROUGH).keys())\n",
    "districts = [x for x in dirty_dis if str(x) != 'nan']\n",
    "\n",
    "index = np.arange(len(years))\n",
    "bar_width = 0.1\n",
    "opacity = 0.4\n"
   ]
  },
  {
   "cell_type": "code",
   "execution_count": 34,
   "metadata": {
    "collapsed": false,
    "scrolled": false
   },
   "outputs": [
    {
     "data": {
      "text/html": [
       "<iframe id=\"igraph\" scrolling=\"no\" style=\"border:none;\" seamless=\"seamless\" src=\"https://plot.ly/~ShawnHouCHN/95.embed\" height=\"525px\" width=\"100%\"></iframe>"
      ],
      "text/plain": [
       "<plotly.tools.PlotlyDisplay object>"
      ]
     },
     "execution_count": 34,
     "metadata": {},
     "output_type": "execute_result"
    }
   ],
   "source": [
    "year_total_dict=defaultdict(list)\n",
    "data=list()\n",
    "colors = list()\n",
    "for i in range(len(years)):\n",
    "    colors.append('%06X' % randint(0, 0xFFFFFF))\n",
    "i=0\n",
    "for district in districts:\n",
    "    for year in years:\n",
    "        year_df=df.loc[(df['Date'].str[0:4] == year) & (df['BOROUGH']==district)]\n",
    "        year_total_dict[district].append(len(year_df.index))\n",
    "    district_bar = Bar(x=years,y = year_total_dict[district],name=district,marker=dict(color=colors[i]),opacity=opacity)\n",
    "    data.append(district_bar)\n",
    "    i=i+1\n",
    "\n",
    "\n",
    "\n",
    "layout = Layout(title=\"Total of Accidents in each district in last 5 years\",\n",
    "                xaxis=dict(title='Years'),\n",
    "                yaxis=dict(title='Accident Total'))\n",
    "fig = Figure(data=data, layout=layout)\n",
    "py.iplot(fig)"
   ]
  },
  {
   "cell_type": "code",
   "execution_count": 86,
   "metadata": {
    "collapsed": false,
    "scrolled": true
   },
   "outputs": [
    {
     "name": "stdout",
     "output_type": "stream",
     "text": [
      "Top 10 (reported)dangerous cross/street in NYC\n",
      "TILLARY STREET                   (40.6960346, -73.9845292) 673\n",
      "EAST 59 STREET                   (40.7606005, -73.9643142) 543\n",
      "WEST 42 STREET                   (40.7572323, -73.9897922) 485\n",
      "ATLANTIC AVENUE                  (40.6757357, -73.8968533) 479\n",
      "PENNSYLVANIA AVENUE              (40.6585778, -73.8906229) 464\n",
      "KENMARE STREET                   (40.7203211, -73.9940403) 418\n",
      "QUEENS BOULEVARD                 (40.7334973, -73.8703694) 415\n",
      "HUNTS POINT AVENUE               (40.820189, -73.8906752) 405\n",
      "WEST 42 STREET                   (40.7584292, -73.9926328) 391\n",
      "3 AVENUE                         (40.7602226, -73.967462) 390\n"
     ]
    }
   ],
   "source": [
    "top_dangers_dict=df['LOCATION'].value_counts().nlargest(10).to_dict()\n",
    "sorted_top_dangers_dict = sorted(top_dangers_dict.items(), key=operator.itemgetter(1),reverse=True)\n",
    "print \"Top 10 (reported)dangerous cross/street in NYC\"\n",
    "for tup in sorted_top_dangers_dict:\n",
    "    print df.loc[df['LOCATION'] == tup[0], 'ON STREET NAME'].iloc[0], tup[0], tup[1]\n",
    "##print \"Top 10 (reported)dangerous cross/street in NYC\" sorted_top_dangers_dict"
   ]
  },
  {
   "cell_type": "code",
   "execution_count": 133,
   "metadata": {
    "collapsed": false
   },
   "outputs": [
    {
     "data": {
      "text/html": [
       "<div style=\"width:100%;\"><div style=\"position:relative;width:100%;height:0;padding-bottom:60%;\"><iframe src=\"data:text/html;charset=utf-8;base64,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\" style=\"position:absolute;width:100%;height:100%;left:0;top:0;border:none !important;\" allowfullscreen webkitallowfullscreen mozallowfullscreen></iframe></div></div>"
      ],
      "text/plain": [
       "<folium.folium.Map at 0x1ddef3c8>"
      ]
     },
     "execution_count": 133,
     "metadata": {},
     "output_type": "execute_result"
    }
   ],
   "source": [
    "import folium\n",
    "from colour import Color\n",
    "red = Color(\"red\")\n",
    "colors = list(red.range_to(Color(\"green\"),10))\n",
    "NYC_COORDINATES =(40.71, -73.93)\n",
    "# create empty map zoomed in on San Francisco\n",
    "map = folium.Map(location=NYC_COORDINATES, zoom_start=12)\n",
    "i=0\n",
    "for tup in sorted_top_dangers_dict:\n",
    "    lat=float(tup[0].split(',')[0][1:])\n",
    "    lon=float(tup[0].split(',')[1][:-1])\n",
    "    folium.CircleMarker(location=[lat,lon], radius=15,\n",
    "                        popup=df.loc[df['LOCATION'] == tup[0], 'ON STREET NAME'].iloc[0], color=colors[i],\n",
    "                        fill_color=colors[i]).add_to(map)\n",
    "    i=i+1\n",
    "\n",
    "map.save('map.html')\n",
    "map\n"
   ]
  }
 ],
 "metadata": {
  "anaconda-cloud": {},
  "kernelspec": {
   "display_name": "Python [conda root]",
   "language": "python",
   "name": "conda-root-py"
  },
  "language_info": {
   "codemirror_mode": {
    "name": "ipython",
    "version": 2
   },
   "file_extension": ".py",
   "mimetype": "text/x-python",
   "name": "python",
   "nbconvert_exporter": "python",
   "pygments_lexer": "ipython2",
   "version": "2.7.12"
  }
 },
 "nbformat": 4,
 "nbformat_minor": 2
}
