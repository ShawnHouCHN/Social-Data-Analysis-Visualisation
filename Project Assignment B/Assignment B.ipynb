{
 "cells": [
  {
   "cell_type": "markdown",
   "metadata": {},
   "source": [
    "# Car Accidents in New York City\n",
    "\n",
    "This is the second and final part of the final project in the course Social Data Analysis and Visualization at the Technical University of Denmark.\n",
    "\n",
    "The video below is the result of the first part of the project. The video explains the content and plans for the rest of the project."
   ]
  },
  {
   "cell_type": "code",
   "execution_count": 1,
   "metadata": {
    "collapsed": false
   },
   "outputs": [
    {
     "data": {
      "image/jpeg": "[encoded data removed]",
      "text/html": [
       "\n",
       "        <iframe\n",
       "            width=\"400\"\n",
       "            height=\"300\"\n",
       "            src=\"https://www.youtube.com/embed/-pOYAXyQRi4\"\n",
       "            frameborder=\"0\"\n",
       "            allowfullscreen\n",
       "        ></iframe>\n",
       "        "
      ],
      "text/plain": [
       "<IPython.lib.display.YouTubeVideo at 0x44d4d50>"
      ]
     },
     "execution_count": 1,
     "metadata": {},
     "output_type": "execute_result"
    }
   ],
   "source": [
    "from IPython.display import YouTubeVideo \n",
    "YouTubeVideo('-pOYAXyQRi4')"
   ]
  },
  {
   "cell_type": "markdown",
   "metadata": {},
   "source": [
    "# Motivation\n",
    "\n",
    "We chose to work with NYPD Collision Data, since it is basicly a matter of life and death. If we could make a breakthrough and determine the main causalities of traffic accidents in New York, preventive measures could be taken and traffic related injuries and fatalities can be reduced. This could prevent reduction in lifequality and safe the city of New York a lot of money.\n",
    "\n",
    "\n",
    "The data set has a manageable size and a lot of interesting features that can be put to good use. The data and the topic is very concrete which makes it easier to relate to the results of the theoretical methods - to the benefit of us and you the reader. "
   ]
  },
  {
   "cell_type": "markdown",
   "metadata": {},
   "source": [
    "# Content\n",
    "\n",
    "1. Data extraction\n",
    "  1. Extracting NYPD Collision data\n",
    "  1. Extracting and Merging Weather Data\n",
    "2. Preliminary Data Analysis\n",
    "  1. First Look at the Data\n",
    "    1. Number of Collisions\n",
    "    2. Collisions and Visibility\n",
    "  1. Geoplotting Collisions (Heatmap)\n",
    "  2. Comparison of number of Collisions and \n",
    "3. Machine Learning\n",
    "  1. Clustering\n",
    "4. Discussion\n"
   ]
  },
  {
   "cell_type": "markdown",
   "metadata": {},
   "source": [
    "# 0. Modules\n",
    "\n"
   ]
  },
  {
   "cell_type": "code",
   "execution_count": null,
   "metadata": {
    "collapsed": true
   },
   "outputs": [],
   "source": [
    "# IPython global cell magic\n",
    "%reset\n",
    "%matplotlib inline"
   ]
  },
  {
   "cell_type": "code",
   "execution_count": 2,
   "metadata": {
    "collapsed": true
   },
   "outputs": [],
   "source": [
    "# import all necessary packages\n",
    "\n",
    "\n"
   ]
  },
  {
   "cell_type": "markdown",
   "metadata": {},
   "source": [
    "# 1. Data Extraction"
   ]
  },
  {
   "cell_type": "markdown",
   "metadata": {},
   "source": [
    "# 2. Preliminary Data Analysis"
   ]
  },
  {
   "cell_type": "markdown",
   "metadata": {},
   "source": [
    "# 3. Machine Learning"
   ]
  },
  {
   "cell_type": "markdown",
   "metadata": {},
   "source": [
    "# 4. Discussion"
   ]
  }
 ],
 "metadata": {
  "kernelspec": {
   "display_name": "Python 2",
   "language": "python",
   "name": "python2"
  },
  "language_info": {
   "codemirror_mode": {
    "name": "ipython",
    "version": 2
   },
   "file_extension": ".py",
   "mimetype": "text/x-python",
   "name": "python",
   "nbconvert_exporter": "python",
   "pygments_lexer": "ipython2",
   "version": "2.7.12"
  }
 },
 "nbformat": 4,
 "nbformat_minor": 0
}
