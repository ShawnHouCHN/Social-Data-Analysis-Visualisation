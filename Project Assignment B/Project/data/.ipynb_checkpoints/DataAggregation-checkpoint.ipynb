{
 "cells": [
  {
   "cell_type": "code",
   "execution_count": 88,
   "metadata": {
    "collapsed": true
   },
   "outputs": [],
   "source": [
    "%matplotlib inline \n",
    "import pandas as pd\n",
    "import json,csv\n",
    "import urllib2\n",
    "import cPickle as pickle\n",
    "from collections import Counter\n",
    "from collections import defaultdict\n",
    "from collections import OrderedDict\n",
    "from __future__ import division\n",
    "import numpy as np\n",
    "import matplotlib.pyplot as plt\n",
    "import geoplotlib as gp\n",
    "import scipy as sp\n",
    "import datetime\n",
    "from geoplotlib.utils import BoundingBox\n",
    "from sklearn import neighbors, datasets,linear_model,preprocessing\n",
    "from sklearn.preprocessing import scale\n",
    "from pylab import *\n",
    "from geoplotlib.colors import colorbrewer\n",
    "from geoplotlib.core import BatchPainter\n",
    "from geoplotlib.layers import BaseLayer\n",
    "from geoplotlib.colors import create_set_cmap"
   ]
  },
  {
   "cell_type": "code",
   "execution_count": 91,
   "metadata": {
    "collapsed": false
   },
   "outputs": [],
   "source": [
    "df_inc=pd.read_csv('SFPD_Incidents_-_from_1_January_2003.csv').dropna();\n",
    "focus_areas=['PROSTITUTION','VEHICLE THEFT'];\n",
    "df_focus=df_inc[df_inc['Category'].isin(focus_areas)];\n",
    "df_03_focus=df_focus.loc[df_focus['Date'].str.contains(\"2003\")];\n",
    "df_15_focus=df_focus.loc[df_focus['Date'].str.contains(\"2015\")];\n",
    "ser_03_total=df_inc[df_inc['Date'].str.contains(\"2003\")].groupby(['PdDistrict'], as_index=False).count();\n",
    "ser_15_total=df_inc[df_inc['Date'].str.contains(\"2015\")].groupby(['PdDistrict'], as_index=False).count();\n",
    "#df_03_focus=df_03_focus[['Category','PdDistrict']];\n",
    "#df_15_focus=df_15_focus[['Category','PdDistrict']];\n",
    "df_03_focus=df_03_focus.groupby(['PdDistrict','Category'], as_index=False).count();\n",
    "df_03_focus.rename(columns = {'X':'Counts'},inplace=True);\n",
    "df_15_focus=df_15_focus.groupby(['PdDistrict','Category'], as_index=False).count();\n",
    "df_15_focus.rename(columns = {'X':'Counts'},inplace=True);\n",
    "df_03_focus=df_03_focus[['PdDistrict','Category','Counts']];\n",
    "df_15_focus=df_15_focus[['PdDistrict','Category','Counts']];\n",
    "ser_03_total.rename(columns = {'Category':'Counts'},inplace=True);\n",
    "ser_15_total.rename(columns = {'Category':'Counts'},inplace=True);\n",
    "ser_03_total=ser_03_total[['PdDistrict','Counts']];\n",
    "ser_15_total=ser_15_total[['PdDistrict','Counts']];\n",
    "dict_03=dict();\n",
    "#print ser_03_total.set_index('PdDistrict').T.to_dict('records');\n",
    "dict03=ser_03_total.set_index('PdDistrict').T.to_dict('records')[0];\n",
    "dict15=ser_15_total.set_index('PdDistrict').T.to_dict('records')[0];\n",
    "#print df_03_focus.set_index('PdDistrict').T.to_dict()\n",
    "with open('03total.csv', 'wb') as f:  # Just use 'w' mode in 3.x\n",
    "    writer = csv.writer(f)\n",
    "    for row in sorted(dict03.iteritems()):\n",
    "        writer.writerow(row)\n",
    "with open('15total.csv', 'wb') as f:  # Just use 'w' mode in 3.x   \n",
    "    writer = csv.writer(f)\n",
    "    for row in sorted(dict15.iteritems()):\n",
    "        writer.writerow(row)sorted("
   ]
  }
 ],
 "metadata": {
  "anaconda-cloud": {},
  "kernelspec": {
   "display_name": "Python [conda root]",
   "language": "python",
   "name": "conda-root-py"
  },
  "language_info": {
   "codemirror_mode": {
    "name": "ipython",
    "version": 2
   },
   "file_extension": ".py",
   "mimetype": "text/x-python",
   "name": "python",
   "nbconvert_exporter": "python",
   "pygments_lexer": "ipython2",
   "version": "2.7.12"
  }
 },
 "nbformat": 4,
 "nbformat_minor": 2
}
