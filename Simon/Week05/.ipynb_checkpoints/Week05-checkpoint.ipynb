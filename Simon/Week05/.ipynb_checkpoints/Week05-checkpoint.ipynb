{
 "cells": [
  {
   "cell_type": "markdown",
   "metadata": {},
   "source": [
    "# Overview\n",
    "\n",
    "This week is about two topics. Decision trees and clustering. The main exercise will be on decision trees, and we'll also talk a bit about unbalanced data sets as well as a little exercise on clustering, an example of unsupervised learning.  "
   ]
  },
  {
   "cell_type": "markdown",
   "metadata": {},
   "source": [
    "## Part 1: Decision trees (DSFS Chapter 17)\n",
    "\n",
    "> _Reading I_: The visual introduction to decision trees on [**this webpage**](http://www.r2d3.us/visual-intro-to-machine-learning-part-1/\n",
    ") is AMAZING. Take a look to get an intuitive feel for how trees work. Do not miss this one, it's a treat!\n",
    "\n",
    "---\n",
    "\n",
    "> _Reading II_: DSFS Chapter 17. Work through chapter 17 of the book. It's not as flashy as the fancy `D3.js` based web-explanation above, but it's very good (in my humble opinion)."
   ]
  },
  {
   "cell_type": "code",
   "execution_count": 1,
   "metadata": {
    "collapsed": false
   },
   "outputs": [
    {
     "data": {
      "image/jpeg": "[encoded data removed]",
      "text/html": [
       "\n",
       "        <iframe\n",
       "            width=\"600\"\n",
       "            height=\"338\"\n",
       "            src=\"https://www.youtube.com/embed/LAA_CnkAEx8\"\n",
       "            frameborder=\"0\"\n",
       "            allowfullscreen\n",
       "        ></iframe>\n",
       "        "
      ],
      "text/plain": [
       "<IPython.lib.display.YouTubeVideo at 0x4a9fc70>"
      ]
     },
     "execution_count": 1,
     "metadata": {},
     "output_type": "execute_result"
    }
   ],
   "source": [
    "# Ole explains decision trees\n",
    "from IPython.display import YouTubeVideo\n",
    "YouTubeVideo(\"LAA_CnkAEx8\",width=600, height=338)"
   ]
  },
  {
   "cell_type": "markdown",
   "metadata": {},
   "source": [
    "> _Exercises_: Just a few questions to make sure you've read the text and/or watched the video.\n",
    ">\n",
    "> * There are two main kinds of decision trees depending on the type of output (numeric vs. categorical). What are they?\n",
    "\n",
    "***Answer:*** *Classification trees* are decision trees that put data into different categories (e.g. is this person a cat lover or a dog lover?)\n",
    "\n",
    "*regression trees* are decision trees that produces numeric values (e.g. what should i demand in raise after making this pretty decision tree?)\n",
    "\n",
    "> * Explain in your own words: Why is _entropy_ useful when deciding where to split the data?\n",
    "\n",
    "    ***Answer:*** _entropy_ is a meassure of how much uncertainty that is associated with the data. The uncertainty is close to zero when the proportion if a class has a very high/low proportion of the dataset. Entropy (the uncertainty) can be used to choose which dimensions of the data set that can divide the data most evenly - this way it is possible to learn a lot about many data points with just one question. If there is a dimension with high entropy then it makes sense to make a decision tree branch for that. E.g. when classifying animals it is better to ask if the animal is a mammal than asking if it has sharp claws. Because claws are not relevant for a lot of animals, so therefor you will not learn much if the answer is \"no it does not have sharp claws\". \n",
    "    \n",
    "> * Why are trees prone to [overfitting](https://www.youtube.com/watch?v=DQWI1kvmwRg)?\n",
    "\n",
    "***Answer:*** A decision tree is prone to fit itself too closely to its training data. Thereby it gets a perfect accuracy on the training set, but has trouble with new data\n",
    "\n",
    "\n",
    "> * Explain (in your own words) how random forests help prevent overfitting.\n",
    "\n",
    "***Answer:*** A random forest is where several decision trees are created from the same training data set (randomly seperated between each other). Then each tree can vote on how to classify the input. This way you get around the issue of having one decision tree that fits itself too closely to the training set. A random forest often has a better accuracy than a single decision tree (source: DSFS)."
   ]
  },
  {
   "cell_type": "markdown",
   "metadata": {},
   "source": [
    "Chief Suneman arrives at work one day and immediately starts motivating the team by randomly yelling at everyone in order to increase morale - something like [this](https://www.youtube.com/watch?v=L_QCioSGgwU). After a while, the team gets him calmed down with a cup of coffee and a movie. It doesn't help, after watching the first 10 minutes (see below) he comes out of his office with an outrageous request for the newly appointed data science team"
   ]
  },
  {
   "cell_type": "markdown",
   "metadata": {},
   "source": [
    "The chief wants you to start from real data and build a system that replicates the functionality in the _Minority Report_ system. Imagine, we find out that certain type of crime is going to take place - as well as the exact time of the crime - **but that we don't know _where_**, then Suneman wants an algorithm that will predict which district the crime is most likely to take place in. Specifically, let's build an algorithm that predicts the location of a crime based on its type and time.\n",
    "\n",
    "The friendly leader of the data-science team, Captain Mones, helps break down the task.\n",
    "\n",
    "> _Exercise_: Building the _minority report_ algorithm\n",
    ">\n",
    "> * Use the category of the crimes to build a decision tree that predicts the corresponding district. You can implement the ID3 tree in the DSFS book, or use the [`DecisionTreeClassifier`](http://scikit-learn.org/stable/modules/tree.html) class in scikit-learn. For training, you can use 90% of the data and test the tree prediction on the remaining 10%. \n",
    ">  - What is the fraction of correct predictions? \n"
   ]
  },
  {
   "cell_type": "markdown",
   "metadata": {},
   "source": [
    "***Answer:***"
   ]
  },
  {
   "cell_type": "code",
   "execution_count": 2,
   "metadata": {
    "collapsed": false
   },
   "outputs": [],
   "source": [
    "#Getting the data\n",
    "import pandas as pd\n",
    "df = pd.read_csv(\"C:\\Users\\Simon\\Desktop\\SFPD_Incidents_-_from_1_January_2003.csv\") \n",
    "df = df.dropna() #dropping empty values\n",
    "\n",
    "#isolating colums needed\n",
    "df_minority = df[['Category', 'Time', 'DayOfWeek','PdDistrict']]"
   ]
  },
  {
   "cell_type": "code",
   "execution_count": 3,
   "metadata": {
    "collapsed": false
   },
   "outputs": [],
   "source": [
    "import numpy as np\n",
    "\n",
    "#Randomly selecting training (90%) and testing (10%) data\n",
    "np.random.seed(1)\n",
    "index_scrambled = np.random.permutation(np.arange(len(df_minority)))\n",
    "index_train = index_scrambled[:int(len(df_minority)*0.9)]\n",
    "index_test = index_scrambled[int(len(df_minority)*0.9):]\n",
    "\n",
    "df_data_train = df_minority.iloc[index_train, ]\n",
    "df_data_test = df_minority.iloc[index_test, ]"
   ]
  },
  {
   "cell_type": "code",
   "execution_count": 4,
   "metadata": {
    "collapsed": false
   },
   "outputs": [],
   "source": [
    "def input_vector(DataFrame):\n",
    "    \"\"\"Creates an input vector for the fit/predict function. It basically converts strings to floats\"\"\"\n",
    "    #since the decision tree fit function doesn't take floats as inputs, the categories are converted to floats\n",
    "    from sklearn import preprocessing\n",
    "    \n",
    "    categories = DataFrame['Category'].tolist() #fetching the categories\n",
    "    le = preprocessing.LabelEncoder() #initializing the the label encoder\n",
    "    le.fit(categories) #fitting labels to the different categories\n",
    "    labels = le.transform(categories) #converts categories to labels\n",
    "\n",
    "    #The same goes for the time input:\n",
    "    hr, m = [], []\n",
    "    time = DataFrame['Time'].tolist()\n",
    "    for i in time:\n",
    "        hr.append(int(i.split(\":\")[0] ))\n",
    "        m.append(int(i.split(\":\")[1] ))\n",
    "\n",
    "    X =[]\n",
    "    for i in range(len(labels)):\n",
    "        X.append([labels[i], hr[i], m[i]])\n",
    "        \n",
    "    return X"
   ]
  },
  {
   "cell_type": "code",
   "execution_count": 5,
   "metadata": {
    "collapsed": true
   },
   "outputs": [],
   "source": [
    "def fraction_correct_predictions(predictions, reality):\n",
    "    count = 0\n",
    "    for i in range(len(predictions)):\n",
    "        if predictions[i] == reality[i]:\n",
    "            count += 1\n",
    "\n",
    "    precision = count/float(len(predictions))\n",
    "    \n",
    "    return precision"
   ]
  },
  {
   "cell_type": "code",
   "execution_count": 6,
   "metadata": {
    "collapsed": false
   },
   "outputs": [
    {
     "name": "stdout",
     "output_type": "stream",
     "text": [
      "Correctly predicting district from crime type and time of day\n",
      "The precision is: 0.187586\n"
     ]
    }
   ],
   "source": [
    "from sklearn import tree\n",
    "\n",
    "X = input_vector(df_data_train)  #Creating training input vector\n",
    "y = df_data_train[['PdDistrict']].as_matrix().tolist() #Creating \n",
    "\n",
    "clf = tree.DecisionTreeClassifier()\n",
    "clf = clf.fit(X, y)\n",
    "\n",
    "X_test = input_vector(df_data_test)\n",
    "\n",
    "test_result = clf.predict(X_test)\n",
    "\n",
    "test_answer = df_data_test['PdDistrict'].as_matrix().tolist()\n",
    "\n",
    "\n",
    "print \"Correctly predicting district from crime type and time of day\"\n",
    "print \"The precision is: %f\" %fraction_correct_predictions(test_result, test_answer)"
   ]
  },
  {
   "cell_type": "markdown",
   "metadata": {},
   "source": [
    ">  - What are the correct predictions if you restrict the training/prediction to single districts (for example, predicting Mission vs. all other districts, etc)? \n"
   ]
  },
  {
   "cell_type": "code",
   "execution_count": 7,
   "metadata": {
    "collapsed": false
   },
   "outputs": [],
   "source": [
    "#Creating a new result vector containing either CENTRAL or ANOTHER DISTRICT\n",
    "y2 = []\n",
    "for i in y:\n",
    "    if i == ['CENTRAL']:\n",
    "        y2.append(i)\n",
    "    else:\n",
    "        y2.append(['ANOTHER DISTRICT'])\n",
    "\n",
    "count = 0\n",
    "for i in y2:\n",
    "    if i != ['ANOTHER DISTRICT']:\n",
    "        count += 1\n",
    "\n",
    "#Doing the same for the test data\n",
    "test_answer2 = df_data_test['PdDistrict'].as_matrix().tolist()\n",
    "for i in range(len(test_answer2)):\n",
    "    if test_answer2[i] != 'CENTRAL':\n",
    "               test_answer2[i]=['ANOTHER DISTRICT']"
   ]
  },
  {
   "cell_type": "code",
   "execution_count": 8,
   "metadata": {
    "collapsed": false
   },
   "outputs": [
    {
     "name": "stdout",
     "output_type": "stream",
     "text": [
      "For CENTRAL vs. all other districts\n",
      "The precision is: 0.000514\n"
     ]
    }
   ],
   "source": [
    "#Training a new decision tree. The input vector can be reused.\n",
    "clf2 = tree.DecisionTreeClassifier()\n",
    "clf2 = clf2.fit(X, y2)\n",
    "\n",
    "#Predicting:\n",
    "test_result2 = clf2.predict(X_test)\n",
    "\n",
    "print \"For CENTRAL vs. all other districts\"\n",
    "print \"The precision is: %f\" % fraction_correct_predictions(test_result2, test_answer2)"
   ]
  },
  {
   "cell_type": "markdown",
   "metadata": {},
   "source": [
    ">   - Compare it to the random guess, what would you get if you'd guess a district randomly? \n"
   ]
  },
  {
   "cell_type": "code",
   "execution_count": 9,
   "metadata": {
    "collapsed": false
   },
   "outputs": [
    {
     "name": "stdout",
     "output_type": "stream",
     "text": [
      "The precision is: 0.449574\n"
     ]
    }
   ],
   "source": [
    "districts = []\n",
    "for i in y2:\n",
    "    if i not in districts:\n",
    "        districts.append(i)\n",
    "\n",
    "import random\n",
    "random.seed(1)\n",
    "test_result_rand =[]\n",
    "for i in range(len(test_answer2)):\n",
    "    test_result_rand.append(random.choice(districts))\n",
    "    \n",
    "\n",
    "print \"The precision is: %f\" %fraction_correct_predictions(test_result_rand, test_answer2)"
   ]
  },
  {
   "cell_type": "code",
   "execution_count": 10,
   "metadata": {
    "collapsed": false
   },
   "outputs": [
    {
     "name": "stdout",
     "output_type": "stream",
     "text": [
      "The precision is: 0.100639\n"
     ]
    }
   ],
   "source": [
    "districts = []\n",
    "for i in y:\n",
    "    if i[0] not in districts:\n",
    "        districts.append(i[0])\n",
    "\n",
    "import random\n",
    "random.seed(1)\n",
    "test_result_rand =[]\n",
    "for i in range(len(test_answer)):\n",
    "    test_result_rand.append(random.choice(districts))\n",
    "    \n",
    "\n",
    "print \"The precision is: %f\" %fraction_correct_predictions(test_result_rand, test_answer)"
   ]
  },
  {
   "cell_type": "markdown",
   "metadata": {},
   "source": [
    ">  - And if you'd guess always one of the districts (for example the district with the most crimes)?\n"
   ]
  },
  {
   "cell_type": "code",
   "execution_count": 11,
   "metadata": {
    "collapsed": false
   },
   "outputs": [
    {
     "data": {
      "text/plain": [
       "SOUTHERN      364516\n",
       "MISSION       273386\n",
       "NORTHERN      246991\n",
       "BAYVIEW       203841\n",
       "CENTRAL       202342\n",
       "TENDERLOIN    180708\n",
       "INGLESIDE     179593\n",
       "TARAVAL       152067\n",
       "PARK          115047\n",
       "RICHMOND      105373\n",
       "Name: PdDistrict, dtype: int64"
      ]
     },
     "execution_count": 11,
     "metadata": {},
     "output_type": "execute_result"
    }
   ],
   "source": [
    "#finding the district with the most crimes\n",
    "df_minority.PdDistrict.value_counts()"
   ]
  },
  {
   "cell_type": "markdown",
   "metadata": {},
   "source": [
    "It is seen that SOUTHERN is the district with the most crimes, and it will therefore be used for guessing. "
   ]
  },
  {
   "cell_type": "code",
   "execution_count": 12,
   "metadata": {
    "collapsed": false
   },
   "outputs": [
    {
     "name": "stdout",
     "output_type": "stream",
     "text": [
      "By assuming that the district is SOUTHERN each time the precision is:\n",
      "0.179715100278\n"
     ]
    }
   ],
   "source": [
    "#Creating list of all SOUTHERN as the input vector\n",
    "test_result_southern = []\n",
    "for i in range(len(test_answer)):\n",
    "    test_result_southern.append('SOUTHERN')\n",
    "    \n",
    "print \"By assuming that the district is SOUTHERN each time the precision is:\"\n",
    "print fraction_correct_predictions(test_result_southern, test_answer)"
   ]
  },
  {
   "cell_type": "markdown",
   "metadata": {},
   "source": [
    "> * Now, add the day of the week to the features, do any of the the performance measures improve? "
   ]
  },
  {
   "cell_type": "markdown",
   "metadata": {},
   "source": [
    "***Answer:***\n",
    "\n",
    "Creating a function to add the week day to the input vector:"
   ]
  },
  {
   "cell_type": "code",
   "execution_count": 34,
   "metadata": {
    "collapsed": true
   },
   "outputs": [],
   "source": [
    "def input_vector_DayOfWeek(DataFrame):\n",
    "    \"\"\"Creating an input vector with an additional column: DayOfWeek\"\"\"\n",
    "    X = input_vector(DataFrame)\n",
    "    \n",
    "    weekday = DataFrame['DayOfWeek'].tolist() #fetching the week days\n",
    "    labels = []\n",
    "    for day in weekday:\n",
    "        if day == 'Monday':\n",
    "            labels.append(0)\n",
    "        if day == 'Tuesday':\n",
    "            labels.append(1)\n",
    "        if day == 'Wednesday':\n",
    "            labels.append(2)\n",
    "        if day == 'Thursday':\n",
    "            labels.append(3)\n",
    "        if day == 'Friday':\n",
    "            labels.append(4)\n",
    "        if day == 'Saturday':\n",
    "            labels.append(5)\n",
    "        if day == 'Sunday':\n",
    "            labels.append(6)\n",
    "        \n",
    "    \n",
    "    \n",
    "    for i in range(len(X)):\n",
    "        X[i].append(labels[i])\n",
    "        \n",
    "    return X"
   ]
  },
  {
   "cell_type": "markdown",
   "metadata": {},
   "source": [
    "Calculating the precision"
   ]
  },
  {
   "cell_type": "code",
   "execution_count": 35,
   "metadata": {
    "collapsed": false
   },
   "outputs": [
    {
     "name": "stdout",
     "output_type": "stream",
     "text": [
      "Correctly predicting district from crime type, time of day and day of the week\n",
      "The precision is: 0.181276\n"
     ]
    }
   ],
   "source": [
    "X_weekday = input_vector_DayOfWeek(df_data_train)  #Creating training input vector\n",
    "\n",
    "#Training the decision tree\n",
    "clf = tree.DecisionTreeClassifier()\n",
    "clf = clf.fit(X_weekday, y)\n",
    "\n",
    "#testing the decision tree\n",
    "X_test = input_vector_DayOfWeek(df_data_test)\n",
    "test_result_weekday = clf.predict(X_test)\n",
    "\n",
    "\n",
    "print \"Correctly predicting district from crime type, time of day and day of the week\"\n",
    "print \"The precision is: %f\" %fraction_correct_predictions(test_result_weekday, test_answer)"
   ]
  },
  {
   "cell_type": "markdown",
   "metadata": {},
   "source": [
    "adding the weekday doesn't improve the performance (originally scored 0.1875)."
   ]
  },
  {
   "cell_type": "markdown",
   "metadata": {},
   "source": [
    "> * As you might see in the visualization, the tree runs out of possible feature values to check before refining the decision. Try increasing the number of features: add part of the day (`night`=0-5, `morning`=6-10, `midday`=11-14, `afternoon`=15-17, `evening`=18-23). Is it better? What is the problem we're solving by breaking the day into parts rather than raw hour values?\n"
   ]
  },
  {
   "cell_type": "code",
   "execution_count": 15,
   "metadata": {
    "collapsed": false
   },
   "outputs": [],
   "source": [
    "\n",
    "\n",
    "def timeslot_converter(X):\n",
    "    #For each time slot gets a value between 0-4\n",
    "    temp = X\n",
    "    for i in temp:\n",
    "        if i[1]<= 5:\n",
    "            i.append(0)\n",
    "        elif 5 < i[1] <= 10:\n",
    "            i.append(1)\n",
    "        elif 10 < i[1] <= 14:\n",
    "            i.append(2)\n",
    "        elif 14 < i[1] <= 17:\n",
    "            i.append(3)\n",
    "        else:\n",
    "            i.append(4)\n",
    "\n",
    "    #Erasing the time data now that we are focussing on time slots instead\n",
    "    #for i in temp:\n",
    "    #    del i[1:3]\n",
    "        \n",
    "    return temp"
   ]
  },
  {
   "cell_type": "code",
   "execution_count": 39,
   "metadata": {
    "collapsed": false
   },
   "outputs": [
    {
     "ename": "MemoryError",
     "evalue": "",
     "output_type": "error",
     "traceback": [
      "\u001b[1;31m---------------------------------------------------------------------------\u001b[0m",
      "\u001b[1;31mMemoryError\u001b[0m                               Traceback (most recent call last)",
      "\u001b[1;32m<ipython-input-39-0c7156e8a7b2>\u001b[0m in \u001b[0;36m<module>\u001b[1;34m()\u001b[0m\n\u001b[0;32m      4\u001b[0m \u001b[1;31m#Training the decision tree\u001b[0m\u001b[1;33m\u001b[0m\u001b[1;33m\u001b[0m\u001b[0m\n\u001b[0;32m      5\u001b[0m \u001b[0mclf\u001b[0m \u001b[1;33m=\u001b[0m \u001b[0mtree\u001b[0m\u001b[1;33m.\u001b[0m\u001b[0mDecisionTreeClassifier\u001b[0m\u001b[1;33m(\u001b[0m\u001b[1;33m)\u001b[0m\u001b[1;33m\u001b[0m\u001b[0m\n\u001b[1;32m----> 6\u001b[1;33m \u001b[0mclf\u001b[0m \u001b[1;33m=\u001b[0m \u001b[0mclf\u001b[0m\u001b[1;33m.\u001b[0m\u001b[0mfit\u001b[0m\u001b[1;33m(\u001b[0m\u001b[0mX_timeslot\u001b[0m\u001b[1;33m,\u001b[0m \u001b[0my\u001b[0m\u001b[1;33m)\u001b[0m\u001b[1;33m\u001b[0m\u001b[0m\n\u001b[0m\u001b[0;32m      7\u001b[0m \u001b[1;33m\u001b[0m\u001b[0m\n\u001b[0;32m      8\u001b[0m \u001b[1;31m#testing the decision tree\u001b[0m\u001b[1;33m\u001b[0m\u001b[1;33m\u001b[0m\u001b[0m\n",
      "\u001b[1;32mC:\\Users\\Simon\\Anaconda2\\lib\\site-packages\\sklearn\\tree\\tree.pyc\u001b[0m in \u001b[0;36mfit\u001b[1;34m(self, X, y, sample_weight, check_input, X_idx_sorted)\u001b[0m\n\u001b[0;32m    348\u001b[0m                                            max_leaf_nodes)\n\u001b[0;32m    349\u001b[0m \u001b[1;33m\u001b[0m\u001b[0m\n\u001b[1;32m--> 350\u001b[1;33m         \u001b[0mbuilder\u001b[0m\u001b[1;33m.\u001b[0m\u001b[0mbuild\u001b[0m\u001b[1;33m(\u001b[0m\u001b[0mself\u001b[0m\u001b[1;33m.\u001b[0m\u001b[0mtree_\u001b[0m\u001b[1;33m,\u001b[0m \u001b[0mX\u001b[0m\u001b[1;33m,\u001b[0m \u001b[0my\u001b[0m\u001b[1;33m,\u001b[0m \u001b[0msample_weight\u001b[0m\u001b[1;33m,\u001b[0m \u001b[0mX_idx_sorted\u001b[0m\u001b[1;33m)\u001b[0m\u001b[1;33m\u001b[0m\u001b[0m\n\u001b[0m\u001b[0;32m    351\u001b[0m \u001b[1;33m\u001b[0m\u001b[0m\n\u001b[0;32m    352\u001b[0m         \u001b[1;32mif\u001b[0m \u001b[0mself\u001b[0m\u001b[1;33m.\u001b[0m\u001b[0mn_outputs_\u001b[0m \u001b[1;33m==\u001b[0m \u001b[1;36m1\u001b[0m\u001b[1;33m:\u001b[0m\u001b[1;33m\u001b[0m\u001b[0m\n",
      "\u001b[1;32msklearn/tree/_tree.pyx\u001b[0m in \u001b[0;36msklearn.tree._tree.DepthFirstTreeBuilder.build (sklearn\\tree\\_tree.c:4322)\u001b[1;34m()\u001b[0m\n",
      "\u001b[1;32msklearn/tree/_tree.pyx\u001b[0m in \u001b[0;36msklearn.tree._tree.DepthFirstTreeBuilder.build (sklearn\\tree\\_tree.c:4151)\u001b[1;34m()\u001b[0m\n",
      "\u001b[1;31mMemoryError\u001b[0m: "
     ]
    }
   ],
   "source": [
    "X_timeslot = timeslot_converter(X_weekday)\n",
    "\n",
    "\n",
    "#Training the decision tree\n",
    "clf = tree.DecisionTreeClassifier()\n",
    "clf = clf.fit(X_timeslot, y)\n",
    "\n",
    "#testing the decision tree\n",
    "X_test_timeslot = timeslot_converter(X_test)\n",
    "test_result_weekday = clf.predict(X_test_timeslot)\n",
    "\n",
    "\n",
    "print \"Correctly predicting district from crime type, time of day and day of the week\"\n",
    "print \"The precision is: %f\" %fraction_correct_predictions(test_result_weekday, test_answer)"
   ]
  },
  {
   "cell_type": "markdown",
   "metadata": {
    "collapsed": false
   },
   "source": [
    "***Answer:*** The thing we are solving with parting the day up into time slots is overfitting. ??????"
   ]
  },
  {
   "cell_type": "markdown",
   "metadata": {
    "collapsed": true
   },
   "source": [
    "> * Let's try some examples to see if the algorithm is working. \n",
    ">  - There is a new crime (prositution) on Monday 10pm. What are the three most likely districts? \n",
    ">  - Also find the most likely districts for a gambling on Wednesday 1pm. \n",
    ">  - And also try out an arson case on Sunday 7am?\n"
   ]
  },
  {
   "cell_type": "code",
   "execution_count": 38,
   "metadata": {
    "collapsed": false
   },
   "outputs": [
    {
     "ename": "MemoryError",
     "evalue": "",
     "output_type": "error",
     "traceback": [
      "\u001b[1;31m---------------------------------------------------------------------------\u001b[0m",
      "\u001b[1;31mMemoryError\u001b[0m                               Traceback (most recent call last)",
      "\u001b[1;32m<ipython-input-38-f2ae8674f660>\u001b[0m in \u001b[0;36m<module>\u001b[1;34m()\u001b[0m\n\u001b[0;32m      2\u001b[0m \u001b[0mcategories\u001b[0m \u001b[1;33m=\u001b[0m \u001b[0mdf\u001b[0m\u001b[1;33m[\u001b[0m\u001b[1;34m'Category'\u001b[0m\u001b[1;33m]\u001b[0m\u001b[1;33m.\u001b[0m\u001b[0mtolist\u001b[0m\u001b[1;33m(\u001b[0m\u001b[1;33m)\u001b[0m \u001b[1;31m#fetching the categories\u001b[0m\u001b[1;33m\u001b[0m\u001b[0m\n\u001b[0;32m      3\u001b[0m \u001b[0mle\u001b[0m \u001b[1;33m=\u001b[0m \u001b[0mpreprocessing\u001b[0m\u001b[1;33m.\u001b[0m\u001b[0mLabelEncoder\u001b[0m\u001b[1;33m(\u001b[0m\u001b[1;33m)\u001b[0m \u001b[1;31m#initializing the the label encoder\u001b[0m\u001b[1;33m\u001b[0m\u001b[0m\n\u001b[1;32m----> 4\u001b[1;33m \u001b[0mle\u001b[0m\u001b[1;33m.\u001b[0m\u001b[0mfit\u001b[0m\u001b[1;33m(\u001b[0m\u001b[0mcategories\u001b[0m\u001b[1;33m)\u001b[0m \u001b[1;31m#fitting labels to the different categories\u001b[0m\u001b[1;33m\u001b[0m\u001b[0m\n\u001b[0m\u001b[0;32m      5\u001b[0m \u001b[0mlabels\u001b[0m \u001b[1;33m=\u001b[0m \u001b[0mle\u001b[0m\u001b[1;33m.\u001b[0m\u001b[0mtransform\u001b[0m\u001b[1;33m(\u001b[0m\u001b[0mcategories\u001b[0m\u001b[1;33m)\u001b[0m \u001b[1;31m#converts categories to labels\u001b[0m\u001b[1;33m\u001b[0m\u001b[0m\n\u001b[0;32m      6\u001b[0m \u001b[1;33m\u001b[0m\u001b[0m\n",
      "\u001b[1;32mC:\\Users\\Simon\\Anaconda2\\lib\\site-packages\\sklearn\\preprocessing\\label.pyc\u001b[0m in \u001b[0;36mfit\u001b[1;34m(self, y)\u001b[0m\n\u001b[0;32m    108\u001b[0m         \u001b[0my\u001b[0m \u001b[1;33m=\u001b[0m \u001b[0mcolumn_or_1d\u001b[0m\u001b[1;33m(\u001b[0m\u001b[0my\u001b[0m\u001b[1;33m,\u001b[0m \u001b[0mwarn\u001b[0m\u001b[1;33m=\u001b[0m\u001b[0mTrue\u001b[0m\u001b[1;33m)\u001b[0m\u001b[1;33m\u001b[0m\u001b[0m\n\u001b[0;32m    109\u001b[0m         \u001b[0m_check_numpy_unicode_bug\u001b[0m\u001b[1;33m(\u001b[0m\u001b[0my\u001b[0m\u001b[1;33m)\u001b[0m\u001b[1;33m\u001b[0m\u001b[0m\n\u001b[1;32m--> 110\u001b[1;33m         \u001b[0mself\u001b[0m\u001b[1;33m.\u001b[0m\u001b[0mclasses_\u001b[0m \u001b[1;33m=\u001b[0m \u001b[0mnp\u001b[0m\u001b[1;33m.\u001b[0m\u001b[0munique\u001b[0m\u001b[1;33m(\u001b[0m\u001b[0my\u001b[0m\u001b[1;33m)\u001b[0m\u001b[1;33m\u001b[0m\u001b[0m\n\u001b[0m\u001b[0;32m    111\u001b[0m         \u001b[1;32mreturn\u001b[0m \u001b[0mself\u001b[0m\u001b[1;33m\u001b[0m\u001b[0m\n\u001b[0;32m    112\u001b[0m \u001b[1;33m\u001b[0m\u001b[0m\n",
      "\u001b[1;32mC:\\Users\\Simon\\Anaconda2\\lib\\site-packages\\numpy\\lib\\arraysetops.pyc\u001b[0m in \u001b[0;36munique\u001b[1;34m(ar, return_index, return_inverse, return_counts)\u001b[0m\n\u001b[0;32m    174\u001b[0m \u001b[1;33m\u001b[0m\u001b[0m\n\u001b[0;32m    175\u001b[0m     \"\"\"\n\u001b[1;32m--> 176\u001b[1;33m     \u001b[0mar\u001b[0m \u001b[1;33m=\u001b[0m \u001b[0mnp\u001b[0m\u001b[1;33m.\u001b[0m\u001b[0masanyarray\u001b[0m\u001b[1;33m(\u001b[0m\u001b[0mar\u001b[0m\u001b[1;33m)\u001b[0m\u001b[1;33m.\u001b[0m\u001b[0mflatten\u001b[0m\u001b[1;33m(\u001b[0m\u001b[1;33m)\u001b[0m\u001b[1;33m\u001b[0m\u001b[0m\n\u001b[0m\u001b[0;32m    177\u001b[0m \u001b[1;33m\u001b[0m\u001b[0m\n\u001b[0;32m    178\u001b[0m     \u001b[0moptional_indices\u001b[0m \u001b[1;33m=\u001b[0m \u001b[0mreturn_index\u001b[0m \u001b[1;32mor\u001b[0m \u001b[0mreturn_inverse\u001b[0m\u001b[1;33m\u001b[0m\u001b[0m\n",
      "\u001b[1;31mMemoryError\u001b[0m: "
     ]
    }
   ],
   "source": [
    "from sklearn import preprocessing\n",
    "categories = df['Category'].tolist() #fetching the categories\n",
    "le = preprocessing.LabelEncoder() #initializing the the label encoder\n",
    "le.fit(categories) #fitting labels to the different categories\n",
    "labels = le.transform(categories) #converts categories to labels\n",
    "\n",
    "le.transform('PROSTITUTION')\n",
    "\n",
    "prost = [23, 10, 0, 0]\n",
    "prost_predict = clf.predict(prost)"
   ]
  },
  {
   "cell_type": "code",
   "execution_count": 22,
   "metadata": {
    "collapsed": false
   },
   "outputs": [
    {
     "data": {
      "text/html": [
       "<div>\n",
       "<table border=\"1\" class=\"dataframe\">\n",
       "  <thead>\n",
       "    <tr style=\"text-align: right;\">\n",
       "      <th></th>\n",
       "      <th>IncidntNum</th>\n",
       "      <th>Category</th>\n",
       "      <th>Descript</th>\n",
       "      <th>DayOfWeek</th>\n",
       "      <th>Date</th>\n",
       "      <th>Time</th>\n",
       "      <th>PdDistrict</th>\n",
       "      <th>Resolution</th>\n",
       "      <th>Address</th>\n",
       "      <th>X</th>\n",
       "      <th>Y</th>\n",
       "      <th>Location</th>\n",
       "      <th>PdId</th>\n",
       "    </tr>\n",
       "  </thead>\n",
       "  <tbody>\n",
       "    <tr>\n",
       "      <th>0</th>\n",
       "      <td>150060275</td>\n",
       "      <td>NON-CRIMINAL</td>\n",
       "      <td>LOST PROPERTY</td>\n",
       "      <td>Monday</td>\n",
       "      <td>01/19/2015</td>\n",
       "      <td>14:00</td>\n",
       "      <td>MISSION</td>\n",
       "      <td>NONE</td>\n",
       "      <td>18TH ST / VALENCIA ST</td>\n",
       "      <td>-122.421582</td>\n",
       "      <td>37.761701</td>\n",
       "      <td>(37.7617007179518, -122.42158168137)</td>\n",
       "      <td>15006027571000</td>\n",
       "    </tr>\n",
       "    <tr>\n",
       "      <th>1</th>\n",
       "      <td>150098210</td>\n",
       "      <td>ROBBERY</td>\n",
       "      <td>ROBBERY, BODILY FORCE</td>\n",
       "      <td>Sunday</td>\n",
       "      <td>02/01/2015</td>\n",
       "      <td>15:45</td>\n",
       "      <td>TENDERLOIN</td>\n",
       "      <td>NONE</td>\n",
       "      <td>300 Block of LEAVENWORTH ST</td>\n",
       "      <td>-122.414406</td>\n",
       "      <td>37.784191</td>\n",
       "      <td>(37.7841907151119, -122.414406029855)</td>\n",
       "      <td>15009821003074</td>\n",
       "    </tr>\n",
       "    <tr>\n",
       "      <th>2</th>\n",
       "      <td>150098210</td>\n",
       "      <td>ASSAULT</td>\n",
       "      <td>AGGRAVATED ASSAULT WITH BODILY FORCE</td>\n",
       "      <td>Sunday</td>\n",
       "      <td>02/01/2015</td>\n",
       "      <td>15:45</td>\n",
       "      <td>TENDERLOIN</td>\n",
       "      <td>NONE</td>\n",
       "      <td>300 Block of LEAVENWORTH ST</td>\n",
       "      <td>-122.414406</td>\n",
       "      <td>37.784191</td>\n",
       "      <td>(37.7841907151119, -122.414406029855)</td>\n",
       "      <td>15009821004014</td>\n",
       "    </tr>\n",
       "    <tr>\n",
       "      <th>3</th>\n",
       "      <td>150098210</td>\n",
       "      <td>SECONDARY CODES</td>\n",
       "      <td>DOMESTIC VIOLENCE</td>\n",
       "      <td>Sunday</td>\n",
       "      <td>02/01/2015</td>\n",
       "      <td>15:45</td>\n",
       "      <td>TENDERLOIN</td>\n",
       "      <td>NONE</td>\n",
       "      <td>300 Block of LEAVENWORTH ST</td>\n",
       "      <td>-122.414406</td>\n",
       "      <td>37.784191</td>\n",
       "      <td>(37.7841907151119, -122.414406029855)</td>\n",
       "      <td>15009821015200</td>\n",
       "    </tr>\n",
       "    <tr>\n",
       "      <th>4</th>\n",
       "      <td>150098226</td>\n",
       "      <td>VANDALISM</td>\n",
       "      <td>MALICIOUS MISCHIEF, VANDALISM OF VEHICLES</td>\n",
       "      <td>Tuesday</td>\n",
       "      <td>01/27/2015</td>\n",
       "      <td>19:00</td>\n",
       "      <td>NORTHERN</td>\n",
       "      <td>NONE</td>\n",
       "      <td>LOMBARD ST / LAGUNA ST</td>\n",
       "      <td>-122.431119</td>\n",
       "      <td>37.800469</td>\n",
       "      <td>(37.8004687042875, -122.431118543788)</td>\n",
       "      <td>15009822628160</td>\n",
       "    </tr>\n",
       "  </tbody>\n",
       "</table>\n",
       "</div>"
      ],
      "text/plain": [
       "   IncidntNum         Category                                   Descript  \\\n",
       "0   150060275     NON-CRIMINAL                              LOST PROPERTY   \n",
       "1   150098210          ROBBERY                      ROBBERY, BODILY FORCE   \n",
       "2   150098210          ASSAULT       AGGRAVATED ASSAULT WITH BODILY FORCE   \n",
       "3   150098210  SECONDARY CODES                          DOMESTIC VIOLENCE   \n",
       "4   150098226        VANDALISM  MALICIOUS MISCHIEF, VANDALISM OF VEHICLES   \n",
       "\n",
       "  DayOfWeek        Date   Time  PdDistrict Resolution  \\\n",
       "0    Monday  01/19/2015  14:00     MISSION       NONE   \n",
       "1    Sunday  02/01/2015  15:45  TENDERLOIN       NONE   \n",
       "2    Sunday  02/01/2015  15:45  TENDERLOIN       NONE   \n",
       "3    Sunday  02/01/2015  15:45  TENDERLOIN       NONE   \n",
       "4   Tuesday  01/27/2015  19:00    NORTHERN       NONE   \n",
       "\n",
       "                       Address           X          Y  \\\n",
       "0        18TH ST / VALENCIA ST -122.421582  37.761701   \n",
       "1  300 Block of LEAVENWORTH ST -122.414406  37.784191   \n",
       "2  300 Block of LEAVENWORTH ST -122.414406  37.784191   \n",
       "3  300 Block of LEAVENWORTH ST -122.414406  37.784191   \n",
       "4       LOMBARD ST / LAGUNA ST -122.431119  37.800469   \n",
       "\n",
       "                                Location            PdId  \n",
       "0   (37.7617007179518, -122.42158168137)  15006027571000  \n",
       "1  (37.7841907151119, -122.414406029855)  15009821003074  \n",
       "2  (37.7841907151119, -122.414406029855)  15009821004014  \n",
       "3  (37.7841907151119, -122.414406029855)  15009821015200  \n",
       "4  (37.8004687042875, -122.431118543788)  15009822628160  "
      ]
     },
     "execution_count": 22,
     "metadata": {},
     "output_type": "execute_result"
    }
   ],
   "source": [
    "df[:5]"
   ]
  },
  {
   "cell_type": "markdown",
   "metadata": {},
   "source": [
    "> * It's unlikely that the classifier overfits in our case. Explain why. "
   ]
  },
  {
   "cell_type": "markdown",
   "metadata": {},
   "source": [
    "### Digression: Decision trees and unbalanced data\n",
    "\n",
    "An important problem in many data-science problems is _unbalanced data_. We consider a dataset balanced when the categories we care about have about equal size (e.g. if we want to predict the gender of individuals in the general population). When the category size are imbalanced (e.g. if we are looking for people with a rare disease such as _leukemia_ in the general population), many machine learning algorithms can have problems.\n",
    "\n",
    "> _Reading_: [This article](http://arstechnica.co.uk/security/2016/02/the-nsas-skynet-program-may-be-killing-thousands-of-innocent-people/) does a great job of explaining the problem.\n",
    "\n",
    "---\n",
    "\n",
    "> _Exercises_: I know you read the article above, but just a few questions to make you reflect on the details of the story.\n",
    "> \n",
    "> * Explain what features go into the terrorist detection model\n",
    "\n",
    "***Answer:*** \n",
    "* Travel patterns\n",
    "* - Travel phrases (locations visited in given timeframe)\n",
    "* - Regular/repeated visits to loactions of intrest\n",
    "* Behavior-based analytics\n",
    "* - low use, incoming calls only\n",
    "* - excessive SIM or handset swapping\n",
    "* - frequent detach/power-down\n",
    "* - courier machine learning models\n",
    "* Other enrichments\n",
    "* - Travel on particular days of the week\n",
    "* - Co-travelers\n",
    "* - Similar travel patterns\n",
    "* - Common contacts\n",
    "* - visits to airports\n",
    "* - Other countries\n",
    "* - Overnight trips\n",
    "* - Permanent move\n",
    "\n",
    "> * Which algorithm is used to detect the terrorists?\n",
    "\n",
    "***Answer:*** They use a _Random Forest_ algorithm.\n",
    "\n",
    "> * Do you agree with the algorithm that Al-Jazeera bureau chief is a good target? Justify your answer.\n",
    "\n",
    "***Answer:*** No he is not a good target. He fits many of the abovementioned criterias but he has a good cause. He travels to many of the areas of intrest because he reports news on these areas. \n",
    "\n",
    "> * What's the size of the training set?\n",
    "\n",
    "***Answer:*** They randomly select 100,000 citizens for the training set and then add 7 knowen terrorists. This makes a training set of 100,007 individuals. \n",
    "\n",
    "> * Why is it still a problem that the algorithm has a false alarm rate at 0.18% at a 50% miss rate?\n",
    "\n",
    "***Answer:*** Because 0.18% of a population of 55  million people is 99,000 innocent people falsely getting target as a terrorist (and in the worst case getting killed). \n",
    "\n",
    "> * Do you have a better grasp of the problems with overfitting after reading this article?\n",
    "\n",
    "***Answer:*** Yes of course."
   ]
  },
  {
   "cell_type": "markdown",
   "metadata": {},
   "source": [
    "## Part 2: Clustering (DSFS Chapter 19)\n",
    "\n",
    "Clustering is an important _unsupervised_ method to reveal structure in the data. You've already done a lot of hard work today, so let's make this one as easy as possible.\n",
    "\n",
    "> _Reading_: Check out chapter 19 of DSFS"
   ]
  },
  {
   "cell_type": "code",
   "execution_count": 19,
   "metadata": {
    "collapsed": false
   },
   "outputs": [
    {
     "data": {
      "image/jpeg": "[encoded data removed]",
      "text/html": [
       "\n",
       "        <iframe\n",
       "            width=\"600\"\n",
       "            height=\"338\"\n",
       "            src=\"https://www.youtube.com/embed/G7jYVrCVygU\"\n",
       "            frameborder=\"0\"\n",
       "            allowfullscreen\n",
       "        ></iframe>\n",
       "        "
      ],
      "text/plain": [
       "<IPython.lib.display.YouTubeVideo at 0x4a9fbf0>"
      ]
     },
     "execution_count": 19,
     "metadata": {},
     "output_type": "execute_result"
    }
   ],
   "source": [
    "# Ole talks about clustering\n",
    "YouTubeVideo(\"G7jYVrCVygU\",width=600, height=338)"
   ]
  },
  {
   "cell_type": "markdown",
   "metadata": {
    "collapsed": true
   },
   "source": [
    "In this exercise we explore $K$-means clustering - and we it out on the locations of the `PROSTITUTION` crime type. Applying a clustering method makes sense because we know from our earlier work that this crime type tends to happen in only a few locations. We'll also talk a little bit about model selection and [overfitting](https://www.youtube.com/watch?v=DQWI1kvmwRg) in unsupervised models.\n",
    "\n",
    "> _Exercise_: $K$-means\n",
    "> \n",
    "> * Visualize the prostitution data (e.g. by plotting it on a map)\n",
    "> * Train models of $K = 2,\\ldots,10$ on the prostitution data.\n",
    "> * Explore how the total squared error changes as a function of $K$ and identify what you think is the right number of clusers based on the knee-point in the squared error plot.\n",
    "> * And by the way: The fit only gets better when we add more means - why not keep adding more of them: Explain in your own words why it makes sense to stop around a knee-point.\n",
    "> * Another way of estimating the right number of clusters in a $K$-means problem is _stability analysis_. The idea is the following\n",
    ">   - For each $K = 2,\\ldots,10$ generate $N = 10$ clusterings based on random 50% of data (or some other fraction of data/bootstrap).\n",
    ">   - Divide the space up into an e.g. 20 by 20 grid, and give each gridpoint an index $i$ in the range 1-400. \n",
    ">   - Now represent each clustering as a vector $\\mathbf{c}^K$, which where the $j$th entry $c_j^K$ is given by the number of centroids in that gridpoint. Most of the entries will be zero, and we have that $\\sum_{j = 1}^{400} c_j^K = K$.\n",
    ">   - We now define _stability_ for some value of $K$ as average pairwise similarity of the $N$ clusterings, where the similarity between clustering $i$ and $j$ is the cosine distance between clustering vectors $\\mathbf{c}^K(i)$ and $\\mathbf{c}^K(j)$.\n",
    ">   - We now say that the right $K$ maximizes stability.\n",
    "> * Explain why stability should help you find the right number of clusters.\n",
    "> * **Optional**: Perform stability analysis on the prostitution data. "
   ]
  },
  {
   "cell_type": "code",
   "execution_count": null,
   "metadata": {
    "collapsed": true
   },
   "outputs": [],
   "source": []
  }
 ],
 "metadata": {
  "kernelspec": {
   "display_name": "Python 2",
   "language": "python",
   "name": "python2"
  },
  "language_info": {
   "codemirror_mode": {
    "name": "ipython",
    "version": 2
   },
   "file_extension": ".py",
   "mimetype": "text/x-python",
   "name": "python",
   "nbconvert_exporter": "python",
   "pygments_lexer": "ipython2",
   "version": "2.7.12"
  }
 },
 "nbformat": 4,
 "nbformat_minor": 0
}
