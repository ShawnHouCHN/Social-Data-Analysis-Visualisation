{
 "cells": [
  {
   "cell_type": "markdown",
   "metadata": {},
   "source": [
    "# Part 2: IDV Chapter 3"
   ]
  },
  {
   "cell_type": "markdown",
   "metadata": {},
   "source": [
    "***Q:***\n",
    "Exercises: Just a couple of questions to make sure you've read the text\n",
    "\n",
    "* Name 7 common HTML elements.\n",
    "\n",
    ">***Answer:***\n",
    ">\n",
    "> 1. <!DOCTYPE html>\n",
    "> 2. html\n",
    "> 3. head\n",
    "> 4. title\n",
    "> 5. body\n",
    "> 6. div\n",
    "> 7. span\n",
    "\n",
    "* What's the difference between the class and the id HTML attributes.\n",
    "\n",
    ">***Answer:***\n",
    ">\n",
    "> Classes and IDs are extremely useful attributes, as they can be referenced later to identify specific pieces of content. As a general rule, if there will be only one such element on the page, you can use an id. Otherwise, use a class.\n",
    "\n",
    "* What does \"DOM\" stand for? Explain in your own word what it refers to.\n",
    "\n",
    ">***Answer:***\n",
    ">\n",
    "> The term Document Object Model refers to the hierarchical structure of HTML. DOM is the structure of the web page what goes first, what is linked with what ans so forth\n",
    "\n",
    "* What Python structure does the array correspond to?\n",
    "\n",
    ">***Answer:***\n",
    ">\n",
    "> This would be a list in Python.\n",
    "\n",
    "\n",
    "* Which Python container does object correspond to?\n",
    "\n",
    ">***Answer:***\n",
    ">\n",
    "> An object corresponds to a dictionary in Python.\n",
    "\n",
    "Consider the 5 SVG squares in example 3-22. Think about how you'd\n",
    "* Add a gray boundary of width 2.\n",
    "\n",
    ">***Answer:***\n",
    ">\n",
    ">stroke = \"gray\" stroke-width=\"2\"\n",
    "\n",
    "* Make the squares increasingly transparant from left to right.\n",
    "\n",
    "\n",
    "***Answer:***\n"
   ]
  },
  {
   "cell_type": "raw",
   "metadata": {},
   "source": [
    "<svg width=\"500\" height=\"50\">\n",
    "<rect x=\"0\" y=\"0\" width=\"30\" height=\"30\" fill=\"rgba(128, 0, 128, 1)\"/>\n",
    "<rect x=\"20\" y=\"5\" width=\"30\" height=\"30\" fill=\"rgba(0, 0, 255, 0.75)\"/>\n",
    "<rect x=\"40\" y=\"10\" width=\"30\" height=\"30\" fill=\"rgba(0, 128, 0, 0.5)\"/>\n",
    "<rect x=\"60\" y=\"15\" width=\"30\" height=\"30\" fill=\"rgba(255, 255, 0, 0.25)\"/>\n",
    "<rect x=\"80\" y=\"20\" width=\"30\" height=\"30\" fill=\"rgba(255, 0, 0, 0.1)\"/>\n",
    "</svg>"
   ]
  },
  {
   "cell_type": "markdown",
   "metadata": {},
   "source": [
    "* Make the squares 80 by 80 instead of 30 by 30.\n",
    "\n",
    "***Answer:***"
   ]
  },
  {
   "cell_type": "raw",
   "metadata": {},
   "source": [
    "<svg width=\"500\" height=\"150\">\n",
    "<rect x=\"0\" y=\"0\" width=\"80\" height=\"80\" fill=\"rgba(128, 0, 128, 1)\"/>\n",
    "<rect x=\"30\" y=\"10\" width=\"80\" height=\"80\" fill=\"rgba(0, 0, 255, 0.75)\"/>\n",
    "<rect x=\"60\" y=\"20\" width=\"80\" height=\"80\" fill=\"rgba(0, 128, 0, 0.5)\"/>\n",
    "<rect x=\"90\" y=\"30\" width=\"80\" height=\"80\" fill=\"rgba(255, 255, 0, 0.25)\"/>\n",
    "<rect x=\"120\" y=\"40\" width=\"80\" height=\"80\" fill=\"rgba(255, 0, 0, 0.1)\"/>\n",
    "</svg>\n"
   ]
  },
  {
   "cell_type": "markdown",
   "metadata": {},
   "source": [
    "* Make the squares go from bottom of the SVG element to the top instead of the other way around.\n",
    "\n",
    "***Answer:***"
   ]
  },
  {
   "cell_type": "raw",
   "metadata": {},
   "source": [
    "<svg width=\"500\" height=\"150\">\n",
    "<rect x=\"0\" y=\"40\" width=\"80\" height=\"80\" fill=\"rgba(128, 0, 128, 1)\"/>\n",
    "<rect x=\"30\" y=\"30\" width=\"80\" height=\"80\" fill=\"rgba(0, 0, 255, 0.75)\"/>\n",
    "<rect x=\"60\" y=\"20\" width=\"80\" height=\"80\" fill=\"rgba(0, 128, 0, 0.5)\"/>\n",
    "<rect x=\"90\" y=\"10\" width=\"80\" height=\"80\" fill=\"rgba(255, 255, 0, 0.25)\"/>\n",
    "<rect x=\"120\" y=\"0\" width=\"80\" height=\"80\" fill=\"rgba(255, 0, 0, 0.1)\"/>\n",
    "</svg>"
   ]
  },
  {
   "cell_type": "markdown",
   "metadata": {},
   "source": [
    "# Part 3: IDV chapter 4"
   ]
  },
  {
   "cell_type": "code",
   "execution_count": null,
   "metadata": {
    "collapsed": true
   },
   "outputs": [],
   "source": []
  }
 ],
 "metadata": {
  "kernelspec": {
   "display_name": "Python 2",
   "language": "python",
   "name": "python2"
  },
  "language_info": {
   "codemirror_mode": {
    "name": "ipython",
    "version": 2
   },
   "file_extension": ".py",
   "mimetype": "text/x-python",
   "name": "python",
   "nbconvert_exporter": "python",
   "pygments_lexer": "ipython2",
   "version": "2.7.12"
  }
 },
 "nbformat": 4,
 "nbformat_minor": 0
}
