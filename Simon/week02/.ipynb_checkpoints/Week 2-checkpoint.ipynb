{
 "cells": [
  {
   "cell_type": "markdown",
   "metadata": {},
   "source": [
    "# Exercises: Chapter 5 (just some questions from the text)"
   ]
  },
  {
   "cell_type": "markdown",
   "metadata": {},
   "source": [
    "* **Mean and median: Explain the difference between the mean and the median in your own words. In what kinds of dataset are the mean and median similar? Can you think of a dataset where the mean and median would be very different?**\n",
    "\n",
    "The mean is the average value (sum of values divided by the number of values). \n",
    "\n",
    "For an odd number of values, the median is the middle number of a sorted list of these values. If there is an even number of values, then it is the average of the two middle numbers.\n",
    "\n",
    "The mean is very sensitive to extreme outliers, where the median is less so. \n",
    "\n",
    "If a dataset contained of [0, 0, 0, 0, 500].\n",
    "\n",
    "Here the median is 0, but the mean is 100\n",
    "\n",
    "* **Variance: Explain the variance in your own words.**\n",
    "\n",
    "Variance is the squared deviation of a random variable to it's (approximated) mean. \n",
    "\n",
    "* **A paradox: What is Simpson's Paradox. Provide your own example of a dataset where this issue occurs.**\n",
    "\n",
    "The simpson's paradox is where misleading correlations appear, when you do not realize the underlying correlations. An example of this could occour in a dataset for right turn accidents. Here it's clear that it's mostly women who die in these accidents, and you might reason that female cyclists are not as observent as male cyclists. But then you realize that there are many more female cyclists, and the few males that cycles are less observent than females.\n",
    "\n",
    "* **Correlation and causation: Explain what's funny about this comic.**\n",
    "\n",
    "The comic is funny, because even though there is a correlation between taking a statistics course and not believing \"correlation implies causation\", it doesn't necessarily mean that the change in opinion is due to taking the course."
   ]
  },
  {
   "cell_type": "markdown",
   "metadata": {},
   "source": [
    "# Exercise: Chapter 5 (beyond the book)"
   ]
  },
  {
   "cell_type": "markdown",
   "metadata": {},
   "source": [
    "Start by downloading these four datasets: Data 1, Data 2, Data 3, and Data 4. The format is .tsv, which stands for tab separated values. Each file has two columns (separated using the tab character). The first column is xx-values, and the second column is yy-values.\n",
    "\n",
    "It's ok to just download these files to disk by right-clicking on each one, but if you use Python and urllib or urllib2 to get them, I'll really be impressed. If you don't know how to do that, I recommend opening up Google and typing \"download file using Python\" or something like that. When interpreting the search results remember that stackoverflow is your friend.\n",
    "\n",
    "* **Using the numpy function mean, calculate the mean of both xx-values and yy-values for each dataset.**"
   ]
  },
  {
   "cell_type": "code",
   "execution_count": 1,
   "metadata": {
    "collapsed": false
   },
   "outputs": [],
   "source": [
    "import urllib\n",
    "import numpy as np\n",
    "\n",
    "\n",
    "for i in range(1,5):\n",
    "    urllib.urlretrieve (\"https://raw.githubusercontent.com/suneman/socialdataanalysis2017/master/files/data%d.tsv\" % i, \"data%d.tsv\" % i)\n",
    "\n",
    "    \n",
    "atds = [] #all the data sets\n",
    "for i in range(1,5):\n",
    "    with open('data%d.tsv' % i,'r') as f:\n",
    "        LoT=zip(*(line.strip().split('\\t') for line in f))\n",
    "    \n",
    "    xy  = []\n",
    "    for column in range(len(LoT)):\n",
    "        xy.append(map(float, LoT[column]))\n",
    "    atds.append(xy)\n",
    "\n",
    "    \n"
   ]
  },
  {
   "cell_type": "code",
   "execution_count": 2,
   "metadata": {
    "collapsed": false
   },
   "outputs": [
    {
     "name": "stdout",
     "output_type": "stream",
     "text": [
      "The mean of x in data set 1 is: 9\n",
      "The mean of y in data set 1 is: 7\n",
      "\n",
      "\n",
      "The mean of x in data set 2 is: 9\n",
      "The mean of y in data set 2 is: 7\n",
      "\n",
      "\n",
      "The mean of x in data set 3 is: 9\n",
      "The mean of y in data set 3 is: 7\n",
      "\n",
      "\n",
      "The mean of x in data set 4 is: 9\n",
      "The mean of y in data set 4 is: 7\n",
      "\n",
      "\n"
     ]
    }
   ],
   "source": [
    "for dataset in range(len(atds)):\n",
    "    print \"The mean of x in data set %d is: %d\" % ((dataset+1), float(np.mean(atds[dataset][0])))\n",
    "    print \"The mean of y in data set %d is: %d\" % ((dataset+1), np.mean(atds[dataset][1]))\n",
    "    print \"\\n\""
   ]
  },
  {
   "cell_type": "markdown",
   "metadata": {},
   "source": [
    "* **Use python string formatting to print precisely two decimal places of these results to the output cell. Check out this stackoverflow page for help with the string formatting.**\n"
   ]
  },
  {
   "cell_type": "code",
   "execution_count": 3,
   "metadata": {
    "collapsed": false
   },
   "outputs": [
    {
     "name": "stdout",
     "output_type": "stream",
     "text": [
      "      9.00\n",
      "      7.50\n",
      "\n",
      "\n",
      "      9.00\n",
      "      7.50\n",
      "\n",
      "\n",
      "      9.00\n",
      "      7.50\n",
      "\n",
      "\n",
      "      9.00\n",
      "      7.50\n",
      "\n",
      "\n"
     ]
    }
   ],
   "source": [
    "for dataset in range(len(atds)):\n",
    "    print \"{:10.2f}\".format(np.mean(atds[dataset][0]))\n",
    "    print \"{:10.2f}\".format(np.mean(atds[dataset][1]))\n",
    "    print \"\\n\"\n",
    "\n",
    "\n",
    "                      "
   ]
  },
  {
   "cell_type": "markdown",
   "metadata": {},
   "source": [
    "* ** Now calculate the variance for all of the various sets of *x*- and *y*-values (to three decimal places).**"
   ]
  },
  {
   "cell_type": "code",
   "execution_count": 4,
   "metadata": {
    "collapsed": false
   },
   "outputs": [
    {
     "name": "stdout",
     "output_type": "stream",
     "text": [
      "Variances of x and y of dataset 1\n",
      "    10.000\n",
      "     3.752\n",
      "Variances of x and y of dataset 2\n",
      "    10.000\n",
      "     3.752\n",
      "Variances of x and y of dataset 3\n",
      "    10.000\n",
      "     3.748\n",
      "Variances of x and y of dataset 4\n",
      "    10.000\n",
      "     3.748\n"
     ]
    }
   ],
   "source": [
    "var = []\n",
    "for dataset in atds:\n",
    "    temp = []\n",
    "    sumx = 0\n",
    "    sumy = 0\n",
    "    \n",
    "    for x in dataset[0]:\n",
    "        sumx = sumx + (x-9)**2\n",
    "    temp.append(sumx/len(dataset[0]))\n",
    "    \n",
    "    for y in dataset[1]:\n",
    "        sumy = sumy + (y-7.5)**2\n",
    "    temp.append(sumy/len(dataset[1]))\n",
    "    \n",
    "    var.append(temp)\n",
    "    \n",
    "\n",
    "for i in range(len(var)):\n",
    "    print \"Variances of x and y of dataset %d\" % (i+1)\n",
    "    print \"{:10.3f}\".format(var[i][0])\n",
    "    print \"{:10.3f}\".format(var[i][1])\n",
    "    \n",
    "    "
   ]
  },
  {
   "cell_type": "markdown",
   "metadata": {},
   "source": [
    "* **Use numpy to calculate the Pearson correlation between xx- and yy-values for all four data sets (also to three decimal places).**"
   ]
  },
  {
   "cell_type": "code",
   "execution_count": 5,
   "metadata": {
    "collapsed": false
   },
   "outputs": [
    {
     "name": "stdout",
     "output_type": "stream",
     "text": [
      "[array([[ 1.        ,  0.81642052],\n",
      "       [ 0.81642052,  1.        ]]), array([[ 1.        ,  0.81623651],\n",
      "       [ 0.81623651,  1.        ]]), array([[ 1.        ,  0.81628674],\n",
      "       [ 0.81628674,  1.        ]]), array([[ 1.        ,  0.81652144],\n",
      "       [ 0.81652144,  1.        ]])]\n"
     ]
    }
   ],
   "source": [
    "pearson = []\n",
    "for i in range(len(atds)):\n",
    "    pearson.append(np.corrcoef(atds[i][0], atds[i][1]))\n",
    "    \n",
    "print pearson"
   ]
  },
  {
   "cell_type": "markdown",
   "metadata": {},
   "source": [
    "* **The next step is use linear regression to fit a straight line f(x)=ax+bf(x)=ax+b through each dataset and report aa and bb (to two decimal places). An easy way to fit a straight line in Python is using scipy's linregress. It works like this\n",
    "from scipy import stats\n",
    "slope, intercept, r_value, p_value, std_err = stats.linregress(x,y)**"
   ]
  },
  {
   "cell_type": "code",
   "execution_count": 6,
   "metadata": {
    "collapsed": false
   },
   "outputs": [
    {
     "name": "stdout",
     "output_type": "stream",
     "text": [
      "The linear function of dataset 1 is f(x) = 0.50x + 3.00\n",
      "The linear function of dataset 2 is f(x) = 0.50x + 3.00\n",
      "The linear function of dataset 3 is f(x) = 0.50x + 3.00\n",
      "The linear function of dataset 4 is f(x) = 0.50x + 3.00\n"
     ]
    }
   ],
   "source": [
    "from scipy import stats\n",
    "\n",
    "for dataset in range(len(atds)):\n",
    "    x = atds[dataset][0]\n",
    "    y = atds[dataset][1]\n",
    "    \n",
    "    slope, intercept, r_value, p_value, std_err = stats.linregress(x,y)\n",
    "    print(\"The linear function of dataset {} is f(x) = {:.2f}x + {:.2f}\".format(dataset+1, slope, intercept))"
   ]
  },
  {
   "cell_type": "markdown",
   "metadata": {},
   "source": [
    "* **Finally, it's time to plot the four datasets using matplotlib.pyplot. Use a two-by-two subplot to put all of the plots nicely in a grid and use the same x and y range for all four plots. And include the linear fit in all four plots. (To get a sense of what I think the plot should look like, you can take a look at my version here.)**"
   ]
  },
  {
   "cell_type": "code",
   "execution_count": 7,
   "metadata": {
    "collapsed": false
   },
   "outputs": [],
   "source": [
    "import matplotlib.pyplot as plt\n",
    "\n",
    "# the values of the datasets are not sorted which needs to be sorted:\n",
    "d = {}\n",
    "for i in range(len(atds)):\n",
    "    d[i] = dict(zip(atds[i][0], atds[i][1]))\n",
    "    \n",
    "x = []\n",
    "y = []\n",
    "\n",
    "for key in d:\n",
    "    xtemp = []\n",
    "    ytemp = []\n",
    "    for subkey in d[key]:\n",
    "        xtemp.append(subkey)\n",
    "        ytemp.append(d[key][subkey])\n",
    "    x.append(xtemp)\n",
    "    y.append(ytemp)\n",
    "\n",
    "#creating datapoints for the linear functions to be plotted \n",
    "def f(o):\n",
    "    return float(o)*0.5+3\n",
    "\n",
    "temp = []\n",
    "for i in range(20):\n",
    "    temp.append(f(i))\n",
    "    \n",
    "    \n",
    "# now the data can be plotted\n",
    "plt.figure(1)\n",
    "plt.subplot(221)\n",
    "plt.scatter(x[0], y[0], c = 'red')\n",
    "plt.plot(temp)\n",
    "\n",
    "plt.subplot(222)\n",
    "plt.scatter(x[1], y[1], c = 'red')\n",
    "plt.plot(temp)\n",
    "\n",
    "plt.subplot(223)\n",
    "plt.scatter(x[2], y[2], c = 'red')\n",
    "plt.plot(temp)\n",
    "\n",
    "plt.subplot(224)\n",
    "plt.scatter(x[3], y[3], c = 'red')\n",
    "plt.plot(temp)\n",
    "\n",
    "plt.show()"
   ]
  },
  {
   "cell_type": "code",
   "execution_count": null,
   "metadata": {
    "collapsed": false
   },
   "outputs": [],
   "source": []
  },
  {
   "cell_type": "code",
   "execution_count": 8,
   "metadata": {
    "collapsed": false
   },
   "outputs": [
    {
     "name": "stdout",
     "output_type": "stream",
     "text": [
      "[10.0, 8.0, 13.0, 9.0, 11.0, 14.0, 6.0, 4.0, 12.0, 7.0, 5.0]\n",
      "[8.04, 6.95, 7.58, 8.81, 8.33, 9.96, 7.24, 4.26, 10.84, 4.82, 5.68]\n"
     ]
    }
   ],
   "source": [
    "import matplotlib.pyplot as plt\n",
    "\n",
    "plt.plot(atds[0][0],atds[0][1])\n",
    "plt.show()\n",
    "\n",
    "print atds[0][0]\n",
    "print atds[0][1]"
   ]
  },
  {
   "cell_type": "code",
   "execution_count": 9,
   "metadata": {
    "collapsed": false
   },
   "outputs": [
    {
     "data": {
      "text/plain": [
       "array([-5, -3, -1,  1,  3,  5,  7,  9, 11, 13])"
      ]
     },
     "execution_count": 9,
     "metadata": {},
     "output_type": "execute_result"
    }
   ],
   "source": [
    "np.arange(-5, 15, 2)"
   ]
  }
 ],
 "metadata": {
  "kernelspec": {
   "display_name": "Python 2",
   "language": "python",
   "name": "python2"
  },
  "language_info": {
   "codemirror_mode": {
    "name": "ipython",
    "version": 2
   },
   "file_extension": ".py",
   "mimetype": "text/x-python",
   "name": "python",
   "nbconvert_exporter": "python",
   "pygments_lexer": "ipython2",
   "version": "2.7.12"
  }
 },
 "nbformat": 4,
 "nbformat_minor": 0
}
