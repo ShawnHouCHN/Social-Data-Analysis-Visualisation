{
 "cells": [
  {
   "cell_type": "code",
   "execution_count": 1,
   "metadata": {
    "collapsed": true
   },
   "outputs": [],
   "source": [
    "import json\n",
    "import pandas as pd\n",
    "from sklearn.cluster import KMeans"
   ]
  },
  {
   "cell_type": "code",
   "execution_count": 2,
   "metadata": {
    "collapsed": true
   },
   "outputs": [],
   "source": [
    "df = pd.read_csv(\"NYPD_Motor_Vehicle_Collisions_reduced_data.csv\", low_memory=False)"
   ]
  },
  {
   "cell_type": "markdown",
   "metadata": {},
   "source": [
    "First, we need to grab only those collisions where someone was injured/killed. Therefore in the dataframe, if the sum of all columns incdicating casualites is more than 0 we grab those observations."
   ]
  },
  {
   "cell_type": "code",
   "execution_count": 3,
   "metadata": {
    "collapsed": true
   },
   "outputs": [],
   "source": [
    "y = df[['NUMBER OF PERSONS INJURED',\n",
    "       'NUMBER OF PERSONS KILLED', 'NUMBER OF PEDESTRIANS INJURED',\n",
    "       'NUMBER OF PEDESTRIANS KILLED', 'NUMBER OF CYCLIST INJURED',\n",
    "       'NUMBER OF CYCLIST KILLED', 'NUMBER OF MOTORIST INJURED',\n",
    "       'NUMBER OF MOTORIST KILLED']].sum(axis=1)"
   ]
  },
  {
   "cell_type": "code",
   "execution_count": 4,
   "metadata": {
    "collapsed": true
   },
   "outputs": [],
   "source": [
    "y = [1 if x > 0 else 0 for x in y]"
   ]
  },
  {
   "cell_type": "markdown",
   "metadata": {},
   "source": [
    "Add that column to the dataframe."
   ]
  },
  {
   "cell_type": "code",
   "execution_count": 5,
   "metadata": {
    "collapsed": true
   },
   "outputs": [],
   "source": [
    "df['Y'] = y"
   ]
  },
  {
   "cell_type": "markdown",
   "metadata": {},
   "source": [
    "Now we make a new dataframe containing only those observations that are involving a casualty."
   ]
  },
  {
   "cell_type": "code",
   "execution_count": 6,
   "metadata": {},
   "outputs": [
    {
     "data": {
      "text/plain": [
       "(188340, 2)"
      ]
     },
     "execution_count": 6,
     "metadata": {},
     "output_type": "execute_result"
    }
   ],
   "source": [
    "cas_df = df[df['Y'] == 1][['LATITUDE', 'LONGITUDE']]\n",
    "cas_df.shape"
   ]
  },
  {
   "cell_type": "code",
   "execution_count": 7,
   "metadata": {},
   "outputs": [
    {
     "data": {
      "text/plain": [
       "(151452, 2)"
      ]
     },
     "execution_count": 7,
     "metadata": {},
     "output_type": "execute_result"
    }
   ],
   "source": [
    "cas_df = cas_df.dropna()\n",
    "cas_df.shape"
   ]
  },
  {
   "cell_type": "markdown",
   "metadata": {},
   "source": [
    "Since we are loading the data into a website, we choose to sample only a portion of the data. This saves memory and makes the visualization run faster. In addition, it was determined with cluster analysis that there was unlikely to be an well separatable clustering of motor vehicle accidents in NYC. Therefor the website visualization is more for implementation purposes, rather than showing any inherent clustering of accidents."
   ]
  },
  {
   "cell_type": "code",
   "execution_count": 8,
   "metadata": {},
   "outputs": [
    {
     "data": {
      "text/plain": [
       "(5000, 2)"
      ]
     },
     "execution_count": 8,
     "metadata": {},
     "output_type": "execute_result"
    }
   ],
   "source": [
    "cas_df = cas_df.sample(n=5000)\n",
    "cas_df.shape"
   ]
  },
  {
   "cell_type": "markdown",
   "metadata": {},
   "source": [
    "Rename columns to save memory."
   ]
  },
  {
   "cell_type": "code",
   "execution_count": 9,
   "metadata": {},
   "outputs": [
    {
     "data": {
      "text/html": [
       "<div>\n",
       "<table border=\"1\" class=\"dataframe\">\n",
       "  <thead>\n",
       "    <tr style=\"text-align: right;\">\n",
       "      <th></th>\n",
       "      <th>Y</th>\n",
       "      <th>X</th>\n",
       "    </tr>\n",
       "  </thead>\n",
       "  <tbody>\n",
       "    <tr>\n",
       "      <th>526630</th>\n",
       "      <td>40.674138</td>\n",
       "      <td>-73.839023</td>\n",
       "    </tr>\n",
       "    <tr>\n",
       "      <th>905621</th>\n",
       "      <td>40.753482</td>\n",
       "      <td>-73.980889</td>\n",
       "    </tr>\n",
       "    <tr>\n",
       "      <th>453926</th>\n",
       "      <td>40.692356</td>\n",
       "      <td>-73.911053</td>\n",
       "    </tr>\n",
       "    <tr>\n",
       "      <th>838119</th>\n",
       "      <td>40.895468</td>\n",
       "      <td>-73.877121</td>\n",
       "    </tr>\n",
       "    <tr>\n",
       "      <th>722875</th>\n",
       "      <td>40.714230</td>\n",
       "      <td>-73.816454</td>\n",
       "    </tr>\n",
       "  </tbody>\n",
       "</table>\n",
       "</div>"
      ],
      "text/plain": [
       "                Y          X\n",
       "526630  40.674138 -73.839023\n",
       "905621  40.753482 -73.980889\n",
       "453926  40.692356 -73.911053\n",
       "838119  40.895468 -73.877121\n",
       "722875  40.714230 -73.816454"
      ]
     },
     "execution_count": 9,
     "metadata": {},
     "output_type": "execute_result"
    }
   ],
   "source": [
    "cas_df = cas_df.rename(columns={'LATITUDE': 'Y', 'LONGITUDE': 'X'})\n",
    "cas_df.head()"
   ]
  },
  {
   "cell_type": "markdown",
   "metadata": {},
   "source": [
    "Now we fit different KMeans with different number of clusters. We save which cluster each observation belongs to in the `cas_df` dataframe and we save the cluster centers in the `centroids` dictionary."
   ]
  },
  {
   "cell_type": "code",
   "execution_count": 10,
   "metadata": {
    "collapsed": true
   },
   "outputs": [],
   "source": [
    "centroids = {}\n",
    "\n",
    "for i in range(2, 7):\n",
    "    \n",
    "    model = KMeans(i)\n",
    "    clusters = str(i)\n",
    "    model.fit(cas_df)\n",
    "    \n",
    "    cas_df[clusters] = model.labels_\n",
    "    centroids[clusters] = [list(x) for x in model.cluster_centers_]"
   ]
  },
  {
   "cell_type": "markdown",
   "metadata": {},
   "source": [
    "We create a dictionary where each element contains an observation, it's coordinates and which cluster it belongs to in each clustering. In addition we have the centroids element that contains the centroid locations for each clustering."
   ]
  },
  {
   "cell_type": "code",
   "execution_count": 11,
   "metadata": {},
   "outputs": [],
   "source": [
    "plot_data = {\n",
    "    \"points\": [dict(x) for idx, x in cas_df.iterrows()],\n",
    "    \"centroids\": centroids\n",
    "}"
   ]
  },
  {
   "cell_type": "markdown",
   "metadata": {},
   "source": [
    "Lastly we save the the file as json."
   ]
  },
  {
   "cell_type": "code",
   "execution_count": 12,
   "metadata": {
    "collapsed": true
   },
   "outputs": [],
   "source": [
    "with open(\"data/casualties_plot_5000.json\", \"w\") as outfile:\n",
    "    json.dump(plot_data, outfile)"
   ]
  }
 ],
 "metadata": {
  "kernelspec": {
   "display_name": "Python [conda env:py35]",
   "language": "python",
   "name": "conda-env-py35-py"
  },
  "language_info": {
   "codemirror_mode": {
    "name": "ipython",
    "version": 3
   },
   "file_extension": ".py",
   "mimetype": "text/x-python",
   "name": "python",
   "nbconvert_exporter": "python",
   "pygments_lexer": "ipython3",
   "version": "3.5.2"
  }
 },
 "nbformat": 4,
 "nbformat_minor": 1
}
