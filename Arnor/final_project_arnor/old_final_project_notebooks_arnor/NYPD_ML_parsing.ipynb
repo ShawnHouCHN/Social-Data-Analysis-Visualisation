{
 "cells": [
  {
   "cell_type": "markdown",
   "metadata": {},
   "source": [
    "## Loading data"
   ]
  },
  {
   "cell_type": "code",
   "execution_count": 1,
   "metadata": {
    "collapsed": true
   },
   "outputs": [],
   "source": [
    "import numpy as np\n",
    "import pandas as pd\n",
    "import geoplotlib as gp\n",
    "from scipy import stats\n",
    "from collections import Counter\n",
    "import pickle\n",
    "from __future__ import division\n",
    "import matplotlib.pyplot as plt\n",
    "%matplotlib inline\n",
    "from sklearn.preprocessing import LabelEncoder as LE"
   ]
  },
  {
   "cell_type": "code",
   "execution_count": 2,
   "metadata": {},
   "outputs": [],
   "source": [
    "df = pd.read_csv(\"NYPD_Motor_Vehicle_Collisions_reduced_data.csv\", low_memory=False)"
   ]
  },
  {
   "cell_type": "code",
   "execution_count": 3,
   "metadata": {},
   "outputs": [],
   "source": [
    "# Drop NaN values from Lat and Lon\n",
    "df = df.dropna(subset=['LATITUDE','LONGITUDE', 'ON STREET NAME', 'BOROUGH'])\n",
    "\n",
    "# Drop empty strings from street names\n",
    "df = df[~df['ON STREET NAME'].str.contains('^\\s+$')]"
   ]
  },
  {
   "cell_type": "code",
   "execution_count": 4,
   "metadata": {},
   "outputs": [
    {
     "data": {
      "text/plain": [
       "(656094, 37)"
      ]
     },
     "execution_count": 4,
     "metadata": {},
     "output_type": "execute_result"
    }
   ],
   "source": [
    "df = df[(np.abs(stats.zscore(df[['LATITUDE','LONGITUDE']])) < 1).all(axis=1)]\n",
    "df.shape"
   ]
  },
  {
   "cell_type": "code",
   "execution_count": 5,
   "metadata": {},
   "outputs": [
    {
     "data": {
      "text/html": [
       "<div>\n",
       "<table border=\"1\" class=\"dataframe\">\n",
       "  <thead>\n",
       "    <tr style=\"text-align: right;\">\n",
       "      <th></th>\n",
       "      <th>Date</th>\n",
       "      <th>TIME</th>\n",
       "      <th>BOROUGH</th>\n",
       "      <th>ZIP CODE</th>\n",
       "      <th>LATITUDE</th>\n",
       "      <th>LONGITUDE</th>\n",
       "      <th>LOCATION</th>\n",
       "      <th>ON STREET NAME</th>\n",
       "      <th>NUMBER OF PERSONS INJURED</th>\n",
       "      <th>NUMBER OF PERSONS KILLED</th>\n",
       "      <th>...</th>\n",
       "      <th>Maximum Humidity</th>\n",
       "      <th>Mean Temperature</th>\n",
       "      <th>Min Temperature</th>\n",
       "      <th>Minimum Humidity</th>\n",
       "      <th>Precipitation</th>\n",
       "      <th>Sea Level Pressure</th>\n",
       "      <th>Snow</th>\n",
       "      <th>Snow Depth</th>\n",
       "      <th>Visibility</th>\n",
       "      <th>Wind Speed</th>\n",
       "    </tr>\n",
       "  </thead>\n",
       "  <tbody>\n",
       "    <tr>\n",
       "      <th>1</th>\n",
       "      <td>2017/03/28</td>\n",
       "      <td>0:00</td>\n",
       "      <td>BROOKLYN</td>\n",
       "      <td>11218</td>\n",
       "      <td>40.654080</td>\n",
       "      <td>-73.977610</td>\n",
       "      <td>(40.65408, -73.97761)</td>\n",
       "      <td>18 STREET</td>\n",
       "      <td>0</td>\n",
       "      <td>0</td>\n",
       "      <td>...</td>\n",
       "      <td>100</td>\n",
       "      <td>7</td>\n",
       "      <td>5</td>\n",
       "      <td>89</td>\n",
       "      <td>18.29</td>\n",
       "      <td>1014.0</td>\n",
       "      <td>0.00</td>\n",
       "      <td>0.00</td>\n",
       "      <td>7.0</td>\n",
       "      <td>9</td>\n",
       "    </tr>\n",
       "    <tr>\n",
       "      <th>4</th>\n",
       "      <td>2017/03/28</td>\n",
       "      <td>0:00</td>\n",
       "      <td>QUEENS</td>\n",
       "      <td>11429</td>\n",
       "      <td>40.713715</td>\n",
       "      <td>-73.731440</td>\n",
       "      <td>(40.713715, -73.73144)</td>\n",
       "      <td>222 STREET</td>\n",
       "      <td>0</td>\n",
       "      <td>0</td>\n",
       "      <td>...</td>\n",
       "      <td>100</td>\n",
       "      <td>7</td>\n",
       "      <td>5</td>\n",
       "      <td>89</td>\n",
       "      <td>18.29</td>\n",
       "      <td>1014.0</td>\n",
       "      <td>0.00</td>\n",
       "      <td>0.00</td>\n",
       "      <td>7.0</td>\n",
       "      <td>9</td>\n",
       "    </tr>\n",
       "    <tr>\n",
       "      <th>7</th>\n",
       "      <td>2017/03/28</td>\n",
       "      <td>0:01</td>\n",
       "      <td>BROOKLYN</td>\n",
       "      <td>11234</td>\n",
       "      <td>40.622400</td>\n",
       "      <td>-73.936646</td>\n",
       "      <td>(40.6224, -73.936646)</td>\n",
       "      <td>FLATBUSH AVENUE</td>\n",
       "      <td>0</td>\n",
       "      <td>0</td>\n",
       "      <td>...</td>\n",
       "      <td>100</td>\n",
       "      <td>7</td>\n",
       "      <td>5</td>\n",
       "      <td>89</td>\n",
       "      <td>18.29</td>\n",
       "      <td>1014.0</td>\n",
       "      <td>0.00</td>\n",
       "      <td>0.00</td>\n",
       "      <td>7.0</td>\n",
       "      <td>9</td>\n",
       "    </tr>\n",
       "    <tr>\n",
       "      <th>16</th>\n",
       "      <td>2017/03/28</td>\n",
       "      <td>10:02</td>\n",
       "      <td>BROOKLYN</td>\n",
       "      <td>11230</td>\n",
       "      <td>40.627130</td>\n",
       "      <td>-73.975280</td>\n",
       "      <td>(40.62713, -73.97528)</td>\n",
       "      <td>ELMWOOD AVENUE</td>\n",
       "      <td>1</td>\n",
       "      <td>0</td>\n",
       "      <td>...</td>\n",
       "      <td>100</td>\n",
       "      <td>7</td>\n",
       "      <td>5</td>\n",
       "      <td>89</td>\n",
       "      <td>18.29</td>\n",
       "      <td>1014.0</td>\n",
       "      <td>0.00</td>\n",
       "      <td>0.00</td>\n",
       "      <td>7.0</td>\n",
       "      <td>9</td>\n",
       "    </tr>\n",
       "    <tr>\n",
       "      <th>21</th>\n",
       "      <td>2017/03/28</td>\n",
       "      <td>10:16</td>\n",
       "      <td>BRONX</td>\n",
       "      <td>10455</td>\n",
       "      <td>40.814460</td>\n",
       "      <td>-73.896860</td>\n",
       "      <td>(40.81446, -73.89686)</td>\n",
       "      <td>BRUCKNER BOULEVARD</td>\n",
       "      <td>0</td>\n",
       "      <td>0</td>\n",
       "      <td>...</td>\n",
       "      <td>100</td>\n",
       "      <td>7</td>\n",
       "      <td>5</td>\n",
       "      <td>89</td>\n",
       "      <td>18.29</td>\n",
       "      <td>1014.0</td>\n",
       "      <td>0.00</td>\n",
       "      <td>0.00</td>\n",
       "      <td>7.0</td>\n",
       "      <td>9</td>\n",
       "    </tr>\n",
       "  </tbody>\n",
       "</table>\n",
       "<p>5 rows × 37 columns</p>\n",
       "</div>"
      ],
      "text/plain": [
       "          Date   TIME   BOROUGH ZIP CODE   LATITUDE  LONGITUDE  \\\n",
       "1   2017/03/28   0:00  BROOKLYN    11218  40.654080 -73.977610   \n",
       "4   2017/03/28   0:00    QUEENS    11429  40.713715 -73.731440   \n",
       "7   2017/03/28   0:01  BROOKLYN    11234  40.622400 -73.936646   \n",
       "16  2017/03/28  10:02  BROOKLYN    11230  40.627130 -73.975280   \n",
       "21  2017/03/28  10:16     BRONX    10455  40.814460 -73.896860   \n",
       "\n",
       "                  LOCATION                    ON STREET NAME  \\\n",
       "1    (40.65408, -73.97761)  18 STREET                          \n",
       "4   (40.713715, -73.73144)  222 STREET                         \n",
       "7    (40.6224, -73.936646)  FLATBUSH AVENUE                    \n",
       "16   (40.62713, -73.97528)  ELMWOOD AVENUE                     \n",
       "21   (40.81446, -73.89686)  BRUCKNER BOULEVARD                 \n",
       "\n",
       "    NUMBER OF PERSONS INJURED  NUMBER OF PERSONS KILLED    ...      \\\n",
       "1                           0                         0    ...       \n",
       "4                           0                         0    ...       \n",
       "7                           0                         0    ...       \n",
       "16                          1                         0    ...       \n",
       "21                          0                         0    ...       \n",
       "\n",
       "    Maximum Humidity  Mean Temperature  Min Temperature  Minimum Humidity  \\\n",
       "1                100                 7                5                89   \n",
       "4                100                 7                5                89   \n",
       "7                100                 7                5                89   \n",
       "16               100                 7                5                89   \n",
       "21               100                 7                5                89   \n",
       "\n",
       "    Precipitation  Sea Level Pressure  Snow Snow Depth  Visibility Wind Speed  \n",
       "1           18.29              1014.0  0.00       0.00         7.0          9  \n",
       "4           18.29              1014.0  0.00       0.00         7.0          9  \n",
       "7           18.29              1014.0  0.00       0.00         7.0          9  \n",
       "16          18.29              1014.0  0.00       0.00         7.0          9  \n",
       "21          18.29              1014.0  0.00       0.00         7.0          9  \n",
       "\n",
       "[5 rows x 37 columns]"
      ]
     },
     "execution_count": 5,
     "metadata": {},
     "output_type": "execute_result"
    }
   ],
   "source": [
    "df.head()"
   ]
  },
  {
   "cell_type": "code",
   "execution_count": 6,
   "metadata": {},
   "outputs": [
    {
     "data": {
      "text/plain": [
       "[('BROADWAY                        ', 8818),\n",
       " ('ATLANTIC AVENUE                 ', 7872),\n",
       " ('NORTHERN BOULEVARD              ', 5924),\n",
       " ('3 AVENUE                        ', 5688),\n",
       " ('FLATBUSH AVENUE                 ', 4681)]"
      ]
     },
     "execution_count": 6,
     "metadata": {},
     "output_type": "execute_result"
    }
   ],
   "source": [
    "Counter(df['ON STREET NAME']).most_common(5)"
   ]
  },
  {
   "cell_type": "markdown",
   "metadata": {},
   "source": [
    "## Preprocessing data for modelling"
   ]
  },
  {
   "cell_type": "markdown",
   "metadata": {},
   "source": [
    "First, we load and add the speed limit of each street to the dataframe."
   ]
  },
  {
   "cell_type": "code",
   "execution_count": 7,
   "metadata": {},
   "outputs": [],
   "source": [
    "with open('speed_limits/speeds.pickle', 'rb') as handle:\n",
    "    speed_dict = pickle.load(handle)"
   ]
  },
  {
   "cell_type": "code",
   "execution_count": 8,
   "metadata": {
    "collapsed": true
   },
   "outputs": [],
   "source": [
    "df['street_SL'] = np.zeros(df.shape[0])"
   ]
  },
  {
   "cell_type": "code",
   "execution_count": 9,
   "metadata": {},
   "outputs": [],
   "source": [
    "boroughs = list(df['BOROUGH'].copy())\n",
    "streets = list(df['ON STREET NAME'].copy())\n",
    "speeds = []\n",
    "\n",
    "boroughs = [x.lower() for x in boroughs]\n",
    "streets = [x.strip() for x in streets]\n",
    "\n",
    "for i in range(len(boroughs)):\n",
    "    \n",
    "    try:\n",
    "        speed = speed_dict[boroughs[i]][streets[i]]\n",
    "        speeds.append(speed)\n",
    "        \n",
    "    except KeyError:\n",
    "        speeds.append(np.nan)"
   ]
  },
  {
   "cell_type": "code",
   "execution_count": 10,
   "metadata": {},
   "outputs": [],
   "source": [
    "speeds = np.array(speeds)"
   ]
  },
  {
   "cell_type": "code",
   "execution_count": 11,
   "metadata": {
    "collapsed": true
   },
   "outputs": [],
   "source": [
    "df['street_SL'] = speeds"
   ]
  },
  {
   "cell_type": "code",
   "execution_count": 12,
   "metadata": {},
   "outputs": [],
   "source": [
    "df = df.dropna(subset=['street_SL'])"
   ]
  },
  {
   "cell_type": "markdown",
   "metadata": {},
   "source": [
    "Then, model time as an hour of the day."
   ]
  },
  {
   "cell_type": "code",
   "execution_count": 13,
   "metadata": {
    "collapsed": true
   },
   "outputs": [],
   "source": [
    "df['TIME'] = df['TIME'].apply(lambda x: int(x.split(':')[0]))"
   ]
  },
  {
   "cell_type": "code",
   "execution_count": 14,
   "metadata": {},
   "outputs": [
    {
     "data": {
      "text/plain": [
       "array([ 0,  1,  2,  3,  4,  5,  6,  7,  8,  9, 10, 11, 12, 13, 14, 15, 16,\n",
       "       17, 18, 19, 20, 21, 22, 23])"
      ]
     },
     "execution_count": 14,
     "metadata": {},
     "output_type": "execute_result"
    }
   ],
   "source": [
    "np.unique(df['TIME'])"
   ]
  },
  {
   "cell_type": "markdown",
   "metadata": {},
   "source": [
    "Next, create a new column for months only."
   ]
  },
  {
   "cell_type": "code",
   "execution_count": 15,
   "metadata": {
    "collapsed": true
   },
   "outputs": [],
   "source": [
    "df['Month'] = df['Date'].apply(lambda x: int(x.split('/')[1]))"
   ]
  },
  {
   "cell_type": "code",
   "execution_count": 16,
   "metadata": {},
   "outputs": [
    {
     "data": {
      "text/plain": [
       "array([ 1,  2,  3,  4,  5,  6,  7,  8,  9, 10, 11, 12])"
      ]
     },
     "execution_count": 16,
     "metadata": {},
     "output_type": "execute_result"
    }
   ],
   "source": [
    "np.unique(df['Month'])"
   ]
  },
  {
   "cell_type": "markdown",
   "metadata": {},
   "source": [
    "Next, we use label encoder to numerically encode boroughs in NYC."
   ]
  },
  {
   "cell_type": "code",
   "execution_count": 17,
   "metadata": {},
   "outputs": [
    {
     "data": {
      "text/plain": [
       "Counter({'BRONX': 79292,\n",
       "         'BROOKLYN': 198040,\n",
       "         'MANHATTAN': 168870,\n",
       "         'QUEENS': 166370})"
      ]
     },
     "execution_count": 17,
     "metadata": {},
     "output_type": "execute_result"
    }
   ],
   "source": [
    "Counter(df['BOROUGH'])"
   ]
  },
  {
   "cell_type": "markdown",
   "metadata": {},
   "source": [
    "Since there are some missing values - we have to deal with them. In this case, the missing borough values are replaced with 'UNKNOWN'."
   ]
  },
  {
   "cell_type": "code",
   "execution_count": 18,
   "metadata": {
    "collapsed": true
   },
   "outputs": [],
   "source": [
    "df['BOROUGH'] = df['BOROUGH'].fillna(value='UNKNOWN')"
   ]
  },
  {
   "cell_type": "markdown",
   "metadata": {},
   "source": [
    "Now the boroughs can be encoded with one-hot encoding and added to the dataframe for modelling. "
   ]
  },
  {
   "cell_type": "code",
   "execution_count": 19,
   "metadata": {},
   "outputs": [
    {
     "data": {
      "text/html": [
       "<div>\n",
       "<table border=\"1\" class=\"dataframe\">\n",
       "  <thead>\n",
       "    <tr style=\"text-align: right;\">\n",
       "      <th></th>\n",
       "      <th>BRONX</th>\n",
       "      <th>BROOKLYN</th>\n",
       "      <th>MANHATTAN</th>\n",
       "      <th>QUEENS</th>\n",
       "    </tr>\n",
       "  </thead>\n",
       "  <tbody>\n",
       "    <tr>\n",
       "      <th>1</th>\n",
       "      <td>0</td>\n",
       "      <td>1</td>\n",
       "      <td>0</td>\n",
       "      <td>0</td>\n",
       "    </tr>\n",
       "    <tr>\n",
       "      <th>4</th>\n",
       "      <td>0</td>\n",
       "      <td>0</td>\n",
       "      <td>0</td>\n",
       "      <td>1</td>\n",
       "    </tr>\n",
       "    <tr>\n",
       "      <th>7</th>\n",
       "      <td>0</td>\n",
       "      <td>1</td>\n",
       "      <td>0</td>\n",
       "      <td>0</td>\n",
       "    </tr>\n",
       "    <tr>\n",
       "      <th>16</th>\n",
       "      <td>0</td>\n",
       "      <td>1</td>\n",
       "      <td>0</td>\n",
       "      <td>0</td>\n",
       "    </tr>\n",
       "    <tr>\n",
       "      <th>21</th>\n",
       "      <td>1</td>\n",
       "      <td>0</td>\n",
       "      <td>0</td>\n",
       "      <td>0</td>\n",
       "    </tr>\n",
       "  </tbody>\n",
       "</table>\n",
       "</div>"
      ],
      "text/plain": [
       "    BRONX  BROOKLYN  MANHATTAN  QUEENS\n",
       "1       0         1          0       0\n",
       "4       0         0          0       1\n",
       "7       0         1          0       0\n",
       "16      0         1          0       0\n",
       "21      1         0          0       0"
      ]
     },
     "execution_count": 19,
     "metadata": {},
     "output_type": "execute_result"
    }
   ],
   "source": [
    "df_BR_dummies = pd.get_dummies(df['BOROUGH'])\n",
    "df_BR_dummies.head()"
   ]
  },
  {
   "cell_type": "markdown",
   "metadata": {},
   "source": [
    "Add the one-hot encoded columns to the dataframe."
   ]
  },
  {
   "cell_type": "code",
   "execution_count": 20,
   "metadata": {},
   "outputs": [
    {
     "data": {
      "text/html": [
       "<div>\n",
       "<table border=\"1\" class=\"dataframe\">\n",
       "  <thead>\n",
       "    <tr style=\"text-align: right;\">\n",
       "      <th></th>\n",
       "      <th>Date</th>\n",
       "      <th>TIME</th>\n",
       "      <th>BOROUGH</th>\n",
       "      <th>ZIP CODE</th>\n",
       "      <th>LATITUDE</th>\n",
       "      <th>LONGITUDE</th>\n",
       "      <th>LOCATION</th>\n",
       "      <th>ON STREET NAME</th>\n",
       "      <th>NUMBER OF PERSONS INJURED</th>\n",
       "      <th>NUMBER OF PERSONS KILLED</th>\n",
       "      <th>...</th>\n",
       "      <th>Snow</th>\n",
       "      <th>Snow Depth</th>\n",
       "      <th>Visibility</th>\n",
       "      <th>Wind Speed</th>\n",
       "      <th>street_SL</th>\n",
       "      <th>Month</th>\n",
       "      <th>BRONX</th>\n",
       "      <th>BROOKLYN</th>\n",
       "      <th>MANHATTAN</th>\n",
       "      <th>QUEENS</th>\n",
       "    </tr>\n",
       "  </thead>\n",
       "  <tbody>\n",
       "    <tr>\n",
       "      <th>1</th>\n",
       "      <td>2017/03/28</td>\n",
       "      <td>0</td>\n",
       "      <td>BROOKLYN</td>\n",
       "      <td>11218</td>\n",
       "      <td>40.654080</td>\n",
       "      <td>-73.977610</td>\n",
       "      <td>(40.65408, -73.97761)</td>\n",
       "      <td>18 STREET</td>\n",
       "      <td>0</td>\n",
       "      <td>0</td>\n",
       "      <td>...</td>\n",
       "      <td>0.00</td>\n",
       "      <td>0.00</td>\n",
       "      <td>7.0</td>\n",
       "      <td>9</td>\n",
       "      <td>25.0</td>\n",
       "      <td>3</td>\n",
       "      <td>0</td>\n",
       "      <td>1</td>\n",
       "      <td>0</td>\n",
       "      <td>0</td>\n",
       "    </tr>\n",
       "    <tr>\n",
       "      <th>4</th>\n",
       "      <td>2017/03/28</td>\n",
       "      <td>0</td>\n",
       "      <td>QUEENS</td>\n",
       "      <td>11429</td>\n",
       "      <td>40.713715</td>\n",
       "      <td>-73.731440</td>\n",
       "      <td>(40.713715, -73.73144)</td>\n",
       "      <td>222 STREET</td>\n",
       "      <td>0</td>\n",
       "      <td>0</td>\n",
       "      <td>...</td>\n",
       "      <td>0.00</td>\n",
       "      <td>0.00</td>\n",
       "      <td>7.0</td>\n",
       "      <td>9</td>\n",
       "      <td>25.0</td>\n",
       "      <td>3</td>\n",
       "      <td>0</td>\n",
       "      <td>0</td>\n",
       "      <td>0</td>\n",
       "      <td>1</td>\n",
       "    </tr>\n",
       "    <tr>\n",
       "      <th>7</th>\n",
       "      <td>2017/03/28</td>\n",
       "      <td>0</td>\n",
       "      <td>BROOKLYN</td>\n",
       "      <td>11234</td>\n",
       "      <td>40.622400</td>\n",
       "      <td>-73.936646</td>\n",
       "      <td>(40.6224, -73.936646)</td>\n",
       "      <td>FLATBUSH AVENUE</td>\n",
       "      <td>0</td>\n",
       "      <td>0</td>\n",
       "      <td>...</td>\n",
       "      <td>0.00</td>\n",
       "      <td>0.00</td>\n",
       "      <td>7.0</td>\n",
       "      <td>9</td>\n",
       "      <td>35.0</td>\n",
       "      <td>3</td>\n",
       "      <td>0</td>\n",
       "      <td>1</td>\n",
       "      <td>0</td>\n",
       "      <td>0</td>\n",
       "    </tr>\n",
       "    <tr>\n",
       "      <th>16</th>\n",
       "      <td>2017/03/28</td>\n",
       "      <td>10</td>\n",
       "      <td>BROOKLYN</td>\n",
       "      <td>11230</td>\n",
       "      <td>40.627130</td>\n",
       "      <td>-73.975280</td>\n",
       "      <td>(40.62713, -73.97528)</td>\n",
       "      <td>ELMWOOD AVENUE</td>\n",
       "      <td>1</td>\n",
       "      <td>0</td>\n",
       "      <td>...</td>\n",
       "      <td>0.00</td>\n",
       "      <td>0.00</td>\n",
       "      <td>7.0</td>\n",
       "      <td>9</td>\n",
       "      <td>25.0</td>\n",
       "      <td>3</td>\n",
       "      <td>0</td>\n",
       "      <td>1</td>\n",
       "      <td>0</td>\n",
       "      <td>0</td>\n",
       "    </tr>\n",
       "    <tr>\n",
       "      <th>21</th>\n",
       "      <td>2017/03/28</td>\n",
       "      <td>10</td>\n",
       "      <td>BRONX</td>\n",
       "      <td>10455</td>\n",
       "      <td>40.814460</td>\n",
       "      <td>-73.896860</td>\n",
       "      <td>(40.81446, -73.89686)</td>\n",
       "      <td>BRUCKNER BOULEVARD</td>\n",
       "      <td>0</td>\n",
       "      <td>0</td>\n",
       "      <td>...</td>\n",
       "      <td>0.00</td>\n",
       "      <td>0.00</td>\n",
       "      <td>7.0</td>\n",
       "      <td>9</td>\n",
       "      <td>30.0</td>\n",
       "      <td>3</td>\n",
       "      <td>1</td>\n",
       "      <td>0</td>\n",
       "      <td>0</td>\n",
       "      <td>0</td>\n",
       "    </tr>\n",
       "  </tbody>\n",
       "</table>\n",
       "<p>5 rows × 43 columns</p>\n",
       "</div>"
      ],
      "text/plain": [
       "          Date  TIME   BOROUGH ZIP CODE   LATITUDE  LONGITUDE  \\\n",
       "1   2017/03/28     0  BROOKLYN    11218  40.654080 -73.977610   \n",
       "4   2017/03/28     0    QUEENS    11429  40.713715 -73.731440   \n",
       "7   2017/03/28     0  BROOKLYN    11234  40.622400 -73.936646   \n",
       "16  2017/03/28    10  BROOKLYN    11230  40.627130 -73.975280   \n",
       "21  2017/03/28    10     BRONX    10455  40.814460 -73.896860   \n",
       "\n",
       "                  LOCATION                    ON STREET NAME  \\\n",
       "1    (40.65408, -73.97761)  18 STREET                          \n",
       "4   (40.713715, -73.73144)  222 STREET                         \n",
       "7    (40.6224, -73.936646)  FLATBUSH AVENUE                    \n",
       "16   (40.62713, -73.97528)  ELMWOOD AVENUE                     \n",
       "21   (40.81446, -73.89686)  BRUCKNER BOULEVARD                 \n",
       "\n",
       "    NUMBER OF PERSONS INJURED  NUMBER OF PERSONS KILLED  ...    Snow  \\\n",
       "1                           0                         0  ...    0.00   \n",
       "4                           0                         0  ...    0.00   \n",
       "7                           0                         0  ...    0.00   \n",
       "16                          1                         0  ...    0.00   \n",
       "21                          0                         0  ...    0.00   \n",
       "\n",
       "    Snow Depth  Visibility  Wind Speed  street_SL  Month BRONX BROOKLYN  \\\n",
       "1         0.00         7.0           9       25.0      3     0        1   \n",
       "4         0.00         7.0           9       25.0      3     0        0   \n",
       "7         0.00         7.0           9       35.0      3     0        1   \n",
       "16        0.00         7.0           9       25.0      3     0        1   \n",
       "21        0.00         7.0           9       30.0      3     1        0   \n",
       "\n",
       "    MANHATTAN QUEENS  \n",
       "1           0      0  \n",
       "4           0      1  \n",
       "7           0      0  \n",
       "16          0      0  \n",
       "21          0      0  \n",
       "\n",
       "[5 rows x 43 columns]"
      ]
     },
     "execution_count": 20,
     "metadata": {},
     "output_type": "execute_result"
    }
   ],
   "source": [
    "df = df.join(df_BR_dummies)\n",
    "df.head()"
   ]
  },
  {
   "cell_type": "markdown",
   "metadata": {},
   "source": [
    "Next, vehicle types will be encoded with one hot as well."
   ]
  },
  {
   "cell_type": "code",
   "execution_count": 21,
   "metadata": {},
   "outputs": [
    {
     "data": {
      "text/plain": [
       "Counter({nan: 2229,\n",
       "         'TAXI': 29362,\n",
       "         'UNKNOWN': 15562,\n",
       "         'MOTORCYCLE': 3303,\n",
       "         'VAN': 19883,\n",
       "         'LIVERY VEHICLE': 7517,\n",
       "         'FIRE TRUCK': 621,\n",
       "         'AMBULANCE': 1852,\n",
       "         'PEDICAB': 21,\n",
       "         'SMALL COM VEH(4 TIRES) ': 10591,\n",
       "         'PASSENGER VEHICLE': 338452,\n",
       "         'OTHER': 17428,\n",
       "         'LARGE COM VEH(6 OR MORE TIRES)': 9213,\n",
       "         'SCOOTER': 240,\n",
       "         'BICYCLE': 1170,\n",
       "         'SPORT UTILITY / STATION WAGON': 134787,\n",
       "         'PICK-UP TRUCK': 9176,\n",
       "         'BUS': 11165})"
      ]
     },
     "execution_count": 21,
     "metadata": {},
     "output_type": "execute_result"
    }
   ],
   "source": [
    "Counter(df['VEHICLE TYPE CODE 1'])"
   ]
  },
  {
   "cell_type": "markdown",
   "metadata": {},
   "source": [
    "We will NaN values with 'OTHER'."
   ]
  },
  {
   "cell_type": "code",
   "execution_count": 22,
   "metadata": {
    "collapsed": true
   },
   "outputs": [],
   "source": [
    "df[['VEHICLE TYPE CODE 1', 'VEHICLE TYPE CODE 2']] = df[['VEHICLE TYPE CODE 1', 'VEHICLE TYPE CODE 2']].fillna('OTHER')"
   ]
  },
  {
   "cell_type": "markdown",
   "metadata": {},
   "source": [
    "Before that is done, vehicles are grouped into 4 classes depending on their size:"
   ]
  },
  {
   "cell_type": "code",
   "execution_count": 23,
   "metadata": {},
   "outputs": [],
   "source": [
    "name_dict = {\n",
    "'two_wheeler': ['BICYCLE', 'PEDICAB', 'SCOOTER', 'MOTORCYCLE'],\n",
    "'small': ['PASSENGER VEHICLE', 'TAXI'],\n",
    "'medium': ['AMBULANCE', 'SPORT UTILITY / STATION WAGON', 'PICK-UP TRUCK', 'SMALL COM VEH(4 TIRES) ', 'LIVERY VEHICLE', 'VAN'],\n",
    "'large': ['BUS', 'FIRE TRUCK', 'LARGE COM VEH(6 OR MORE TIRES)'],\n",
    "'other': ['OTHER', 'UNKNOWN']}"
   ]
  },
  {
   "cell_type": "markdown",
   "metadata": {},
   "source": [
    "And replace those values in the dictionary."
   ]
  },
  {
   "cell_type": "code",
   "execution_count": 24,
   "metadata": {},
   "outputs": [],
   "source": [
    "df_repl = df[['VEHICLE TYPE CODE 1', 'VEHICLE TYPE CODE 2']].copy()\n",
    "\n",
    "for new_name in name_dict:\n",
    "    \n",
    "    for old_name in name_dict[new_name]:\n",
    "    \n",
    "        df_repl = df_repl[['VEHICLE TYPE CODE 1', 'VEHICLE TYPE CODE 2']].replace(to_replace=old_name, value=new_name)"
   ]
  },
  {
   "cell_type": "markdown",
   "metadata": {},
   "source": [
    "Now we can apply one-hot endcoding to the vehicle type as well."
   ]
  },
  {
   "cell_type": "code",
   "execution_count": 25,
   "metadata": {},
   "outputs": [
    {
     "data": {
      "text/html": [
       "<div>\n",
       "<table border=\"1\" class=\"dataframe\">\n",
       "  <thead>\n",
       "    <tr style=\"text-align: right;\">\n",
       "      <th></th>\n",
       "      <th>VTC1_large</th>\n",
       "      <th>VTC1_medium</th>\n",
       "      <th>VTC1_other</th>\n",
       "      <th>VTC1_small</th>\n",
       "      <th>VTC1_two_wheeler</th>\n",
       "      <th>VTC2_large</th>\n",
       "      <th>VTC2_medium</th>\n",
       "      <th>VTC2_other</th>\n",
       "      <th>VTC2_small</th>\n",
       "      <th>VTC2_two_wheeler</th>\n",
       "    </tr>\n",
       "  </thead>\n",
       "  <tbody>\n",
       "    <tr>\n",
       "      <th>1</th>\n",
       "      <td>0</td>\n",
       "      <td>0</td>\n",
       "      <td>0</td>\n",
       "      <td>1</td>\n",
       "      <td>0</td>\n",
       "      <td>0</td>\n",
       "      <td>0</td>\n",
       "      <td>1</td>\n",
       "      <td>0</td>\n",
       "      <td>0</td>\n",
       "    </tr>\n",
       "    <tr>\n",
       "      <th>4</th>\n",
       "      <td>0</td>\n",
       "      <td>1</td>\n",
       "      <td>0</td>\n",
       "      <td>0</td>\n",
       "      <td>0</td>\n",
       "      <td>0</td>\n",
       "      <td>0</td>\n",
       "      <td>0</td>\n",
       "      <td>1</td>\n",
       "      <td>0</td>\n",
       "    </tr>\n",
       "    <tr>\n",
       "      <th>7</th>\n",
       "      <td>0</td>\n",
       "      <td>0</td>\n",
       "      <td>1</td>\n",
       "      <td>0</td>\n",
       "      <td>0</td>\n",
       "      <td>0</td>\n",
       "      <td>0</td>\n",
       "      <td>1</td>\n",
       "      <td>0</td>\n",
       "      <td>0</td>\n",
       "    </tr>\n",
       "    <tr>\n",
       "      <th>16</th>\n",
       "      <td>0</td>\n",
       "      <td>1</td>\n",
       "      <td>0</td>\n",
       "      <td>0</td>\n",
       "      <td>0</td>\n",
       "      <td>0</td>\n",
       "      <td>0</td>\n",
       "      <td>1</td>\n",
       "      <td>0</td>\n",
       "      <td>0</td>\n",
       "    </tr>\n",
       "    <tr>\n",
       "      <th>21</th>\n",
       "      <td>0</td>\n",
       "      <td>0</td>\n",
       "      <td>1</td>\n",
       "      <td>0</td>\n",
       "      <td>0</td>\n",
       "      <td>0</td>\n",
       "      <td>0</td>\n",
       "      <td>1</td>\n",
       "      <td>0</td>\n",
       "      <td>0</td>\n",
       "    </tr>\n",
       "  </tbody>\n",
       "</table>\n",
       "</div>"
      ],
      "text/plain": [
       "    VTC1_large  VTC1_medium  VTC1_other  VTC1_small  VTC1_two_wheeler  \\\n",
       "1            0            0           0           1                 0   \n",
       "4            0            1           0           0                 0   \n",
       "7            0            0           1           0                 0   \n",
       "16           0            1           0           0                 0   \n",
       "21           0            0           1           0                 0   \n",
       "\n",
       "    VTC2_large  VTC2_medium  VTC2_other  VTC2_small  VTC2_two_wheeler  \n",
       "1            0            0           1           0                 0  \n",
       "4            0            0           0           1                 0  \n",
       "7            0            0           1           0                 0  \n",
       "16           0            0           1           0                 0  \n",
       "21           0            0           1           0                 0  "
      ]
     },
     "execution_count": 25,
     "metadata": {},
     "output_type": "execute_result"
    }
   ],
   "source": [
    "df_VT_dummies = pd.get_dummies(df_repl[['VEHICLE TYPE CODE 1', 'VEHICLE TYPE CODE 2']], prefix=['VTC1', 'VTC2'])\n",
    "df_VT_dummies.head()"
   ]
  },
  {
   "cell_type": "markdown",
   "metadata": {},
   "source": [
    "And we join that to the dataframe as well."
   ]
  },
  {
   "cell_type": "code",
   "execution_count": 26,
   "metadata": {},
   "outputs": [
    {
     "data": {
      "text/html": [
       "<div>\n",
       "<table border=\"1\" class=\"dataframe\">\n",
       "  <thead>\n",
       "    <tr style=\"text-align: right;\">\n",
       "      <th></th>\n",
       "      <th>Date</th>\n",
       "      <th>TIME</th>\n",
       "      <th>BOROUGH</th>\n",
       "      <th>ZIP CODE</th>\n",
       "      <th>LATITUDE</th>\n",
       "      <th>LONGITUDE</th>\n",
       "      <th>LOCATION</th>\n",
       "      <th>ON STREET NAME</th>\n",
       "      <th>NUMBER OF PERSONS INJURED</th>\n",
       "      <th>NUMBER OF PERSONS KILLED</th>\n",
       "      <th>...</th>\n",
       "      <th>VTC1_large</th>\n",
       "      <th>VTC1_medium</th>\n",
       "      <th>VTC1_other</th>\n",
       "      <th>VTC1_small</th>\n",
       "      <th>VTC1_two_wheeler</th>\n",
       "      <th>VTC2_large</th>\n",
       "      <th>VTC2_medium</th>\n",
       "      <th>VTC2_other</th>\n",
       "      <th>VTC2_small</th>\n",
       "      <th>VTC2_two_wheeler</th>\n",
       "    </tr>\n",
       "  </thead>\n",
       "  <tbody>\n",
       "    <tr>\n",
       "      <th>1</th>\n",
       "      <td>2017/03/28</td>\n",
       "      <td>0</td>\n",
       "      <td>BROOKLYN</td>\n",
       "      <td>11218</td>\n",
       "      <td>40.654080</td>\n",
       "      <td>-73.977610</td>\n",
       "      <td>(40.65408, -73.97761)</td>\n",
       "      <td>18 STREET</td>\n",
       "      <td>0</td>\n",
       "      <td>0</td>\n",
       "      <td>...</td>\n",
       "      <td>0</td>\n",
       "      <td>0</td>\n",
       "      <td>0</td>\n",
       "      <td>1</td>\n",
       "      <td>0</td>\n",
       "      <td>0</td>\n",
       "      <td>0</td>\n",
       "      <td>1</td>\n",
       "      <td>0</td>\n",
       "      <td>0</td>\n",
       "    </tr>\n",
       "    <tr>\n",
       "      <th>4</th>\n",
       "      <td>2017/03/28</td>\n",
       "      <td>0</td>\n",
       "      <td>QUEENS</td>\n",
       "      <td>11429</td>\n",
       "      <td>40.713715</td>\n",
       "      <td>-73.731440</td>\n",
       "      <td>(40.713715, -73.73144)</td>\n",
       "      <td>222 STREET</td>\n",
       "      <td>0</td>\n",
       "      <td>0</td>\n",
       "      <td>...</td>\n",
       "      <td>0</td>\n",
       "      <td>1</td>\n",
       "      <td>0</td>\n",
       "      <td>0</td>\n",
       "      <td>0</td>\n",
       "      <td>0</td>\n",
       "      <td>0</td>\n",
       "      <td>0</td>\n",
       "      <td>1</td>\n",
       "      <td>0</td>\n",
       "    </tr>\n",
       "    <tr>\n",
       "      <th>7</th>\n",
       "      <td>2017/03/28</td>\n",
       "      <td>0</td>\n",
       "      <td>BROOKLYN</td>\n",
       "      <td>11234</td>\n",
       "      <td>40.622400</td>\n",
       "      <td>-73.936646</td>\n",
       "      <td>(40.6224, -73.936646)</td>\n",
       "      <td>FLATBUSH AVENUE</td>\n",
       "      <td>0</td>\n",
       "      <td>0</td>\n",
       "      <td>...</td>\n",
       "      <td>0</td>\n",
       "      <td>0</td>\n",
       "      <td>1</td>\n",
       "      <td>0</td>\n",
       "      <td>0</td>\n",
       "      <td>0</td>\n",
       "      <td>0</td>\n",
       "      <td>1</td>\n",
       "      <td>0</td>\n",
       "      <td>0</td>\n",
       "    </tr>\n",
       "    <tr>\n",
       "      <th>16</th>\n",
       "      <td>2017/03/28</td>\n",
       "      <td>10</td>\n",
       "      <td>BROOKLYN</td>\n",
       "      <td>11230</td>\n",
       "      <td>40.627130</td>\n",
       "      <td>-73.975280</td>\n",
       "      <td>(40.62713, -73.97528)</td>\n",
       "      <td>ELMWOOD AVENUE</td>\n",
       "      <td>1</td>\n",
       "      <td>0</td>\n",
       "      <td>...</td>\n",
       "      <td>0</td>\n",
       "      <td>1</td>\n",
       "      <td>0</td>\n",
       "      <td>0</td>\n",
       "      <td>0</td>\n",
       "      <td>0</td>\n",
       "      <td>0</td>\n",
       "      <td>1</td>\n",
       "      <td>0</td>\n",
       "      <td>0</td>\n",
       "    </tr>\n",
       "    <tr>\n",
       "      <th>21</th>\n",
       "      <td>2017/03/28</td>\n",
       "      <td>10</td>\n",
       "      <td>BRONX</td>\n",
       "      <td>10455</td>\n",
       "      <td>40.814460</td>\n",
       "      <td>-73.896860</td>\n",
       "      <td>(40.81446, -73.89686)</td>\n",
       "      <td>BRUCKNER BOULEVARD</td>\n",
       "      <td>0</td>\n",
       "      <td>0</td>\n",
       "      <td>...</td>\n",
       "      <td>0</td>\n",
       "      <td>0</td>\n",
       "      <td>1</td>\n",
       "      <td>0</td>\n",
       "      <td>0</td>\n",
       "      <td>0</td>\n",
       "      <td>0</td>\n",
       "      <td>1</td>\n",
       "      <td>0</td>\n",
       "      <td>0</td>\n",
       "    </tr>\n",
       "  </tbody>\n",
       "</table>\n",
       "<p>5 rows × 53 columns</p>\n",
       "</div>"
      ],
      "text/plain": [
       "          Date  TIME   BOROUGH ZIP CODE   LATITUDE  LONGITUDE  \\\n",
       "1   2017/03/28     0  BROOKLYN    11218  40.654080 -73.977610   \n",
       "4   2017/03/28     0    QUEENS    11429  40.713715 -73.731440   \n",
       "7   2017/03/28     0  BROOKLYN    11234  40.622400 -73.936646   \n",
       "16  2017/03/28    10  BROOKLYN    11230  40.627130 -73.975280   \n",
       "21  2017/03/28    10     BRONX    10455  40.814460 -73.896860   \n",
       "\n",
       "                  LOCATION                    ON STREET NAME  \\\n",
       "1    (40.65408, -73.97761)  18 STREET                          \n",
       "4   (40.713715, -73.73144)  222 STREET                         \n",
       "7    (40.6224, -73.936646)  FLATBUSH AVENUE                    \n",
       "16   (40.62713, -73.97528)  ELMWOOD AVENUE                     \n",
       "21   (40.81446, -73.89686)  BRUCKNER BOULEVARD                 \n",
       "\n",
       "    NUMBER OF PERSONS INJURED  NUMBER OF PERSONS KILLED       ...         \\\n",
       "1                           0                         0       ...          \n",
       "4                           0                         0       ...          \n",
       "7                           0                         0       ...          \n",
       "16                          1                         0       ...          \n",
       "21                          0                         0       ...          \n",
       "\n",
       "    VTC1_large  VTC1_medium  VTC1_other  VTC1_small  VTC1_two_wheeler  \\\n",
       "1            0            0           0           1                 0   \n",
       "4            0            1           0           0                 0   \n",
       "7            0            0           1           0                 0   \n",
       "16           0            1           0           0                 0   \n",
       "21           0            0           1           0                 0   \n",
       "\n",
       "    VTC2_large VTC2_medium VTC2_other  VTC2_small VTC2_two_wheeler  \n",
       "1            0           0          1           0                0  \n",
       "4            0           0          0           1                0  \n",
       "7            0           0          1           0                0  \n",
       "16           0           0          1           0                0  \n",
       "21           0           0          1           0                0  \n",
       "\n",
       "[5 rows x 53 columns]"
      ]
     },
     "execution_count": 26,
     "metadata": {},
     "output_type": "execute_result"
    }
   ],
   "source": [
    "df = df.join(df_VT_dummies)\n",
    "df.head()"
   ]
  },
  {
   "cell_type": "markdown",
   "metadata": {},
   "source": [
    "Lastly, we do one-hot encoding for events. First we start by replacing NaN with Other."
   ]
  },
  {
   "cell_type": "code",
   "execution_count": 27,
   "metadata": {},
   "outputs": [],
   "source": [
    "df['Events'] = df['Events'].fillna('Other')"
   ]
  },
  {
   "cell_type": "code",
   "execution_count": 28,
   "metadata": {},
   "outputs": [
    {
     "data": {
      "text/plain": [
       "array(['Fog', 'Fog\\n\\t,\\nRain', 'Fog\\n\\t,\\nRain\\n\\t,\\nSnow',\n",
       "       'Fog\\n\\t,\\nSnow', 'Other', 'Rain', 'Rain\\n\\t,\\nSnow', 'Snow'], dtype=object)"
      ]
     },
     "execution_count": 28,
     "metadata": {},
     "output_type": "execute_result"
    }
   ],
   "source": [
    "np.unique(df['Events'])"
   ]
  },
  {
   "cell_type": "code",
   "execution_count": 29,
   "metadata": {},
   "outputs": [],
   "source": [
    "df_EV_dummies = pd.DataFrame(columns=['Rain', 'Snow', 'Fog', 'Other'], index=df.index)"
   ]
  },
  {
   "cell_type": "code",
   "execution_count": 30,
   "metadata": {
    "collapsed": true
   },
   "outputs": [],
   "source": [
    "for column in df_EV_dummies.columns:\n",
    "    df_EV_dummies[column] = np.zeros(df.shape[0])"
   ]
  },
  {
   "cell_type": "code",
   "execution_count": 31,
   "metadata": {},
   "outputs": [
    {
     "data": {
      "text/html": [
       "<div>\n",
       "<table border=\"1\" class=\"dataframe\">\n",
       "  <thead>\n",
       "    <tr style=\"text-align: right;\">\n",
       "      <th></th>\n",
       "      <th>Rain</th>\n",
       "      <th>Snow</th>\n",
       "      <th>Fog</th>\n",
       "      <th>Other</th>\n",
       "    </tr>\n",
       "  </thead>\n",
       "  <tbody>\n",
       "    <tr>\n",
       "      <th>1</th>\n",
       "      <td>0.0</td>\n",
       "      <td>0.0</td>\n",
       "      <td>0.0</td>\n",
       "      <td>0.0</td>\n",
       "    </tr>\n",
       "    <tr>\n",
       "      <th>4</th>\n",
       "      <td>0.0</td>\n",
       "      <td>0.0</td>\n",
       "      <td>0.0</td>\n",
       "      <td>0.0</td>\n",
       "    </tr>\n",
       "    <tr>\n",
       "      <th>7</th>\n",
       "      <td>0.0</td>\n",
       "      <td>0.0</td>\n",
       "      <td>0.0</td>\n",
       "      <td>0.0</td>\n",
       "    </tr>\n",
       "    <tr>\n",
       "      <th>16</th>\n",
       "      <td>0.0</td>\n",
       "      <td>0.0</td>\n",
       "      <td>0.0</td>\n",
       "      <td>0.0</td>\n",
       "    </tr>\n",
       "    <tr>\n",
       "      <th>21</th>\n",
       "      <td>0.0</td>\n",
       "      <td>0.0</td>\n",
       "      <td>0.0</td>\n",
       "      <td>0.0</td>\n",
       "    </tr>\n",
       "  </tbody>\n",
       "</table>\n",
       "</div>"
      ],
      "text/plain": [
       "    Rain  Snow  Fog  Other\n",
       "1    0.0   0.0  0.0    0.0\n",
       "4    0.0   0.0  0.0    0.0\n",
       "7    0.0   0.0  0.0    0.0\n",
       "16   0.0   0.0  0.0    0.0\n",
       "21   0.0   0.0  0.0    0.0"
      ]
     },
     "execution_count": 31,
     "metadata": {},
     "output_type": "execute_result"
    }
   ],
   "source": [
    "df_EV_dummies.head()"
   ]
  },
  {
   "cell_type": "code",
   "execution_count": 32,
   "metadata": {},
   "outputs": [],
   "source": [
    "# loop through all rows in the dataframe\n",
    "for index, row in enumerate(df['Events']):\n",
    "    \n",
    "    for event in row.split(','):\n",
    "        \n",
    "        event = event.strip()\n",
    "        \n",
    "        for c_idx, column in enumerate(['Rain', 'Snow', 'Fog', 'Other']):\n",
    "            \n",
    "            if event == column:\n",
    "                df_EV_dummies.iloc[index, c_idx] = 1"
   ]
  },
  {
   "cell_type": "code",
   "execution_count": 33,
   "metadata": {},
   "outputs": [
    {
     "data": {
      "text/html": [
       "<div>\n",
       "<table border=\"1\" class=\"dataframe\">\n",
       "  <thead>\n",
       "    <tr style=\"text-align: right;\">\n",
       "      <th></th>\n",
       "      <th>Rain</th>\n",
       "      <th>Snow</th>\n",
       "      <th>Fog</th>\n",
       "      <th>Other</th>\n",
       "    </tr>\n",
       "  </thead>\n",
       "  <tbody>\n",
       "    <tr>\n",
       "      <th>230846</th>\n",
       "      <td>1.0</td>\n",
       "      <td>1.0</td>\n",
       "      <td>1.0</td>\n",
       "      <td>0.0</td>\n",
       "    </tr>\n",
       "    <tr>\n",
       "      <th>230847</th>\n",
       "      <td>1.0</td>\n",
       "      <td>1.0</td>\n",
       "      <td>1.0</td>\n",
       "      <td>0.0</td>\n",
       "    </tr>\n",
       "    <tr>\n",
       "      <th>230848</th>\n",
       "      <td>1.0</td>\n",
       "      <td>1.0</td>\n",
       "      <td>1.0</td>\n",
       "      <td>0.0</td>\n",
       "    </tr>\n",
       "    <tr>\n",
       "      <th>230850</th>\n",
       "      <td>1.0</td>\n",
       "      <td>1.0</td>\n",
       "      <td>1.0</td>\n",
       "      <td>0.0</td>\n",
       "    </tr>\n",
       "    <tr>\n",
       "      <th>230851</th>\n",
       "      <td>1.0</td>\n",
       "      <td>1.0</td>\n",
       "      <td>1.0</td>\n",
       "      <td>0.0</td>\n",
       "    </tr>\n",
       "  </tbody>\n",
       "</table>\n",
       "</div>"
      ],
      "text/plain": [
       "        Rain  Snow  Fog  Other\n",
       "230846   1.0   1.0  1.0    0.0\n",
       "230847   1.0   1.0  1.0    0.0\n",
       "230848   1.0   1.0  1.0    0.0\n",
       "230850   1.0   1.0  1.0    0.0\n",
       "230851   1.0   1.0  1.0    0.0"
      ]
     },
     "execution_count": 33,
     "metadata": {},
     "output_type": "execute_result"
    }
   ],
   "source": [
    "# checking if the code worked\n",
    "df_EV_dummies[df['Events'] == 'Fog\\n\\t,\\nRain\\n\\t,\\nSnow'].head()"
   ]
  },
  {
   "cell_type": "markdown",
   "metadata": {},
   "source": [
    "Rename columns because of same names in the main df, and remove the Other column as it does not provide valuable information."
   ]
  },
  {
   "cell_type": "code",
   "execution_count": 34,
   "metadata": {},
   "outputs": [],
   "source": [
    "df_EV_dummies.columns = ['Rain_EV', 'Snow_EV', 'Fog_EV', 'Other_EV']\n",
    "df_EV_dummies = df_EV_dummies.drop('Other_EV', axis=1)"
   ]
  },
  {
   "cell_type": "code",
   "execution_count": 35,
   "metadata": {},
   "outputs": [
    {
     "data": {
      "text/html": [
       "<div>\n",
       "<table border=\"1\" class=\"dataframe\">\n",
       "  <thead>\n",
       "    <tr style=\"text-align: right;\">\n",
       "      <th></th>\n",
       "      <th>Rain_EV</th>\n",
       "      <th>Snow_EV</th>\n",
       "      <th>Fog_EV</th>\n",
       "    </tr>\n",
       "  </thead>\n",
       "  <tbody>\n",
       "    <tr>\n",
       "      <th>1</th>\n",
       "      <td>1.0</td>\n",
       "      <td>0.0</td>\n",
       "      <td>0.0</td>\n",
       "    </tr>\n",
       "    <tr>\n",
       "      <th>4</th>\n",
       "      <td>1.0</td>\n",
       "      <td>0.0</td>\n",
       "      <td>0.0</td>\n",
       "    </tr>\n",
       "    <tr>\n",
       "      <th>7</th>\n",
       "      <td>1.0</td>\n",
       "      <td>0.0</td>\n",
       "      <td>0.0</td>\n",
       "    </tr>\n",
       "    <tr>\n",
       "      <th>16</th>\n",
       "      <td>1.0</td>\n",
       "      <td>0.0</td>\n",
       "      <td>0.0</td>\n",
       "    </tr>\n",
       "    <tr>\n",
       "      <th>21</th>\n",
       "      <td>1.0</td>\n",
       "      <td>0.0</td>\n",
       "      <td>0.0</td>\n",
       "    </tr>\n",
       "  </tbody>\n",
       "</table>\n",
       "</div>"
      ],
      "text/plain": [
       "    Rain_EV  Snow_EV  Fog_EV\n",
       "1       1.0      0.0     0.0\n",
       "4       1.0      0.0     0.0\n",
       "7       1.0      0.0     0.0\n",
       "16      1.0      0.0     0.0\n",
       "21      1.0      0.0     0.0"
      ]
     },
     "execution_count": 35,
     "metadata": {},
     "output_type": "execute_result"
    }
   ],
   "source": [
    "df_EV_dummies.head()"
   ]
  },
  {
   "cell_type": "markdown",
   "metadata": {},
   "source": [
    "Now we can join the even and main dataframes."
   ]
  },
  {
   "cell_type": "code",
   "execution_count": 36,
   "metadata": {},
   "outputs": [],
   "source": [
    "df = df.join(df_EV_dummies)"
   ]
  },
  {
   "cell_type": "code",
   "execution_count": null,
   "metadata": {},
   "outputs": [],
   "source": [
    "df.head()"
   ]
  },
  {
   "cell_type": "markdown",
   "metadata": {},
   "source": [
    "We also model the contributing factor in vehicle one."
   ]
  },
  {
   "cell_type": "code",
   "execution_count": null,
   "metadata": {
    "scrolled": true
   },
   "outputs": [],
   "source": [
    "cont_to_keep = []\n",
    "\n",
    "for i in Counter(df['CONTRIBUTING FACTOR VEHICLE 1']).most_common(16):\n",
    "    cont_to_keep.append(i[0])\n",
    "\n",
    "cont_to_keep.remove('Unspecified')\n",
    "cont_to_keep"
   ]
  },
  {
   "cell_type": "markdown",
   "metadata": {},
   "source": [
    "In the end we have 338228 observations that had some contributing factor:"
   ]
  },
  {
   "cell_type": "code",
   "execution_count": null,
   "metadata": {},
   "outputs": [],
   "source": [
    "df[df['CONTRIBUTING FACTOR VEHICLE 1'].isin(cont_to_keep)].shape"
   ]
  },
  {
   "cell_type": "code",
   "execution_count": null,
   "metadata": {
    "collapsed": true
   },
   "outputs": [],
   "source": [
    "df = df[df['CONTRIBUTING FACTOR VEHICLE 1'].isin(cont_to_keep)]"
   ]
  },
  {
   "cell_type": "code",
   "execution_count": null,
   "metadata": {},
   "outputs": [],
   "source": [
    "df_CNT_dummies = pd.get_dummies(df['CONTRIBUTING FACTOR VEHICLE 1'])\n",
    "df_CNT_dummies.head()"
   ]
  },
  {
   "cell_type": "code",
   "execution_count": null,
   "metadata": {},
   "outputs": [],
   "source": [
    "df = df.join(df_CNT_dummies)\n",
    "df.head()"
   ]
  },
  {
   "cell_type": "markdown",
   "metadata": {},
   "source": [
    "Now we can select the relevant columns for modelling:"
   ]
  },
  {
   "cell_type": "code",
   "execution_count": 37,
   "metadata": {},
   "outputs": [
    {
     "data": {
      "text/plain": [
       "Index(['Date', 'TIME', 'BOROUGH', 'ZIP CODE', 'LATITUDE', 'LONGITUDE',\n",
       "       'LOCATION', 'ON STREET NAME', 'NUMBER OF PERSONS INJURED',\n",
       "       'NUMBER OF PERSONS KILLED', 'NUMBER OF PEDESTRIANS INJURED',\n",
       "       'NUMBER OF PEDESTRIANS KILLED', 'NUMBER OF CYCLIST INJURED',\n",
       "       'NUMBER OF CYCLIST KILLED', 'NUMBER OF MOTORIST INJURED',\n",
       "       'NUMBER OF MOTORIST KILLED', 'CONTRIBUTING FACTOR VEHICLE 1',\n",
       "       'CONTRIBUTING FACTOR VEHICLE 2', 'UNIQUE KEY', 'VEHICLE TYPE CODE 1',\n",
       "       'VEHICLE TYPE CODE 2', 'Average Humidity', 'Dew Point', 'Events',\n",
       "       'Max Gust Speed', 'Max Temperature', 'Max Wind Speed',\n",
       "       'Maximum Humidity', 'Mean Temperature', 'Min Temperature',\n",
       "       'Minimum Humidity', 'Precipitation', 'Sea Level Pressure', 'Snow',\n",
       "       'Snow Depth', 'Visibility', 'Wind Speed', 'street_SL', 'Month', 'BRONX',\n",
       "       'BROOKLYN', 'MANHATTAN', 'QUEENS', 'VTC1_large', 'VTC1_medium',\n",
       "       'VTC1_other', 'VTC1_small', 'VTC1_two_wheeler', 'VTC2_large',\n",
       "       'VTC2_medium', 'VTC2_other', 'VTC2_small', 'VTC2_two_wheeler',\n",
       "       'Rain_EV', 'Snow_EV', 'Fog_EV'],\n",
       "      dtype='object')"
      ]
     },
     "execution_count": 37,
     "metadata": {},
     "output_type": "execute_result"
    }
   ],
   "source": [
    "df.columns"
   ]
  },
  {
   "cell_type": "code",
   "execution_count": 38,
   "metadata": {},
   "outputs": [],
   "source": [
    "df_ml = df.drop(['Date', 'BOROUGH', 'ZIP CODE', 'LATITUDE', 'LONGITUDE',\n",
    "       'LOCATION', 'ON STREET NAME', 'CONTRIBUTING FACTOR VEHICLE 1',\n",
    "       'CONTRIBUTING FACTOR VEHICLE 2', 'UNIQUE KEY', 'VEHICLE TYPE CODE 1',\n",
    "       'VEHICLE TYPE CODE 2', 'Events', 'Dew Point'], axis=1)"
   ]
  },
  {
   "cell_type": "code",
   "execution_count": 39,
   "metadata": {},
   "outputs": [
    {
     "data": {
      "text/plain": [
       "(612572, 42)"
      ]
     },
     "execution_count": 39,
     "metadata": {},
     "output_type": "execute_result"
    }
   ],
   "source": [
    "df_ml.shape"
   ]
  },
  {
   "cell_type": "markdown",
   "metadata": {},
   "source": [
    "Now we need to add our y (any person injured or killed) to our dataframe."
   ]
  },
  {
   "cell_type": "code",
   "execution_count": 40,
   "metadata": {
    "collapsed": true
   },
   "outputs": [],
   "source": [
    "df_ml['Y'] = np.zeros(df.shape[0])"
   ]
  },
  {
   "cell_type": "code",
   "execution_count": 41,
   "metadata": {
    "collapsed": true
   },
   "outputs": [],
   "source": [
    "def fill_Y(row):\n",
    "    \n",
    "    if np.any(row[['NUMBER OF PERSONS INJURED',\n",
    "       'NUMBER OF PERSONS KILLED', 'NUMBER OF PEDESTRIANS INJURED',\n",
    "       'NUMBER OF PEDESTRIANS KILLED', 'NUMBER OF CYCLIST INJURED',\n",
    "       'NUMBER OF CYCLIST KILLED', 'NUMBER OF MOTORIST INJURED',\n",
    "       'NUMBER OF MOTORIST KILLED']] > 0):\n",
    "        return 1\n",
    "    else:\n",
    "        return 0"
   ]
  },
  {
   "cell_type": "code",
   "execution_count": 42,
   "metadata": {},
   "outputs": [],
   "source": [
    "df_ml['Y'] = df_ml.apply(lambda x: fill_Y(x), axis=1)"
   ]
  },
  {
   "cell_type": "code",
   "execution_count": 43,
   "metadata": {},
   "outputs": [
    {
     "data": {
      "text/html": [
       "<div>\n",
       "<table border=\"1\" class=\"dataframe\">\n",
       "  <thead>\n",
       "    <tr style=\"text-align: right;\">\n",
       "      <th></th>\n",
       "      <th>TIME</th>\n",
       "      <th>NUMBER OF PERSONS INJURED</th>\n",
       "      <th>NUMBER OF PERSONS KILLED</th>\n",
       "      <th>NUMBER OF PEDESTRIANS INJURED</th>\n",
       "      <th>NUMBER OF PEDESTRIANS KILLED</th>\n",
       "      <th>NUMBER OF CYCLIST INJURED</th>\n",
       "      <th>NUMBER OF CYCLIST KILLED</th>\n",
       "      <th>NUMBER OF MOTORIST INJURED</th>\n",
       "      <th>NUMBER OF MOTORIST KILLED</th>\n",
       "      <th>Average Humidity</th>\n",
       "      <th>...</th>\n",
       "      <th>VTC1_two_wheeler</th>\n",
       "      <th>VTC2_large</th>\n",
       "      <th>VTC2_medium</th>\n",
       "      <th>VTC2_other</th>\n",
       "      <th>VTC2_small</th>\n",
       "      <th>VTC2_two_wheeler</th>\n",
       "      <th>Rain_EV</th>\n",
       "      <th>Snow_EV</th>\n",
       "      <th>Fog_EV</th>\n",
       "      <th>Y</th>\n",
       "    </tr>\n",
       "  </thead>\n",
       "  <tbody>\n",
       "    <tr>\n",
       "      <th>1</th>\n",
       "      <td>0</td>\n",
       "      <td>0</td>\n",
       "      <td>0</td>\n",
       "      <td>0</td>\n",
       "      <td>0</td>\n",
       "      <td>0</td>\n",
       "      <td>0</td>\n",
       "      <td>0</td>\n",
       "      <td>0</td>\n",
       "      <td>95</td>\n",
       "      <td>...</td>\n",
       "      <td>0</td>\n",
       "      <td>0</td>\n",
       "      <td>0</td>\n",
       "      <td>1</td>\n",
       "      <td>0</td>\n",
       "      <td>0</td>\n",
       "      <td>1.0</td>\n",
       "      <td>0.0</td>\n",
       "      <td>0.0</td>\n",
       "      <td>0</td>\n",
       "    </tr>\n",
       "    <tr>\n",
       "      <th>4</th>\n",
       "      <td>0</td>\n",
       "      <td>0</td>\n",
       "      <td>0</td>\n",
       "      <td>0</td>\n",
       "      <td>0</td>\n",
       "      <td>0</td>\n",
       "      <td>0</td>\n",
       "      <td>0</td>\n",
       "      <td>0</td>\n",
       "      <td>95</td>\n",
       "      <td>...</td>\n",
       "      <td>0</td>\n",
       "      <td>0</td>\n",
       "      <td>0</td>\n",
       "      <td>0</td>\n",
       "      <td>1</td>\n",
       "      <td>0</td>\n",
       "      <td>1.0</td>\n",
       "      <td>0.0</td>\n",
       "      <td>0.0</td>\n",
       "      <td>0</td>\n",
       "    </tr>\n",
       "    <tr>\n",
       "      <th>7</th>\n",
       "      <td>0</td>\n",
       "      <td>0</td>\n",
       "      <td>0</td>\n",
       "      <td>0</td>\n",
       "      <td>0</td>\n",
       "      <td>0</td>\n",
       "      <td>0</td>\n",
       "      <td>0</td>\n",
       "      <td>0</td>\n",
       "      <td>95</td>\n",
       "      <td>...</td>\n",
       "      <td>0</td>\n",
       "      <td>0</td>\n",
       "      <td>0</td>\n",
       "      <td>1</td>\n",
       "      <td>0</td>\n",
       "      <td>0</td>\n",
       "      <td>1.0</td>\n",
       "      <td>0.0</td>\n",
       "      <td>0.0</td>\n",
       "      <td>0</td>\n",
       "    </tr>\n",
       "    <tr>\n",
       "      <th>16</th>\n",
       "      <td>10</td>\n",
       "      <td>1</td>\n",
       "      <td>0</td>\n",
       "      <td>1</td>\n",
       "      <td>0</td>\n",
       "      <td>0</td>\n",
       "      <td>0</td>\n",
       "      <td>0</td>\n",
       "      <td>0</td>\n",
       "      <td>95</td>\n",
       "      <td>...</td>\n",
       "      <td>0</td>\n",
       "      <td>0</td>\n",
       "      <td>0</td>\n",
       "      <td>1</td>\n",
       "      <td>0</td>\n",
       "      <td>0</td>\n",
       "      <td>1.0</td>\n",
       "      <td>0.0</td>\n",
       "      <td>0.0</td>\n",
       "      <td>1</td>\n",
       "    </tr>\n",
       "    <tr>\n",
       "      <th>21</th>\n",
       "      <td>10</td>\n",
       "      <td>0</td>\n",
       "      <td>0</td>\n",
       "      <td>0</td>\n",
       "      <td>0</td>\n",
       "      <td>0</td>\n",
       "      <td>0</td>\n",
       "      <td>0</td>\n",
       "      <td>0</td>\n",
       "      <td>95</td>\n",
       "      <td>...</td>\n",
       "      <td>0</td>\n",
       "      <td>0</td>\n",
       "      <td>0</td>\n",
       "      <td>1</td>\n",
       "      <td>0</td>\n",
       "      <td>0</td>\n",
       "      <td>1.0</td>\n",
       "      <td>0.0</td>\n",
       "      <td>0.0</td>\n",
       "      <td>0</td>\n",
       "    </tr>\n",
       "    <tr>\n",
       "      <th>23</th>\n",
       "      <td>10</td>\n",
       "      <td>0</td>\n",
       "      <td>0</td>\n",
       "      <td>0</td>\n",
       "      <td>0</td>\n",
       "      <td>0</td>\n",
       "      <td>0</td>\n",
       "      <td>0</td>\n",
       "      <td>0</td>\n",
       "      <td>95</td>\n",
       "      <td>...</td>\n",
       "      <td>0</td>\n",
       "      <td>0</td>\n",
       "      <td>0</td>\n",
       "      <td>0</td>\n",
       "      <td>1</td>\n",
       "      <td>0</td>\n",
       "      <td>1.0</td>\n",
       "      <td>0.0</td>\n",
       "      <td>0.0</td>\n",
       "      <td>0</td>\n",
       "    </tr>\n",
       "    <tr>\n",
       "      <th>24</th>\n",
       "      <td>10</td>\n",
       "      <td>0</td>\n",
       "      <td>0</td>\n",
       "      <td>0</td>\n",
       "      <td>0</td>\n",
       "      <td>0</td>\n",
       "      <td>0</td>\n",
       "      <td>0</td>\n",
       "      <td>0</td>\n",
       "      <td>95</td>\n",
       "      <td>...</td>\n",
       "      <td>0</td>\n",
       "      <td>0</td>\n",
       "      <td>1</td>\n",
       "      <td>0</td>\n",
       "      <td>0</td>\n",
       "      <td>0</td>\n",
       "      <td>1.0</td>\n",
       "      <td>0.0</td>\n",
       "      <td>0.0</td>\n",
       "      <td>0</td>\n",
       "    </tr>\n",
       "    <tr>\n",
       "      <th>30</th>\n",
       "      <td>10</td>\n",
       "      <td>1</td>\n",
       "      <td>0</td>\n",
       "      <td>0</td>\n",
       "      <td>0</td>\n",
       "      <td>0</td>\n",
       "      <td>0</td>\n",
       "      <td>1</td>\n",
       "      <td>0</td>\n",
       "      <td>95</td>\n",
       "      <td>...</td>\n",
       "      <td>0</td>\n",
       "      <td>0</td>\n",
       "      <td>1</td>\n",
       "      <td>0</td>\n",
       "      <td>0</td>\n",
       "      <td>0</td>\n",
       "      <td>1.0</td>\n",
       "      <td>0.0</td>\n",
       "      <td>0.0</td>\n",
       "      <td>1</td>\n",
       "    </tr>\n",
       "    <tr>\n",
       "      <th>33</th>\n",
       "      <td>10</td>\n",
       "      <td>2</td>\n",
       "      <td>0</td>\n",
       "      <td>0</td>\n",
       "      <td>0</td>\n",
       "      <td>0</td>\n",
       "      <td>0</td>\n",
       "      <td>2</td>\n",
       "      <td>0</td>\n",
       "      <td>95</td>\n",
       "      <td>...</td>\n",
       "      <td>0</td>\n",
       "      <td>0</td>\n",
       "      <td>0</td>\n",
       "      <td>0</td>\n",
       "      <td>1</td>\n",
       "      <td>0</td>\n",
       "      <td>1.0</td>\n",
       "      <td>0.0</td>\n",
       "      <td>0.0</td>\n",
       "      <td>1</td>\n",
       "    </tr>\n",
       "    <tr>\n",
       "      <th>35</th>\n",
       "      <td>10</td>\n",
       "      <td>0</td>\n",
       "      <td>0</td>\n",
       "      <td>0</td>\n",
       "      <td>0</td>\n",
       "      <td>0</td>\n",
       "      <td>0</td>\n",
       "      <td>0</td>\n",
       "      <td>0</td>\n",
       "      <td>95</td>\n",
       "      <td>...</td>\n",
       "      <td>0</td>\n",
       "      <td>0</td>\n",
       "      <td>0</td>\n",
       "      <td>1</td>\n",
       "      <td>0</td>\n",
       "      <td>0</td>\n",
       "      <td>1.0</td>\n",
       "      <td>0.0</td>\n",
       "      <td>0.0</td>\n",
       "      <td>0</td>\n",
       "    </tr>\n",
       "  </tbody>\n",
       "</table>\n",
       "<p>10 rows × 43 columns</p>\n",
       "</div>"
      ],
      "text/plain": [
       "    TIME  NUMBER OF PERSONS INJURED  NUMBER OF PERSONS KILLED  \\\n",
       "1      0                          0                         0   \n",
       "4      0                          0                         0   \n",
       "7      0                          0                         0   \n",
       "16    10                          1                         0   \n",
       "21    10                          0                         0   \n",
       "23    10                          0                         0   \n",
       "24    10                          0                         0   \n",
       "30    10                          1                         0   \n",
       "33    10                          2                         0   \n",
       "35    10                          0                         0   \n",
       "\n",
       "    NUMBER OF PEDESTRIANS INJURED  NUMBER OF PEDESTRIANS KILLED  \\\n",
       "1                               0                             0   \n",
       "4                               0                             0   \n",
       "7                               0                             0   \n",
       "16                              1                             0   \n",
       "21                              0                             0   \n",
       "23                              0                             0   \n",
       "24                              0                             0   \n",
       "30                              0                             0   \n",
       "33                              0                             0   \n",
       "35                              0                             0   \n",
       "\n",
       "    NUMBER OF CYCLIST INJURED  NUMBER OF CYCLIST KILLED  \\\n",
       "1                           0                         0   \n",
       "4                           0                         0   \n",
       "7                           0                         0   \n",
       "16                          0                         0   \n",
       "21                          0                         0   \n",
       "23                          0                         0   \n",
       "24                          0                         0   \n",
       "30                          0                         0   \n",
       "33                          0                         0   \n",
       "35                          0                         0   \n",
       "\n",
       "    NUMBER OF MOTORIST INJURED  NUMBER OF MOTORIST KILLED  Average Humidity  \\\n",
       "1                            0                          0                95   \n",
       "4                            0                          0                95   \n",
       "7                            0                          0                95   \n",
       "16                           0                          0                95   \n",
       "21                           0                          0                95   \n",
       "23                           0                          0                95   \n",
       "24                           0                          0                95   \n",
       "30                           1                          0                95   \n",
       "33                           2                          0                95   \n",
       "35                           0                          0                95   \n",
       "\n",
       "   ... VTC1_two_wheeler  VTC2_large VTC2_medium  VTC2_other  VTC2_small  \\\n",
       "1  ...                0           0           0           1           0   \n",
       "4  ...                0           0           0           0           1   \n",
       "7  ...                0           0           0           1           0   \n",
       "16 ...                0           0           0           1           0   \n",
       "21 ...                0           0           0           1           0   \n",
       "23 ...                0           0           0           0           1   \n",
       "24 ...                0           0           1           0           0   \n",
       "30 ...                0           0           1           0           0   \n",
       "33 ...                0           0           0           0           1   \n",
       "35 ...                0           0           0           1           0   \n",
       "\n",
       "    VTC2_two_wheeler  Rain_EV Snow_EV  Fog_EV  Y  \n",
       "1                  0      1.0     0.0     0.0  0  \n",
       "4                  0      1.0     0.0     0.0  0  \n",
       "7                  0      1.0     0.0     0.0  0  \n",
       "16                 0      1.0     0.0     0.0  1  \n",
       "21                 0      1.0     0.0     0.0  0  \n",
       "23                 0      1.0     0.0     0.0  0  \n",
       "24                 0      1.0     0.0     0.0  0  \n",
       "30                 0      1.0     0.0     0.0  1  \n",
       "33                 0      1.0     0.0     0.0  1  \n",
       "35                 0      1.0     0.0     0.0  0  \n",
       "\n",
       "[10 rows x 43 columns]"
      ]
     },
     "execution_count": 43,
     "metadata": {},
     "output_type": "execute_result"
    }
   ],
   "source": [
    "df_ml.head(10)"
   ]
  },
  {
   "cell_type": "code",
   "execution_count": 44,
   "metadata": {},
   "outputs": [
    {
     "data": {
      "text/plain": [
       "Counter({0: 494704, 1: 117868})"
      ]
     },
     "execution_count": 44,
     "metadata": {},
     "output_type": "execute_result"
    }
   ],
   "source": [
    "Counter(df_ml['Y'])"
   ]
  },
  {
   "cell_type": "markdown",
   "metadata": {},
   "source": [
    "There are some strange values in some of the rows still that should be numeric - for example in the 'Snow' column there are some rows with 'T' instead of snow depth. This also causes that column to be encoded as strings instead of numbers.\n",
    "\n",
    "Therefore we need to cast the cells to numbers where we can."
   ]
  },
  {
   "cell_type": "code",
   "execution_count": 45,
   "metadata": {},
   "outputs": [
    {
     "data": {
      "text/plain": [
       "[('0.00', 560204),\n",
       " ('T', 25906),\n",
       " ('1.02', 2110),\n",
       " ('0.25', 1786),\n",
       " ('1.27', 1668)]"
      ]
     },
     "execution_count": 45,
     "metadata": {},
     "output_type": "execute_result"
    }
   ],
   "source": [
    "Counter(df_ml['Snow']).most_common(5)"
   ]
  },
  {
   "cell_type": "markdown",
   "metadata": {},
   "source": [
    "Those that are encoded as strings:\n",
    "\n",
    "- Max Gust Speed\n",
    "- Max Wind Speed\n",
    "- Precipitation\n",
    "- Snow\n",
    "- Snow Depth\n",
    "- Wind Speed"
   ]
  },
  {
   "cell_type": "code",
   "execution_count": 46,
   "metadata": {
    "collapsed": true
   },
   "outputs": [],
   "source": [
    "def cast_to_float(x):\n",
    "    \n",
    "    try:\n",
    "        return float(x)\n",
    "        \n",
    "    except Exception as error:\n",
    "        return x"
   ]
  },
  {
   "cell_type": "code",
   "execution_count": 47,
   "metadata": {
    "collapsed": true
   },
   "outputs": [],
   "source": [
    "for column in ['Max Gust Speed', 'Max Wind Speed', 'Precipitation', 'Snow', 'Snow Depth', 'Wind Speed']:\n",
    "    \n",
    "    df_ml[column] = df_ml[column].apply(lambda x: cast_to_float(x))"
   ]
  },
  {
   "cell_type": "markdown",
   "metadata": {},
   "source": [
    "Now we can see that they have been casted to float."
   ]
  },
  {
   "cell_type": "code",
   "execution_count": 48,
   "metadata": {},
   "outputs": [
    {
     "data": {
      "text/plain": [
       "1     0\n",
       "4     0\n",
       "7     0\n",
       "16    0\n",
       "21    0\n",
       "Name: Snow, dtype: object"
      ]
     },
     "execution_count": 48,
     "metadata": {},
     "output_type": "execute_result"
    }
   ],
   "source": [
    "df_ml.head()['Snow']"
   ]
  },
  {
   "cell_type": "code",
   "execution_count": 49,
   "metadata": {},
   "outputs": [
    {
     "data": {
      "text/plain": [
       "1     True\n",
       "4     True\n",
       "7     True\n",
       "16    True\n",
       "21    True\n",
       "dtype: bool"
      ]
     },
     "execution_count": 49,
     "metadata": {},
     "output_type": "execute_result"
    }
   ],
   "source": [
    "df_ml.head().applymap(np.isreal).all(1)"
   ]
  },
  {
   "cell_type": "markdown",
   "metadata": {},
   "source": [
    "Now we can select those rows that only have numeric values."
   ]
  },
  {
   "cell_type": "code",
   "execution_count": 50,
   "metadata": {},
   "outputs": [],
   "source": [
    "df_ml = df_ml[df_ml.applymap(np.isreal).all(1)]"
   ]
  },
  {
   "cell_type": "code",
   "execution_count": 51,
   "metadata": {},
   "outputs": [
    {
     "data": {
      "text/plain": [
       "(543921, 43)"
      ]
     },
     "execution_count": 51,
     "metadata": {},
     "output_type": "execute_result"
    }
   ],
   "source": [
    "df_ml.shape"
   ]
  },
  {
   "cell_type": "markdown",
   "metadata": {},
   "source": [
    "Then of course we have to drop the columns that directly measure if people were killed or injured:"
   ]
  },
  {
   "cell_type": "code",
   "execution_count": 52,
   "metadata": {},
   "outputs": [],
   "source": [
    "df_ml = df_ml.drop(['NUMBER OF PERSONS INJURED', 'NUMBER OF PERSONS KILLED', 'NUMBER OF PEDESTRIANS INJURED', \n",
    "                    'NUMBER OF PEDESTRIANS KILLED', 'NUMBER OF CYCLIST INJURED', 'NUMBER OF CYCLIST KILLED',\n",
    "                   'NUMBER OF MOTORIST INJURED', 'NUMBER OF MOTORIST KILLED'], axis=1)"
   ]
  },
  {
   "cell_type": "code",
   "execution_count": 53,
   "metadata": {},
   "outputs": [
    {
     "data": {
      "text/plain": [
       "Index(['TIME', 'Average Humidity', 'Max Gust Speed', 'Max Temperature',\n",
       "       'Max Wind Speed', 'Maximum Humidity', 'Mean Temperature',\n",
       "       'Min Temperature', 'Minimum Humidity', 'Precipitation',\n",
       "       'Sea Level Pressure', 'Snow', 'Snow Depth', 'Visibility', 'Wind Speed',\n",
       "       'street_SL', 'Month', 'BRONX', 'BROOKLYN', 'MANHATTAN', 'QUEENS',\n",
       "       'VTC1_large', 'VTC1_medium', 'VTC1_other', 'VTC1_small',\n",
       "       'VTC1_two_wheeler', 'VTC2_large', 'VTC2_medium', 'VTC2_other',\n",
       "       'VTC2_small', 'VTC2_two_wheeler', 'Rain_EV', 'Snow_EV', 'Fog_EV', 'Y'],\n",
       "      dtype='object')"
      ]
     },
     "execution_count": 53,
     "metadata": {},
     "output_type": "execute_result"
    }
   ],
   "source": [
    "df_ml.columns"
   ]
  },
  {
   "cell_type": "code",
   "execution_count": 54,
   "metadata": {
    "collapsed": true
   },
   "outputs": [],
   "source": [
    "df_ml.to_csv('NYPD_ML_df_wY.csv', index=False)"
   ]
  },
  {
   "cell_type": "markdown",
   "metadata": {},
   "source": [
    "## Creating a balanced dataset"
   ]
  },
  {
   "cell_type": "code",
   "execution_count": 55,
   "metadata": {},
   "outputs": [],
   "source": [
    "df_ml = pd.read_csv('NYPD_ML_df_wY.csv', low_memory=False)"
   ]
  },
  {
   "cell_type": "markdown",
   "metadata": {},
   "source": [
    "There are still some NaN values in the dataset - we drop them before balancing."
   ]
  },
  {
   "cell_type": "code",
   "execution_count": 56,
   "metadata": {
    "collapsed": true
   },
   "outputs": [],
   "source": [
    "df_ml = df_ml.dropna()"
   ]
  },
  {
   "cell_type": "code",
   "execution_count": 57,
   "metadata": {},
   "outputs": [
    {
     "data": {
      "text/plain": [
       "Counter({0: 435155, 1: 103891})"
      ]
     },
     "execution_count": 57,
     "metadata": {},
     "output_type": "execute_result"
    }
   ],
   "source": [
    "Counter(df_ml['Y'])"
   ]
  },
  {
   "cell_type": "markdown",
   "metadata": {},
   "source": [
    "First, we have to balance the dataset so there is the same amount of casualties and non-casualties."
   ]
  },
  {
   "cell_type": "code",
   "execution_count": 58,
   "metadata": {
    "collapsed": true
   },
   "outputs": [],
   "source": [
    "pos_all = df_ml[df_ml['Y'] == 1]\n",
    "neg_all = df_ml[df_ml['Y'] == 0]"
   ]
  },
  {
   "cell_type": "code",
   "execution_count": 59,
   "metadata": {
    "collapsed": true
   },
   "outputs": [],
   "source": [
    "no_pos = pos_all.shape[0]\n",
    "\n",
    "neg_sub = neg_all.sample(no_pos)"
   ]
  },
  {
   "cell_type": "code",
   "execution_count": 60,
   "metadata": {},
   "outputs": [
    {
     "data": {
      "text/html": [
       "<div>\n",
       "<table border=\"1\" class=\"dataframe\">\n",
       "  <thead>\n",
       "    <tr style=\"text-align: right;\">\n",
       "      <th></th>\n",
       "      <th>TIME</th>\n",
       "      <th>Average Humidity</th>\n",
       "      <th>Max Gust Speed</th>\n",
       "      <th>Max Temperature</th>\n",
       "      <th>Max Wind Speed</th>\n",
       "      <th>Maximum Humidity</th>\n",
       "      <th>Mean Temperature</th>\n",
       "      <th>Min Temperature</th>\n",
       "      <th>Minimum Humidity</th>\n",
       "      <th>Precipitation</th>\n",
       "      <th>...</th>\n",
       "      <th>VTC1_two_wheeler</th>\n",
       "      <th>VTC2_large</th>\n",
       "      <th>VTC2_medium</th>\n",
       "      <th>VTC2_other</th>\n",
       "      <th>VTC2_small</th>\n",
       "      <th>VTC2_two_wheeler</th>\n",
       "      <th>Rain_EV</th>\n",
       "      <th>Snow_EV</th>\n",
       "      <th>Fog_EV</th>\n",
       "      <th>Y</th>\n",
       "    </tr>\n",
       "  </thead>\n",
       "  <tbody>\n",
       "    <tr>\n",
       "      <th>268933</th>\n",
       "      <td>14</td>\n",
       "      <td>59</td>\n",
       "      <td>27.0</td>\n",
       "      <td>27</td>\n",
       "      <td>19.0</td>\n",
       "      <td>81</td>\n",
       "      <td>23</td>\n",
       "      <td>18</td>\n",
       "      <td>36</td>\n",
       "      <td>0.00</td>\n",
       "      <td>...</td>\n",
       "      <td>0</td>\n",
       "      <td>0</td>\n",
       "      <td>0</td>\n",
       "      <td>0</td>\n",
       "      <td>1</td>\n",
       "      <td>0</td>\n",
       "      <td>0.0</td>\n",
       "      <td>0.0</td>\n",
       "      <td>0.0</td>\n",
       "      <td>0</td>\n",
       "    </tr>\n",
       "    <tr>\n",
       "      <th>231422</th>\n",
       "      <td>8</td>\n",
       "      <td>64</td>\n",
       "      <td>34.0</td>\n",
       "      <td>22</td>\n",
       "      <td>16.0</td>\n",
       "      <td>81</td>\n",
       "      <td>19</td>\n",
       "      <td>17</td>\n",
       "      <td>47</td>\n",
       "      <td>1.52</td>\n",
       "      <td>...</td>\n",
       "      <td>0</td>\n",
       "      <td>0</td>\n",
       "      <td>0</td>\n",
       "      <td>0</td>\n",
       "      <td>1</td>\n",
       "      <td>0</td>\n",
       "      <td>1.0</td>\n",
       "      <td>0.0</td>\n",
       "      <td>0.0</td>\n",
       "      <td>0</td>\n",
       "    </tr>\n",
       "    <tr>\n",
       "      <th>108607</th>\n",
       "      <td>18</td>\n",
       "      <td>69</td>\n",
       "      <td>29.0</td>\n",
       "      <td>18</td>\n",
       "      <td>14.0</td>\n",
       "      <td>89</td>\n",
       "      <td>14</td>\n",
       "      <td>11</td>\n",
       "      <td>48</td>\n",
       "      <td>0.00</td>\n",
       "      <td>...</td>\n",
       "      <td>0</td>\n",
       "      <td>0</td>\n",
       "      <td>0</td>\n",
       "      <td>1</td>\n",
       "      <td>0</td>\n",
       "      <td>0</td>\n",
       "      <td>0.0</td>\n",
       "      <td>0.0</td>\n",
       "      <td>0.0</td>\n",
       "      <td>0</td>\n",
       "    </tr>\n",
       "    <tr>\n",
       "      <th>409812</th>\n",
       "      <td>10</td>\n",
       "      <td>52</td>\n",
       "      <td>21.0</td>\n",
       "      <td>28</td>\n",
       "      <td>13.0</td>\n",
       "      <td>73</td>\n",
       "      <td>23</td>\n",
       "      <td>18</td>\n",
       "      <td>30</td>\n",
       "      <td>0.00</td>\n",
       "      <td>...</td>\n",
       "      <td>0</td>\n",
       "      <td>0</td>\n",
       "      <td>0</td>\n",
       "      <td>1</td>\n",
       "      <td>0</td>\n",
       "      <td>0</td>\n",
       "      <td>0.0</td>\n",
       "      <td>0.0</td>\n",
       "      <td>0.0</td>\n",
       "      <td>0</td>\n",
       "    </tr>\n",
       "    <tr>\n",
       "      <th>279178</th>\n",
       "      <td>12</td>\n",
       "      <td>54</td>\n",
       "      <td>31.0</td>\n",
       "      <td>31</td>\n",
       "      <td>14.0</td>\n",
       "      <td>73</td>\n",
       "      <td>26</td>\n",
       "      <td>22</td>\n",
       "      <td>34</td>\n",
       "      <td>0.00</td>\n",
       "      <td>...</td>\n",
       "      <td>0</td>\n",
       "      <td>0</td>\n",
       "      <td>1</td>\n",
       "      <td>0</td>\n",
       "      <td>0</td>\n",
       "      <td>0</td>\n",
       "      <td>0.0</td>\n",
       "      <td>0.0</td>\n",
       "      <td>0.0</td>\n",
       "      <td>0</td>\n",
       "    </tr>\n",
       "  </tbody>\n",
       "</table>\n",
       "<p>5 rows × 35 columns</p>\n",
       "</div>"
      ],
      "text/plain": [
       "        TIME  Average Humidity  Max Gust Speed  Max Temperature  \\\n",
       "268933    14                59            27.0               27   \n",
       "231422     8                64            34.0               22   \n",
       "108607    18                69            29.0               18   \n",
       "409812    10                52            21.0               28   \n",
       "279178    12                54            31.0               31   \n",
       "\n",
       "        Max Wind Speed  Maximum Humidity  Mean Temperature  Min Temperature  \\\n",
       "268933            19.0                81                23               18   \n",
       "231422            16.0                81                19               17   \n",
       "108607            14.0                89                14               11   \n",
       "409812            13.0                73                23               18   \n",
       "279178            14.0                73                26               22   \n",
       "\n",
       "        Minimum Humidity  Precipitation ...  VTC1_two_wheeler  VTC2_large  \\\n",
       "268933                36           0.00 ...                 0           0   \n",
       "231422                47           1.52 ...                 0           0   \n",
       "108607                48           0.00 ...                 0           0   \n",
       "409812                30           0.00 ...                 0           0   \n",
       "279178                34           0.00 ...                 0           0   \n",
       "\n",
       "        VTC2_medium  VTC2_other  VTC2_small  VTC2_two_wheeler  Rain_EV  \\\n",
       "268933            0           0           1                 0      0.0   \n",
       "231422            0           0           1                 0      1.0   \n",
       "108607            0           1           0                 0      0.0   \n",
       "409812            0           1           0                 0      0.0   \n",
       "279178            1           0           0                 0      0.0   \n",
       "\n",
       "        Snow_EV  Fog_EV  Y  \n",
       "268933      0.0     0.0  0  \n",
       "231422      0.0     0.0  0  \n",
       "108607      0.0     0.0  0  \n",
       "409812      0.0     0.0  0  \n",
       "279178      0.0     0.0  0  \n",
       "\n",
       "[5 rows x 35 columns]"
      ]
     },
     "execution_count": 60,
     "metadata": {},
     "output_type": "execute_result"
    }
   ],
   "source": [
    "neg_sub.head()"
   ]
  },
  {
   "cell_type": "code",
   "execution_count": 61,
   "metadata": {},
   "outputs": [],
   "source": [
    "df_comb = pd.concat([pos_all, neg_sub])"
   ]
  },
  {
   "cell_type": "code",
   "execution_count": 62,
   "metadata": {},
   "outputs": [
    {
     "data": {
      "text/html": [
       "<div>\n",
       "<table border=\"1\" class=\"dataframe\">\n",
       "  <thead>\n",
       "    <tr style=\"text-align: right;\">\n",
       "      <th></th>\n",
       "      <th>TIME</th>\n",
       "      <th>Average Humidity</th>\n",
       "      <th>Max Gust Speed</th>\n",
       "      <th>Max Temperature</th>\n",
       "      <th>Max Wind Speed</th>\n",
       "      <th>Maximum Humidity</th>\n",
       "      <th>Mean Temperature</th>\n",
       "      <th>Min Temperature</th>\n",
       "      <th>Minimum Humidity</th>\n",
       "      <th>Precipitation</th>\n",
       "      <th>...</th>\n",
       "      <th>VTC1_two_wheeler</th>\n",
       "      <th>VTC2_large</th>\n",
       "      <th>VTC2_medium</th>\n",
       "      <th>VTC2_other</th>\n",
       "      <th>VTC2_small</th>\n",
       "      <th>VTC2_two_wheeler</th>\n",
       "      <th>Rain_EV</th>\n",
       "      <th>Snow_EV</th>\n",
       "      <th>Fog_EV</th>\n",
       "      <th>Y</th>\n",
       "    </tr>\n",
       "  </thead>\n",
       "  <tbody>\n",
       "    <tr>\n",
       "      <th>412195</th>\n",
       "      <td>8</td>\n",
       "      <td>83</td>\n",
       "      <td>29.0</td>\n",
       "      <td>25</td>\n",
       "      <td>19.0</td>\n",
       "      <td>97</td>\n",
       "      <td>23</td>\n",
       "      <td>20</td>\n",
       "      <td>69</td>\n",
       "      <td>21.59</td>\n",
       "      <td>...</td>\n",
       "      <td>0</td>\n",
       "      <td>0</td>\n",
       "      <td>1</td>\n",
       "      <td>0</td>\n",
       "      <td>0</td>\n",
       "      <td>0</td>\n",
       "      <td>1.0</td>\n",
       "      <td>0.0</td>\n",
       "      <td>0.0</td>\n",
       "      <td>0</td>\n",
       "    </tr>\n",
       "    <tr>\n",
       "      <th>413063</th>\n",
       "      <td>14</td>\n",
       "      <td>48</td>\n",
       "      <td>26.0</td>\n",
       "      <td>26</td>\n",
       "      <td>16.0</td>\n",
       "      <td>67</td>\n",
       "      <td>21</td>\n",
       "      <td>17</td>\n",
       "      <td>29</td>\n",
       "      <td>0.00</td>\n",
       "      <td>...</td>\n",
       "      <td>0</td>\n",
       "      <td>0</td>\n",
       "      <td>0</td>\n",
       "      <td>1</td>\n",
       "      <td>0</td>\n",
       "      <td>0</td>\n",
       "      <td>0.0</td>\n",
       "      <td>0.0</td>\n",
       "      <td>0.0</td>\n",
       "      <td>0</td>\n",
       "    </tr>\n",
       "    <tr>\n",
       "      <th>530800</th>\n",
       "      <td>19</td>\n",
       "      <td>84</td>\n",
       "      <td>29.0</td>\n",
       "      <td>28</td>\n",
       "      <td>16.0</td>\n",
       "      <td>100</td>\n",
       "      <td>24</td>\n",
       "      <td>19</td>\n",
       "      <td>67</td>\n",
       "      <td>14.48</td>\n",
       "      <td>...</td>\n",
       "      <td>0</td>\n",
       "      <td>0</td>\n",
       "      <td>0</td>\n",
       "      <td>0</td>\n",
       "      <td>1</td>\n",
       "      <td>0</td>\n",
       "      <td>1.0</td>\n",
       "      <td>0.0</td>\n",
       "      <td>1.0</td>\n",
       "      <td>0</td>\n",
       "    </tr>\n",
       "    <tr>\n",
       "      <th>109843</th>\n",
       "      <td>20</td>\n",
       "      <td>49</td>\n",
       "      <td>34.0</td>\n",
       "      <td>32</td>\n",
       "      <td>19.0</td>\n",
       "      <td>60</td>\n",
       "      <td>28</td>\n",
       "      <td>24</td>\n",
       "      <td>38</td>\n",
       "      <td>0.00</td>\n",
       "      <td>...</td>\n",
       "      <td>0</td>\n",
       "      <td>0</td>\n",
       "      <td>0</td>\n",
       "      <td>1</td>\n",
       "      <td>0</td>\n",
       "      <td>0</td>\n",
       "      <td>0.0</td>\n",
       "      <td>0.0</td>\n",
       "      <td>0.0</td>\n",
       "      <td>0</td>\n",
       "    </tr>\n",
       "    <tr>\n",
       "      <th>159413</th>\n",
       "      <td>10</td>\n",
       "      <td>68</td>\n",
       "      <td>50.0</td>\n",
       "      <td>28</td>\n",
       "      <td>23.0</td>\n",
       "      <td>90</td>\n",
       "      <td>24</td>\n",
       "      <td>21</td>\n",
       "      <td>45</td>\n",
       "      <td>9.91</td>\n",
       "      <td>...</td>\n",
       "      <td>0</td>\n",
       "      <td>0</td>\n",
       "      <td>0</td>\n",
       "      <td>1</td>\n",
       "      <td>0</td>\n",
       "      <td>0</td>\n",
       "      <td>1.0</td>\n",
       "      <td>0.0</td>\n",
       "      <td>1.0</td>\n",
       "      <td>0</td>\n",
       "    </tr>\n",
       "  </tbody>\n",
       "</table>\n",
       "<p>5 rows × 35 columns</p>\n",
       "</div>"
      ],
      "text/plain": [
       "        TIME  Average Humidity  Max Gust Speed  Max Temperature  \\\n",
       "412195     8                83            29.0               25   \n",
       "413063    14                48            26.0               26   \n",
       "530800    19                84            29.0               28   \n",
       "109843    20                49            34.0               32   \n",
       "159413    10                68            50.0               28   \n",
       "\n",
       "        Max Wind Speed  Maximum Humidity  Mean Temperature  Min Temperature  \\\n",
       "412195            19.0                97                23               20   \n",
       "413063            16.0                67                21               17   \n",
       "530800            16.0               100                24               19   \n",
       "109843            19.0                60                28               24   \n",
       "159413            23.0                90                24               21   \n",
       "\n",
       "        Minimum Humidity  Precipitation ...  VTC1_two_wheeler  VTC2_large  \\\n",
       "412195                69          21.59 ...                 0           0   \n",
       "413063                29           0.00 ...                 0           0   \n",
       "530800                67          14.48 ...                 0           0   \n",
       "109843                38           0.00 ...                 0           0   \n",
       "159413                45           9.91 ...                 0           0   \n",
       "\n",
       "        VTC2_medium  VTC2_other  VTC2_small  VTC2_two_wheeler  Rain_EV  \\\n",
       "412195            1           0           0                 0      1.0   \n",
       "413063            0           1           0                 0      0.0   \n",
       "530800            0           0           1                 0      1.0   \n",
       "109843            0           1           0                 0      0.0   \n",
       "159413            0           1           0                 0      1.0   \n",
       "\n",
       "        Snow_EV  Fog_EV  Y  \n",
       "412195      0.0     0.0  0  \n",
       "413063      0.0     0.0  0  \n",
       "530800      0.0     1.0  0  \n",
       "109843      0.0     0.0  0  \n",
       "159413      0.0     1.0  0  \n",
       "\n",
       "[5 rows x 35 columns]"
      ]
     },
     "execution_count": 62,
     "metadata": {},
     "output_type": "execute_result"
    }
   ],
   "source": [
    "df_comb.tail()"
   ]
  },
  {
   "cell_type": "code",
   "execution_count": 63,
   "metadata": {
    "collapsed": true
   },
   "outputs": [],
   "source": [
    "df_comb.to_csv('NYPD_ML_df_wY_balanced.csv', index=False)"
   ]
  }
 ],
 "metadata": {
  "kernelspec": {
   "display_name": "Python [conda env:py35]",
   "language": "python",
   "name": "conda-env-py35-py"
  },
  "language_info": {
   "codemirror_mode": {
    "name": "ipython",
    "version": 3
   },
   "file_extension": ".py",
   "mimetype": "text/x-python",
   "name": "python",
   "nbconvert_exporter": "python",
   "pygments_lexer": "ipython3",
   "version": "3.5.2"
  }
 },
 "nbformat": 4,
 "nbformat_minor": 2
}
