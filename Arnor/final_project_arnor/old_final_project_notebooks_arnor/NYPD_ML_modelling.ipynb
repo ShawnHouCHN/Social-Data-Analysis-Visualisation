{
 "cells": [
  {
   "cell_type": "code",
   "execution_count": 1,
   "metadata": {
    "collapsed": true
   },
   "outputs": [],
   "source": [
    "from collections import Counter\n",
    "\n",
    "import pandas as pd\n",
    "import numpy as np\n",
    "\n",
    "from sklearn.ensemble import RandomForestClassifier\n",
    "from sklearn.neighbors import KNeighborsClassifier\n",
    "from sklearn.linear_model import LogisticRegression\n",
    "from sklearn.svm import SVC\n",
    "\n",
    "from sklearn.preprocessing import StandardScaler\n",
    "\n",
    "from sklearn.model_selection import train_test_split\n",
    "from sklearn.model_selection import StratifiedKFold\n",
    "from sklearn.metrics import accuracy_score\n",
    "from sklearn.metrics import make_scorer\n",
    "from sklearn.metrics import matthews_corrcoef\n",
    "\n",
    "from sklearn.model_selection import GridSearchCV\n",
    "\n",
    "import matplotlib.pyplot as plt\n",
    "%matplotlib inline"
   ]
  },
  {
   "cell_type": "code",
   "execution_count": 2,
   "metadata": {
    "collapsed": true
   },
   "outputs": [],
   "source": [
    "df_comb = pd.read_csv('NYPD_ML_df_wY_balanced.csv', low_memory=False)"
   ]
  },
  {
   "cell_type": "code",
   "execution_count": 3,
   "metadata": {},
   "outputs": [
    {
     "data": {
      "text/plain": [
       "(207782, 35)"
      ]
     },
     "execution_count": 3,
     "metadata": {},
     "output_type": "execute_result"
    }
   ],
   "source": [
    "df_comb.shape"
   ]
  },
  {
   "cell_type": "code",
   "execution_count": 4,
   "metadata": {
    "collapsed": true
   },
   "outputs": [],
   "source": [
    "df_comb = df_comb.drop(['Minimum Humidity', 'Maximum Humidity', 'Sea Level Pressure', 'Max Temperature', 'Min Temperature'], axis=1)"
   ]
  },
  {
   "cell_type": "code",
   "execution_count": 61,
   "metadata": {
    "collapsed": true
   },
   "outputs": [],
   "source": [
    "# Selecting X and y\n",
    "\n",
    "X_cols = list(df_comb.columns)\n",
    "X_cols.remove('Y')\n",
    "y_cols = 'Y'\n",
    "\n",
    "X, y = df_comb[X_cols].values, df_comb[y_cols].values \n",
    "y = y.astype(int) "
   ]
  },
  {
   "cell_type": "markdown",
   "metadata": {},
   "source": [
    "We also standardize the data as it has been shown to increase model performance in some cases."
   ]
  },
  {
   "cell_type": "code",
   "execution_count": 62,
   "metadata": {
    "collapsed": true
   },
   "outputs": [],
   "source": [
    "sc = StandardScaler()\n",
    "X = sc.fit_transform(X)"
   ]
  },
  {
   "cell_type": "code",
   "execution_count": 63,
   "metadata": {
    "collapsed": true
   },
   "outputs": [],
   "source": [
    "X_train, X_test, y_train, y_test = train_test_split(X, y, test_size=0.2, random_state=0)"
   ]
  },
  {
   "cell_type": "markdown",
   "metadata": {},
   "source": [
    "## Random Forest"
   ]
  },
  {
   "cell_type": "code",
   "execution_count": 8,
   "metadata": {
    "collapsed": true
   },
   "outputs": [],
   "source": [
    "# Defining the model\n",
    "rf_model = RandomForestClassifier(criterion='gini', random_state=0, n_estimators=500, n_jobs=-1)"
   ]
  },
  {
   "cell_type": "code",
   "execution_count": 9,
   "metadata": {},
   "outputs": [
    {
     "data": {
      "text/plain": [
       "RandomForestClassifier(bootstrap=True, class_weight=None, criterion='gini',\n",
       "            max_depth=None, max_features='auto', max_leaf_nodes=None,\n",
       "            min_impurity_split=1e-07, min_samples_leaf=1,\n",
       "            min_samples_split=2, min_weight_fraction_leaf=0.0,\n",
       "            n_estimators=500, n_jobs=-1, oob_score=False, random_state=0,\n",
       "            verbose=0, warm_start=False)"
      ]
     },
     "execution_count": 9,
     "metadata": {},
     "output_type": "execute_result"
    }
   ],
   "source": [
    "rf_model.fit(X_train, y_train)"
   ]
  },
  {
   "cell_type": "code",
   "execution_count": 10,
   "metadata": {
    "collapsed": true
   },
   "outputs": [],
   "source": [
    "rf_y_pred = rf_model.predict(X_test)"
   ]
  },
  {
   "cell_type": "code",
   "execution_count": 11,
   "metadata": {},
   "outputs": [
    {
     "data": {
      "text/plain": [
       "0.61409630146545713"
      ]
     },
     "execution_count": 11,
     "metadata": {},
     "output_type": "execute_result"
    }
   ],
   "source": [
    "accuracy_score(y_pred=rf_y_pred, y_true=y_test)"
   ]
  },
  {
   "cell_type": "markdown",
   "metadata": {},
   "source": [
    "## KNN"
   ]
  },
  {
   "cell_type": "code",
   "execution_count": 12,
   "metadata": {
    "collapsed": true
   },
   "outputs": [],
   "source": [
    "knn_model = KNeighborsClassifier(metric='minkowski', n_neighbors=5)"
   ]
  },
  {
   "cell_type": "code",
   "execution_count": 13,
   "metadata": {},
   "outputs": [
    {
     "data": {
      "text/plain": [
       "KNeighborsClassifier(algorithm='auto', leaf_size=30, metric='minkowski',\n",
       "           metric_params=None, n_jobs=1, n_neighbors=5, p=2,\n",
       "           weights='uniform')"
      ]
     },
     "execution_count": 13,
     "metadata": {},
     "output_type": "execute_result"
    }
   ],
   "source": [
    "knn_model.fit(X_train, y_train)"
   ]
  },
  {
   "cell_type": "code",
   "execution_count": 14,
   "metadata": {
    "collapsed": true
   },
   "outputs": [],
   "source": [
    "knn_y_pred = knn_model.predict(X_test)"
   ]
  },
  {
   "cell_type": "code",
   "execution_count": 15,
   "metadata": {},
   "outputs": [
    {
     "data": {
      "text/plain": [
       "0.61385566811848791"
      ]
     },
     "execution_count": 15,
     "metadata": {},
     "output_type": "execute_result"
    }
   ],
   "source": [
    "accuracy_score(y_pred=knn_y_pred, y_true=y_test)"
   ]
  },
  {
   "cell_type": "markdown",
   "metadata": {},
   "source": [
    "## Support vector machines"
   ]
  },
  {
   "cell_type": "code",
   "execution_count": 16,
   "metadata": {
    "collapsed": true
   },
   "outputs": [],
   "source": [
    "svm_model = SVC(random_state=0, kernel='linear', C=0.01)"
   ]
  },
  {
   "cell_type": "code",
   "execution_count": 17,
   "metadata": {},
   "outputs": [
    {
     "data": {
      "text/plain": [
       "SVC(C=0.01, cache_size=200, class_weight=None, coef0=0.0,\n",
       "  decision_function_shape=None, degree=3, gamma='auto', kernel='linear',\n",
       "  max_iter=-1, probability=False, random_state=0, shrinking=True,\n",
       "  tol=0.001, verbose=False)"
      ]
     },
     "execution_count": 17,
     "metadata": {},
     "output_type": "execute_result"
    }
   ],
   "source": [
    "svm_model.fit(X_train, y_train)"
   ]
  },
  {
   "cell_type": "code",
   "execution_count": 18,
   "metadata": {
    "collapsed": true
   },
   "outputs": [],
   "source": [
    "svm_y_pred = svm_model.predict(X_test)"
   ]
  },
  {
   "cell_type": "code",
   "execution_count": 19,
   "metadata": {},
   "outputs": [
    {
     "data": {
      "text/plain": [
       "0.65353610703371268"
      ]
     },
     "execution_count": 19,
     "metadata": {},
     "output_type": "execute_result"
    }
   ],
   "source": [
    "accuracy_score(y_pred=svm_y_pred, y_true=y_test)"
   ]
  },
  {
   "cell_type": "markdown",
   "metadata": {},
   "source": [
    "## Logistic regression"
   ]
  },
  {
   "cell_type": "code",
   "execution_count": 20,
   "metadata": {
    "collapsed": true
   },
   "outputs": [],
   "source": [
    "lr_model = LogisticRegression(random_state=0)"
   ]
  },
  {
   "cell_type": "code",
   "execution_count": 21,
   "metadata": {},
   "outputs": [
    {
     "data": {
      "text/plain": [
       "LogisticRegression(C=1.0, class_weight=None, dual=False, fit_intercept=True,\n",
       "          intercept_scaling=1, max_iter=100, multi_class='ovr', n_jobs=1,\n",
       "          penalty='l2', random_state=0, solver='liblinear', tol=0.0001,\n",
       "          verbose=0, warm_start=False)"
      ]
     },
     "execution_count": 21,
     "metadata": {},
     "output_type": "execute_result"
    }
   ],
   "source": [
    "lr_model.fit(X_train, y_train)"
   ]
  },
  {
   "cell_type": "code",
   "execution_count": 22,
   "metadata": {
    "collapsed": true
   },
   "outputs": [],
   "source": [
    "lr_y_pred = lr_model.predict(X_test)"
   ]
  },
  {
   "cell_type": "code",
   "execution_count": 23,
   "metadata": {},
   "outputs": [
    {
     "data": {
      "text/plain": [
       "0.65175542026614053"
      ]
     },
     "execution_count": 23,
     "metadata": {},
     "output_type": "execute_result"
    }
   ],
   "source": [
    "accuracy_score(y_pred=lr_y_pred, y_true=y_test)"
   ]
  },
  {
   "cell_type": "markdown",
   "metadata": {},
   "source": [
    "## Accurate performance measure"
   ]
  },
  {
   "cell_type": "code",
   "execution_count": 24,
   "metadata": {
    "collapsed": true
   },
   "outputs": [],
   "source": [
    "def nested_CV(model, model_param_grid, X, y, model_list, mean_rs_TE_scores, mean_rs_GE_scores, verbose):\n",
    "        \n",
    "    # note: shuffle must be true for random state to do anything\n",
    "    outer_kfold = StratifiedKFold(n_splits=3, shuffle=True, random_state=0).split(X, y) # split into outer folds for GE\n",
    "    inner_kfold = StratifiedKFold(n_splits=3, shuffle=True, random_state=0) # split into inner folds for MS\n",
    "\n",
    "    scores = [] # EVAL scores for MCC\n",
    "    scores_acc = [] # EVAL scores for Accuracy\n",
    "    \n",
    "    test_scores = [] # TEST scores for MCC\n",
    "\n",
    "    # outer fold \n",
    "    for k, (train, test) in enumerate(outer_kfold):\n",
    "         \n",
    "        # INNER LOOP FOR HYPERPARAMETERS #\n",
    "                \n",
    "        scorer = make_scorer(matthews_corrcoef) # MCC for scoring when selecting a model in the GS\n",
    "    \n",
    "        # define the GS # \n",
    "        gs = GridSearchCV(estimator=model,\n",
    "                    param_grid=model_param_grid,\n",
    "                    scoring='accuracy',\n",
    "                    cv=inner_kfold,\n",
    "                    n_jobs=-1)\n",
    "\n",
    "        gs.fit(X[train], y[train]) # fit and test on the inner fold \n",
    "        \n",
    "        best_model = gs.best_estimator_ # select the best model from the inner loop\n",
    "        best_inner_score = gs.best_score_ # grab the best model's score\n",
    "        test_scores.append(best_inner_score) # add to list holding all inner scores\n",
    "        \n",
    "        # OUTER LOOP TRAINING AND PREDICTION # \n",
    "                \n",
    "        best_model.fit(X[train], y[train]) # fit training with the best model\n",
    "        y_pred = best_model.predict(X[test]) # predict with best model \n",
    "        model_list.append(best_model) # add the model selected from the inner fold\n",
    "        \n",
    "        # EVALUATION ON OUTER LOOP # \n",
    "        \n",
    "        # Confusion matrix for each outer loop used for the generalization error\n",
    "        #confmat = confusion_matrix(y_true=y[test], y_pred=y_pred)\n",
    "        \n",
    "        # evaluation with MCC and accuracy\n",
    "        score = matthews_corrcoef(y_true=y[test], y_pred=y_pred)\n",
    "        scores.append(score)\n",
    "        score_acc = accuracy_score(y_true=y[test], y_pred=y_pred)\n",
    "        scores_acc.append(score_acc)    \n",
    "                \n",
    "        if verbose == 1:\n",
    "            print('OUTER FOLD: {}'.format(k+1)) # which fold\n",
    "            print('BEST ESTIMATOR FROM INNER: {}'.format(gs.best_params_)) # best estimator\n",
    "            print('TE in FOLD: ACC = {:.3f}'.format(best_inner_score)) \n",
    "            print('GE in FOLD: MCC = {:.3f}, ACC = {:.3f}, TRAIN CLASS DIST: {}'.format(score, score_acc, np.bincount(y[train])))\n",
    "            print('\\n')\n",
    "    \n",
    "\n",
    "    # MCC mean\n",
    "    print('\\nMean CV TE MCC : %.3f +/- %.3f' % (np.mean(test_scores), np.std(test_scores)))\n",
    "    print('\\nMean CV EVAL MCC : %.3f +/- %.3f' % (np.mean(scores), np.std(scores)))\n",
    "              \n",
    "    mean_rs_TE_scores.append(np.mean(test_scores))\n",
    "    mean_rs_GE_scores.append(np.mean(scores))\n",
    "\n",
    "    # Accuracy mean\n",
    "    print('\\nMean CV EVAL Accuracy: %.3f +/- %.3f' % (np.mean(scores_acc), np.std(scores_acc)))"
   ]
  },
  {
   "cell_type": "code",
   "execution_count": 25,
   "metadata": {},
   "outputs": [
    {
     "name": "stdout",
     "output_type": "stream",
     "text": [
      "OUTER FOLD: 1\n",
      "BEST ESTIMATOR FROM INNER: {'criterion': 'gini', 'n_estimators': 300}\n",
      "TE in FOLD: ACC = 0.618\n",
      "GE in FOLD: MCC = 0.238, ACC = 0.619, TRAIN CLASS DIST: [69260 69260]\n",
      "\n",
      "\n",
      "OUTER FOLD: 2\n",
      "BEST ESTIMATOR FROM INNER: {'criterion': 'gini', 'n_estimators': 300}\n",
      "TE in FOLD: ACC = 0.619\n",
      "GE in FOLD: MCC = 0.232, ACC = 0.616, TRAIN CLASS DIST: [69261 69261]\n",
      "\n",
      "\n",
      "OUTER FOLD: 3\n",
      "BEST ESTIMATOR FROM INNER: {'criterion': 'gini', 'n_estimators': 300}\n",
      "TE in FOLD: ACC = 0.618\n",
      "GE in FOLD: MCC = 0.235, ACC = 0.618, TRAIN CLASS DIST: [69261 69261]\n",
      "\n",
      "\n",
      "\n",
      "Mean CV TE MCC : 0.619 +/- 0.001\n",
      "\n",
      "Mean CV EVAL MCC : 0.235 +/- 0.003\n",
      "\n",
      "Mean CV EVAL Accuracy: 0.618 +/- 0.001\n"
     ]
    }
   ],
   "source": [
    "(rf_model_list, rf_TE_scores, rf_GE_scores) = ([], [], [])\n",
    "rf_model = RandomForestClassifier(random_state=0, n_jobs=-1)\n",
    "rf_param_grid = [{'n_estimators': [50, 150, 300], 'criterion': ['gini']}]\n",
    "\n",
    "nested_CV(rf_model, rf_param_grid, X, y, rf_model_list, rf_TE_scores, rf_GE_scores, 1)"
   ]
  },
  {
   "cell_type": "code",
   "execution_count": 26,
   "metadata": {},
   "outputs": [
    {
     "name": "stdout",
     "output_type": "stream",
     "text": [
      "OUTER FOLD: 1\n",
      "BEST ESTIMATOR FROM INNER: {'p': 2, 'n_neighbors': 5}\n",
      "TE in FOLD: ACC = 0.611\n",
      "GE in FOLD: MCC = 0.233, ACC = 0.616, TRAIN CLASS DIST: [69260 69260]\n",
      "\n",
      "\n",
      "OUTER FOLD: 2\n",
      "BEST ESTIMATOR FROM INNER: {'p': 2, 'n_neighbors': 5}\n",
      "TE in FOLD: ACC = 0.614\n",
      "GE in FOLD: MCC = 0.224, ACC = 0.612, TRAIN CLASS DIST: [69261 69261]\n",
      "\n",
      "\n",
      "OUTER FOLD: 3\n",
      "BEST ESTIMATOR FROM INNER: {'p': 1, 'n_neighbors': 5}\n",
      "TE in FOLD: ACC = 0.613\n",
      "GE in FOLD: MCC = 0.222, ACC = 0.611, TRAIN CLASS DIST: [69261 69261]\n",
      "\n",
      "\n",
      "\n",
      "Mean CV TE MCC : 0.613 +/- 0.001\n",
      "\n",
      "Mean CV EVAL MCC : 0.226 +/- 0.004\n",
      "\n",
      "Mean CV EVAL Accuracy: 0.613 +/- 0.002\n"
     ]
    }
   ],
   "source": [
    "(knn_model_list, knn_TE_scores, knn_GE_scores) = ([], [], [])\n",
    "knn_model = KNeighborsClassifier(metric='minkowski')\n",
    "knn_param_grid= [{'n_neighbors': [1, 2, 3, 4, 5], 'p': [1, 2]}]\n",
    "\n",
    "nested_CV(knn_model, knn_param_grid, X, y, knn_model_list, knn_TE_scores, knn_GE_scores, 1)"
   ]
  },
  {
   "cell_type": "code",
   "execution_count": 27,
   "metadata": {},
   "outputs": [
    {
     "name": "stdout",
     "output_type": "stream",
     "text": [
      "OUTER FOLD: 1\n",
      "BEST ESTIMATOR FROM INNER: {'kernel': 'linear', 'C': 0.01}\n",
      "TE in FOLD: ACC = 0.654\n",
      "GE in FOLD: MCC = 0.317, ACC = 0.654, TRAIN CLASS DIST: [69260 69260]\n",
      "\n",
      "\n",
      "OUTER FOLD: 2\n",
      "BEST ESTIMATOR FROM INNER: {'kernel': 'linear', 'C': 0.01}\n",
      "TE in FOLD: ACC = 0.654\n",
      "GE in FOLD: MCC = 0.318, ACC = 0.654, TRAIN CLASS DIST: [69261 69261]\n",
      "\n",
      "\n",
      "OUTER FOLD: 3\n",
      "BEST ESTIMATOR FROM INNER: {'kernel': 'linear', 'C': 0.01}\n",
      "TE in FOLD: ACC = 0.654\n",
      "GE in FOLD: MCC = 0.318, ACC = 0.654, TRAIN CLASS DIST: [69261 69261]\n",
      "\n",
      "\n",
      "\n",
      "Mean CV TE MCC : 0.654 +/- 0.000\n",
      "\n",
      "Mean CV EVAL MCC : 0.318 +/- 0.000\n",
      "\n",
      "Mean CV EVAL Accuracy: 0.654 +/- 0.000\n"
     ]
    }
   ],
   "source": [
    "(svm_model_list, svm_TE_scores, svm_GE_scores) = ([], [], [])\n",
    "svm_model = SVC(random_state=0)\n",
    "svm_param_grid=[{'C': [0.01, 0.1, 1], 'kernel':['linear']}]\n",
    "\n",
    "nested_CV(svm_model, svm_param_grid, X, y, svm_model_list, svm_TE_scores, svm_GE_scores, 1)"
   ]
  },
  {
   "cell_type": "code",
   "execution_count": 28,
   "metadata": {},
   "outputs": [
    {
     "name": "stdout",
     "output_type": "stream",
     "text": [
      "OUTER FOLD: 1\n",
      "BEST ESTIMATOR FROM INNER: {'C': 1}\n",
      "TE in FOLD: ACC = 0.652\n",
      "GE in FOLD: MCC = 0.315, ACC = 0.653, TRAIN CLASS DIST: [69260 69260]\n",
      "\n",
      "\n",
      "OUTER FOLD: 2\n",
      "BEST ESTIMATOR FROM INNER: {'C': 0.01}\n",
      "TE in FOLD: ACC = 0.652\n",
      "GE in FOLD: MCC = 0.315, ACC = 0.653, TRAIN CLASS DIST: [69261 69261]\n",
      "\n",
      "\n",
      "OUTER FOLD: 3\n",
      "BEST ESTIMATOR FROM INNER: {'C': 0.01}\n",
      "TE in FOLD: ACC = 0.653\n",
      "GE in FOLD: MCC = 0.313, ACC = 0.652, TRAIN CLASS DIST: [69261 69261]\n",
      "\n",
      "\n",
      "\n",
      "Mean CV TE MCC : 0.652 +/- 0.000\n",
      "\n",
      "Mean CV EVAL MCC : 0.314 +/- 0.001\n",
      "\n",
      "Mean CV EVAL Accuracy: 0.652 +/- 0.001\n"
     ]
    }
   ],
   "source": [
    "(lr_model_list, lr_TE_scores, lr_GE_scores) = ([], [], [])\n",
    "lr_model = LogisticRegression(random_state=0)\n",
    "lr_param_grid=[{'C': [0.01, 0.1, 1, 10, 100]}]\n",
    "\n",
    "nested_CV(lr_model, lr_param_grid, X, y, lr_model_list, lr_TE_scores, lr_GE_scores, 1)"
   ]
  },
  {
   "cell_type": "markdown",
   "metadata": {},
   "source": [
    "### Looking at feature importance w. Random Forest"
   ]
  },
  {
   "cell_type": "code",
   "execution_count": 64,
   "metadata": {
    "collapsed": true
   },
   "outputs": [],
   "source": [
    "rf_model = RandomForestClassifier(criterion='gini', random_state=0, n_estimators=500, n_jobs=-1)"
   ]
  },
  {
   "cell_type": "code",
   "execution_count": 65,
   "metadata": {},
   "outputs": [
    {
     "data": {
      "text/plain": [
       "RandomForestClassifier(bootstrap=True, class_weight=None, criterion='gini',\n",
       "            max_depth=None, max_features='auto', max_leaf_nodes=None,\n",
       "            min_impurity_split=1e-07, min_samples_leaf=1,\n",
       "            min_samples_split=2, min_weight_fraction_leaf=0.0,\n",
       "            n_estimators=500, n_jobs=-1, oob_score=False, random_state=0,\n",
       "            verbose=0, warm_start=False)"
      ]
     },
     "execution_count": 65,
     "metadata": {},
     "output_type": "execute_result"
    }
   ],
   "source": [
    "rf_model.fit(X_train, y_train)"
   ]
  },
  {
   "cell_type": "code",
   "execution_count": 66,
   "metadata": {},
   "outputs": [
    {
     "data": {
      "text/plain": [
       "array([ 0.25503478,  0.0919918 ,  0.07412127,  0.05628341,  0.08199966,\n",
       "        0.02878877,  0.0028393 ,  0.00911407,  0.03069538,  0.06286365,\n",
       "        0.02474117,  0.05257663,  0.0104155 ,  0.01327829,  0.01780663,\n",
       "        0.01235261,  0.00349901,  0.01108656,  0.00453048,  0.01141205,\n",
       "        0.00608841,  0.00616554,  0.01966679,  0.03212548,  0.02249122,\n",
       "        0.04746939,  0.00596932,  0.0011386 ,  0.00345422])"
      ]
     },
     "execution_count": 66,
     "metadata": {},
     "output_type": "execute_result"
    }
   ],
   "source": [
    "rf_model.feature_importances_"
   ]
  },
  {
   "cell_type": "code",
   "execution_count": 67,
   "metadata": {},
   "outputs": [
    {
     "name": "stdout",
     "output_type": "stream",
     "text": [
      "Feature ranking:\n",
      "1. feature 0 TIME 25.50\n",
      "2. feature 1 Average Humidity 9.20\n",
      "3. feature 4 Mean Temperature 8.20\n",
      "4. feature 2 Max Gust Speed 7.41\n",
      "5. feature 9 Wind Speed 6.29\n",
      "6. feature 3 Max Wind Speed 5.63\n",
      "7. feature 11 Month 5.26\n",
      "8. feature 25 VTC2_two_wheeler 4.75\n",
      "9. feature 23 VTC2_other 3.21\n",
      "10. feature 8 Visibility 3.07\n",
      "11. feature 5 Precipitation 2.88\n",
      "12. feature 10 street_SL 2.47\n",
      "13. feature 24 VTC2_small 2.25\n",
      "14. feature 22 VTC2_medium 1.97\n",
      "15. feature 14 MANHATTAN 1.78\n",
      "16. feature 13 BROOKLYN 1.33\n",
      "17. feature 15 QUEENS 1.24\n",
      "18. feature 19 VTC1_small 1.14\n",
      "19. feature 17 VTC1_medium 1.11\n",
      "20. feature 12 BRONX 1.04\n",
      "21. feature 7 Snow Depth 0.91\n",
      "22. feature 21 VTC2_large 0.62\n",
      "23. feature 20 VTC1_two_wheeler 0.61\n",
      "24. feature 26 Rain_EV 0.60\n",
      "25. feature 18 VTC1_other 0.45\n",
      "26. feature 16 VTC1_large 0.35\n",
      "27. feature 28 Fog_EV 0.35\n",
      "28. feature 6 Snow 0.28\n",
      "29. feature 27 Snow_EV 0.11\n"
     ]
    },
    {
     "data": {
      "image/png": "[encoded data removed]",
      "text/plain": [
       "<matplotlib.figure.Figure at 0x11274ec50>"
      ]
     },
     "metadata": {},
     "output_type": "display_data"
    }
   ],
   "source": [
    "importances = rf_model.feature_importances_\n",
    "std = np.std([tree.feature_importances_ for tree in rf_model.estimators_],\n",
    "             axis=0)\n",
    "indices = np.argsort(importances)[::-1]\n",
    "\n",
    "# Print the feature ranking\n",
    "print(\"Feature ranking:\")\n",
    "\n",
    "for f in range(X.shape[1]):\n",
    "    print(\"{}. feature {} {} {:.2f}\".format(f + 1, indices[f], df_comb.columns[indices[f]], importances[indices[f]]*100))\n",
    "\n",
    "# Plot the feature importances of the forest\n",
    "plt.figure(figsize=(14,6))\n",
    "plt.title(\"Feature importances\")\n",
    "plt.bar(range(X.shape[1]), importances[indices],\n",
    "       color=\"r\", yerr=std[indices], align=\"center\")\n",
    "plt.xticks(range(X.shape[1]), indices)\n",
    "plt.xlim([-1, X.shape[1]])\n",
    "plt.show()"
   ]
  },
  {
   "cell_type": "code",
   "execution_count": 68,
   "metadata": {},
   "outputs": [
    {
     "name": "stdout",
     "output_type": "stream",
     "text": [
      "Feature: TIME\n",
      "CAS Mean: 13.707 +/- 5.809 \t Non-CAS Mean: 13.399 +/- 5.402\n",
      "CAS Median: 15.000 \t\t Non-CAS Median: 14.000\n",
      "\n",
      "Feature: Average Humidity\n",
      "CAS Mean: 60.060 +/- 14.033 \t Non-CAS Mean: 59.667 +/- 13.956\n",
      "CAS Median: 59.000 \t\t Non-CAS Median: 59.000\n",
      "\n",
      "Feature: Mean Temperature\n",
      "CAS Mean: 14.345 +/- 9.469 \t Non-CAS Mean: 13.750 +/- 9.845\n",
      "CAS Median: 16.000 \t\t Non-CAS Median: 15.000\n",
      "\n",
      "Feature: Max Gust Speed\n",
      "CAS Mean: 35.949 +/- 10.957 \t Non-CAS Mean: 36.226 +/- 10.965\n",
      "CAS Median: 34.000 \t\t Non-CAS Median: 35.000\n",
      "\n",
      "Feature: Wind Speed\n",
      "CAS Mean: 8.558 +/- 5.772 \t Non-CAS Mean: 8.696 +/- 5.770\n",
      "CAS Median: 8.000 \t\t Non-CAS Median: 8.000\n",
      "\n"
     ]
    }
   ],
   "source": [
    "for important_index in indices[0:5]:\n",
    "    \n",
    "    # 1:-1 because the first and last columns are not in X\n",
    "    column_name = X_cols[important_index]\n",
    "    cas_data = df_comb.loc[df_comb['Y'] == 1][column_name]\n",
    "    non_cas_data = df_comb.loc[df_comb['Y'] == 0][column_name]\n",
    "    \n",
    "    cas_mean, cas_std = np.mean(cas_data), np.std(cas_data)\n",
    "    non_cas_mean, non_cas_std = np.mean(non_cas_data), np.std(non_cas_data)\n",
    "    \n",
    "    cas_median, non_cas_median = np.median(cas_data), np.median(non_cas_data)\n",
    "    \n",
    "    print(\"Feature: {}\".format(column_name))\n",
    "    print(\"CAS Mean: {:.3f} +/- {:.3f} \\t Non-CAS Mean: {:.3f} +/- {:.3f}\".format(cas_mean, cas_std, non_cas_mean,non_cas_std))\n",
    "    print(\"CAS Median: {:.3f} \\t\\t Non-CAS Median: {:.3f}\\n\".format(cas_median, non_cas_median))"
   ]
  },
  {
   "cell_type": "markdown",
   "metadata": {},
   "source": [
    "### Try modelling with important features"
   ]
  },
  {
   "cell_type": "code",
   "execution_count": 69,
   "metadata": {},
   "outputs": [
    {
     "data": {
      "text/html": [
       "<div>\n",
       "<table border=\"1\" class=\"dataframe\">\n",
       "  <thead>\n",
       "    <tr style=\"text-align: right;\">\n",
       "      <th></th>\n",
       "      <th>TIME</th>\n",
       "      <th>Average Humidity</th>\n",
       "      <th>Mean Temperature</th>\n",
       "      <th>Max Gust Speed</th>\n",
       "      <th>Wind Speed</th>\n",
       "      <th>Max Wind Speed</th>\n",
       "      <th>Month</th>\n",
       "      <th>VTC2_two_wheeler</th>\n",
       "      <th>VTC2_other</th>\n",
       "      <th>Visibility</th>\n",
       "      <th>Precipitation</th>\n",
       "      <th>street_SL</th>\n",
       "      <th>VTC2_small</th>\n",
       "      <th>VTC2_medium</th>\n",
       "      <th>MANHATTAN</th>\n",
       "    </tr>\n",
       "  </thead>\n",
       "  <tbody>\n",
       "    <tr>\n",
       "      <th>0</th>\n",
       "      <td>10</td>\n",
       "      <td>95</td>\n",
       "      <td>7</td>\n",
       "      <td>34.0</td>\n",
       "      <td>9.0</td>\n",
       "      <td>23.0</td>\n",
       "      <td>3</td>\n",
       "      <td>0</td>\n",
       "      <td>1</td>\n",
       "      <td>7.0</td>\n",
       "      <td>18.29</td>\n",
       "      <td>25.0</td>\n",
       "      <td>0</td>\n",
       "      <td>0</td>\n",
       "      <td>0</td>\n",
       "    </tr>\n",
       "    <tr>\n",
       "      <th>1</th>\n",
       "      <td>10</td>\n",
       "      <td>95</td>\n",
       "      <td>7</td>\n",
       "      <td>34.0</td>\n",
       "      <td>9.0</td>\n",
       "      <td>23.0</td>\n",
       "      <td>3</td>\n",
       "      <td>0</td>\n",
       "      <td>0</td>\n",
       "      <td>7.0</td>\n",
       "      <td>18.29</td>\n",
       "      <td>25.0</td>\n",
       "      <td>0</td>\n",
       "      <td>1</td>\n",
       "      <td>0</td>\n",
       "    </tr>\n",
       "    <tr>\n",
       "      <th>2</th>\n",
       "      <td>10</td>\n",
       "      <td>95</td>\n",
       "      <td>7</td>\n",
       "      <td>34.0</td>\n",
       "      <td>9.0</td>\n",
       "      <td>23.0</td>\n",
       "      <td>3</td>\n",
       "      <td>0</td>\n",
       "      <td>0</td>\n",
       "      <td>7.0</td>\n",
       "      <td>18.29</td>\n",
       "      <td>25.0</td>\n",
       "      <td>1</td>\n",
       "      <td>0</td>\n",
       "      <td>0</td>\n",
       "    </tr>\n",
       "    <tr>\n",
       "      <th>3</th>\n",
       "      <td>11</td>\n",
       "      <td>95</td>\n",
       "      <td>7</td>\n",
       "      <td>34.0</td>\n",
       "      <td>9.0</td>\n",
       "      <td>23.0</td>\n",
       "      <td>3</td>\n",
       "      <td>0</td>\n",
       "      <td>1</td>\n",
       "      <td>7.0</td>\n",
       "      <td>18.29</td>\n",
       "      <td>25.0</td>\n",
       "      <td>0</td>\n",
       "      <td>0</td>\n",
       "      <td>1</td>\n",
       "    </tr>\n",
       "    <tr>\n",
       "      <th>4</th>\n",
       "      <td>11</td>\n",
       "      <td>95</td>\n",
       "      <td>7</td>\n",
       "      <td>34.0</td>\n",
       "      <td>9.0</td>\n",
       "      <td>23.0</td>\n",
       "      <td>3</td>\n",
       "      <td>0</td>\n",
       "      <td>1</td>\n",
       "      <td>7.0</td>\n",
       "      <td>18.29</td>\n",
       "      <td>35.0</td>\n",
       "      <td>0</td>\n",
       "      <td>0</td>\n",
       "      <td>0</td>\n",
       "    </tr>\n",
       "  </tbody>\n",
       "</table>\n",
       "</div>"
      ],
      "text/plain": [
       "   TIME  Average Humidity  Mean Temperature  Max Gust Speed  Wind Speed  \\\n",
       "0    10                95                 7            34.0         9.0   \n",
       "1    10                95                 7            34.0         9.0   \n",
       "2    10                95                 7            34.0         9.0   \n",
       "3    11                95                 7            34.0         9.0   \n",
       "4    11                95                 7            34.0         9.0   \n",
       "\n",
       "   Max Wind Speed  Month  VTC2_two_wheeler  VTC2_other  Visibility  \\\n",
       "0            23.0      3                 0           1         7.0   \n",
       "1            23.0      3                 0           0         7.0   \n",
       "2            23.0      3                 0           0         7.0   \n",
       "3            23.0      3                 0           1         7.0   \n",
       "4            23.0      3                 0           1         7.0   \n",
       "\n",
       "   Precipitation  street_SL  VTC2_small  VTC2_medium  MANHATTAN  \n",
       "0          18.29       25.0           0            0          0  \n",
       "1          18.29       25.0           0            1          0  \n",
       "2          18.29       25.0           1            0          0  \n",
       "3          18.29       25.0           0            0          1  \n",
       "4          18.29       35.0           0            0          0  "
      ]
     },
     "execution_count": 69,
     "metadata": {},
     "output_type": "execute_result"
    }
   ],
   "source": [
    "imp_feat_df = df_comb.iloc[:,indices[:15]] \n",
    "imp_feat_df.head()"
   ]
  },
  {
   "cell_type": "code",
   "execution_count": 70,
   "metadata": {
    "collapsed": true
   },
   "outputs": [],
   "source": [
    "# Selecting X and y\n",
    "\n",
    "y_cols = 'Y'\n",
    "\n",
    "X, y = imp_feat_df.values, df_comb[y_cols].values \n",
    "y = y.astype(int) "
   ]
  },
  {
   "cell_type": "code",
   "execution_count": 71,
   "metadata": {
    "collapsed": true
   },
   "outputs": [],
   "source": [
    "# Defining the model\n",
    "rf_model = RandomForestClassifier(criterion='gini', random_state=0, n_estimators=500, n_jobs=-1)"
   ]
  },
  {
   "cell_type": "code",
   "execution_count": 72,
   "metadata": {
    "collapsed": true
   },
   "outputs": [],
   "source": [
    "# Evaluating performance\n",
    "from sklearn.model_selection import train_test_split\n",
    "\n",
    "X_train, X_test, y_train, y_test = train_test_split(X, y, test_size=0.2, random_state=0)"
   ]
  },
  {
   "cell_type": "code",
   "execution_count": 73,
   "metadata": {},
   "outputs": [
    {
     "data": {
      "text/plain": [
       "RandomForestClassifier(bootstrap=True, class_weight=None, criterion='gini',\n",
       "            max_depth=None, max_features='auto', max_leaf_nodes=None,\n",
       "            min_impurity_split=1e-07, min_samples_leaf=1,\n",
       "            min_samples_split=2, min_weight_fraction_leaf=0.0,\n",
       "            n_estimators=500, n_jobs=-1, oob_score=False, random_state=0,\n",
       "            verbose=0, warm_start=False)"
      ]
     },
     "execution_count": 73,
     "metadata": {},
     "output_type": "execute_result"
    }
   ],
   "source": [
    "forest.fit(X_train, y_train)"
   ]
  },
  {
   "cell_type": "code",
   "execution_count": 74,
   "metadata": {
    "collapsed": true
   },
   "outputs": [],
   "source": [
    "y_pred = forest.predict(X_test)"
   ]
  },
  {
   "cell_type": "code",
   "execution_count": 75,
   "metadata": {},
   "outputs": [
    {
     "data": {
      "text/plain": [
       "0.59855138725124524"
      ]
     },
     "execution_count": 75,
     "metadata": {},
     "output_type": "execute_result"
    }
   ],
   "source": [
    "from sklearn.metrics import accuracy_score\n",
    "\n",
    "accuracy_score(y_pred=y_pred, y_true=y_test)"
   ]
  }
 ],
 "metadata": {
  "kernelspec": {
   "display_name": "Python [conda env:py35]",
   "language": "python",
   "name": "conda-env-py35-py"
  },
  "language_info": {
   "codemirror_mode": {
    "name": "ipython",
    "version": 3
   },
   "file_extension": ".py",
   "mimetype": "text/x-python",
   "name": "python",
   "nbconvert_exporter": "python",
   "pygments_lexer": "ipython3",
   "version": "3.5.2"
  }
 },
 "nbformat": 4,
 "nbformat_minor": 2
}
