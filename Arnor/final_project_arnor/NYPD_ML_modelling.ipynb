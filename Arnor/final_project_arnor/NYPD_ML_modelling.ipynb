{
 "cells": [
  {
   "cell_type": "markdown",
   "metadata": {
    "deletable": true,
    "editable": true
   },
   "source": [
    "## Loading data"
   ]
  },
  {
   "cell_type": "code",
   "execution_count": 1,
   "metadata": {
    "collapsed": true,
    "deletable": true,
    "editable": true
   },
   "outputs": [],
   "source": [
    "import numpy as np\n",
    "import pandas as pd\n",
    "import geoplotlib as gp\n",
    "from scipy import stats\n",
    "from collections import Counter\n",
    "from __future__ import division\n",
    "import matplotlib.pyplot as plt\n",
    "%matplotlib inline\n",
    "from sklearn.preprocessing import LabelEncoder as LE"
   ]
  },
  {
   "cell_type": "code",
   "execution_count": 2,
   "metadata": {
    "collapsed": false,
    "deletable": true,
    "editable": true
   },
   "outputs": [],
   "source": [
    "df = pd.read_csv(\"NYPD_Motor_Vehicle_Collisions_reduced_data.csv\", low_memory=False)"
   ]
  },
  {
   "cell_type": "code",
   "execution_count": 3,
   "metadata": {
    "collapsed": false,
    "deletable": true,
    "editable": true
   },
   "outputs": [],
   "source": [
    "# Drop NaN values from Lat and Lon\n",
    "df = df.dropna(subset=['LATITUDE','LONGITUDE'])"
   ]
  },
  {
   "cell_type": "code",
   "execution_count": 4,
   "metadata": {
    "collapsed": false,
    "deletable": true,
    "editable": true
   },
   "outputs": [
    {
     "data": {
      "text/plain": [
       "(802922, 37)"
      ]
     },
     "execution_count": 4,
     "metadata": {},
     "output_type": "execute_result"
    }
   ],
   "source": [
    "df = df[(np.abs(stats.zscore(df[['LATITUDE','LONGITUDE']])) < 1).all(axis=1)]\n",
    "df.shape"
   ]
  },
  {
   "cell_type": "code",
   "execution_count": 5,
   "metadata": {
    "collapsed": false,
    "deletable": true,
    "editable": true
   },
   "outputs": [
    {
     "data": {
      "text/html": [
       "<div>\n",
       "<table border=\"1\" class=\"dataframe\">\n",
       "  <thead>\n",
       "    <tr style=\"text-align: right;\">\n",
       "      <th></th>\n",
       "      <th>Date</th>\n",
       "      <th>TIME</th>\n",
       "      <th>BOROUGH</th>\n",
       "      <th>ZIP CODE</th>\n",
       "      <th>LATITUDE</th>\n",
       "      <th>LONGITUDE</th>\n",
       "      <th>LOCATION</th>\n",
       "      <th>ON STREET NAME</th>\n",
       "      <th>NUMBER OF PERSONS INJURED</th>\n",
       "      <th>NUMBER OF PERSONS KILLED</th>\n",
       "      <th>...</th>\n",
       "      <th>Maximum Humidity</th>\n",
       "      <th>Mean Temperature</th>\n",
       "      <th>Min Temperature</th>\n",
       "      <th>Minimum Humidity</th>\n",
       "      <th>Precipitation</th>\n",
       "      <th>Sea Level Pressure</th>\n",
       "      <th>Snow</th>\n",
       "      <th>Snow Depth</th>\n",
       "      <th>Visibility</th>\n",
       "      <th>Wind Speed</th>\n",
       "    </tr>\n",
       "  </thead>\n",
       "  <tbody>\n",
       "    <tr>\n",
       "      <th>0</th>\n",
       "      <td>2017/03/28</td>\n",
       "      <td>0:00</td>\n",
       "      <td>BRONX</td>\n",
       "      <td>10466</td>\n",
       "      <td>40.894600</td>\n",
       "      <td>-73.861206</td>\n",
       "      <td>(40.8946, -73.861206)</td>\n",
       "      <td>NaN</td>\n",
       "      <td>0</td>\n",
       "      <td>0</td>\n",
       "      <td>...</td>\n",
       "      <td>100</td>\n",
       "      <td>7</td>\n",
       "      <td>5</td>\n",
       "      <td>89</td>\n",
       "      <td>18.29</td>\n",
       "      <td>1014.0</td>\n",
       "      <td>0.00</td>\n",
       "      <td>0.00</td>\n",
       "      <td>7.0</td>\n",
       "      <td>9</td>\n",
       "    </tr>\n",
       "    <tr>\n",
       "      <th>1</th>\n",
       "      <td>2017/03/28</td>\n",
       "      <td>0:00</td>\n",
       "      <td>BROOKLYN</td>\n",
       "      <td>11218</td>\n",
       "      <td>40.654080</td>\n",
       "      <td>-73.977610</td>\n",
       "      <td>(40.65408, -73.97761)</td>\n",
       "      <td>18 STREET</td>\n",
       "      <td>0</td>\n",
       "      <td>0</td>\n",
       "      <td>...</td>\n",
       "      <td>100</td>\n",
       "      <td>7</td>\n",
       "      <td>5</td>\n",
       "      <td>89</td>\n",
       "      <td>18.29</td>\n",
       "      <td>1014.0</td>\n",
       "      <td>0.00</td>\n",
       "      <td>0.00</td>\n",
       "      <td>7.0</td>\n",
       "      <td>9</td>\n",
       "    </tr>\n",
       "    <tr>\n",
       "      <th>2</th>\n",
       "      <td>2017/03/28</td>\n",
       "      <td>0:00</td>\n",
       "      <td>BROOKLYN</td>\n",
       "      <td>11235</td>\n",
       "      <td>40.583847</td>\n",
       "      <td>-73.940590</td>\n",
       "      <td>(40.583847, -73.94059)</td>\n",
       "      <td>NaN</td>\n",
       "      <td>0</td>\n",
       "      <td>0</td>\n",
       "      <td>...</td>\n",
       "      <td>100</td>\n",
       "      <td>7</td>\n",
       "      <td>5</td>\n",
       "      <td>89</td>\n",
       "      <td>18.29</td>\n",
       "      <td>1014.0</td>\n",
       "      <td>0.00</td>\n",
       "      <td>0.00</td>\n",
       "      <td>7.0</td>\n",
       "      <td>9</td>\n",
       "    </tr>\n",
       "    <tr>\n",
       "      <th>3</th>\n",
       "      <td>2017/03/28</td>\n",
       "      <td>0:00</td>\n",
       "      <td>MANHATTAN</td>\n",
       "      <td>10019</td>\n",
       "      <td>40.762770</td>\n",
       "      <td>-73.975590</td>\n",
       "      <td>(40.76277, -73.97559)</td>\n",
       "      <td>NaN</td>\n",
       "      <td>0</td>\n",
       "      <td>0</td>\n",
       "      <td>...</td>\n",
       "      <td>100</td>\n",
       "      <td>7</td>\n",
       "      <td>5</td>\n",
       "      <td>89</td>\n",
       "      <td>18.29</td>\n",
       "      <td>1014.0</td>\n",
       "      <td>0.00</td>\n",
       "      <td>0.00</td>\n",
       "      <td>7.0</td>\n",
       "      <td>9</td>\n",
       "    </tr>\n",
       "    <tr>\n",
       "      <th>4</th>\n",
       "      <td>2017/03/28</td>\n",
       "      <td>0:00</td>\n",
       "      <td>QUEENS</td>\n",
       "      <td>11429</td>\n",
       "      <td>40.713715</td>\n",
       "      <td>-73.731440</td>\n",
       "      <td>(40.713715, -73.73144)</td>\n",
       "      <td>222 STREET</td>\n",
       "      <td>0</td>\n",
       "      <td>0</td>\n",
       "      <td>...</td>\n",
       "      <td>100</td>\n",
       "      <td>7</td>\n",
       "      <td>5</td>\n",
       "      <td>89</td>\n",
       "      <td>18.29</td>\n",
       "      <td>1014.0</td>\n",
       "      <td>0.00</td>\n",
       "      <td>0.00</td>\n",
       "      <td>7.0</td>\n",
       "      <td>9</td>\n",
       "    </tr>\n",
       "  </tbody>\n",
       "</table>\n",
       "<p>5 rows × 37 columns</p>\n",
       "</div>"
      ],
      "text/plain": [
       "         Date  TIME    BOROUGH ZIP CODE   LATITUDE  LONGITUDE  \\\n",
       "0  2017/03/28  0:00      BRONX    10466  40.894600 -73.861206   \n",
       "1  2017/03/28  0:00   BROOKLYN    11218  40.654080 -73.977610   \n",
       "2  2017/03/28  0:00   BROOKLYN    11235  40.583847 -73.940590   \n",
       "3  2017/03/28  0:00  MANHATTAN    10019  40.762770 -73.975590   \n",
       "4  2017/03/28  0:00     QUEENS    11429  40.713715 -73.731440   \n",
       "\n",
       "                 LOCATION                    ON STREET NAME  \\\n",
       "0   (40.8946, -73.861206)                               NaN   \n",
       "1   (40.65408, -73.97761)  18 STREET                          \n",
       "2  (40.583847, -73.94059)                               NaN   \n",
       "3   (40.76277, -73.97559)                               NaN   \n",
       "4  (40.713715, -73.73144)  222 STREET                         \n",
       "\n",
       "   NUMBER OF PERSONS INJURED  NUMBER OF PERSONS KILLED    ...      \\\n",
       "0                          0                         0    ...       \n",
       "1                          0                         0    ...       \n",
       "2                          0                         0    ...       \n",
       "3                          0                         0    ...       \n",
       "4                          0                         0    ...       \n",
       "\n",
       "   Maximum Humidity  Mean Temperature  Min Temperature  Minimum Humidity  \\\n",
       "0               100                 7                5                89   \n",
       "1               100                 7                5                89   \n",
       "2               100                 7                5                89   \n",
       "3               100                 7                5                89   \n",
       "4               100                 7                5                89   \n",
       "\n",
       "   Precipitation  Sea Level Pressure  Snow Snow Depth  Visibility Wind Speed  \n",
       "0          18.29              1014.0  0.00       0.00         7.0          9  \n",
       "1          18.29              1014.0  0.00       0.00         7.0          9  \n",
       "2          18.29              1014.0  0.00       0.00         7.0          9  \n",
       "3          18.29              1014.0  0.00       0.00         7.0          9  \n",
       "4          18.29              1014.0  0.00       0.00         7.0          9  \n",
       "\n",
       "[5 rows x 37 columns]"
      ]
     },
     "execution_count": 5,
     "metadata": {},
     "output_type": "execute_result"
    }
   ],
   "source": [
    "df.head()"
   ]
  },
  {
   "cell_type": "code",
   "execution_count": 6,
   "metadata": {
    "collapsed": false,
    "deletable": true,
    "editable": true
   },
   "outputs": [
    {
     "data": {
      "text/plain": [
       "Index(['Date', 'TIME', 'BOROUGH', 'ZIP CODE', 'LATITUDE', 'LONGITUDE',\n",
       "       'LOCATION', 'ON STREET NAME', 'NUMBER OF PERSONS INJURED',\n",
       "       'NUMBER OF PERSONS KILLED', 'NUMBER OF PEDESTRIANS INJURED',\n",
       "       'NUMBER OF PEDESTRIANS KILLED', 'NUMBER OF CYCLIST INJURED',\n",
       "       'NUMBER OF CYCLIST KILLED', 'NUMBER OF MOTORIST INJURED',\n",
       "       'NUMBER OF MOTORIST KILLED', 'CONTRIBUTING FACTOR VEHICLE 1',\n",
       "       'CONTRIBUTING FACTOR VEHICLE 2', 'UNIQUE KEY', 'VEHICLE TYPE CODE 1',\n",
       "       'VEHICLE TYPE CODE 2', 'Average Humidity', 'Dew Point', 'Events',\n",
       "       'Max Gust Speed', 'Max Temperature', 'Max Wind Speed',\n",
       "       'Maximum Humidity', 'Mean Temperature', 'Min Temperature',\n",
       "       'Minimum Humidity', 'Precipitation', 'Sea Level Pressure', 'Snow',\n",
       "       'Snow Depth', 'Visibility', 'Wind Speed'],\n",
       "      dtype='object')"
      ]
     },
     "execution_count": 6,
     "metadata": {},
     "output_type": "execute_result"
    }
   ],
   "source": [
    "df.columns"
   ]
  },
  {
   "cell_type": "markdown",
   "metadata": {
    "deletable": true,
    "editable": true
   },
   "source": [
    "## Preprocessing data for modelling"
   ]
  },
  {
   "cell_type": "markdown",
   "metadata": {
    "deletable": true,
    "editable": true
   },
   "source": [
    "First, model time as an hour of the day."
   ]
  },
  {
   "cell_type": "code",
   "execution_count": 7,
   "metadata": {
    "collapsed": true,
    "deletable": true,
    "editable": true
   },
   "outputs": [],
   "source": [
    "df['TIME'] = df['TIME'].apply(lambda x: int(x.split(':')[0]))"
   ]
  },
  {
   "cell_type": "code",
   "execution_count": 8,
   "metadata": {
    "collapsed": false,
    "deletable": true,
    "editable": true
   },
   "outputs": [
    {
     "data": {
      "text/plain": [
       "array([ 0,  1,  2,  3,  4,  5,  6,  7,  8,  9, 10, 11, 12, 13, 14, 15, 16,\n",
       "       17, 18, 19, 20, 21, 22, 23])"
      ]
     },
     "execution_count": 8,
     "metadata": {},
     "output_type": "execute_result"
    }
   ],
   "source": [
    "np.unique(df['TIME'])"
   ]
  },
  {
   "cell_type": "markdown",
   "metadata": {
    "deletable": true,
    "editable": true
   },
   "source": [
    "Next, create a new column for months only."
   ]
  },
  {
   "cell_type": "code",
   "execution_count": 9,
   "metadata": {
    "collapsed": true,
    "deletable": true,
    "editable": true
   },
   "outputs": [],
   "source": [
    "df['Month'] = df['Date'].apply(lambda x: int(x.split('/')[1]))"
   ]
  },
  {
   "cell_type": "code",
   "execution_count": 10,
   "metadata": {
    "collapsed": false,
    "deletable": true,
    "editable": true
   },
   "outputs": [
    {
     "data": {
      "text/plain": [
       "array([ 1,  2,  3,  4,  5,  6,  7,  8,  9, 10, 11, 12])"
      ]
     },
     "execution_count": 10,
     "metadata": {},
     "output_type": "execute_result"
    }
   ],
   "source": [
    "np.unique(df['Month'])"
   ]
  },
  {
   "cell_type": "markdown",
   "metadata": {
    "deletable": true,
    "editable": true
   },
   "source": [
    "Next, we use label encoder to numerically encode boroughs in NYC."
   ]
  },
  {
   "cell_type": "code",
   "execution_count": 11,
   "metadata": {
    "collapsed": false,
    "deletable": true,
    "editable": true
   },
   "outputs": [
    {
     "data": {
      "text/plain": [
       "Counter({nan: 93407,\n",
       "         'BRONX': 92414,\n",
       "         'MANHATTAN': 183018,\n",
       "         'BROOKLYN': 217596,\n",
       "         'QUEENS': 183414,\n",
       "         'STATEN ISLAND': 33073})"
      ]
     },
     "execution_count": 11,
     "metadata": {},
     "output_type": "execute_result"
    }
   ],
   "source": [
    "Counter(df['BOROUGH'])"
   ]
  },
  {
   "cell_type": "markdown",
   "metadata": {
    "deletable": true,
    "editable": true
   },
   "source": [
    "Since there are some missing values - we have to deal with them. In this case, the missing borough values are replaced with 'UNKNOWN'."
   ]
  },
  {
   "cell_type": "code",
   "execution_count": 12,
   "metadata": {
    "collapsed": true,
    "deletable": true,
    "editable": true
   },
   "outputs": [],
   "source": [
    "df['BOROUGH'] = df['BOROUGH'].fillna(value='UNKNOWN')"
   ]
  },
  {
   "cell_type": "markdown",
   "metadata": {
    "deletable": true,
    "editable": true
   },
   "source": [
    "Now the boroughs can be encoded with one-hot encoding and added to the dataframe for modelling. "
   ]
  },
  {
   "cell_type": "code",
   "execution_count": 13,
   "metadata": {
    "collapsed": false,
    "deletable": true,
    "editable": true
   },
   "outputs": [
    {
     "data": {
      "text/html": [
       "<div>\n",
       "<table border=\"1\" class=\"dataframe\">\n",
       "  <thead>\n",
       "    <tr style=\"text-align: right;\">\n",
       "      <th></th>\n",
       "      <th>BRONX</th>\n",
       "      <th>BROOKLYN</th>\n",
       "      <th>MANHATTAN</th>\n",
       "      <th>QUEENS</th>\n",
       "      <th>STATEN ISLAND</th>\n",
       "      <th>UNKNOWN</th>\n",
       "    </tr>\n",
       "  </thead>\n",
       "  <tbody>\n",
       "    <tr>\n",
       "      <th>0</th>\n",
       "      <td>1</td>\n",
       "      <td>0</td>\n",
       "      <td>0</td>\n",
       "      <td>0</td>\n",
       "      <td>0</td>\n",
       "      <td>0</td>\n",
       "    </tr>\n",
       "    <tr>\n",
       "      <th>1</th>\n",
       "      <td>0</td>\n",
       "      <td>1</td>\n",
       "      <td>0</td>\n",
       "      <td>0</td>\n",
       "      <td>0</td>\n",
       "      <td>0</td>\n",
       "    </tr>\n",
       "    <tr>\n",
       "      <th>2</th>\n",
       "      <td>0</td>\n",
       "      <td>1</td>\n",
       "      <td>0</td>\n",
       "      <td>0</td>\n",
       "      <td>0</td>\n",
       "      <td>0</td>\n",
       "    </tr>\n",
       "    <tr>\n",
       "      <th>3</th>\n",
       "      <td>0</td>\n",
       "      <td>0</td>\n",
       "      <td>1</td>\n",
       "      <td>0</td>\n",
       "      <td>0</td>\n",
       "      <td>0</td>\n",
       "    </tr>\n",
       "    <tr>\n",
       "      <th>4</th>\n",
       "      <td>0</td>\n",
       "      <td>0</td>\n",
       "      <td>0</td>\n",
       "      <td>1</td>\n",
       "      <td>0</td>\n",
       "      <td>0</td>\n",
       "    </tr>\n",
       "  </tbody>\n",
       "</table>\n",
       "</div>"
      ],
      "text/plain": [
       "   BRONX  BROOKLYN  MANHATTAN  QUEENS  STATEN ISLAND  UNKNOWN\n",
       "0      1         0          0       0              0        0\n",
       "1      0         1          0       0              0        0\n",
       "2      0         1          0       0              0        0\n",
       "3      0         0          1       0              0        0\n",
       "4      0         0          0       1              0        0"
      ]
     },
     "execution_count": 13,
     "metadata": {},
     "output_type": "execute_result"
    }
   ],
   "source": [
    "df_BR_dummies = pd.get_dummies(df['BOROUGH'])\n",
    "df_BR_dummies.head()"
   ]
  },
  {
   "cell_type": "markdown",
   "metadata": {
    "deletable": true,
    "editable": true
   },
   "source": [
    "Add the one-hot encoded columns to the dataframe."
   ]
  },
  {
   "cell_type": "code",
   "execution_count": 14,
   "metadata": {
    "collapsed": false,
    "deletable": true,
    "editable": true
   },
   "outputs": [
    {
     "data": {
      "text/html": [
       "<div>\n",
       "<table border=\"1\" class=\"dataframe\">\n",
       "  <thead>\n",
       "    <tr style=\"text-align: right;\">\n",
       "      <th></th>\n",
       "      <th>Date</th>\n",
       "      <th>TIME</th>\n",
       "      <th>BOROUGH</th>\n",
       "      <th>ZIP CODE</th>\n",
       "      <th>LATITUDE</th>\n",
       "      <th>LONGITUDE</th>\n",
       "      <th>LOCATION</th>\n",
       "      <th>ON STREET NAME</th>\n",
       "      <th>NUMBER OF PERSONS INJURED</th>\n",
       "      <th>NUMBER OF PERSONS KILLED</th>\n",
       "      <th>...</th>\n",
       "      <th>Snow Depth</th>\n",
       "      <th>Visibility</th>\n",
       "      <th>Wind Speed</th>\n",
       "      <th>Month</th>\n",
       "      <th>BRONX</th>\n",
       "      <th>BROOKLYN</th>\n",
       "      <th>MANHATTAN</th>\n",
       "      <th>QUEENS</th>\n",
       "      <th>STATEN ISLAND</th>\n",
       "      <th>UNKNOWN</th>\n",
       "    </tr>\n",
       "  </thead>\n",
       "  <tbody>\n",
       "    <tr>\n",
       "      <th>0</th>\n",
       "      <td>2017/03/28</td>\n",
       "      <td>0</td>\n",
       "      <td>BRONX</td>\n",
       "      <td>10466</td>\n",
       "      <td>40.894600</td>\n",
       "      <td>-73.861206</td>\n",
       "      <td>(40.8946, -73.861206)</td>\n",
       "      <td>NaN</td>\n",
       "      <td>0</td>\n",
       "      <td>0</td>\n",
       "      <td>...</td>\n",
       "      <td>0.00</td>\n",
       "      <td>7.0</td>\n",
       "      <td>9</td>\n",
       "      <td>3</td>\n",
       "      <td>1</td>\n",
       "      <td>0</td>\n",
       "      <td>0</td>\n",
       "      <td>0</td>\n",
       "      <td>0</td>\n",
       "      <td>0</td>\n",
       "    </tr>\n",
       "    <tr>\n",
       "      <th>1</th>\n",
       "      <td>2017/03/28</td>\n",
       "      <td>0</td>\n",
       "      <td>BROOKLYN</td>\n",
       "      <td>11218</td>\n",
       "      <td>40.654080</td>\n",
       "      <td>-73.977610</td>\n",
       "      <td>(40.65408, -73.97761)</td>\n",
       "      <td>18 STREET</td>\n",
       "      <td>0</td>\n",
       "      <td>0</td>\n",
       "      <td>...</td>\n",
       "      <td>0.00</td>\n",
       "      <td>7.0</td>\n",
       "      <td>9</td>\n",
       "      <td>3</td>\n",
       "      <td>0</td>\n",
       "      <td>1</td>\n",
       "      <td>0</td>\n",
       "      <td>0</td>\n",
       "      <td>0</td>\n",
       "      <td>0</td>\n",
       "    </tr>\n",
       "    <tr>\n",
       "      <th>2</th>\n",
       "      <td>2017/03/28</td>\n",
       "      <td>0</td>\n",
       "      <td>BROOKLYN</td>\n",
       "      <td>11235</td>\n",
       "      <td>40.583847</td>\n",
       "      <td>-73.940590</td>\n",
       "      <td>(40.583847, -73.94059)</td>\n",
       "      <td>NaN</td>\n",
       "      <td>0</td>\n",
       "      <td>0</td>\n",
       "      <td>...</td>\n",
       "      <td>0.00</td>\n",
       "      <td>7.0</td>\n",
       "      <td>9</td>\n",
       "      <td>3</td>\n",
       "      <td>0</td>\n",
       "      <td>1</td>\n",
       "      <td>0</td>\n",
       "      <td>0</td>\n",
       "      <td>0</td>\n",
       "      <td>0</td>\n",
       "    </tr>\n",
       "    <tr>\n",
       "      <th>3</th>\n",
       "      <td>2017/03/28</td>\n",
       "      <td>0</td>\n",
       "      <td>MANHATTAN</td>\n",
       "      <td>10019</td>\n",
       "      <td>40.762770</td>\n",
       "      <td>-73.975590</td>\n",
       "      <td>(40.76277, -73.97559)</td>\n",
       "      <td>NaN</td>\n",
       "      <td>0</td>\n",
       "      <td>0</td>\n",
       "      <td>...</td>\n",
       "      <td>0.00</td>\n",
       "      <td>7.0</td>\n",
       "      <td>9</td>\n",
       "      <td>3</td>\n",
       "      <td>0</td>\n",
       "      <td>0</td>\n",
       "      <td>1</td>\n",
       "      <td>0</td>\n",
       "      <td>0</td>\n",
       "      <td>0</td>\n",
       "    </tr>\n",
       "    <tr>\n",
       "      <th>4</th>\n",
       "      <td>2017/03/28</td>\n",
       "      <td>0</td>\n",
       "      <td>QUEENS</td>\n",
       "      <td>11429</td>\n",
       "      <td>40.713715</td>\n",
       "      <td>-73.731440</td>\n",
       "      <td>(40.713715, -73.73144)</td>\n",
       "      <td>222 STREET</td>\n",
       "      <td>0</td>\n",
       "      <td>0</td>\n",
       "      <td>...</td>\n",
       "      <td>0.00</td>\n",
       "      <td>7.0</td>\n",
       "      <td>9</td>\n",
       "      <td>3</td>\n",
       "      <td>0</td>\n",
       "      <td>0</td>\n",
       "      <td>0</td>\n",
       "      <td>1</td>\n",
       "      <td>0</td>\n",
       "      <td>0</td>\n",
       "    </tr>\n",
       "  </tbody>\n",
       "</table>\n",
       "<p>5 rows × 44 columns</p>\n",
       "</div>"
      ],
      "text/plain": [
       "         Date  TIME    BOROUGH ZIP CODE   LATITUDE  LONGITUDE  \\\n",
       "0  2017/03/28     0      BRONX    10466  40.894600 -73.861206   \n",
       "1  2017/03/28     0   BROOKLYN    11218  40.654080 -73.977610   \n",
       "2  2017/03/28     0   BROOKLYN    11235  40.583847 -73.940590   \n",
       "3  2017/03/28     0  MANHATTAN    10019  40.762770 -73.975590   \n",
       "4  2017/03/28     0     QUEENS    11429  40.713715 -73.731440   \n",
       "\n",
       "                 LOCATION                    ON STREET NAME  \\\n",
       "0   (40.8946, -73.861206)                               NaN   \n",
       "1   (40.65408, -73.97761)  18 STREET                          \n",
       "2  (40.583847, -73.94059)                               NaN   \n",
       "3   (40.76277, -73.97559)                               NaN   \n",
       "4  (40.713715, -73.73144)  222 STREET                         \n",
       "\n",
       "   NUMBER OF PERSONS INJURED  NUMBER OF PERSONS KILLED   ...    Snow Depth  \\\n",
       "0                          0                         0   ...          0.00   \n",
       "1                          0                         0   ...          0.00   \n",
       "2                          0                         0   ...          0.00   \n",
       "3                          0                         0   ...          0.00   \n",
       "4                          0                         0   ...          0.00   \n",
       "\n",
       "   Visibility  Wind Speed  Month  BRONX  BROOKLYN MANHATTAN QUEENS  \\\n",
       "0         7.0           9      3      1         0         0      0   \n",
       "1         7.0           9      3      0         1         0      0   \n",
       "2         7.0           9      3      0         1         0      0   \n",
       "3         7.0           9      3      0         0         1      0   \n",
       "4         7.0           9      3      0         0         0      1   \n",
       "\n",
       "   STATEN ISLAND UNKNOWN  \n",
       "0              0       0  \n",
       "1              0       0  \n",
       "2              0       0  \n",
       "3              0       0  \n",
       "4              0       0  \n",
       "\n",
       "[5 rows x 44 columns]"
      ]
     },
     "execution_count": 14,
     "metadata": {},
     "output_type": "execute_result"
    }
   ],
   "source": [
    "df = df.join(df_BR_dummies)\n",
    "df.head()"
   ]
  },
  {
   "cell_type": "markdown",
   "metadata": {
    "deletable": true,
    "editable": true
   },
   "source": [
    "Next, vehicle types will be encoded with one hot as well."
   ]
  },
  {
   "cell_type": "code",
   "execution_count": 15,
   "metadata": {
    "collapsed": false,
    "deletable": true,
    "editable": true
   },
   "outputs": [
    {
     "data": {
      "text/plain": [
       "Counter({nan: 3932,\n",
       "         'PASSENGER VEHICLE': 456919,\n",
       "         'FIRE TRUCK': 700,\n",
       "         'SMALL COM VEH(4 TIRES) ': 12352,\n",
       "         'UNKNOWN': 17859,\n",
       "         'VAN': 22869,\n",
       "         'LARGE COM VEH(6 OR MORE TIRES)': 11129,\n",
       "         'BICYCLE': 1537,\n",
       "         'TAXI': 33520,\n",
       "         'MOTORCYCLE': 4406,\n",
       "         'SCOOTER': 262,\n",
       "         'BUS': 12317,\n",
       "         'AMBULANCE': 2087,\n",
       "         'PEDICAB': 25,\n",
       "         'SPORT UTILITY / STATION WAGON': 181379,\n",
       "         'OTHER': 20714,\n",
       "         'PICK-UP TRUCK': 12611,\n",
       "         'LIVERY VEHICLE': 8304})"
      ]
     },
     "execution_count": 15,
     "metadata": {},
     "output_type": "execute_result"
    }
   ],
   "source": [
    "Counter(df['VEHICLE TYPE CODE 1'])"
   ]
  },
  {
   "cell_type": "markdown",
   "metadata": {
    "deletable": true,
    "editable": true
   },
   "source": [
    "We will NaN values with 'OTHER'."
   ]
  },
  {
   "cell_type": "code",
   "execution_count": 16,
   "metadata": {
    "collapsed": true,
    "deletable": true,
    "editable": true
   },
   "outputs": [],
   "source": [
    "df[['VEHICLE TYPE CODE 1', 'VEHICLE TYPE CODE 2']] = df[['VEHICLE TYPE CODE 1', 'VEHICLE TYPE CODE 2']].fillna('OTHER')"
   ]
  },
  {
   "cell_type": "markdown",
   "metadata": {
    "deletable": true,
    "editable": true
   },
   "source": [
    "Before that is done, vehicles are grouped into 4 classes depending on their size:"
   ]
  },
  {
   "cell_type": "code",
   "execution_count": 17,
   "metadata": {
    "collapsed": false,
    "deletable": true,
    "editable": true
   },
   "outputs": [],
   "source": [
    "name_dict = {\n",
    "'two_wheeler': ['BICYCLE', 'PEDICAB', 'SCOOTER', 'MOTORCYCLE'],\n",
    "'small': ['PASSENGER VEHICLE', 'TAXI'],\n",
    "'medium': ['AMBULANCE', 'SPORT UTILITY / STATION WAGON', 'PICK-UP TRUCK', 'SMALL COM VEH(4 TIRES) ', 'LIVERY VEHICLE', 'VAN'],\n",
    "'large': ['BUS', 'FIRE TRUCK', 'LARGE COM VEH(6 OR MORE TIRES)'],\n",
    "'other': ['OTHER', 'UNKNOWN']}"
   ]
  },
  {
   "cell_type": "markdown",
   "metadata": {
    "deletable": true,
    "editable": true
   },
   "source": [
    "And replace those values in the dictionary."
   ]
  },
  {
   "cell_type": "code",
   "execution_count": 18,
   "metadata": {
    "collapsed": false,
    "deletable": true,
    "editable": true
   },
   "outputs": [],
   "source": [
    "df_repl = df[['VEHICLE TYPE CODE 1', 'VEHICLE TYPE CODE 2']].copy()\n",
    "\n",
    "for new_name in name_dict:\n",
    "    \n",
    "    for old_name in name_dict[new_name]:\n",
    "    \n",
    "        df_repl = df_repl[['VEHICLE TYPE CODE 1', 'VEHICLE TYPE CODE 2']].replace(to_replace=old_name, value=new_name)"
   ]
  },
  {
   "cell_type": "markdown",
   "metadata": {
    "deletable": true,
    "editable": true
   },
   "source": [
    "Now we can apply one-hot endcoding to the vehicle type as well."
   ]
  },
  {
   "cell_type": "code",
   "execution_count": 19,
   "metadata": {
    "collapsed": false,
    "deletable": true,
    "editable": true
   },
   "outputs": [
    {
     "data": {
      "text/html": [
       "<div>\n",
       "<table border=\"1\" class=\"dataframe\">\n",
       "  <thead>\n",
       "    <tr style=\"text-align: right;\">\n",
       "      <th></th>\n",
       "      <th>VTC1_large</th>\n",
       "      <th>VTC1_medium</th>\n",
       "      <th>VTC1_other</th>\n",
       "      <th>VTC1_small</th>\n",
       "      <th>VTC1_two_wheeler</th>\n",
       "      <th>VTC2_large</th>\n",
       "      <th>VTC2_medium</th>\n",
       "      <th>VTC2_other</th>\n",
       "      <th>VTC2_small</th>\n",
       "      <th>VTC2_two_wheeler</th>\n",
       "    </tr>\n",
       "  </thead>\n",
       "  <tbody>\n",
       "    <tr>\n",
       "      <th>0</th>\n",
       "      <td>0</td>\n",
       "      <td>1</td>\n",
       "      <td>0</td>\n",
       "      <td>0</td>\n",
       "      <td>0</td>\n",
       "      <td>0</td>\n",
       "      <td>0</td>\n",
       "      <td>1</td>\n",
       "      <td>0</td>\n",
       "      <td>0</td>\n",
       "    </tr>\n",
       "    <tr>\n",
       "      <th>1</th>\n",
       "      <td>0</td>\n",
       "      <td>0</td>\n",
       "      <td>0</td>\n",
       "      <td>1</td>\n",
       "      <td>0</td>\n",
       "      <td>0</td>\n",
       "      <td>0</td>\n",
       "      <td>1</td>\n",
       "      <td>0</td>\n",
       "      <td>0</td>\n",
       "    </tr>\n",
       "    <tr>\n",
       "      <th>2</th>\n",
       "      <td>0</td>\n",
       "      <td>0</td>\n",
       "      <td>0</td>\n",
       "      <td>1</td>\n",
       "      <td>0</td>\n",
       "      <td>0</td>\n",
       "      <td>0</td>\n",
       "      <td>1</td>\n",
       "      <td>0</td>\n",
       "      <td>0</td>\n",
       "    </tr>\n",
       "    <tr>\n",
       "      <th>3</th>\n",
       "      <td>0</td>\n",
       "      <td>1</td>\n",
       "      <td>0</td>\n",
       "      <td>0</td>\n",
       "      <td>0</td>\n",
       "      <td>0</td>\n",
       "      <td>0</td>\n",
       "      <td>1</td>\n",
       "      <td>0</td>\n",
       "      <td>0</td>\n",
       "    </tr>\n",
       "    <tr>\n",
       "      <th>4</th>\n",
       "      <td>0</td>\n",
       "      <td>1</td>\n",
       "      <td>0</td>\n",
       "      <td>0</td>\n",
       "      <td>0</td>\n",
       "      <td>0</td>\n",
       "      <td>0</td>\n",
       "      <td>0</td>\n",
       "      <td>1</td>\n",
       "      <td>0</td>\n",
       "    </tr>\n",
       "  </tbody>\n",
       "</table>\n",
       "</div>"
      ],
      "text/plain": [
       "   VTC1_large  VTC1_medium  VTC1_other  VTC1_small  VTC1_two_wheeler  \\\n",
       "0           0            1           0           0                 0   \n",
       "1           0            0           0           1                 0   \n",
       "2           0            0           0           1                 0   \n",
       "3           0            1           0           0                 0   \n",
       "4           0            1           0           0                 0   \n",
       "\n",
       "   VTC2_large  VTC2_medium  VTC2_other  VTC2_small  VTC2_two_wheeler  \n",
       "0           0            0           1           0                 0  \n",
       "1           0            0           1           0                 0  \n",
       "2           0            0           1           0                 0  \n",
       "3           0            0           1           0                 0  \n",
       "4           0            0           0           1                 0  "
      ]
     },
     "execution_count": 19,
     "metadata": {},
     "output_type": "execute_result"
    }
   ],
   "source": [
    "df_VT_dummies = pd.get_dummies(df_repl[['VEHICLE TYPE CODE 1', 'VEHICLE TYPE CODE 2']], prefix=['VTC1', 'VTC2'])\n",
    "df_VT_dummies.head()"
   ]
  },
  {
   "cell_type": "markdown",
   "metadata": {
    "deletable": true,
    "editable": true
   },
   "source": [
    "And we join that to the dataframe as well."
   ]
  },
  {
   "cell_type": "code",
   "execution_count": 20,
   "metadata": {
    "collapsed": false,
    "deletable": true,
    "editable": true
   },
   "outputs": [
    {
     "data": {
      "text/html": [
       "<div>\n",
       "<table border=\"1\" class=\"dataframe\">\n",
       "  <thead>\n",
       "    <tr style=\"text-align: right;\">\n",
       "      <th></th>\n",
       "      <th>Date</th>\n",
       "      <th>TIME</th>\n",
       "      <th>BOROUGH</th>\n",
       "      <th>ZIP CODE</th>\n",
       "      <th>LATITUDE</th>\n",
       "      <th>LONGITUDE</th>\n",
       "      <th>LOCATION</th>\n",
       "      <th>ON STREET NAME</th>\n",
       "      <th>NUMBER OF PERSONS INJURED</th>\n",
       "      <th>NUMBER OF PERSONS KILLED</th>\n",
       "      <th>...</th>\n",
       "      <th>VTC1_large</th>\n",
       "      <th>VTC1_medium</th>\n",
       "      <th>VTC1_other</th>\n",
       "      <th>VTC1_small</th>\n",
       "      <th>VTC1_two_wheeler</th>\n",
       "      <th>VTC2_large</th>\n",
       "      <th>VTC2_medium</th>\n",
       "      <th>VTC2_other</th>\n",
       "      <th>VTC2_small</th>\n",
       "      <th>VTC2_two_wheeler</th>\n",
       "    </tr>\n",
       "  </thead>\n",
       "  <tbody>\n",
       "    <tr>\n",
       "      <th>0</th>\n",
       "      <td>2017/03/28</td>\n",
       "      <td>0</td>\n",
       "      <td>BRONX</td>\n",
       "      <td>10466</td>\n",
       "      <td>40.894600</td>\n",
       "      <td>-73.861206</td>\n",
       "      <td>(40.8946, -73.861206)</td>\n",
       "      <td>NaN</td>\n",
       "      <td>0</td>\n",
       "      <td>0</td>\n",
       "      <td>...</td>\n",
       "      <td>0</td>\n",
       "      <td>1</td>\n",
       "      <td>0</td>\n",
       "      <td>0</td>\n",
       "      <td>0</td>\n",
       "      <td>0</td>\n",
       "      <td>0</td>\n",
       "      <td>1</td>\n",
       "      <td>0</td>\n",
       "      <td>0</td>\n",
       "    </tr>\n",
       "    <tr>\n",
       "      <th>1</th>\n",
       "      <td>2017/03/28</td>\n",
       "      <td>0</td>\n",
       "      <td>BROOKLYN</td>\n",
       "      <td>11218</td>\n",
       "      <td>40.654080</td>\n",
       "      <td>-73.977610</td>\n",
       "      <td>(40.65408, -73.97761)</td>\n",
       "      <td>18 STREET</td>\n",
       "      <td>0</td>\n",
       "      <td>0</td>\n",
       "      <td>...</td>\n",
       "      <td>0</td>\n",
       "      <td>0</td>\n",
       "      <td>0</td>\n",
       "      <td>1</td>\n",
       "      <td>0</td>\n",
       "      <td>0</td>\n",
       "      <td>0</td>\n",
       "      <td>1</td>\n",
       "      <td>0</td>\n",
       "      <td>0</td>\n",
       "    </tr>\n",
       "    <tr>\n",
       "      <th>2</th>\n",
       "      <td>2017/03/28</td>\n",
       "      <td>0</td>\n",
       "      <td>BROOKLYN</td>\n",
       "      <td>11235</td>\n",
       "      <td>40.583847</td>\n",
       "      <td>-73.940590</td>\n",
       "      <td>(40.583847, -73.94059)</td>\n",
       "      <td>NaN</td>\n",
       "      <td>0</td>\n",
       "      <td>0</td>\n",
       "      <td>...</td>\n",
       "      <td>0</td>\n",
       "      <td>0</td>\n",
       "      <td>0</td>\n",
       "      <td>1</td>\n",
       "      <td>0</td>\n",
       "      <td>0</td>\n",
       "      <td>0</td>\n",
       "      <td>1</td>\n",
       "      <td>0</td>\n",
       "      <td>0</td>\n",
       "    </tr>\n",
       "    <tr>\n",
       "      <th>3</th>\n",
       "      <td>2017/03/28</td>\n",
       "      <td>0</td>\n",
       "      <td>MANHATTAN</td>\n",
       "      <td>10019</td>\n",
       "      <td>40.762770</td>\n",
       "      <td>-73.975590</td>\n",
       "      <td>(40.76277, -73.97559)</td>\n",
       "      <td>NaN</td>\n",
       "      <td>0</td>\n",
       "      <td>0</td>\n",
       "      <td>...</td>\n",
       "      <td>0</td>\n",
       "      <td>1</td>\n",
       "      <td>0</td>\n",
       "      <td>0</td>\n",
       "      <td>0</td>\n",
       "      <td>0</td>\n",
       "      <td>0</td>\n",
       "      <td>1</td>\n",
       "      <td>0</td>\n",
       "      <td>0</td>\n",
       "    </tr>\n",
       "    <tr>\n",
       "      <th>4</th>\n",
       "      <td>2017/03/28</td>\n",
       "      <td>0</td>\n",
       "      <td>QUEENS</td>\n",
       "      <td>11429</td>\n",
       "      <td>40.713715</td>\n",
       "      <td>-73.731440</td>\n",
       "      <td>(40.713715, -73.73144)</td>\n",
       "      <td>222 STREET</td>\n",
       "      <td>0</td>\n",
       "      <td>0</td>\n",
       "      <td>...</td>\n",
       "      <td>0</td>\n",
       "      <td>1</td>\n",
       "      <td>0</td>\n",
       "      <td>0</td>\n",
       "      <td>0</td>\n",
       "      <td>0</td>\n",
       "      <td>0</td>\n",
       "      <td>0</td>\n",
       "      <td>1</td>\n",
       "      <td>0</td>\n",
       "    </tr>\n",
       "  </tbody>\n",
       "</table>\n",
       "<p>5 rows × 54 columns</p>\n",
       "</div>"
      ],
      "text/plain": [
       "         Date  TIME    BOROUGH ZIP CODE   LATITUDE  LONGITUDE  \\\n",
       "0  2017/03/28     0      BRONX    10466  40.894600 -73.861206   \n",
       "1  2017/03/28     0   BROOKLYN    11218  40.654080 -73.977610   \n",
       "2  2017/03/28     0   BROOKLYN    11235  40.583847 -73.940590   \n",
       "3  2017/03/28     0  MANHATTAN    10019  40.762770 -73.975590   \n",
       "4  2017/03/28     0     QUEENS    11429  40.713715 -73.731440   \n",
       "\n",
       "                 LOCATION                    ON STREET NAME  \\\n",
       "0   (40.8946, -73.861206)                               NaN   \n",
       "1   (40.65408, -73.97761)  18 STREET                          \n",
       "2  (40.583847, -73.94059)                               NaN   \n",
       "3   (40.76277, -73.97559)                               NaN   \n",
       "4  (40.713715, -73.73144)  222 STREET                         \n",
       "\n",
       "   NUMBER OF PERSONS INJURED  NUMBER OF PERSONS KILLED       ...         \\\n",
       "0                          0                         0       ...          \n",
       "1                          0                         0       ...          \n",
       "2                          0                         0       ...          \n",
       "3                          0                         0       ...          \n",
       "4                          0                         0       ...          \n",
       "\n",
       "   VTC1_large  VTC1_medium  VTC1_other  VTC1_small  VTC1_two_wheeler  \\\n",
       "0           0            1           0           0                 0   \n",
       "1           0            0           0           1                 0   \n",
       "2           0            0           0           1                 0   \n",
       "3           0            1           0           0                 0   \n",
       "4           0            1           0           0                 0   \n",
       "\n",
       "   VTC2_large VTC2_medium VTC2_other  VTC2_small VTC2_two_wheeler  \n",
       "0           0           0          1           0                0  \n",
       "1           0           0          1           0                0  \n",
       "2           0           0          1           0                0  \n",
       "3           0           0          1           0                0  \n",
       "4           0           0          0           1                0  \n",
       "\n",
       "[5 rows x 54 columns]"
      ]
     },
     "execution_count": 20,
     "metadata": {},
     "output_type": "execute_result"
    }
   ],
   "source": [
    "df = df.join(df_VT_dummies)\n",
    "df.head()"
   ]
  },
  {
   "cell_type": "markdown",
   "metadata": {},
   "source": [
    "Lastly, we do one-hot encoding for events. First we start by replacing NaN with Other."
   ]
  },
  {
   "cell_type": "code",
   "execution_count": 21,
   "metadata": {
    "collapsed": false
   },
   "outputs": [],
   "source": [
    "df['Events'] = df['Events'].fillna('Other')"
   ]
  },
  {
   "cell_type": "code",
   "execution_count": 22,
   "metadata": {
    "collapsed": false
   },
   "outputs": [
    {
     "data": {
      "text/plain": [
       "array(['Fog', 'Fog\\n\\t,\\nRain', 'Fog\\n\\t,\\nRain\\n\\t,\\nSnow',\n",
       "       'Fog\\n\\t,\\nSnow', 'Other', 'Rain', 'Rain\\n\\t,\\nSnow', 'Snow'], dtype=object)"
      ]
     },
     "execution_count": 22,
     "metadata": {},
     "output_type": "execute_result"
    }
   ],
   "source": [
    "np.unique(df['Events'])"
   ]
  },
  {
   "cell_type": "code",
   "execution_count": 23,
   "metadata": {
    "collapsed": false
   },
   "outputs": [],
   "source": [
    "df_EV_dummies = pd.DataFrame(columns=['Rain', 'Snow', 'Fog', 'Other'], index=df.index)"
   ]
  },
  {
   "cell_type": "code",
   "execution_count": 24,
   "metadata": {
    "collapsed": true
   },
   "outputs": [],
   "source": [
    "for column in df_EV_dummies.columns:\n",
    "    df_EV_dummies[column] = np.zeros(df.shape[0])"
   ]
  },
  {
   "cell_type": "code",
   "execution_count": 25,
   "metadata": {
    "collapsed": false
   },
   "outputs": [
    {
     "data": {
      "text/html": [
       "<div>\n",
       "<table border=\"1\" class=\"dataframe\">\n",
       "  <thead>\n",
       "    <tr style=\"text-align: right;\">\n",
       "      <th></th>\n",
       "      <th>Rain</th>\n",
       "      <th>Snow</th>\n",
       "      <th>Fog</th>\n",
       "      <th>Other</th>\n",
       "    </tr>\n",
       "  </thead>\n",
       "  <tbody>\n",
       "    <tr>\n",
       "      <th>0</th>\n",
       "      <td>0.0</td>\n",
       "      <td>0.0</td>\n",
       "      <td>0.0</td>\n",
       "      <td>0.0</td>\n",
       "    </tr>\n",
       "    <tr>\n",
       "      <th>1</th>\n",
       "      <td>0.0</td>\n",
       "      <td>0.0</td>\n",
       "      <td>0.0</td>\n",
       "      <td>0.0</td>\n",
       "    </tr>\n",
       "    <tr>\n",
       "      <th>2</th>\n",
       "      <td>0.0</td>\n",
       "      <td>0.0</td>\n",
       "      <td>0.0</td>\n",
       "      <td>0.0</td>\n",
       "    </tr>\n",
       "    <tr>\n",
       "      <th>3</th>\n",
       "      <td>0.0</td>\n",
       "      <td>0.0</td>\n",
       "      <td>0.0</td>\n",
       "      <td>0.0</td>\n",
       "    </tr>\n",
       "    <tr>\n",
       "      <th>4</th>\n",
       "      <td>0.0</td>\n",
       "      <td>0.0</td>\n",
       "      <td>0.0</td>\n",
       "      <td>0.0</td>\n",
       "    </tr>\n",
       "  </tbody>\n",
       "</table>\n",
       "</div>"
      ],
      "text/plain": [
       "   Rain  Snow  Fog  Other\n",
       "0   0.0   0.0  0.0    0.0\n",
       "1   0.0   0.0  0.0    0.0\n",
       "2   0.0   0.0  0.0    0.0\n",
       "3   0.0   0.0  0.0    0.0\n",
       "4   0.0   0.0  0.0    0.0"
      ]
     },
     "execution_count": 25,
     "metadata": {},
     "output_type": "execute_result"
    }
   ],
   "source": [
    "df_EV_dummies.head()"
   ]
  },
  {
   "cell_type": "code",
   "execution_count": 26,
   "metadata": {
    "collapsed": false
   },
   "outputs": [],
   "source": [
    "# loop through all rows in the dataframe\n",
    "for index, row in enumerate(df['Events']):\n",
    "    \n",
    "    for event in row.split(','):\n",
    "        \n",
    "        event = event.strip()\n",
    "        \n",
    "        for c_idx, column in enumerate(['Rain', 'Snow', 'Fog', 'Other']):\n",
    "            \n",
    "            if event == column:\n",
    "                df_EV_dummies.iloc[index, c_idx] = 1"
   ]
  },
  {
   "cell_type": "code",
   "execution_count": 27,
   "metadata": {
    "collapsed": false
   },
   "outputs": [
    {
     "data": {
      "text/html": [
       "<div>\n",
       "<table border=\"1\" class=\"dataframe\">\n",
       "  <thead>\n",
       "    <tr style=\"text-align: right;\">\n",
       "      <th></th>\n",
       "      <th>Rain</th>\n",
       "      <th>Snow</th>\n",
       "      <th>Fog</th>\n",
       "      <th>Other</th>\n",
       "    </tr>\n",
       "  </thead>\n",
       "  <tbody>\n",
       "    <tr>\n",
       "      <th>230844</th>\n",
       "      <td>1.0</td>\n",
       "      <td>1.0</td>\n",
       "      <td>1.0</td>\n",
       "      <td>0.0</td>\n",
       "    </tr>\n",
       "    <tr>\n",
       "      <th>230845</th>\n",
       "      <td>1.0</td>\n",
       "      <td>1.0</td>\n",
       "      <td>1.0</td>\n",
       "      <td>0.0</td>\n",
       "    </tr>\n",
       "    <tr>\n",
       "      <th>230846</th>\n",
       "      <td>1.0</td>\n",
       "      <td>1.0</td>\n",
       "      <td>1.0</td>\n",
       "      <td>0.0</td>\n",
       "    </tr>\n",
       "    <tr>\n",
       "      <th>230847</th>\n",
       "      <td>1.0</td>\n",
       "      <td>1.0</td>\n",
       "      <td>1.0</td>\n",
       "      <td>0.0</td>\n",
       "    </tr>\n",
       "    <tr>\n",
       "      <th>230848</th>\n",
       "      <td>1.0</td>\n",
       "      <td>1.0</td>\n",
       "      <td>1.0</td>\n",
       "      <td>0.0</td>\n",
       "    </tr>\n",
       "  </tbody>\n",
       "</table>\n",
       "</div>"
      ],
      "text/plain": [
       "        Rain  Snow  Fog  Other\n",
       "230844   1.0   1.0  1.0    0.0\n",
       "230845   1.0   1.0  1.0    0.0\n",
       "230846   1.0   1.0  1.0    0.0\n",
       "230847   1.0   1.0  1.0    0.0\n",
       "230848   1.0   1.0  1.0    0.0"
      ]
     },
     "execution_count": 27,
     "metadata": {},
     "output_type": "execute_result"
    }
   ],
   "source": [
    "# checking if the code worked\n",
    "df_EV_dummies[df['Events'] == 'Fog\\n\\t,\\nRain\\n\\t,\\nSnow'].head()"
   ]
  },
  {
   "cell_type": "markdown",
   "metadata": {},
   "source": [
    "Rename columns because of same names in the main df, and remove the Other column as it does not provide valuable information."
   ]
  },
  {
   "cell_type": "code",
   "execution_count": 28,
   "metadata": {
    "collapsed": false
   },
   "outputs": [],
   "source": [
    "df_EV_dummies.columns = ['Rain_EV', 'Snow_EV', 'Fog_EV', 'Other_EV']\n",
    "df_EV_dummies = df_EV_dummies.drop('Other_EV', axis=1)"
   ]
  },
  {
   "cell_type": "code",
   "execution_count": 29,
   "metadata": {
    "collapsed": false
   },
   "outputs": [
    {
     "data": {
      "text/html": [
       "<div>\n",
       "<table border=\"1\" class=\"dataframe\">\n",
       "  <thead>\n",
       "    <tr style=\"text-align: right;\">\n",
       "      <th></th>\n",
       "      <th>Rain_EV</th>\n",
       "      <th>Snow_EV</th>\n",
       "      <th>Fog_EV</th>\n",
       "    </tr>\n",
       "  </thead>\n",
       "  <tbody>\n",
       "    <tr>\n",
       "      <th>0</th>\n",
       "      <td>1.0</td>\n",
       "      <td>0.0</td>\n",
       "      <td>0.0</td>\n",
       "    </tr>\n",
       "    <tr>\n",
       "      <th>1</th>\n",
       "      <td>1.0</td>\n",
       "      <td>0.0</td>\n",
       "      <td>0.0</td>\n",
       "    </tr>\n",
       "    <tr>\n",
       "      <th>2</th>\n",
       "      <td>1.0</td>\n",
       "      <td>0.0</td>\n",
       "      <td>0.0</td>\n",
       "    </tr>\n",
       "    <tr>\n",
       "      <th>3</th>\n",
       "      <td>1.0</td>\n",
       "      <td>0.0</td>\n",
       "      <td>0.0</td>\n",
       "    </tr>\n",
       "    <tr>\n",
       "      <th>4</th>\n",
       "      <td>1.0</td>\n",
       "      <td>0.0</td>\n",
       "      <td>0.0</td>\n",
       "    </tr>\n",
       "  </tbody>\n",
       "</table>\n",
       "</div>"
      ],
      "text/plain": [
       "   Rain_EV  Snow_EV  Fog_EV\n",
       "0      1.0      0.0     0.0\n",
       "1      1.0      0.0     0.0\n",
       "2      1.0      0.0     0.0\n",
       "3      1.0      0.0     0.0\n",
       "4      1.0      0.0     0.0"
      ]
     },
     "execution_count": 29,
     "metadata": {},
     "output_type": "execute_result"
    }
   ],
   "source": [
    "df_EV_dummies.head()"
   ]
  },
  {
   "cell_type": "markdown",
   "metadata": {},
   "source": [
    "Now we can join the even and main dataframes."
   ]
  },
  {
   "cell_type": "code",
   "execution_count": 30,
   "metadata": {
    "collapsed": false
   },
   "outputs": [],
   "source": [
    "df = df.join(df_EV_dummies)"
   ]
  },
  {
   "cell_type": "code",
   "execution_count": 31,
   "metadata": {
    "collapsed": false
   },
   "outputs": [
    {
     "data": {
      "text/html": [
       "<div>\n",
       "<table border=\"1\" class=\"dataframe\">\n",
       "  <thead>\n",
       "    <tr style=\"text-align: right;\">\n",
       "      <th></th>\n",
       "      <th>Date</th>\n",
       "      <th>TIME</th>\n",
       "      <th>BOROUGH</th>\n",
       "      <th>ZIP CODE</th>\n",
       "      <th>LATITUDE</th>\n",
       "      <th>LONGITUDE</th>\n",
       "      <th>LOCATION</th>\n",
       "      <th>ON STREET NAME</th>\n",
       "      <th>NUMBER OF PERSONS INJURED</th>\n",
       "      <th>NUMBER OF PERSONS KILLED</th>\n",
       "      <th>...</th>\n",
       "      <th>VTC1_small</th>\n",
       "      <th>VTC1_two_wheeler</th>\n",
       "      <th>VTC2_large</th>\n",
       "      <th>VTC2_medium</th>\n",
       "      <th>VTC2_other</th>\n",
       "      <th>VTC2_small</th>\n",
       "      <th>VTC2_two_wheeler</th>\n",
       "      <th>Rain_EV</th>\n",
       "      <th>Snow_EV</th>\n",
       "      <th>Fog_EV</th>\n",
       "    </tr>\n",
       "  </thead>\n",
       "  <tbody>\n",
       "    <tr>\n",
       "      <th>0</th>\n",
       "      <td>2017/03/28</td>\n",
       "      <td>0</td>\n",
       "      <td>BRONX</td>\n",
       "      <td>10466</td>\n",
       "      <td>40.894600</td>\n",
       "      <td>-73.861206</td>\n",
       "      <td>(40.8946, -73.861206)</td>\n",
       "      <td>NaN</td>\n",
       "      <td>0</td>\n",
       "      <td>0</td>\n",
       "      <td>...</td>\n",
       "      <td>0</td>\n",
       "      <td>0</td>\n",
       "      <td>0</td>\n",
       "      <td>0</td>\n",
       "      <td>1</td>\n",
       "      <td>0</td>\n",
       "      <td>0</td>\n",
       "      <td>1.0</td>\n",
       "      <td>0.0</td>\n",
       "      <td>0.0</td>\n",
       "    </tr>\n",
       "    <tr>\n",
       "      <th>1</th>\n",
       "      <td>2017/03/28</td>\n",
       "      <td>0</td>\n",
       "      <td>BROOKLYN</td>\n",
       "      <td>11218</td>\n",
       "      <td>40.654080</td>\n",
       "      <td>-73.977610</td>\n",
       "      <td>(40.65408, -73.97761)</td>\n",
       "      <td>18 STREET</td>\n",
       "      <td>0</td>\n",
       "      <td>0</td>\n",
       "      <td>...</td>\n",
       "      <td>1</td>\n",
       "      <td>0</td>\n",
       "      <td>0</td>\n",
       "      <td>0</td>\n",
       "      <td>1</td>\n",
       "      <td>0</td>\n",
       "      <td>0</td>\n",
       "      <td>1.0</td>\n",
       "      <td>0.0</td>\n",
       "      <td>0.0</td>\n",
       "    </tr>\n",
       "    <tr>\n",
       "      <th>2</th>\n",
       "      <td>2017/03/28</td>\n",
       "      <td>0</td>\n",
       "      <td>BROOKLYN</td>\n",
       "      <td>11235</td>\n",
       "      <td>40.583847</td>\n",
       "      <td>-73.940590</td>\n",
       "      <td>(40.583847, -73.94059)</td>\n",
       "      <td>NaN</td>\n",
       "      <td>0</td>\n",
       "      <td>0</td>\n",
       "      <td>...</td>\n",
       "      <td>1</td>\n",
       "      <td>0</td>\n",
       "      <td>0</td>\n",
       "      <td>0</td>\n",
       "      <td>1</td>\n",
       "      <td>0</td>\n",
       "      <td>0</td>\n",
       "      <td>1.0</td>\n",
       "      <td>0.0</td>\n",
       "      <td>0.0</td>\n",
       "    </tr>\n",
       "    <tr>\n",
       "      <th>3</th>\n",
       "      <td>2017/03/28</td>\n",
       "      <td>0</td>\n",
       "      <td>MANHATTAN</td>\n",
       "      <td>10019</td>\n",
       "      <td>40.762770</td>\n",
       "      <td>-73.975590</td>\n",
       "      <td>(40.76277, -73.97559)</td>\n",
       "      <td>NaN</td>\n",
       "      <td>0</td>\n",
       "      <td>0</td>\n",
       "      <td>...</td>\n",
       "      <td>0</td>\n",
       "      <td>0</td>\n",
       "      <td>0</td>\n",
       "      <td>0</td>\n",
       "      <td>1</td>\n",
       "      <td>0</td>\n",
       "      <td>0</td>\n",
       "      <td>1.0</td>\n",
       "      <td>0.0</td>\n",
       "      <td>0.0</td>\n",
       "    </tr>\n",
       "    <tr>\n",
       "      <th>4</th>\n",
       "      <td>2017/03/28</td>\n",
       "      <td>0</td>\n",
       "      <td>QUEENS</td>\n",
       "      <td>11429</td>\n",
       "      <td>40.713715</td>\n",
       "      <td>-73.731440</td>\n",
       "      <td>(40.713715, -73.73144)</td>\n",
       "      <td>222 STREET</td>\n",
       "      <td>0</td>\n",
       "      <td>0</td>\n",
       "      <td>...</td>\n",
       "      <td>0</td>\n",
       "      <td>0</td>\n",
       "      <td>0</td>\n",
       "      <td>0</td>\n",
       "      <td>0</td>\n",
       "      <td>1</td>\n",
       "      <td>0</td>\n",
       "      <td>1.0</td>\n",
       "      <td>0.0</td>\n",
       "      <td>0.0</td>\n",
       "    </tr>\n",
       "  </tbody>\n",
       "</table>\n",
       "<p>5 rows × 57 columns</p>\n",
       "</div>"
      ],
      "text/plain": [
       "         Date  TIME    BOROUGH ZIP CODE   LATITUDE  LONGITUDE  \\\n",
       "0  2017/03/28     0      BRONX    10466  40.894600 -73.861206   \n",
       "1  2017/03/28     0   BROOKLYN    11218  40.654080 -73.977610   \n",
       "2  2017/03/28     0   BROOKLYN    11235  40.583847 -73.940590   \n",
       "3  2017/03/28     0  MANHATTAN    10019  40.762770 -73.975590   \n",
       "4  2017/03/28     0     QUEENS    11429  40.713715 -73.731440   \n",
       "\n",
       "                 LOCATION                    ON STREET NAME  \\\n",
       "0   (40.8946, -73.861206)                               NaN   \n",
       "1   (40.65408, -73.97761)  18 STREET                          \n",
       "2  (40.583847, -73.94059)                               NaN   \n",
       "3   (40.76277, -73.97559)                               NaN   \n",
       "4  (40.713715, -73.73144)  222 STREET                         \n",
       "\n",
       "   NUMBER OF PERSONS INJURED  NUMBER OF PERSONS KILLED  ...    VTC1_small  \\\n",
       "0                          0                         0  ...             0   \n",
       "1                          0                         0  ...             1   \n",
       "2                          0                         0  ...             1   \n",
       "3                          0                         0  ...             0   \n",
       "4                          0                         0  ...             0   \n",
       "\n",
       "   VTC1_two_wheeler  VTC2_large  VTC2_medium  VTC2_other  VTC2_small  \\\n",
       "0                 0           0            0           1           0   \n",
       "1                 0           0            0           1           0   \n",
       "2                 0           0            0           1           0   \n",
       "3                 0           0            0           1           0   \n",
       "4                 0           0            0           0           1   \n",
       "\n",
       "  VTC2_two_wheeler Rain_EV  Snow_EV Fog_EV  \n",
       "0                0     1.0      0.0    0.0  \n",
       "1                0     1.0      0.0    0.0  \n",
       "2                0     1.0      0.0    0.0  \n",
       "3                0     1.0      0.0    0.0  \n",
       "4                0     1.0      0.0    0.0  \n",
       "\n",
       "[5 rows x 57 columns]"
      ]
     },
     "execution_count": 31,
     "metadata": {},
     "output_type": "execute_result"
    }
   ],
   "source": [
    "df.head()"
   ]
  },
  {
   "cell_type": "markdown",
   "metadata": {},
   "source": [
    "We also model the contributing factor in vehicle one."
   ]
  },
  {
   "cell_type": "code",
   "execution_count": 32,
   "metadata": {
    "collapsed": false,
    "scrolled": true
   },
   "outputs": [
    {
     "data": {
      "text/plain": [
       "['Driver Inattention/Distraction',\n",
       " 'Fatigued/Drowsy',\n",
       " 'Failure to Yield Right-of-Way',\n",
       " 'Other Vehicular',\n",
       " 'Backing Unsafely',\n",
       " 'Turning Improperly',\n",
       " 'Lost Consciousness',\n",
       " 'Prescription Medication',\n",
       " 'Traffic Control Disregarded',\n",
       " 'Driver Inexperience',\n",
       " 'Following Too Closely',\n",
       " 'Pavement Slippery',\n",
       " 'Outside Car Distraction',\n",
       " 'Physical Disability',\n",
       " 'Alcohol Involvement']"
      ]
     },
     "execution_count": 32,
     "metadata": {},
     "output_type": "execute_result"
    }
   ],
   "source": [
    "cont_to_keep = []\n",
    "\n",
    "for i in Counter(df['CONTRIBUTING FACTOR VEHICLE 1']).most_common(16):\n",
    "    cont_to_keep.append(i[0])\n",
    "\n",
    "cont_to_keep.remove('Unspecified')\n",
    "cont_to_keep"
   ]
  },
  {
   "cell_type": "markdown",
   "metadata": {},
   "source": [
    "In the end we have 338228 observations that had some contributing factor:"
   ]
  },
  {
   "cell_type": "code",
   "execution_count": 33,
   "metadata": {
    "collapsed": false
   },
   "outputs": [
    {
     "data": {
      "text/plain": [
       "(338228, 57)"
      ]
     },
     "execution_count": 33,
     "metadata": {},
     "output_type": "execute_result"
    }
   ],
   "source": [
    "df[df['CONTRIBUTING FACTOR VEHICLE 1'].isin(cont_to_keep)].shape"
   ]
  },
  {
   "cell_type": "code",
   "execution_count": 34,
   "metadata": {
    "collapsed": true
   },
   "outputs": [],
   "source": [
    "df = df[df['CONTRIBUTING FACTOR VEHICLE 1'].isin(cont_to_keep)]"
   ]
  },
  {
   "cell_type": "code",
   "execution_count": 35,
   "metadata": {
    "collapsed": false
   },
   "outputs": [
    {
     "data": {
      "text/html": [
       "<div>\n",
       "<table border=\"1\" class=\"dataframe\">\n",
       "  <thead>\n",
       "    <tr style=\"text-align: right;\">\n",
       "      <th></th>\n",
       "      <th>Alcohol Involvement</th>\n",
       "      <th>Backing Unsafely</th>\n",
       "      <th>Driver Inattention/Distraction</th>\n",
       "      <th>Driver Inexperience</th>\n",
       "      <th>Failure to Yield Right-of-Way</th>\n",
       "      <th>Fatigued/Drowsy</th>\n",
       "      <th>Following Too Closely</th>\n",
       "      <th>Lost Consciousness</th>\n",
       "      <th>Other Vehicular</th>\n",
       "      <th>Outside Car Distraction</th>\n",
       "      <th>Pavement Slippery</th>\n",
       "      <th>Physical Disability</th>\n",
       "      <th>Prescription Medication</th>\n",
       "      <th>Traffic Control Disregarded</th>\n",
       "      <th>Turning Improperly</th>\n",
       "    </tr>\n",
       "  </thead>\n",
       "  <tbody>\n",
       "    <tr>\n",
       "      <th>0</th>\n",
       "      <td>0</td>\n",
       "      <td>0</td>\n",
       "      <td>1</td>\n",
       "      <td>0</td>\n",
       "      <td>0</td>\n",
       "      <td>0</td>\n",
       "      <td>0</td>\n",
       "      <td>0</td>\n",
       "      <td>0</td>\n",
       "      <td>0</td>\n",
       "      <td>0</td>\n",
       "      <td>0</td>\n",
       "      <td>0</td>\n",
       "      <td>0</td>\n",
       "      <td>0</td>\n",
       "    </tr>\n",
       "    <tr>\n",
       "      <th>2</th>\n",
       "      <td>0</td>\n",
       "      <td>0</td>\n",
       "      <td>1</td>\n",
       "      <td>0</td>\n",
       "      <td>0</td>\n",
       "      <td>0</td>\n",
       "      <td>0</td>\n",
       "      <td>0</td>\n",
       "      <td>0</td>\n",
       "      <td>0</td>\n",
       "      <td>0</td>\n",
       "      <td>0</td>\n",
       "      <td>0</td>\n",
       "      <td>0</td>\n",
       "      <td>0</td>\n",
       "    </tr>\n",
       "    <tr>\n",
       "      <th>4</th>\n",
       "      <td>0</td>\n",
       "      <td>0</td>\n",
       "      <td>0</td>\n",
       "      <td>0</td>\n",
       "      <td>1</td>\n",
       "      <td>0</td>\n",
       "      <td>0</td>\n",
       "      <td>0</td>\n",
       "      <td>0</td>\n",
       "      <td>0</td>\n",
       "      <td>0</td>\n",
       "      <td>0</td>\n",
       "      <td>0</td>\n",
       "      <td>0</td>\n",
       "      <td>0</td>\n",
       "    </tr>\n",
       "    <tr>\n",
       "      <th>5</th>\n",
       "      <td>0</td>\n",
       "      <td>0</td>\n",
       "      <td>1</td>\n",
       "      <td>0</td>\n",
       "      <td>0</td>\n",
       "      <td>0</td>\n",
       "      <td>0</td>\n",
       "      <td>0</td>\n",
       "      <td>0</td>\n",
       "      <td>0</td>\n",
       "      <td>0</td>\n",
       "      <td>0</td>\n",
       "      <td>0</td>\n",
       "      <td>0</td>\n",
       "      <td>0</td>\n",
       "    </tr>\n",
       "    <tr>\n",
       "      <th>6</th>\n",
       "      <td>0</td>\n",
       "      <td>0</td>\n",
       "      <td>0</td>\n",
       "      <td>0</td>\n",
       "      <td>0</td>\n",
       "      <td>0</td>\n",
       "      <td>1</td>\n",
       "      <td>0</td>\n",
       "      <td>0</td>\n",
       "      <td>0</td>\n",
       "      <td>0</td>\n",
       "      <td>0</td>\n",
       "      <td>0</td>\n",
       "      <td>0</td>\n",
       "      <td>0</td>\n",
       "    </tr>\n",
       "  </tbody>\n",
       "</table>\n",
       "</div>"
      ],
      "text/plain": [
       "   Alcohol Involvement  Backing Unsafely  Driver Inattention/Distraction  \\\n",
       "0                    0                 0                               1   \n",
       "2                    0                 0                               1   \n",
       "4                    0                 0                               0   \n",
       "5                    0                 0                               1   \n",
       "6                    0                 0                               0   \n",
       "\n",
       "   Driver Inexperience  Failure to Yield Right-of-Way  Fatigued/Drowsy  \\\n",
       "0                    0                              0                0   \n",
       "2                    0                              0                0   \n",
       "4                    0                              1                0   \n",
       "5                    0                              0                0   \n",
       "6                    0                              0                0   \n",
       "\n",
       "   Following Too Closely  Lost Consciousness  Other Vehicular  \\\n",
       "0                      0                   0                0   \n",
       "2                      0                   0                0   \n",
       "4                      0                   0                0   \n",
       "5                      0                   0                0   \n",
       "6                      1                   0                0   \n",
       "\n",
       "   Outside Car Distraction  Pavement Slippery  Physical Disability  \\\n",
       "0                        0                  0                    0   \n",
       "2                        0                  0                    0   \n",
       "4                        0                  0                    0   \n",
       "5                        0                  0                    0   \n",
       "6                        0                  0                    0   \n",
       "\n",
       "   Prescription Medication  Traffic Control Disregarded  Turning Improperly  \n",
       "0                        0                            0                   0  \n",
       "2                        0                            0                   0  \n",
       "4                        0                            0                   0  \n",
       "5                        0                            0                   0  \n",
       "6                        0                            0                   0  "
      ]
     },
     "execution_count": 35,
     "metadata": {},
     "output_type": "execute_result"
    }
   ],
   "source": [
    "df_CNT_dummies = pd.get_dummies(df['CONTRIBUTING FACTOR VEHICLE 1'])\n",
    "df_CNT_dummies.head()"
   ]
  },
  {
   "cell_type": "code",
   "execution_count": 36,
   "metadata": {
    "collapsed": false
   },
   "outputs": [
    {
     "data": {
      "text/html": [
       "<div>\n",
       "<table border=\"1\" class=\"dataframe\">\n",
       "  <thead>\n",
       "    <tr style=\"text-align: right;\">\n",
       "      <th></th>\n",
       "      <th>Date</th>\n",
       "      <th>TIME</th>\n",
       "      <th>BOROUGH</th>\n",
       "      <th>ZIP CODE</th>\n",
       "      <th>LATITUDE</th>\n",
       "      <th>LONGITUDE</th>\n",
       "      <th>LOCATION</th>\n",
       "      <th>ON STREET NAME</th>\n",
       "      <th>NUMBER OF PERSONS INJURED</th>\n",
       "      <th>NUMBER OF PERSONS KILLED</th>\n",
       "      <th>...</th>\n",
       "      <th>Fatigued/Drowsy</th>\n",
       "      <th>Following Too Closely</th>\n",
       "      <th>Lost Consciousness</th>\n",
       "      <th>Other Vehicular</th>\n",
       "      <th>Outside Car Distraction</th>\n",
       "      <th>Pavement Slippery</th>\n",
       "      <th>Physical Disability</th>\n",
       "      <th>Prescription Medication</th>\n",
       "      <th>Traffic Control Disregarded</th>\n",
       "      <th>Turning Improperly</th>\n",
       "    </tr>\n",
       "  </thead>\n",
       "  <tbody>\n",
       "    <tr>\n",
       "      <th>0</th>\n",
       "      <td>2017/03/28</td>\n",
       "      <td>0</td>\n",
       "      <td>BRONX</td>\n",
       "      <td>10466</td>\n",
       "      <td>40.894600</td>\n",
       "      <td>-73.861206</td>\n",
       "      <td>(40.8946, -73.861206)</td>\n",
       "      <td>NaN</td>\n",
       "      <td>0</td>\n",
       "      <td>0</td>\n",
       "      <td>...</td>\n",
       "      <td>0</td>\n",
       "      <td>0</td>\n",
       "      <td>0</td>\n",
       "      <td>0</td>\n",
       "      <td>0</td>\n",
       "      <td>0</td>\n",
       "      <td>0</td>\n",
       "      <td>0</td>\n",
       "      <td>0</td>\n",
       "      <td>0</td>\n",
       "    </tr>\n",
       "    <tr>\n",
       "      <th>2</th>\n",
       "      <td>2017/03/28</td>\n",
       "      <td>0</td>\n",
       "      <td>BROOKLYN</td>\n",
       "      <td>11235</td>\n",
       "      <td>40.583847</td>\n",
       "      <td>-73.940590</td>\n",
       "      <td>(40.583847, -73.94059)</td>\n",
       "      <td>NaN</td>\n",
       "      <td>0</td>\n",
       "      <td>0</td>\n",
       "      <td>...</td>\n",
       "      <td>0</td>\n",
       "      <td>0</td>\n",
       "      <td>0</td>\n",
       "      <td>0</td>\n",
       "      <td>0</td>\n",
       "      <td>0</td>\n",
       "      <td>0</td>\n",
       "      <td>0</td>\n",
       "      <td>0</td>\n",
       "      <td>0</td>\n",
       "    </tr>\n",
       "    <tr>\n",
       "      <th>4</th>\n",
       "      <td>2017/03/28</td>\n",
       "      <td>0</td>\n",
       "      <td>QUEENS</td>\n",
       "      <td>11429</td>\n",
       "      <td>40.713715</td>\n",
       "      <td>-73.731440</td>\n",
       "      <td>(40.713715, -73.73144)</td>\n",
       "      <td>222 STREET</td>\n",
       "      <td>0</td>\n",
       "      <td>0</td>\n",
       "      <td>...</td>\n",
       "      <td>0</td>\n",
       "      <td>0</td>\n",
       "      <td>0</td>\n",
       "      <td>0</td>\n",
       "      <td>0</td>\n",
       "      <td>0</td>\n",
       "      <td>0</td>\n",
       "      <td>0</td>\n",
       "      <td>0</td>\n",
       "      <td>0</td>\n",
       "    </tr>\n",
       "    <tr>\n",
       "      <th>5</th>\n",
       "      <td>2017/03/28</td>\n",
       "      <td>0</td>\n",
       "      <td>UNKNOWN</td>\n",
       "      <td>NaN</td>\n",
       "      <td>40.803585</td>\n",
       "      <td>-73.915520</td>\n",
       "      <td>(40.803585, -73.91552)</td>\n",
       "      <td>NaN</td>\n",
       "      <td>0</td>\n",
       "      <td>0</td>\n",
       "      <td>...</td>\n",
       "      <td>0</td>\n",
       "      <td>0</td>\n",
       "      <td>0</td>\n",
       "      <td>0</td>\n",
       "      <td>0</td>\n",
       "      <td>0</td>\n",
       "      <td>0</td>\n",
       "      <td>0</td>\n",
       "      <td>0</td>\n",
       "      <td>0</td>\n",
       "    </tr>\n",
       "    <tr>\n",
       "      <th>6</th>\n",
       "      <td>2017/03/28</td>\n",
       "      <td>0</td>\n",
       "      <td>UNKNOWN</td>\n",
       "      <td>NaN</td>\n",
       "      <td>40.835194</td>\n",
       "      <td>-73.874054</td>\n",
       "      <td>(40.835194, -73.874054)</td>\n",
       "      <td>NaN</td>\n",
       "      <td>0</td>\n",
       "      <td>0</td>\n",
       "      <td>...</td>\n",
       "      <td>0</td>\n",
       "      <td>1</td>\n",
       "      <td>0</td>\n",
       "      <td>0</td>\n",
       "      <td>0</td>\n",
       "      <td>0</td>\n",
       "      <td>0</td>\n",
       "      <td>0</td>\n",
       "      <td>0</td>\n",
       "      <td>0</td>\n",
       "    </tr>\n",
       "  </tbody>\n",
       "</table>\n",
       "<p>5 rows × 72 columns</p>\n",
       "</div>"
      ],
      "text/plain": [
       "         Date  TIME   BOROUGH ZIP CODE   LATITUDE  LONGITUDE  \\\n",
       "0  2017/03/28     0     BRONX    10466  40.894600 -73.861206   \n",
       "2  2017/03/28     0  BROOKLYN    11235  40.583847 -73.940590   \n",
       "4  2017/03/28     0    QUEENS    11429  40.713715 -73.731440   \n",
       "5  2017/03/28     0   UNKNOWN      NaN  40.803585 -73.915520   \n",
       "6  2017/03/28     0   UNKNOWN      NaN  40.835194 -73.874054   \n",
       "\n",
       "                  LOCATION                    ON STREET NAME  \\\n",
       "0    (40.8946, -73.861206)                               NaN   \n",
       "2   (40.583847, -73.94059)                               NaN   \n",
       "4   (40.713715, -73.73144)  222 STREET                         \n",
       "5   (40.803585, -73.91552)                               NaN   \n",
       "6  (40.835194, -73.874054)                               NaN   \n",
       "\n",
       "   NUMBER OF PERSONS INJURED  NUMBER OF PERSONS KILLED        ...          \\\n",
       "0                          0                         0        ...           \n",
       "2                          0                         0        ...           \n",
       "4                          0                         0        ...           \n",
       "5                          0                         0        ...           \n",
       "6                          0                         0        ...           \n",
       "\n",
       "   Fatigued/Drowsy  Following Too Closely  Lost Consciousness  \\\n",
       "0                0                      0                   0   \n",
       "2                0                      0                   0   \n",
       "4                0                      0                   0   \n",
       "5                0                      0                   0   \n",
       "6                0                      1                   0   \n",
       "\n",
       "   Other Vehicular  Outside Car Distraction  Pavement Slippery  \\\n",
       "0                0                        0                  0   \n",
       "2                0                        0                  0   \n",
       "4                0                        0                  0   \n",
       "5                0                        0                  0   \n",
       "6                0                        0                  0   \n",
       "\n",
       "  Physical Disability Prescription Medication  Traffic Control Disregarded  \\\n",
       "0                   0                       0                            0   \n",
       "2                   0                       0                            0   \n",
       "4                   0                       0                            0   \n",
       "5                   0                       0                            0   \n",
       "6                   0                       0                            0   \n",
       "\n",
       "  Turning Improperly  \n",
       "0                  0  \n",
       "2                  0  \n",
       "4                  0  \n",
       "5                  0  \n",
       "6                  0  \n",
       "\n",
       "[5 rows x 72 columns]"
      ]
     },
     "execution_count": 36,
     "metadata": {},
     "output_type": "execute_result"
    }
   ],
   "source": [
    "df = df.join(df_CNT_dummies)\n",
    "df.head()"
   ]
  },
  {
   "cell_type": "markdown",
   "metadata": {
    "deletable": true,
    "editable": true
   },
   "source": [
    "Now we can select the relevant columns for modelling:"
   ]
  },
  {
   "cell_type": "code",
   "execution_count": 37,
   "metadata": {
    "collapsed": false,
    "deletable": true,
    "editable": true
   },
   "outputs": [
    {
     "data": {
      "text/plain": [
       "Index(['Date', 'TIME', 'BOROUGH', 'ZIP CODE', 'LATITUDE', 'LONGITUDE',\n",
       "       'LOCATION', 'ON STREET NAME', 'NUMBER OF PERSONS INJURED',\n",
       "       'NUMBER OF PERSONS KILLED', 'NUMBER OF PEDESTRIANS INJURED',\n",
       "       'NUMBER OF PEDESTRIANS KILLED', 'NUMBER OF CYCLIST INJURED',\n",
       "       'NUMBER OF CYCLIST KILLED', 'NUMBER OF MOTORIST INJURED',\n",
       "       'NUMBER OF MOTORIST KILLED', 'CONTRIBUTING FACTOR VEHICLE 1',\n",
       "       'CONTRIBUTING FACTOR VEHICLE 2', 'UNIQUE KEY', 'VEHICLE TYPE CODE 1',\n",
       "       'VEHICLE TYPE CODE 2', 'Average Humidity', 'Dew Point', 'Events',\n",
       "       'Max Gust Speed', 'Max Temperature', 'Max Wind Speed',\n",
       "       'Maximum Humidity', 'Mean Temperature', 'Min Temperature',\n",
       "       'Minimum Humidity', 'Precipitation', 'Sea Level Pressure', 'Snow',\n",
       "       'Snow Depth', 'Visibility', 'Wind Speed', 'Month', 'BRONX', 'BROOKLYN',\n",
       "       'MANHATTAN', 'QUEENS', 'STATEN ISLAND', 'UNKNOWN', 'VTC1_large',\n",
       "       'VTC1_medium', 'VTC1_other', 'VTC1_small', 'VTC1_two_wheeler',\n",
       "       'VTC2_large', 'VTC2_medium', 'VTC2_other', 'VTC2_small',\n",
       "       'VTC2_two_wheeler', 'Rain_EV', 'Snow_EV', 'Fog_EV',\n",
       "       'Alcohol Involvement', 'Backing Unsafely',\n",
       "       'Driver Inattention/Distraction', 'Driver Inexperience',\n",
       "       'Failure to Yield Right-of-Way', 'Fatigued/Drowsy',\n",
       "       'Following Too Closely', 'Lost Consciousness', 'Other Vehicular',\n",
       "       'Outside Car Distraction', 'Pavement Slippery', 'Physical Disability',\n",
       "       'Prescription Medication', 'Traffic Control Disregarded',\n",
       "       'Turning Improperly'],\n",
       "      dtype='object')"
      ]
     },
     "execution_count": 37,
     "metadata": {},
     "output_type": "execute_result"
    }
   ],
   "source": [
    "df.columns"
   ]
  },
  {
   "cell_type": "code",
   "execution_count": 38,
   "metadata": {
    "collapsed": false,
    "deletable": true,
    "editable": true
   },
   "outputs": [],
   "source": [
    "df_ml = df.drop(['Date', 'BOROUGH', 'ZIP CODE', 'LATITUDE', 'LONGITUDE',\n",
    "       'LOCATION', 'ON STREET NAME', 'CONTRIBUTING FACTOR VEHICLE 1',\n",
    "       'CONTRIBUTING FACTOR VEHICLE 2', 'UNIQUE KEY', 'VEHICLE TYPE CODE 1',\n",
    "       'VEHICLE TYPE CODE 2', 'Events'], axis=1)"
   ]
  },
  {
   "cell_type": "code",
   "execution_count": 39,
   "metadata": {
    "collapsed": false,
    "deletable": true,
    "editable": true
   },
   "outputs": [
    {
     "data": {
      "text/html": [
       "<div>\n",
       "<table border=\"1\" class=\"dataframe\">\n",
       "  <thead>\n",
       "    <tr style=\"text-align: right;\">\n",
       "      <th></th>\n",
       "      <th>TIME</th>\n",
       "      <th>NUMBER OF PERSONS INJURED</th>\n",
       "      <th>NUMBER OF PERSONS KILLED</th>\n",
       "      <th>NUMBER OF PEDESTRIANS INJURED</th>\n",
       "      <th>NUMBER OF PEDESTRIANS KILLED</th>\n",
       "      <th>NUMBER OF CYCLIST INJURED</th>\n",
       "      <th>NUMBER OF CYCLIST KILLED</th>\n",
       "      <th>NUMBER OF MOTORIST INJURED</th>\n",
       "      <th>NUMBER OF MOTORIST KILLED</th>\n",
       "      <th>Average Humidity</th>\n",
       "      <th>...</th>\n",
       "      <th>Fatigued/Drowsy</th>\n",
       "      <th>Following Too Closely</th>\n",
       "      <th>Lost Consciousness</th>\n",
       "      <th>Other Vehicular</th>\n",
       "      <th>Outside Car Distraction</th>\n",
       "      <th>Pavement Slippery</th>\n",
       "      <th>Physical Disability</th>\n",
       "      <th>Prescription Medication</th>\n",
       "      <th>Traffic Control Disregarded</th>\n",
       "      <th>Turning Improperly</th>\n",
       "    </tr>\n",
       "  </thead>\n",
       "  <tbody>\n",
       "    <tr>\n",
       "      <th>0</th>\n",
       "      <td>0</td>\n",
       "      <td>0</td>\n",
       "      <td>0</td>\n",
       "      <td>0</td>\n",
       "      <td>0</td>\n",
       "      <td>0</td>\n",
       "      <td>0</td>\n",
       "      <td>0</td>\n",
       "      <td>0</td>\n",
       "      <td>95</td>\n",
       "      <td>...</td>\n",
       "      <td>0</td>\n",
       "      <td>0</td>\n",
       "      <td>0</td>\n",
       "      <td>0</td>\n",
       "      <td>0</td>\n",
       "      <td>0</td>\n",
       "      <td>0</td>\n",
       "      <td>0</td>\n",
       "      <td>0</td>\n",
       "      <td>0</td>\n",
       "    </tr>\n",
       "    <tr>\n",
       "      <th>2</th>\n",
       "      <td>0</td>\n",
       "      <td>0</td>\n",
       "      <td>0</td>\n",
       "      <td>0</td>\n",
       "      <td>0</td>\n",
       "      <td>0</td>\n",
       "      <td>0</td>\n",
       "      <td>0</td>\n",
       "      <td>0</td>\n",
       "      <td>95</td>\n",
       "      <td>...</td>\n",
       "      <td>0</td>\n",
       "      <td>0</td>\n",
       "      <td>0</td>\n",
       "      <td>0</td>\n",
       "      <td>0</td>\n",
       "      <td>0</td>\n",
       "      <td>0</td>\n",
       "      <td>0</td>\n",
       "      <td>0</td>\n",
       "      <td>0</td>\n",
       "    </tr>\n",
       "    <tr>\n",
       "      <th>4</th>\n",
       "      <td>0</td>\n",
       "      <td>0</td>\n",
       "      <td>0</td>\n",
       "      <td>0</td>\n",
       "      <td>0</td>\n",
       "      <td>0</td>\n",
       "      <td>0</td>\n",
       "      <td>0</td>\n",
       "      <td>0</td>\n",
       "      <td>95</td>\n",
       "      <td>...</td>\n",
       "      <td>0</td>\n",
       "      <td>0</td>\n",
       "      <td>0</td>\n",
       "      <td>0</td>\n",
       "      <td>0</td>\n",
       "      <td>0</td>\n",
       "      <td>0</td>\n",
       "      <td>0</td>\n",
       "      <td>0</td>\n",
       "      <td>0</td>\n",
       "    </tr>\n",
       "    <tr>\n",
       "      <th>5</th>\n",
       "      <td>0</td>\n",
       "      <td>0</td>\n",
       "      <td>0</td>\n",
       "      <td>0</td>\n",
       "      <td>0</td>\n",
       "      <td>0</td>\n",
       "      <td>0</td>\n",
       "      <td>0</td>\n",
       "      <td>0</td>\n",
       "      <td>95</td>\n",
       "      <td>...</td>\n",
       "      <td>0</td>\n",
       "      <td>0</td>\n",
       "      <td>0</td>\n",
       "      <td>0</td>\n",
       "      <td>0</td>\n",
       "      <td>0</td>\n",
       "      <td>0</td>\n",
       "      <td>0</td>\n",
       "      <td>0</td>\n",
       "      <td>0</td>\n",
       "    </tr>\n",
       "    <tr>\n",
       "      <th>6</th>\n",
       "      <td>0</td>\n",
       "      <td>0</td>\n",
       "      <td>0</td>\n",
       "      <td>0</td>\n",
       "      <td>0</td>\n",
       "      <td>0</td>\n",
       "      <td>0</td>\n",
       "      <td>0</td>\n",
       "      <td>0</td>\n",
       "      <td>95</td>\n",
       "      <td>...</td>\n",
       "      <td>0</td>\n",
       "      <td>1</td>\n",
       "      <td>0</td>\n",
       "      <td>0</td>\n",
       "      <td>0</td>\n",
       "      <td>0</td>\n",
       "      <td>0</td>\n",
       "      <td>0</td>\n",
       "      <td>0</td>\n",
       "      <td>0</td>\n",
       "    </tr>\n",
       "    <tr>\n",
       "      <th>7</th>\n",
       "      <td>0</td>\n",
       "      <td>0</td>\n",
       "      <td>0</td>\n",
       "      <td>0</td>\n",
       "      <td>0</td>\n",
       "      <td>0</td>\n",
       "      <td>0</td>\n",
       "      <td>0</td>\n",
       "      <td>0</td>\n",
       "      <td>95</td>\n",
       "      <td>...</td>\n",
       "      <td>0</td>\n",
       "      <td>0</td>\n",
       "      <td>0</td>\n",
       "      <td>0</td>\n",
       "      <td>0</td>\n",
       "      <td>0</td>\n",
       "      <td>0</td>\n",
       "      <td>0</td>\n",
       "      <td>0</td>\n",
       "      <td>0</td>\n",
       "    </tr>\n",
       "    <tr>\n",
       "      <th>8</th>\n",
       "      <td>0</td>\n",
       "      <td>0</td>\n",
       "      <td>0</td>\n",
       "      <td>0</td>\n",
       "      <td>0</td>\n",
       "      <td>0</td>\n",
       "      <td>0</td>\n",
       "      <td>0</td>\n",
       "      <td>0</td>\n",
       "      <td>95</td>\n",
       "      <td>...</td>\n",
       "      <td>0</td>\n",
       "      <td>0</td>\n",
       "      <td>0</td>\n",
       "      <td>0</td>\n",
       "      <td>0</td>\n",
       "      <td>0</td>\n",
       "      <td>0</td>\n",
       "      <td>0</td>\n",
       "      <td>0</td>\n",
       "      <td>0</td>\n",
       "    </tr>\n",
       "    <tr>\n",
       "      <th>13</th>\n",
       "      <td>10</td>\n",
       "      <td>0</td>\n",
       "      <td>0</td>\n",
       "      <td>0</td>\n",
       "      <td>0</td>\n",
       "      <td>0</td>\n",
       "      <td>0</td>\n",
       "      <td>0</td>\n",
       "      <td>0</td>\n",
       "      <td>95</td>\n",
       "      <td>...</td>\n",
       "      <td>0</td>\n",
       "      <td>0</td>\n",
       "      <td>0</td>\n",
       "      <td>0</td>\n",
       "      <td>0</td>\n",
       "      <td>0</td>\n",
       "      <td>0</td>\n",
       "      <td>0</td>\n",
       "      <td>0</td>\n",
       "      <td>0</td>\n",
       "    </tr>\n",
       "    <tr>\n",
       "      <th>16</th>\n",
       "      <td>10</td>\n",
       "      <td>1</td>\n",
       "      <td>0</td>\n",
       "      <td>1</td>\n",
       "      <td>0</td>\n",
       "      <td>0</td>\n",
       "      <td>0</td>\n",
       "      <td>0</td>\n",
       "      <td>0</td>\n",
       "      <td>95</td>\n",
       "      <td>...</td>\n",
       "      <td>0</td>\n",
       "      <td>0</td>\n",
       "      <td>0</td>\n",
       "      <td>0</td>\n",
       "      <td>0</td>\n",
       "      <td>0</td>\n",
       "      <td>0</td>\n",
       "      <td>0</td>\n",
       "      <td>0</td>\n",
       "      <td>0</td>\n",
       "    </tr>\n",
       "    <tr>\n",
       "      <th>18</th>\n",
       "      <td>10</td>\n",
       "      <td>0</td>\n",
       "      <td>0</td>\n",
       "      <td>0</td>\n",
       "      <td>0</td>\n",
       "      <td>0</td>\n",
       "      <td>0</td>\n",
       "      <td>0</td>\n",
       "      <td>0</td>\n",
       "      <td>95</td>\n",
       "      <td>...</td>\n",
       "      <td>0</td>\n",
       "      <td>0</td>\n",
       "      <td>0</td>\n",
       "      <td>0</td>\n",
       "      <td>0</td>\n",
       "      <td>0</td>\n",
       "      <td>0</td>\n",
       "      <td>0</td>\n",
       "      <td>0</td>\n",
       "      <td>0</td>\n",
       "    </tr>\n",
       "  </tbody>\n",
       "</table>\n",
       "<p>10 rows × 59 columns</p>\n",
       "</div>"
      ],
      "text/plain": [
       "    TIME  NUMBER OF PERSONS INJURED  NUMBER OF PERSONS KILLED  \\\n",
       "0      0                          0                         0   \n",
       "2      0                          0                         0   \n",
       "4      0                          0                         0   \n",
       "5      0                          0                         0   \n",
       "6      0                          0                         0   \n",
       "7      0                          0                         0   \n",
       "8      0                          0                         0   \n",
       "13    10                          0                         0   \n",
       "16    10                          1                         0   \n",
       "18    10                          0                         0   \n",
       "\n",
       "    NUMBER OF PEDESTRIANS INJURED  NUMBER OF PEDESTRIANS KILLED  \\\n",
       "0                               0                             0   \n",
       "2                               0                             0   \n",
       "4                               0                             0   \n",
       "5                               0                             0   \n",
       "6                               0                             0   \n",
       "7                               0                             0   \n",
       "8                               0                             0   \n",
       "13                              0                             0   \n",
       "16                              1                             0   \n",
       "18                              0                             0   \n",
       "\n",
       "    NUMBER OF CYCLIST INJURED  NUMBER OF CYCLIST KILLED  \\\n",
       "0                           0                         0   \n",
       "2                           0                         0   \n",
       "4                           0                         0   \n",
       "5                           0                         0   \n",
       "6                           0                         0   \n",
       "7                           0                         0   \n",
       "8                           0                         0   \n",
       "13                          0                         0   \n",
       "16                          0                         0   \n",
       "18                          0                         0   \n",
       "\n",
       "    NUMBER OF MOTORIST INJURED  NUMBER OF MOTORIST KILLED  Average Humidity  \\\n",
       "0                            0                          0                95   \n",
       "2                            0                          0                95   \n",
       "4                            0                          0                95   \n",
       "5                            0                          0                95   \n",
       "6                            0                          0                95   \n",
       "7                            0                          0                95   \n",
       "8                            0                          0                95   \n",
       "13                           0                          0                95   \n",
       "16                           0                          0                95   \n",
       "18                           0                          0                95   \n",
       "\n",
       "           ...          Fatigued/Drowsy Following Too Closely  \\\n",
       "0          ...                        0                     0   \n",
       "2          ...                        0                     0   \n",
       "4          ...                        0                     0   \n",
       "5          ...                        0                     0   \n",
       "6          ...                        0                     1   \n",
       "7          ...                        0                     0   \n",
       "8          ...                        0                     0   \n",
       "13         ...                        0                     0   \n",
       "16         ...                        0                     0   \n",
       "18         ...                        0                     0   \n",
       "\n",
       "    Lost Consciousness Other Vehicular  Outside Car Distraction  \\\n",
       "0                    0               0                        0   \n",
       "2                    0               0                        0   \n",
       "4                    0               0                        0   \n",
       "5                    0               0                        0   \n",
       "6                    0               0                        0   \n",
       "7                    0               0                        0   \n",
       "8                    0               0                        0   \n",
       "13                   0               0                        0   \n",
       "16                   0               0                        0   \n",
       "18                   0               0                        0   \n",
       "\n",
       "    Pavement Slippery  Physical Disability  Prescription Medication  \\\n",
       "0                   0                    0                        0   \n",
       "2                   0                    0                        0   \n",
       "4                   0                    0                        0   \n",
       "5                   0                    0                        0   \n",
       "6                   0                    0                        0   \n",
       "7                   0                    0                        0   \n",
       "8                   0                    0                        0   \n",
       "13                  0                    0                        0   \n",
       "16                  0                    0                        0   \n",
       "18                  0                    0                        0   \n",
       "\n",
       "   Traffic Control Disregarded  Turning Improperly  \n",
       "0                            0                   0  \n",
       "2                            0                   0  \n",
       "4                            0                   0  \n",
       "5                            0                   0  \n",
       "6                            0                   0  \n",
       "7                            0                   0  \n",
       "8                            0                   0  \n",
       "13                           0                   0  \n",
       "16                           0                   0  \n",
       "18                           0                   0  \n",
       "\n",
       "[10 rows x 59 columns]"
      ]
     },
     "execution_count": 39,
     "metadata": {},
     "output_type": "execute_result"
    }
   ],
   "source": [
    "df_ml.head(10)"
   ]
  },
  {
   "cell_type": "markdown",
   "metadata": {
    "deletable": true,
    "editable": true
   },
   "source": [
    "Now we need to add our y (any person injured or killed) to our dataframe."
   ]
  },
  {
   "cell_type": "code",
   "execution_count": 40,
   "metadata": {
    "collapsed": true,
    "deletable": true,
    "editable": true
   },
   "outputs": [],
   "source": [
    "df_ml['Y'] = np.zeros(df.shape[0])"
   ]
  },
  {
   "cell_type": "code",
   "execution_count": 41,
   "metadata": {
    "collapsed": true,
    "deletable": true,
    "editable": true
   },
   "outputs": [],
   "source": [
    "def fill_Y(row):\n",
    "    \n",
    "    if np.any(row[['NUMBER OF PERSONS INJURED',\n",
    "       'NUMBER OF PERSONS KILLED', 'NUMBER OF PEDESTRIANS INJURED',\n",
    "       'NUMBER OF PEDESTRIANS KILLED', 'NUMBER OF CYCLIST INJURED',\n",
    "       'NUMBER OF CYCLIST KILLED', 'NUMBER OF MOTORIST INJURED',\n",
    "       'NUMBER OF MOTORIST KILLED']] > 0):\n",
    "        return 1\n",
    "    else:\n",
    "        return 0"
   ]
  },
  {
   "cell_type": "code",
   "execution_count": 42,
   "metadata": {
    "collapsed": false,
    "deletable": true,
    "editable": true
   },
   "outputs": [],
   "source": [
    "df_ml['Y'] = df_ml.apply(lambda x: fill_Y(x), axis=1)"
   ]
  },
  {
   "cell_type": "code",
   "execution_count": 43,
   "metadata": {
    "collapsed": false,
    "deletable": true,
    "editable": true
   },
   "outputs": [
    {
     "data": {
      "text/html": [
       "<div>\n",
       "<table border=\"1\" class=\"dataframe\">\n",
       "  <thead>\n",
       "    <tr style=\"text-align: right;\">\n",
       "      <th></th>\n",
       "      <th>TIME</th>\n",
       "      <th>NUMBER OF PERSONS INJURED</th>\n",
       "      <th>NUMBER OF PERSONS KILLED</th>\n",
       "      <th>NUMBER OF PEDESTRIANS INJURED</th>\n",
       "      <th>NUMBER OF PEDESTRIANS KILLED</th>\n",
       "      <th>NUMBER OF CYCLIST INJURED</th>\n",
       "      <th>NUMBER OF CYCLIST KILLED</th>\n",
       "      <th>NUMBER OF MOTORIST INJURED</th>\n",
       "      <th>NUMBER OF MOTORIST KILLED</th>\n",
       "      <th>Average Humidity</th>\n",
       "      <th>...</th>\n",
       "      <th>Following Too Closely</th>\n",
       "      <th>Lost Consciousness</th>\n",
       "      <th>Other Vehicular</th>\n",
       "      <th>Outside Car Distraction</th>\n",
       "      <th>Pavement Slippery</th>\n",
       "      <th>Physical Disability</th>\n",
       "      <th>Prescription Medication</th>\n",
       "      <th>Traffic Control Disregarded</th>\n",
       "      <th>Turning Improperly</th>\n",
       "      <th>Y</th>\n",
       "    </tr>\n",
       "  </thead>\n",
       "  <tbody>\n",
       "    <tr>\n",
       "      <th>0</th>\n",
       "      <td>0</td>\n",
       "      <td>0</td>\n",
       "      <td>0</td>\n",
       "      <td>0</td>\n",
       "      <td>0</td>\n",
       "      <td>0</td>\n",
       "      <td>0</td>\n",
       "      <td>0</td>\n",
       "      <td>0</td>\n",
       "      <td>95</td>\n",
       "      <td>...</td>\n",
       "      <td>0</td>\n",
       "      <td>0</td>\n",
       "      <td>0</td>\n",
       "      <td>0</td>\n",
       "      <td>0</td>\n",
       "      <td>0</td>\n",
       "      <td>0</td>\n",
       "      <td>0</td>\n",
       "      <td>0</td>\n",
       "      <td>0</td>\n",
       "    </tr>\n",
       "    <tr>\n",
       "      <th>2</th>\n",
       "      <td>0</td>\n",
       "      <td>0</td>\n",
       "      <td>0</td>\n",
       "      <td>0</td>\n",
       "      <td>0</td>\n",
       "      <td>0</td>\n",
       "      <td>0</td>\n",
       "      <td>0</td>\n",
       "      <td>0</td>\n",
       "      <td>95</td>\n",
       "      <td>...</td>\n",
       "      <td>0</td>\n",
       "      <td>0</td>\n",
       "      <td>0</td>\n",
       "      <td>0</td>\n",
       "      <td>0</td>\n",
       "      <td>0</td>\n",
       "      <td>0</td>\n",
       "      <td>0</td>\n",
       "      <td>0</td>\n",
       "      <td>0</td>\n",
       "    </tr>\n",
       "    <tr>\n",
       "      <th>4</th>\n",
       "      <td>0</td>\n",
       "      <td>0</td>\n",
       "      <td>0</td>\n",
       "      <td>0</td>\n",
       "      <td>0</td>\n",
       "      <td>0</td>\n",
       "      <td>0</td>\n",
       "      <td>0</td>\n",
       "      <td>0</td>\n",
       "      <td>95</td>\n",
       "      <td>...</td>\n",
       "      <td>0</td>\n",
       "      <td>0</td>\n",
       "      <td>0</td>\n",
       "      <td>0</td>\n",
       "      <td>0</td>\n",
       "      <td>0</td>\n",
       "      <td>0</td>\n",
       "      <td>0</td>\n",
       "      <td>0</td>\n",
       "      <td>0</td>\n",
       "    </tr>\n",
       "    <tr>\n",
       "      <th>5</th>\n",
       "      <td>0</td>\n",
       "      <td>0</td>\n",
       "      <td>0</td>\n",
       "      <td>0</td>\n",
       "      <td>0</td>\n",
       "      <td>0</td>\n",
       "      <td>0</td>\n",
       "      <td>0</td>\n",
       "      <td>0</td>\n",
       "      <td>95</td>\n",
       "      <td>...</td>\n",
       "      <td>0</td>\n",
       "      <td>0</td>\n",
       "      <td>0</td>\n",
       "      <td>0</td>\n",
       "      <td>0</td>\n",
       "      <td>0</td>\n",
       "      <td>0</td>\n",
       "      <td>0</td>\n",
       "      <td>0</td>\n",
       "      <td>0</td>\n",
       "    </tr>\n",
       "    <tr>\n",
       "      <th>6</th>\n",
       "      <td>0</td>\n",
       "      <td>0</td>\n",
       "      <td>0</td>\n",
       "      <td>0</td>\n",
       "      <td>0</td>\n",
       "      <td>0</td>\n",
       "      <td>0</td>\n",
       "      <td>0</td>\n",
       "      <td>0</td>\n",
       "      <td>95</td>\n",
       "      <td>...</td>\n",
       "      <td>1</td>\n",
       "      <td>0</td>\n",
       "      <td>0</td>\n",
       "      <td>0</td>\n",
       "      <td>0</td>\n",
       "      <td>0</td>\n",
       "      <td>0</td>\n",
       "      <td>0</td>\n",
       "      <td>0</td>\n",
       "      <td>0</td>\n",
       "    </tr>\n",
       "    <tr>\n",
       "      <th>7</th>\n",
       "      <td>0</td>\n",
       "      <td>0</td>\n",
       "      <td>0</td>\n",
       "      <td>0</td>\n",
       "      <td>0</td>\n",
       "      <td>0</td>\n",
       "      <td>0</td>\n",
       "      <td>0</td>\n",
       "      <td>0</td>\n",
       "      <td>95</td>\n",
       "      <td>...</td>\n",
       "      <td>0</td>\n",
       "      <td>0</td>\n",
       "      <td>0</td>\n",
       "      <td>0</td>\n",
       "      <td>0</td>\n",
       "      <td>0</td>\n",
       "      <td>0</td>\n",
       "      <td>0</td>\n",
       "      <td>0</td>\n",
       "      <td>0</td>\n",
       "    </tr>\n",
       "    <tr>\n",
       "      <th>8</th>\n",
       "      <td>0</td>\n",
       "      <td>0</td>\n",
       "      <td>0</td>\n",
       "      <td>0</td>\n",
       "      <td>0</td>\n",
       "      <td>0</td>\n",
       "      <td>0</td>\n",
       "      <td>0</td>\n",
       "      <td>0</td>\n",
       "      <td>95</td>\n",
       "      <td>...</td>\n",
       "      <td>0</td>\n",
       "      <td>0</td>\n",
       "      <td>0</td>\n",
       "      <td>0</td>\n",
       "      <td>0</td>\n",
       "      <td>0</td>\n",
       "      <td>0</td>\n",
       "      <td>0</td>\n",
       "      <td>0</td>\n",
       "      <td>0</td>\n",
       "    </tr>\n",
       "    <tr>\n",
       "      <th>13</th>\n",
       "      <td>10</td>\n",
       "      <td>0</td>\n",
       "      <td>0</td>\n",
       "      <td>0</td>\n",
       "      <td>0</td>\n",
       "      <td>0</td>\n",
       "      <td>0</td>\n",
       "      <td>0</td>\n",
       "      <td>0</td>\n",
       "      <td>95</td>\n",
       "      <td>...</td>\n",
       "      <td>0</td>\n",
       "      <td>0</td>\n",
       "      <td>0</td>\n",
       "      <td>0</td>\n",
       "      <td>0</td>\n",
       "      <td>0</td>\n",
       "      <td>0</td>\n",
       "      <td>0</td>\n",
       "      <td>0</td>\n",
       "      <td>0</td>\n",
       "    </tr>\n",
       "    <tr>\n",
       "      <th>16</th>\n",
       "      <td>10</td>\n",
       "      <td>1</td>\n",
       "      <td>0</td>\n",
       "      <td>1</td>\n",
       "      <td>0</td>\n",
       "      <td>0</td>\n",
       "      <td>0</td>\n",
       "      <td>0</td>\n",
       "      <td>0</td>\n",
       "      <td>95</td>\n",
       "      <td>...</td>\n",
       "      <td>0</td>\n",
       "      <td>0</td>\n",
       "      <td>0</td>\n",
       "      <td>0</td>\n",
       "      <td>0</td>\n",
       "      <td>0</td>\n",
       "      <td>0</td>\n",
       "      <td>0</td>\n",
       "      <td>0</td>\n",
       "      <td>1</td>\n",
       "    </tr>\n",
       "    <tr>\n",
       "      <th>18</th>\n",
       "      <td>10</td>\n",
       "      <td>0</td>\n",
       "      <td>0</td>\n",
       "      <td>0</td>\n",
       "      <td>0</td>\n",
       "      <td>0</td>\n",
       "      <td>0</td>\n",
       "      <td>0</td>\n",
       "      <td>0</td>\n",
       "      <td>95</td>\n",
       "      <td>...</td>\n",
       "      <td>0</td>\n",
       "      <td>0</td>\n",
       "      <td>0</td>\n",
       "      <td>0</td>\n",
       "      <td>0</td>\n",
       "      <td>0</td>\n",
       "      <td>0</td>\n",
       "      <td>0</td>\n",
       "      <td>0</td>\n",
       "      <td>0</td>\n",
       "    </tr>\n",
       "  </tbody>\n",
       "</table>\n",
       "<p>10 rows × 60 columns</p>\n",
       "</div>"
      ],
      "text/plain": [
       "    TIME  NUMBER OF PERSONS INJURED  NUMBER OF PERSONS KILLED  \\\n",
       "0      0                          0                         0   \n",
       "2      0                          0                         0   \n",
       "4      0                          0                         0   \n",
       "5      0                          0                         0   \n",
       "6      0                          0                         0   \n",
       "7      0                          0                         0   \n",
       "8      0                          0                         0   \n",
       "13    10                          0                         0   \n",
       "16    10                          1                         0   \n",
       "18    10                          0                         0   \n",
       "\n",
       "    NUMBER OF PEDESTRIANS INJURED  NUMBER OF PEDESTRIANS KILLED  \\\n",
       "0                               0                             0   \n",
       "2                               0                             0   \n",
       "4                               0                             0   \n",
       "5                               0                             0   \n",
       "6                               0                             0   \n",
       "7                               0                             0   \n",
       "8                               0                             0   \n",
       "13                              0                             0   \n",
       "16                              1                             0   \n",
       "18                              0                             0   \n",
       "\n",
       "    NUMBER OF CYCLIST INJURED  NUMBER OF CYCLIST KILLED  \\\n",
       "0                           0                         0   \n",
       "2                           0                         0   \n",
       "4                           0                         0   \n",
       "5                           0                         0   \n",
       "6                           0                         0   \n",
       "7                           0                         0   \n",
       "8                           0                         0   \n",
       "13                          0                         0   \n",
       "16                          0                         0   \n",
       "18                          0                         0   \n",
       "\n",
       "    NUMBER OF MOTORIST INJURED  NUMBER OF MOTORIST KILLED  Average Humidity  \\\n",
       "0                            0                          0                95   \n",
       "2                            0                          0                95   \n",
       "4                            0                          0                95   \n",
       "5                            0                          0                95   \n",
       "6                            0                          0                95   \n",
       "7                            0                          0                95   \n",
       "8                            0                          0                95   \n",
       "13                           0                          0                95   \n",
       "16                           0                          0                95   \n",
       "18                           0                          0                95   \n",
       "\n",
       "   ...  Following Too Closely Lost Consciousness  Other Vehicular  \\\n",
       "0  ...                      0                  0                0   \n",
       "2  ...                      0                  0                0   \n",
       "4  ...                      0                  0                0   \n",
       "5  ...                      0                  0                0   \n",
       "6  ...                      1                  0                0   \n",
       "7  ...                      0                  0                0   \n",
       "8  ...                      0                  0                0   \n",
       "13 ...                      0                  0                0   \n",
       "16 ...                      0                  0                0   \n",
       "18 ...                      0                  0                0   \n",
       "\n",
       "   Outside Car Distraction  Pavement Slippery  Physical Disability  \\\n",
       "0                        0                  0                    0   \n",
       "2                        0                  0                    0   \n",
       "4                        0                  0                    0   \n",
       "5                        0                  0                    0   \n",
       "6                        0                  0                    0   \n",
       "7                        0                  0                    0   \n",
       "8                        0                  0                    0   \n",
       "13                       0                  0                    0   \n",
       "16                       0                  0                    0   \n",
       "18                       0                  0                    0   \n",
       "\n",
       "    Prescription Medication  Traffic Control Disregarded Turning Improperly  Y  \n",
       "0                         0                            0                  0  0  \n",
       "2                         0                            0                  0  0  \n",
       "4                         0                            0                  0  0  \n",
       "5                         0                            0                  0  0  \n",
       "6                         0                            0                  0  0  \n",
       "7                         0                            0                  0  0  \n",
       "8                         0                            0                  0  0  \n",
       "13                        0                            0                  0  0  \n",
       "16                        0                            0                  0  1  \n",
       "18                        0                            0                  0  0  \n",
       "\n",
       "[10 rows x 60 columns]"
      ]
     },
     "execution_count": 43,
     "metadata": {},
     "output_type": "execute_result"
    }
   ],
   "source": [
    "df_ml.head(10)"
   ]
  },
  {
   "cell_type": "markdown",
   "metadata": {},
   "source": [
    "There are some strange values in some of the rows still that should be numeric - for example in the 'Snow' column there are some rows with 'T' instead of snow depth. This also causes that column to be encoded as strings instead of numbers.\n",
    "\n",
    "Therefore we need to cast the cells to numbers where we can."
   ]
  },
  {
   "cell_type": "code",
   "execution_count": 44,
   "metadata": {
    "collapsed": false
   },
   "outputs": [
    {
     "data": {
      "text/plain": [
       "[('0.00', 307777), ('T', 14699), ('1.02', 1222), ('1.27', 1075), (nan, 983)]"
      ]
     },
     "execution_count": 44,
     "metadata": {},
     "output_type": "execute_result"
    }
   ],
   "source": [
    "Counter(df_ml['Snow']).most_common(5)"
   ]
  },
  {
   "cell_type": "markdown",
   "metadata": {},
   "source": [
    "Those that are encoded as strings:\n",
    "\n",
    "- Max Gust Speed\n",
    "- Max Wind Speed\n",
    "- Precipitation\n",
    "- Snow\n",
    "- Snow Depth\n",
    "- Wind Speed"
   ]
  },
  {
   "cell_type": "code",
   "execution_count": 45,
   "metadata": {
    "collapsed": false
   },
   "outputs": [
    {
     "data": {
      "text/plain": [
       "'0.00'"
      ]
     },
     "execution_count": 45,
     "metadata": {},
     "output_type": "execute_result"
    }
   ],
   "source": [
    "df_ml.head()['Snow'][0]"
   ]
  },
  {
   "cell_type": "code",
   "execution_count": 46,
   "metadata": {
    "collapsed": true
   },
   "outputs": [],
   "source": [
    "def cast_to_float(x):\n",
    "    \n",
    "    try:\n",
    "        return float(x)\n",
    "        \n",
    "    except Exception as error:\n",
    "        return x"
   ]
  },
  {
   "cell_type": "code",
   "execution_count": 47,
   "metadata": {
    "collapsed": true
   },
   "outputs": [],
   "source": [
    "for column in ['Max Gust Speed', 'Max Wind Speed', 'Precipitation', 'Snow', 'Snow Depth', 'Wind Speed']:\n",
    "    \n",
    "    df_ml[column] = df_ml[column].apply(lambda x: cast_to_float(x))"
   ]
  },
  {
   "cell_type": "markdown",
   "metadata": {},
   "source": [
    "Now we can see that they have been casted to float."
   ]
  },
  {
   "cell_type": "code",
   "execution_count": 48,
   "metadata": {
    "collapsed": false
   },
   "outputs": [
    {
     "data": {
      "text/plain": [
       "0.0"
      ]
     },
     "execution_count": 48,
     "metadata": {},
     "output_type": "execute_result"
    }
   ],
   "source": [
    "df_ml.head()['Snow'][0]"
   ]
  },
  {
   "cell_type": "code",
   "execution_count": 49,
   "metadata": {
    "collapsed": false
   },
   "outputs": [
    {
     "data": {
      "text/plain": [
       "0    True\n",
       "2    True\n",
       "4    True\n",
       "5    True\n",
       "6    True\n",
       "dtype: bool"
      ]
     },
     "execution_count": 49,
     "metadata": {},
     "output_type": "execute_result"
    }
   ],
   "source": [
    "df_ml.head().applymap(np.isreal).all(1)"
   ]
  },
  {
   "cell_type": "markdown",
   "metadata": {},
   "source": [
    "Now we can select those rows that only have numeric values."
   ]
  },
  {
   "cell_type": "code",
   "execution_count": 50,
   "metadata": {
    "collapsed": false
   },
   "outputs": [],
   "source": [
    "df_ml = df_ml[df_ml.applymap(np.isreal).all(1)]"
   ]
  },
  {
   "cell_type": "code",
   "execution_count": 51,
   "metadata": {
    "collapsed": false
   },
   "outputs": [
    {
     "data": {
      "text/plain": [
       "(299930, 60)"
      ]
     },
     "execution_count": 51,
     "metadata": {},
     "output_type": "execute_result"
    }
   ],
   "source": [
    "df_ml.shape"
   ]
  },
  {
   "cell_type": "markdown",
   "metadata": {},
   "source": [
    "Then of course we have to drop the columns that directly measure if people were killed or injured:"
   ]
  },
  {
   "cell_type": "code",
   "execution_count": 52,
   "metadata": {
    "collapsed": false
   },
   "outputs": [],
   "source": [
    "df_ml = df_ml.drop(['NUMBER OF PERSONS INJURED', 'NUMBER OF PERSONS KILLED', 'NUMBER OF PEDESTRIANS INJURED', \n",
    "                    'NUMBER OF PEDESTRIANS KILLED', 'NUMBER OF CYCLIST INJURED', 'NUMBER OF CYCLIST KILLED',\n",
    "                   'NUMBER OF MOTORIST INJURED', 'NUMBER OF MOTORIST KILLED'], axis=1)"
   ]
  },
  {
   "cell_type": "code",
   "execution_count": 53,
   "metadata": {
    "collapsed": false
   },
   "outputs": [
    {
     "data": {
      "text/plain": [
       "Index(['TIME', 'Average Humidity', 'Dew Point', 'Max Gust Speed',\n",
       "       'Max Temperature', 'Max Wind Speed', 'Maximum Humidity',\n",
       "       'Mean Temperature', 'Min Temperature', 'Minimum Humidity',\n",
       "       'Precipitation', 'Sea Level Pressure', 'Snow', 'Snow Depth',\n",
       "       'Visibility', 'Wind Speed', 'Month', 'BRONX', 'BROOKLYN', 'MANHATTAN',\n",
       "       'QUEENS', 'STATEN ISLAND', 'UNKNOWN', 'VTC1_large', 'VTC1_medium',\n",
       "       'VTC1_other', 'VTC1_small', 'VTC1_two_wheeler', 'VTC2_large',\n",
       "       'VTC2_medium', 'VTC2_other', 'VTC2_small', 'VTC2_two_wheeler',\n",
       "       'Rain_EV', 'Snow_EV', 'Fog_EV', 'Alcohol Involvement',\n",
       "       'Backing Unsafely', 'Driver Inattention/Distraction',\n",
       "       'Driver Inexperience', 'Failure to Yield Right-of-Way',\n",
       "       'Fatigued/Drowsy', 'Following Too Closely', 'Lost Consciousness',\n",
       "       'Other Vehicular', 'Outside Car Distraction', 'Pavement Slippery',\n",
       "       'Physical Disability', 'Prescription Medication',\n",
       "       'Traffic Control Disregarded', 'Turning Improperly', 'Y'],\n",
       "      dtype='object')"
      ]
     },
     "execution_count": 53,
     "metadata": {},
     "output_type": "execute_result"
    }
   ],
   "source": [
    "df_ml.columns"
   ]
  },
  {
   "cell_type": "code",
   "execution_count": 54,
   "metadata": {
    "collapsed": true,
    "deletable": true,
    "editable": true
   },
   "outputs": [],
   "source": [
    "df_ml.to_csv('NYPD_ML_df_wY.csv', index=False)"
   ]
  },
  {
   "cell_type": "markdown",
   "metadata": {},
   "source": [
    "## Creating a balanced dataset"
   ]
  },
  {
   "cell_type": "code",
   "execution_count": 55,
   "metadata": {
    "collapsed": false
   },
   "outputs": [],
   "source": [
    "df_ml = pd.read_csv('NYPD_ML_df_wY.csv', low_memory=False)"
   ]
  },
  {
   "cell_type": "markdown",
   "metadata": {},
   "source": [
    "There are still some NaN values in the dataset - we drop them before balancing."
   ]
  },
  {
   "cell_type": "code",
   "execution_count": 56,
   "metadata": {
    "collapsed": true
   },
   "outputs": [],
   "source": [
    "df_ml = df_ml.dropna()"
   ]
  },
  {
   "cell_type": "code",
   "execution_count": 57,
   "metadata": {
    "collapsed": false
   },
   "outputs": [
    {
     "data": {
      "text/plain": [
       "Counter({0: 240188, 1: 56340})"
      ]
     },
     "execution_count": 57,
     "metadata": {},
     "output_type": "execute_result"
    }
   ],
   "source": [
    "Counter(df_ml['Y'])"
   ]
  },
  {
   "cell_type": "markdown",
   "metadata": {},
   "source": [
    "First, we have to balance the dataset so there is the same amount of casualties and non-casualties."
   ]
  },
  {
   "cell_type": "code",
   "execution_count": 58,
   "metadata": {
    "collapsed": true
   },
   "outputs": [],
   "source": [
    "pos_all = df_ml[df_ml['Y'] == 1]\n",
    "neg_all = df_ml[df_ml['Y'] == 0]"
   ]
  },
  {
   "cell_type": "code",
   "execution_count": 59,
   "metadata": {
    "collapsed": true
   },
   "outputs": [],
   "source": [
    "no_pos = pos_all.shape[0]\n",
    "\n",
    "neg_sub = neg_all.sample(no_pos)"
   ]
  },
  {
   "cell_type": "code",
   "execution_count": 60,
   "metadata": {
    "collapsed": false
   },
   "outputs": [
    {
     "data": {
      "text/html": [
       "<div>\n",
       "<table border=\"1\" class=\"dataframe\">\n",
       "  <thead>\n",
       "    <tr style=\"text-align: right;\">\n",
       "      <th></th>\n",
       "      <th>TIME</th>\n",
       "      <th>Average Humidity</th>\n",
       "      <th>Dew Point</th>\n",
       "      <th>Max Gust Speed</th>\n",
       "      <th>Max Temperature</th>\n",
       "      <th>Max Wind Speed</th>\n",
       "      <th>Maximum Humidity</th>\n",
       "      <th>Mean Temperature</th>\n",
       "      <th>Min Temperature</th>\n",
       "      <th>Minimum Humidity</th>\n",
       "      <th>...</th>\n",
       "      <th>Following Too Closely</th>\n",
       "      <th>Lost Consciousness</th>\n",
       "      <th>Other Vehicular</th>\n",
       "      <th>Outside Car Distraction</th>\n",
       "      <th>Pavement Slippery</th>\n",
       "      <th>Physical Disability</th>\n",
       "      <th>Prescription Medication</th>\n",
       "      <th>Traffic Control Disregarded</th>\n",
       "      <th>Turning Improperly</th>\n",
       "      <th>Y</th>\n",
       "    </tr>\n",
       "  </thead>\n",
       "  <tbody>\n",
       "    <tr>\n",
       "      <th>156974</th>\n",
       "      <td>1</td>\n",
       "      <td>53</td>\n",
       "      <td>10</td>\n",
       "      <td>29.0</td>\n",
       "      <td>26</td>\n",
       "      <td>19.0</td>\n",
       "      <td>65</td>\n",
       "      <td>21</td>\n",
       "      <td>17</td>\n",
       "      <td>41</td>\n",
       "      <td>...</td>\n",
       "      <td>0</td>\n",
       "      <td>0</td>\n",
       "      <td>0</td>\n",
       "      <td>0</td>\n",
       "      <td>0</td>\n",
       "      <td>0</td>\n",
       "      <td>0</td>\n",
       "      <td>0</td>\n",
       "      <td>0</td>\n",
       "      <td>0</td>\n",
       "    </tr>\n",
       "    <tr>\n",
       "      <th>124502</th>\n",
       "      <td>20</td>\n",
       "      <td>67</td>\n",
       "      <td>9</td>\n",
       "      <td>26.0</td>\n",
       "      <td>21</td>\n",
       "      <td>16.0</td>\n",
       "      <td>93</td>\n",
       "      <td>16</td>\n",
       "      <td>11</td>\n",
       "      <td>40</td>\n",
       "      <td>...</td>\n",
       "      <td>0</td>\n",
       "      <td>0</td>\n",
       "      <td>0</td>\n",
       "      <td>0</td>\n",
       "      <td>0</td>\n",
       "      <td>0</td>\n",
       "      <td>0</td>\n",
       "      <td>0</td>\n",
       "      <td>1</td>\n",
       "      <td>0</td>\n",
       "    </tr>\n",
       "    <tr>\n",
       "      <th>27835</th>\n",
       "      <td>18</td>\n",
       "      <td>52</td>\n",
       "      <td>-7</td>\n",
       "      <td>43.0</td>\n",
       "      <td>4</td>\n",
       "      <td>26.0</td>\n",
       "      <td>59</td>\n",
       "      <td>3</td>\n",
       "      <td>1</td>\n",
       "      <td>44</td>\n",
       "      <td>...</td>\n",
       "      <td>0</td>\n",
       "      <td>0</td>\n",
       "      <td>0</td>\n",
       "      <td>0</td>\n",
       "      <td>0</td>\n",
       "      <td>0</td>\n",
       "      <td>0</td>\n",
       "      <td>0</td>\n",
       "      <td>0</td>\n",
       "      <td>0</td>\n",
       "    </tr>\n",
       "    <tr>\n",
       "      <th>244800</th>\n",
       "      <td>11</td>\n",
       "      <td>58</td>\n",
       "      <td>21</td>\n",
       "      <td>42.0</td>\n",
       "      <td>34</td>\n",
       "      <td>24.0</td>\n",
       "      <td>69</td>\n",
       "      <td>31</td>\n",
       "      <td>27</td>\n",
       "      <td>47</td>\n",
       "      <td>...</td>\n",
       "      <td>0</td>\n",
       "      <td>0</td>\n",
       "      <td>0</td>\n",
       "      <td>0</td>\n",
       "      <td>0</td>\n",
       "      <td>0</td>\n",
       "      <td>0</td>\n",
       "      <td>0</td>\n",
       "      <td>0</td>\n",
       "      <td>0</td>\n",
       "    </tr>\n",
       "    <tr>\n",
       "      <th>3150</th>\n",
       "      <td>8</td>\n",
       "      <td>35</td>\n",
       "      <td>-12</td>\n",
       "      <td>26.0</td>\n",
       "      <td>7</td>\n",
       "      <td>16.0</td>\n",
       "      <td>50</td>\n",
       "      <td>2</td>\n",
       "      <td>-3</td>\n",
       "      <td>20</td>\n",
       "      <td>...</td>\n",
       "      <td>0</td>\n",
       "      <td>0</td>\n",
       "      <td>0</td>\n",
       "      <td>0</td>\n",
       "      <td>0</td>\n",
       "      <td>0</td>\n",
       "      <td>0</td>\n",
       "      <td>0</td>\n",
       "      <td>0</td>\n",
       "      <td>0</td>\n",
       "    </tr>\n",
       "  </tbody>\n",
       "</table>\n",
       "<p>5 rows × 52 columns</p>\n",
       "</div>"
      ],
      "text/plain": [
       "        TIME  Average Humidity  Dew Point  Max Gust Speed  Max Temperature  \\\n",
       "156974     1                53         10            29.0               26   \n",
       "124502    20                67          9            26.0               21   \n",
       "27835     18                52         -7            43.0                4   \n",
       "244800    11                58         21            42.0               34   \n",
       "3150       8                35        -12            26.0                7   \n",
       "\n",
       "        Max Wind Speed  Maximum Humidity  Mean Temperature  Min Temperature  \\\n",
       "156974            19.0                65                21               17   \n",
       "124502            16.0                93                16               11   \n",
       "27835             26.0                59                 3                1   \n",
       "244800            24.0                69                31               27   \n",
       "3150              16.0                50                 2               -3   \n",
       "\n",
       "        Minimum Humidity ...  Following Too Closely  Lost Consciousness  \\\n",
       "156974                41 ...                      0                   0   \n",
       "124502                40 ...                      0                   0   \n",
       "27835                 44 ...                      0                   0   \n",
       "244800                47 ...                      0                   0   \n",
       "3150                  20 ...                      0                   0   \n",
       "\n",
       "        Other Vehicular  Outside Car Distraction  Pavement Slippery  \\\n",
       "156974                0                        0                  0   \n",
       "124502                0                        0                  0   \n",
       "27835                 0                        0                  0   \n",
       "244800                0                        0                  0   \n",
       "3150                  0                        0                  0   \n",
       "\n",
       "        Physical Disability  Prescription Medication  \\\n",
       "156974                    0                        0   \n",
       "124502                    0                        0   \n",
       "27835                     0                        0   \n",
       "244800                    0                        0   \n",
       "3150                      0                        0   \n",
       "\n",
       "        Traffic Control Disregarded  Turning Improperly  Y  \n",
       "156974                            0                   0  0  \n",
       "124502                            0                   1  0  \n",
       "27835                             0                   0  0  \n",
       "244800                            0                   0  0  \n",
       "3150                              0                   0  0  \n",
       "\n",
       "[5 rows x 52 columns]"
      ]
     },
     "execution_count": 60,
     "metadata": {},
     "output_type": "execute_result"
    }
   ],
   "source": [
    "neg_sub.head()"
   ]
  },
  {
   "cell_type": "code",
   "execution_count": 61,
   "metadata": {
    "collapsed": false
   },
   "outputs": [],
   "source": [
    "df_comb = pd.concat([pos_all, neg_sub])"
   ]
  },
  {
   "cell_type": "code",
   "execution_count": 62,
   "metadata": {
    "collapsed": false
   },
   "outputs": [
    {
     "data": {
      "text/html": [
       "<div>\n",
       "<table border=\"1\" class=\"dataframe\">\n",
       "  <thead>\n",
       "    <tr style=\"text-align: right;\">\n",
       "      <th></th>\n",
       "      <th>TIME</th>\n",
       "      <th>Average Humidity</th>\n",
       "      <th>Dew Point</th>\n",
       "      <th>Max Gust Speed</th>\n",
       "      <th>Max Temperature</th>\n",
       "      <th>Max Wind Speed</th>\n",
       "      <th>Maximum Humidity</th>\n",
       "      <th>Mean Temperature</th>\n",
       "      <th>Min Temperature</th>\n",
       "      <th>Minimum Humidity</th>\n",
       "      <th>...</th>\n",
       "      <th>Following Too Closely</th>\n",
       "      <th>Lost Consciousness</th>\n",
       "      <th>Other Vehicular</th>\n",
       "      <th>Outside Car Distraction</th>\n",
       "      <th>Pavement Slippery</th>\n",
       "      <th>Physical Disability</th>\n",
       "      <th>Prescription Medication</th>\n",
       "      <th>Traffic Control Disregarded</th>\n",
       "      <th>Turning Improperly</th>\n",
       "      <th>Y</th>\n",
       "    </tr>\n",
       "  </thead>\n",
       "  <tbody>\n",
       "    <tr>\n",
       "      <th>272106</th>\n",
       "      <td>13</td>\n",
       "      <td>59</td>\n",
       "      <td>-14</td>\n",
       "      <td>43.0</td>\n",
       "      <td>-3</td>\n",
       "      <td>27.0</td>\n",
       "      <td>80</td>\n",
       "      <td>-6</td>\n",
       "      <td>-9</td>\n",
       "      <td>38</td>\n",
       "      <td>...</td>\n",
       "      <td>0</td>\n",
       "      <td>0</td>\n",
       "      <td>1</td>\n",
       "      <td>0</td>\n",
       "      <td>0</td>\n",
       "      <td>0</td>\n",
       "      <td>0</td>\n",
       "      <td>0</td>\n",
       "      <td>0</td>\n",
       "      <td>0</td>\n",
       "    </tr>\n",
       "    <tr>\n",
       "      <th>180080</th>\n",
       "      <td>20</td>\n",
       "      <td>77</td>\n",
       "      <td>19</td>\n",
       "      <td>42.0</td>\n",
       "      <td>26</td>\n",
       "      <td>24.0</td>\n",
       "      <td>90</td>\n",
       "      <td>24</td>\n",
       "      <td>21</td>\n",
       "      <td>64</td>\n",
       "      <td>...</td>\n",
       "      <td>0</td>\n",
       "      <td>0</td>\n",
       "      <td>0</td>\n",
       "      <td>0</td>\n",
       "      <td>0</td>\n",
       "      <td>0</td>\n",
       "      <td>0</td>\n",
       "      <td>0</td>\n",
       "      <td>0</td>\n",
       "      <td>0</td>\n",
       "    </tr>\n",
       "    <tr>\n",
       "      <th>289503</th>\n",
       "      <td>19</td>\n",
       "      <td>62</td>\n",
       "      <td>14</td>\n",
       "      <td>29.0</td>\n",
       "      <td>27</td>\n",
       "      <td>16.0</td>\n",
       "      <td>84</td>\n",
       "      <td>22</td>\n",
       "      <td>18</td>\n",
       "      <td>39</td>\n",
       "      <td>...</td>\n",
       "      <td>0</td>\n",
       "      <td>0</td>\n",
       "      <td>0</td>\n",
       "      <td>0</td>\n",
       "      <td>0</td>\n",
       "      <td>0</td>\n",
       "      <td>1</td>\n",
       "      <td>0</td>\n",
       "      <td>0</td>\n",
       "      <td>0</td>\n",
       "    </tr>\n",
       "    <tr>\n",
       "      <th>202806</th>\n",
       "      <td>18</td>\n",
       "      <td>62</td>\n",
       "      <td>12</td>\n",
       "      <td>47.0</td>\n",
       "      <td>24</td>\n",
       "      <td>27.0</td>\n",
       "      <td>78</td>\n",
       "      <td>19</td>\n",
       "      <td>15</td>\n",
       "      <td>46</td>\n",
       "      <td>...</td>\n",
       "      <td>0</td>\n",
       "      <td>0</td>\n",
       "      <td>0</td>\n",
       "      <td>0</td>\n",
       "      <td>0</td>\n",
       "      <td>0</td>\n",
       "      <td>1</td>\n",
       "      <td>0</td>\n",
       "      <td>0</td>\n",
       "      <td>0</td>\n",
       "    </tr>\n",
       "    <tr>\n",
       "      <th>248865</th>\n",
       "      <td>10</td>\n",
       "      <td>84</td>\n",
       "      <td>17</td>\n",
       "      <td>40.0</td>\n",
       "      <td>21</td>\n",
       "      <td>23.0</td>\n",
       "      <td>100</td>\n",
       "      <td>19</td>\n",
       "      <td>17</td>\n",
       "      <td>68</td>\n",
       "      <td>...</td>\n",
       "      <td>0</td>\n",
       "      <td>0</td>\n",
       "      <td>0</td>\n",
       "      <td>0</td>\n",
       "      <td>0</td>\n",
       "      <td>0</td>\n",
       "      <td>0</td>\n",
       "      <td>0</td>\n",
       "      <td>1</td>\n",
       "      <td>0</td>\n",
       "    </tr>\n",
       "  </tbody>\n",
       "</table>\n",
       "<p>5 rows × 52 columns</p>\n",
       "</div>"
      ],
      "text/plain": [
       "        TIME  Average Humidity  Dew Point  Max Gust Speed  Max Temperature  \\\n",
       "272106    13                59        -14            43.0               -3   \n",
       "180080    20                77         19            42.0               26   \n",
       "289503    19                62         14            29.0               27   \n",
       "202806    18                62         12            47.0               24   \n",
       "248865    10                84         17            40.0               21   \n",
       "\n",
       "        Max Wind Speed  Maximum Humidity  Mean Temperature  Min Temperature  \\\n",
       "272106            27.0                80                -6               -9   \n",
       "180080            24.0                90                24               21   \n",
       "289503            16.0                84                22               18   \n",
       "202806            27.0                78                19               15   \n",
       "248865            23.0               100                19               17   \n",
       "\n",
       "        Minimum Humidity ...  Following Too Closely  Lost Consciousness  \\\n",
       "272106                38 ...                      0                   0   \n",
       "180080                64 ...                      0                   0   \n",
       "289503                39 ...                      0                   0   \n",
       "202806                46 ...                      0                   0   \n",
       "248865                68 ...                      0                   0   \n",
       "\n",
       "        Other Vehicular  Outside Car Distraction  Pavement Slippery  \\\n",
       "272106                1                        0                  0   \n",
       "180080                0                        0                  0   \n",
       "289503                0                        0                  0   \n",
       "202806                0                        0                  0   \n",
       "248865                0                        0                  0   \n",
       "\n",
       "        Physical Disability  Prescription Medication  \\\n",
       "272106                    0                        0   \n",
       "180080                    0                        0   \n",
       "289503                    0                        1   \n",
       "202806                    0                        1   \n",
       "248865                    0                        0   \n",
       "\n",
       "        Traffic Control Disregarded  Turning Improperly  Y  \n",
       "272106                            0                   0  0  \n",
       "180080                            0                   0  0  \n",
       "289503                            0                   0  0  \n",
       "202806                            0                   0  0  \n",
       "248865                            0                   1  0  \n",
       "\n",
       "[5 rows x 52 columns]"
      ]
     },
     "execution_count": 62,
     "metadata": {},
     "output_type": "execute_result"
    }
   ],
   "source": [
    "df_comb.tail()"
   ]
  },
  {
   "cell_type": "code",
   "execution_count": 63,
   "metadata": {
    "collapsed": true
   },
   "outputs": [],
   "source": [
    "df_comb.to_csv('NYPD_ML_df_wY_balanced.csv', index=False)"
   ]
  },
  {
   "cell_type": "markdown",
   "metadata": {},
   "source": [
    "## Actual modelling"
   ]
  },
  {
   "cell_type": "code",
   "execution_count": 64,
   "metadata": {
    "collapsed": false
   },
   "outputs": [],
   "source": [
    "df_comb = pd.read_csv('NYPD_ML_df_wY_balanced.csv', low_memory=False)"
   ]
  },
  {
   "cell_type": "code",
   "execution_count": 65,
   "metadata": {
    "collapsed": true
   },
   "outputs": [],
   "source": [
    "from sklearn.ensemble import RandomForestClassifier"
   ]
  },
  {
   "cell_type": "code",
   "execution_count": 66,
   "metadata": {
    "collapsed": true
   },
   "outputs": [],
   "source": [
    "# Selecting X and y\n",
    "\n",
    "X_cols = list(df_comb.columns)\n",
    "X_cols.remove('Y')\n",
    "y_cols = 'Y'\n",
    "\n",
    "X, y = df_comb[X_cols].values, df_comb[y_cols].values \n",
    "y = y.astype(int) "
   ]
  },
  {
   "cell_type": "code",
   "execution_count": 67,
   "metadata": {
    "collapsed": true
   },
   "outputs": [],
   "source": [
    "# Defining the model\n",
    "forest = RandomForestClassifier(criterion='gini', random_state=0, n_estimators=500, n_jobs=-1)"
   ]
  },
  {
   "cell_type": "code",
   "execution_count": 68,
   "metadata": {
    "collapsed": true
   },
   "outputs": [],
   "source": [
    "# Evaluating performance\n",
    "from sklearn.model_selection import train_test_split\n",
    "\n",
    "X_train, X_test, y_train, y_test = train_test_split(X, y, test_size=0.33, random_state=0)"
   ]
  },
  {
   "cell_type": "code",
   "execution_count": 69,
   "metadata": {
    "collapsed": false
   },
   "outputs": [
    {
     "data": {
      "text/plain": [
       "RandomForestClassifier(bootstrap=True, class_weight=None, criterion='gini',\n",
       "            max_depth=None, max_features='auto', max_leaf_nodes=None,\n",
       "            min_impurity_split=1e-07, min_samples_leaf=1,\n",
       "            min_samples_split=2, min_weight_fraction_leaf=0.0,\n",
       "            n_estimators=500, n_jobs=-1, oob_score=False, random_state=0,\n",
       "            verbose=0, warm_start=False)"
      ]
     },
     "execution_count": 69,
     "metadata": {},
     "output_type": "execute_result"
    }
   ],
   "source": [
    "forest.fit(X_train, y_train)"
   ]
  },
  {
   "cell_type": "code",
   "execution_count": 70,
   "metadata": {
    "collapsed": false
   },
   "outputs": [],
   "source": [
    "y_pred = forest.predict(X_test)"
   ]
  },
  {
   "cell_type": "code",
   "execution_count": 71,
   "metadata": {
    "collapsed": false
   },
   "outputs": [
    {
     "data": {
      "text/plain": [
       "0.6554255748285599"
      ]
     },
     "execution_count": 71,
     "metadata": {},
     "output_type": "execute_result"
    }
   ],
   "source": [
    "from sklearn.metrics import accuracy_score\n",
    "\n",
    "accuracy_score(y_pred=y_pred, y_true=y_test)"
   ]
  },
  {
   "cell_type": "markdown",
   "metadata": {},
   "source": [
    "### Looking at feature importance"
   ]
  },
  {
   "cell_type": "code",
   "execution_count": 72,
   "metadata": {
    "collapsed": false
   },
   "outputs": [
    {
     "data": {
      "text/plain": [
       "array([ 0.11839908,  0.04603767,  0.03971812,  0.04291282,  0.03980872,\n",
       "        0.03459587,  0.04285882,  0.03765647,  0.03907413,  0.04773624,\n",
       "        0.01977901,  0.04761652,  0.00259864,  0.00651903,  0.01890925,\n",
       "        0.037133  ,  0.03000581,  0.00957304,  0.01324297,  0.01815165,\n",
       "        0.01359373,  0.00568058,  0.00991722,  0.00368062,  0.01644361,\n",
       "        0.00505341,  0.01702033,  0.00610118,  0.00477454,  0.01870893,\n",
       "        0.03395083,  0.02084898,  0.03413696,  0.00478294,  0.00107446,\n",
       "        0.00277066,  0.00360743,  0.01187466,  0.01233751,  0.00430017,\n",
       "        0.016402  ,  0.00829619,  0.00383639,  0.00740712,  0.00716761,\n",
       "        0.0039016 ,  0.00325054,  0.00757171,  0.00432508,  0.00866522,\n",
       "        0.00619092])"
      ]
     },
     "execution_count": 72,
     "metadata": {},
     "output_type": "execute_result"
    }
   ],
   "source": [
    "forest.feature_importances_"
   ]
  },
  {
   "cell_type": "code",
   "execution_count": 73,
   "metadata": {
    "collapsed": false
   },
   "outputs": [
    {
     "name": "stdout",
     "output_type": "stream",
     "text": [
      "Feature ranking:\n",
      "1. feature 0 TIME 11.84\n",
      "2. feature 9 Minimum Humidity 4.77\n",
      "3. feature 11 Sea Level Pressure 4.76\n",
      "4. feature 1 Average Humidity 4.60\n",
      "5. feature 3 Max Gust Speed 4.29\n",
      "6. feature 6 Maximum Humidity 4.29\n",
      "7. feature 4 Max Temperature 3.98\n",
      "8. feature 2 Dew Point 3.97\n",
      "9. feature 8 Min Temperature 3.91\n",
      "10. feature 7 Mean Temperature 3.77\n",
      "11. feature 15 Wind Speed 3.71\n",
      "12. feature 5 Max Wind Speed 3.46\n",
      "13. feature 32 VTC2_two_wheeler 3.41\n",
      "14. feature 30 VTC2_other 3.40\n",
      "15. feature 16 Month 3.00\n",
      "16. feature 31 VTC2_small 2.08\n",
      "17. feature 10 Precipitation 1.98\n",
      "18. feature 14 Visibility 1.89\n",
      "19. feature 29 VTC2_medium 1.87\n",
      "20. feature 19 MANHATTAN 1.82\n",
      "21. feature 26 VTC1_small 1.70\n",
      "22. feature 24 VTC1_medium 1.64\n",
      "23. feature 40 Failure to Yield Right-of-Way 1.64\n",
      "24. feature 20 QUEENS 1.36\n",
      "25. feature 18 BROOKLYN 1.32\n",
      "26. feature 38 Driver Inattention/Distraction 1.23\n",
      "27. feature 37 Backing Unsafely 1.19\n",
      "28. feature 22 UNKNOWN 0.99\n",
      "29. feature 17 BRONX 0.96\n",
      "30. feature 49 Traffic Control Disregarded 0.87\n",
      "31. feature 41 Fatigued/Drowsy 0.83\n",
      "32. feature 47 Physical Disability 0.76\n",
      "33. feature 43 Lost Consciousness 0.74\n",
      "34. feature 44 Other Vehicular 0.72\n",
      "35. feature 13 Snow Depth 0.65\n",
      "36. feature 50 Turning Improperly 0.62\n",
      "37. feature 27 VTC1_two_wheeler 0.61\n",
      "38. feature 21 STATEN ISLAND 0.57\n",
      "39. feature 25 VTC1_other 0.51\n",
      "40. feature 33 Rain_EV 0.48\n",
      "41. feature 28 VTC2_large 0.48\n",
      "42. feature 48 Prescription Medication 0.43\n",
      "43. feature 39 Driver Inexperience 0.43\n",
      "44. feature 45 Outside Car Distraction 0.39\n",
      "45. feature 42 Following Too Closely 0.38\n",
      "46. feature 23 VTC1_large 0.37\n",
      "47. feature 36 Alcohol Involvement 0.36\n",
      "48. feature 46 Pavement Slippery 0.33\n",
      "49. feature 35 Fog_EV 0.28\n",
      "50. feature 12 Snow 0.26\n",
      "51. feature 34 Snow_EV 0.11\n"
     ]
    },
    {
     "data": {
      "image/png": "[encoded data removed]",
      "text/plain": [
       "<matplotlib.figure.Figure at 0x119d8b748>"
      ]
     },
     "metadata": {},
     "output_type": "display_data"
    }
   ],
   "source": [
    "importances = forest.feature_importances_\n",
    "std = np.std([tree.feature_importances_ for tree in forest.estimators_],\n",
    "             axis=0)\n",
    "indices = np.argsort(importances)[::-1]\n",
    "\n",
    "# Print the feature ranking\n",
    "print(\"Feature ranking:\")\n",
    "\n",
    "for f in range(X.shape[1]):\n",
    "    print(\"{}. feature {} {} {:.2f}\".format(f + 1, indices[f], df_comb.columns[indices[f]], importances[indices[f]]*100))\n",
    "\n",
    "# Plot the feature importances of the forest\n",
    "plt.figure(figsize=(14,6))\n",
    "plt.title(\"Feature importances\")\n",
    "plt.bar(range(X.shape[1]), importances[indices],\n",
    "       color=\"r\", yerr=std[indices], align=\"center\")\n",
    "plt.xticks(range(X.shape[1]), indices)\n",
    "plt.xlim([-1, X.shape[1]])\n",
    "plt.savefig('feature_importance_rf_18f.png', bbox_inches='tight')\n",
    "plt.show()"
   ]
  },
  {
   "cell_type": "code",
   "execution_count": 74,
   "metadata": {
    "collapsed": false
   },
   "outputs": [
    {
     "name": "stdout",
     "output_type": "stream",
     "text": [
      "Feature: TIME\n",
      "CAS Mean: 13.527 +/- 5.861 \t Non-CAS Mean: 13.431 +/- 5.442\n",
      "CAS Median: 14.000 \t\t Non-CAS Median: 14.000\n",
      "\n",
      "Feature: Minimum Humidity\n",
      "CAS Mean: 42.677 +/- 15.374 \t Non-CAS Mean: 42.373 +/- 15.138\n",
      "CAS Median: 40.000 \t\t Non-CAS Median: 40.000\n",
      "\n",
      "Feature: Sea Level Pressure\n",
      "CAS Mean: 1017.235 +/- 7.348 \t Non-CAS Mean: 1017.289 +/- 7.407\n",
      "CAS Median: 1017.000 \t\t Non-CAS Median: 1017.000\n",
      "\n",
      "Feature: Average Humidity\n",
      "CAS Mean: 59.499 +/- 14.279 \t Non-CAS Mean: 59.042 +/- 14.162\n",
      "CAS Median: 58.000 \t\t Non-CAS Median: 58.000\n",
      "\n",
      "Feature: Max Gust Speed\n",
      "CAS Mean: 36.520 +/- 11.140 \t Non-CAS Mean: 36.645 +/- 11.085\n",
      "CAS Median: 35.000 \t\t Non-CAS Median: 35.000\n",
      "\n"
     ]
    }
   ],
   "source": [
    "for important_index in indices[0:5]:\n",
    "    \n",
    "    # 1:-1 because the first and last columns are not in X\n",
    "    column_name = X_cols[important_index]\n",
    "    cas_data = df_comb.loc[df_comb['Y'] == 1][column_name]\n",
    "    non_cas_data = df_comb.loc[df_comb['Y'] == 0][column_name]\n",
    "    \n",
    "    cas_mean, cas_std = np.mean(cas_data), np.std(cas_data)\n",
    "    non_cas_mean, non_cas_std = np.mean(non_cas_data), np.std(non_cas_data)\n",
    "    \n",
    "    cas_median, non_cas_median = np.median(cas_data), np.median(non_cas_data)\n",
    "    \n",
    "    print(\"Feature: {}\".format(column_name))\n",
    "    print(\"CAS Mean: {:.3f} +/- {:.3f} \\t Non-CAS Mean: {:.3f} +/- {:.3f}\".format(cas_mean, cas_std, non_cas_mean,non_cas_std))\n",
    "    print(\"CAS Median: {:.3f} \\t\\t Non-CAS Median: {:.3f}\\n\".format(cas_median, non_cas_median))"
   ]
  },
  {
   "cell_type": "markdown",
   "metadata": {},
   "source": [
    "### Try modelling with important features"
   ]
  },
  {
   "cell_type": "code",
   "execution_count": 75,
   "metadata": {
    "collapsed": false
   },
   "outputs": [
    {
     "data": {
      "text/html": [
       "<div>\n",
       "<table border=\"1\" class=\"dataframe\">\n",
       "  <thead>\n",
       "    <tr style=\"text-align: right;\">\n",
       "      <th></th>\n",
       "      <th>TIME</th>\n",
       "      <th>Minimum Humidity</th>\n",
       "      <th>Sea Level Pressure</th>\n",
       "      <th>Average Humidity</th>\n",
       "      <th>Max Gust Speed</th>\n",
       "      <th>Maximum Humidity</th>\n",
       "      <th>Max Temperature</th>\n",
       "      <th>Dew Point</th>\n",
       "      <th>Min Temperature</th>\n",
       "      <th>Mean Temperature</th>\n",
       "      <th>Wind Speed</th>\n",
       "      <th>Max Wind Speed</th>\n",
       "      <th>VTC2_two_wheeler</th>\n",
       "      <th>VTC2_other</th>\n",
       "      <th>Month</th>\n",
       "    </tr>\n",
       "  </thead>\n",
       "  <tbody>\n",
       "    <tr>\n",
       "      <th>0</th>\n",
       "      <td>10</td>\n",
       "      <td>89</td>\n",
       "      <td>1014.0</td>\n",
       "      <td>95</td>\n",
       "      <td>34.0</td>\n",
       "      <td>100</td>\n",
       "      <td>8</td>\n",
       "      <td>6</td>\n",
       "      <td>5</td>\n",
       "      <td>7</td>\n",
       "      <td>9.0</td>\n",
       "      <td>23.0</td>\n",
       "      <td>0</td>\n",
       "      <td>1</td>\n",
       "      <td>3</td>\n",
       "    </tr>\n",
       "    <tr>\n",
       "      <th>1</th>\n",
       "      <td>10</td>\n",
       "      <td>89</td>\n",
       "      <td>1014.0</td>\n",
       "      <td>95</td>\n",
       "      <td>34.0</td>\n",
       "      <td>100</td>\n",
       "      <td>8</td>\n",
       "      <td>6</td>\n",
       "      <td>5</td>\n",
       "      <td>7</td>\n",
       "      <td>9.0</td>\n",
       "      <td>23.0</td>\n",
       "      <td>0</td>\n",
       "      <td>0</td>\n",
       "      <td>3</td>\n",
       "    </tr>\n",
       "    <tr>\n",
       "      <th>2</th>\n",
       "      <td>10</td>\n",
       "      <td>89</td>\n",
       "      <td>1014.0</td>\n",
       "      <td>95</td>\n",
       "      <td>34.0</td>\n",
       "      <td>100</td>\n",
       "      <td>8</td>\n",
       "      <td>6</td>\n",
       "      <td>5</td>\n",
       "      <td>7</td>\n",
       "      <td>9.0</td>\n",
       "      <td>23.0</td>\n",
       "      <td>0</td>\n",
       "      <td>0</td>\n",
       "      <td>3</td>\n",
       "    </tr>\n",
       "    <tr>\n",
       "      <th>3</th>\n",
       "      <td>10</td>\n",
       "      <td>89</td>\n",
       "      <td>1014.0</td>\n",
       "      <td>95</td>\n",
       "      <td>34.0</td>\n",
       "      <td>100</td>\n",
       "      <td>8</td>\n",
       "      <td>6</td>\n",
       "      <td>5</td>\n",
       "      <td>7</td>\n",
       "      <td>9.0</td>\n",
       "      <td>23.0</td>\n",
       "      <td>0</td>\n",
       "      <td>0</td>\n",
       "      <td>3</td>\n",
       "    </tr>\n",
       "    <tr>\n",
       "      <th>4</th>\n",
       "      <td>11</td>\n",
       "      <td>89</td>\n",
       "      <td>1014.0</td>\n",
       "      <td>95</td>\n",
       "      <td>34.0</td>\n",
       "      <td>100</td>\n",
       "      <td>8</td>\n",
       "      <td>6</td>\n",
       "      <td>5</td>\n",
       "      <td>7</td>\n",
       "      <td>9.0</td>\n",
       "      <td>23.0</td>\n",
       "      <td>0</td>\n",
       "      <td>1</td>\n",
       "      <td>3</td>\n",
       "    </tr>\n",
       "  </tbody>\n",
       "</table>\n",
       "</div>"
      ],
      "text/plain": [
       "   TIME  Minimum Humidity  Sea Level Pressure  Average Humidity  \\\n",
       "0    10                89              1014.0                95   \n",
       "1    10                89              1014.0                95   \n",
       "2    10                89              1014.0                95   \n",
       "3    10                89              1014.0                95   \n",
       "4    11                89              1014.0                95   \n",
       "\n",
       "   Max Gust Speed  Maximum Humidity  Max Temperature  Dew Point  \\\n",
       "0            34.0               100                8          6   \n",
       "1            34.0               100                8          6   \n",
       "2            34.0               100                8          6   \n",
       "3            34.0               100                8          6   \n",
       "4            34.0               100                8          6   \n",
       "\n",
       "   Min Temperature  Mean Temperature  Wind Speed  Max Wind Speed  \\\n",
       "0                5                 7         9.0            23.0   \n",
       "1                5                 7         9.0            23.0   \n",
       "2                5                 7         9.0            23.0   \n",
       "3                5                 7         9.0            23.0   \n",
       "4                5                 7         9.0            23.0   \n",
       "\n",
       "   VTC2_two_wheeler  VTC2_other  Month  \n",
       "0                 0           1      3  \n",
       "1                 0           0      3  \n",
       "2                 0           0      3  \n",
       "3                 0           0      3  \n",
       "4                 0           1      3  "
      ]
     },
     "execution_count": 75,
     "metadata": {},
     "output_type": "execute_result"
    }
   ],
   "source": [
    "imp_feat_df = df_comb.iloc[:,indices[:15]] \n",
    "imp_feat_df.head()"
   ]
  },
  {
   "cell_type": "code",
   "execution_count": 76,
   "metadata": {
    "collapsed": true,
    "deletable": true,
    "editable": true
   },
   "outputs": [],
   "source": [
    "# Selecting X and y\n",
    "\n",
    "y_cols = 'Y'\n",
    "\n",
    "X, y = imp_feat_df.values, df_comb[y_cols].values \n",
    "y = y.astype(int) "
   ]
  },
  {
   "cell_type": "code",
   "execution_count": 77,
   "metadata": {
    "collapsed": true,
    "deletable": true,
    "editable": true
   },
   "outputs": [],
   "source": [
    "# Defining the model\n",
    "forest = RandomForestClassifier(criterion='gini', random_state=0, n_estimators=500, n_jobs=-1)"
   ]
  },
  {
   "cell_type": "code",
   "execution_count": 78,
   "metadata": {
    "collapsed": true,
    "deletable": true,
    "editable": true
   },
   "outputs": [],
   "source": [
    "# Evaluating performance\n",
    "from sklearn.model_selection import train_test_split\n",
    "\n",
    "X_train, X_test, y_train, y_test = train_test_split(X, y, test_size=0.33, random_state=0)"
   ]
  },
  {
   "cell_type": "code",
   "execution_count": 79,
   "metadata": {
    "collapsed": false,
    "deletable": true,
    "editable": true
   },
   "outputs": [
    {
     "data": {
      "text/plain": [
       "RandomForestClassifier(bootstrap=True, class_weight=None, criterion='gini',\n",
       "            max_depth=None, max_features='auto', max_leaf_nodes=None,\n",
       "            min_impurity_split=1e-07, min_samples_leaf=1,\n",
       "            min_samples_split=2, min_weight_fraction_leaf=0.0,\n",
       "            n_estimators=500, n_jobs=-1, oob_score=False, random_state=0,\n",
       "            verbose=0, warm_start=False)"
      ]
     },
     "execution_count": 79,
     "metadata": {},
     "output_type": "execute_result"
    }
   ],
   "source": [
    "forest.fit(X_train, y_train)"
   ]
  },
  {
   "cell_type": "code",
   "execution_count": 80,
   "metadata": {
    "collapsed": false,
    "deletable": true,
    "editable": true
   },
   "outputs": [],
   "source": [
    "y_pred = forest.predict(X_test)"
   ]
  },
  {
   "cell_type": "code",
   "execution_count": 81,
   "metadata": {
    "collapsed": false,
    "deletable": true,
    "editable": true
   },
   "outputs": [
    {
     "data": {
      "text/plain": [
       "0.57184348527632112"
      ]
     },
     "execution_count": 81,
     "metadata": {},
     "output_type": "execute_result"
    }
   ],
   "source": [
    "from sklearn.metrics import accuracy_score\n",
    "\n",
    "accuracy_score(y_pred=y_pred, y_true=y_test)"
   ]
  },
  {
   "cell_type": "markdown",
   "metadata": {},
   "source": [
    "To do:\n",
    "\n",
    "- One-hot encoding for time? Since it is so important in the predictions.\n",
    "- Include contributing factors (inattention DUI, etc). Probably good to threshold here at some limit when doing the one-hot encoding, as we end up with a lot of columns otherwise.\n",
    "- Check out the encoding for vehicles - should me small, medium, large and two wheeler. This seems to worsen performance, we go from ~65% to ~59% accuracy by categorizing the vehicles this way."
   ]
  },
  {
   "cell_type": "code",
   "execution_count": null,
   "metadata": {
    "collapsed": true
   },
   "outputs": [],
   "source": []
  }
 ],
 "metadata": {
  "kernelspec": {
   "display_name": "Python [conda env:py35]",
   "language": "python",
   "name": "conda-env-py35-py"
  },
  "language_info": {
   "codemirror_mode": {
    "name": "ipython",
    "version": 3
   },
   "file_extension": ".py",
   "mimetype": "text/x-python",
   "name": "python",
   "nbconvert_exporter": "python",
   "pygments_lexer": "ipython3",
   "version": "3.5.2"
  }
 },
 "nbformat": 4,
 "nbformat_minor": 2
}
