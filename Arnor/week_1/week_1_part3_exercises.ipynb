{
 "cells": [
  {
   "cell_type": "markdown",
   "metadata": {},
   "source": [
    "# The python exercises\n",
    "\n",
    "**Ex 0**: The Jupyter Notebooks are organized as a list of cells. There are two central kinds of cells, they are called **Code** and **Markdown**. The cell type can be set [using a keyboard shortcut](http://sowingseasons.com/blog/jupyter-keyboard-shortcuts.html), or using the menu above.\n",
    "\n",
    "The **Code** cells simply contain the Python code, no big deal.\n",
    "\n",
    "The **Markdown** cells contain text (explanations, sections, etc). The text is written in Markdown. Markdown allows you to write using an easy-to-read, easy-to-write plain text format, then convert it to structurally valid XHTML (or HTML). You can read about it here:\n",
    "\n",
    "http://daringfireball.net/projects/markdown/\n",
    "\n",
    "In the cell below, write a short text that demonstrates that you can\n",
    "* Create a section\n",
    "* Write words in bold and italics\n",
    "* Create lists\n",
    "* Establish a [hyperlink](https://en.wikipedia.org/wiki/Hyperlink)"
   ]
  },
  {
   "cell_type": "markdown",
   "metadata": {},
   "source": [
    "*[Write the answer to **Ex 0** here]*"
   ]
  },
  {
   "cell_type": "markdown",
   "metadata": {},
   "source": [
    "**Ex 1**: Create a list `a` that contains the numbers from $1$ to $1110$, incremented by one, using the `range` function."
   ]
  },
  {
   "cell_type": "code",
   "execution_count": 1,
   "metadata": {
    "collapsed": false
   },
   "outputs": [],
   "source": [
    "range_list = range(1,1110)"
   ]
  },
  {
   "cell_type": "markdown",
   "metadata": {},
   "source": [
    "**Ex 2**: Show that you understand [slicing](http://stackoverflow.com/questions/509211/explain-pythons-slice-notation) in Python by extracting a list `b` with the numbers from $543$ to $779$ from the list created above."
   ]
  },
  {
   "cell_type": "code",
   "execution_count": 2,
   "metadata": {
    "collapsed": false
   },
   "outputs": [
    {
     "data": {
      "text/plain": [
       "[543,\n",
       " 544,\n",
       " 545,\n",
       " 546,\n",
       " 547,\n",
       " 548,\n",
       " 549,\n",
       " 550,\n",
       " 551,\n",
       " 552,\n",
       " 553,\n",
       " 554,\n",
       " 555,\n",
       " 556,\n",
       " 557,\n",
       " 558,\n",
       " 559,\n",
       " 560,\n",
       " 561,\n",
       " 562,\n",
       " 563,\n",
       " 564,\n",
       " 565,\n",
       " 566,\n",
       " 567,\n",
       " 568,\n",
       " 569,\n",
       " 570,\n",
       " 571,\n",
       " 572,\n",
       " 573,\n",
       " 574,\n",
       " 575,\n",
       " 576,\n",
       " 577,\n",
       " 578,\n",
       " 579,\n",
       " 580,\n",
       " 581,\n",
       " 582,\n",
       " 583,\n",
       " 584,\n",
       " 585,\n",
       " 586,\n",
       " 587,\n",
       " 588,\n",
       " 589,\n",
       " 590,\n",
       " 591,\n",
       " 592,\n",
       " 593,\n",
       " 594,\n",
       " 595,\n",
       " 596,\n",
       " 597,\n",
       " 598,\n",
       " 599,\n",
       " 600,\n",
       " 601,\n",
       " 602,\n",
       " 603,\n",
       " 604,\n",
       " 605,\n",
       " 606,\n",
       " 607,\n",
       " 608,\n",
       " 609,\n",
       " 610,\n",
       " 611,\n",
       " 612,\n",
       " 613,\n",
       " 614,\n",
       " 615,\n",
       " 616,\n",
       " 617,\n",
       " 618,\n",
       " 619,\n",
       " 620,\n",
       " 621,\n",
       " 622,\n",
       " 623,\n",
       " 624,\n",
       " 625,\n",
       " 626,\n",
       " 627,\n",
       " 628,\n",
       " 629,\n",
       " 630,\n",
       " 631,\n",
       " 632,\n",
       " 633,\n",
       " 634,\n",
       " 635,\n",
       " 636,\n",
       " 637,\n",
       " 638,\n",
       " 639,\n",
       " 640,\n",
       " 641,\n",
       " 642,\n",
       " 643,\n",
       " 644,\n",
       " 645,\n",
       " 646,\n",
       " 647,\n",
       " 648,\n",
       " 649,\n",
       " 650,\n",
       " 651,\n",
       " 652,\n",
       " 653,\n",
       " 654,\n",
       " 655,\n",
       " 656,\n",
       " 657,\n",
       " 658,\n",
       " 659,\n",
       " 660,\n",
       " 661,\n",
       " 662,\n",
       " 663,\n",
       " 664,\n",
       " 665,\n",
       " 666,\n",
       " 667,\n",
       " 668,\n",
       " 669,\n",
       " 670,\n",
       " 671,\n",
       " 672,\n",
       " 673,\n",
       " 674,\n",
       " 675,\n",
       " 676,\n",
       " 677,\n",
       " 678,\n",
       " 679,\n",
       " 680,\n",
       " 681,\n",
       " 682,\n",
       " 683,\n",
       " 684,\n",
       " 685,\n",
       " 686,\n",
       " 687,\n",
       " 688,\n",
       " 689,\n",
       " 690,\n",
       " 691,\n",
       " 692,\n",
       " 693,\n",
       " 694,\n",
       " 695,\n",
       " 696,\n",
       " 697,\n",
       " 698,\n",
       " 699,\n",
       " 700,\n",
       " 701,\n",
       " 702,\n",
       " 703,\n",
       " 704,\n",
       " 705,\n",
       " 706,\n",
       " 707,\n",
       " 708,\n",
       " 709,\n",
       " 710,\n",
       " 711,\n",
       " 712,\n",
       " 713,\n",
       " 714,\n",
       " 715,\n",
       " 716,\n",
       " 717,\n",
       " 718,\n",
       " 719,\n",
       " 720,\n",
       " 721,\n",
       " 722,\n",
       " 723,\n",
       " 724,\n",
       " 725,\n",
       " 726,\n",
       " 727,\n",
       " 728,\n",
       " 729,\n",
       " 730,\n",
       " 731,\n",
       " 732,\n",
       " 733,\n",
       " 734,\n",
       " 735,\n",
       " 736,\n",
       " 737,\n",
       " 738,\n",
       " 739,\n",
       " 740,\n",
       " 741,\n",
       " 742,\n",
       " 743,\n",
       " 744,\n",
       " 745,\n",
       " 746,\n",
       " 747,\n",
       " 748,\n",
       " 749,\n",
       " 750,\n",
       " 751,\n",
       " 752,\n",
       " 753,\n",
       " 754,\n",
       " 755,\n",
       " 756,\n",
       " 757,\n",
       " 758,\n",
       " 759,\n",
       " 760,\n",
       " 761,\n",
       " 762,\n",
       " 763,\n",
       " 764,\n",
       " 765,\n",
       " 766,\n",
       " 767,\n",
       " 768,\n",
       " 769,\n",
       " 770,\n",
       " 771,\n",
       " 772,\n",
       " 773,\n",
       " 774,\n",
       " 775,\n",
       " 776,\n",
       " 777,\n",
       " 778,\n",
       " 779]"
      ]
     },
     "execution_count": 2,
     "metadata": {},
     "output_type": "execute_result"
    }
   ],
   "source": [
    "range_list[542:779]"
   ]
  },
  {
   "cell_type": "markdown",
   "metadata": {},
   "source": [
    "**Ex 3**: Using `def`, define a function that takes as input a number $x$ and outputs the number multiplied by itself plus three $f(x) = x(x+3)$. "
   ]
  },
  {
   "cell_type": "code",
   "execution_count": 3,
   "metadata": {
    "collapsed": false
   },
   "outputs": [
    {
     "data": {
      "text/plain": [
       "28"
      ]
     },
     "execution_count": 3,
     "metadata": {},
     "output_type": "execute_result"
    }
   ],
   "source": [
    "def multi_function(x):\n",
    "    return x*(x+3)\n",
    "\n",
    "multi_function(4)"
   ]
  },
  {
   "cell_type": "markdown",
   "metadata": {},
   "source": [
    "**Ex 4**: Apply this function to every element of the list `b` using a `for` loop. "
   ]
  },
  {
   "cell_type": "code",
   "execution_count": 4,
   "metadata": {
    "collapsed": false
   },
   "outputs": [
    {
     "name": "stdout",
     "output_type": "stream",
     "text": [
      "[4, 10, 18, 28, 40]\n"
     ]
    }
   ],
   "source": [
    "new_range_list = []\n",
    "\n",
    "for i in range_list:\n",
    "    \n",
    "    current = multi_function(i)\n",
    "    new_range_list.append(current)\n",
    "\n",
    "    \n",
    "print(new_range_list[0:5])"
   ]
  },
  {
   "cell_type": "markdown",
   "metadata": {},
   "source": [
    "**Ex 5**: Do the same thing using a list comprehension."
   ]
  },
  {
   "cell_type": "code",
   "execution_count": 5,
   "metadata": {
    "collapsed": false
   },
   "outputs": [
    {
     "name": "stdout",
     "output_type": "stream",
     "text": [
      "[4, 10, 18, 28, 40]\n"
     ]
    }
   ],
   "source": [
    "new_range_list = [multi_function(i) for i in range_list]\n",
    "print(new_range_list[0:5])"
   ]
  },
  {
   "cell_type": "markdown",
   "metadata": {},
   "source": [
    "**Ex 7**: Show that you know about strings using this example from http://learnpythonthehardway.org/book/ex6.html (code reproduced below).\n",
    "\n",
    "1. Go through the code below and write a code comment above each line explaining it.\n",
    "1. Find all the places where a string is put inside a string. There are four places.\n",
    "1. Are you sure there are only four places? How do you know? Maybe I like lying.\n",
    "1. Explain why adding the two strings w and e with + makes a longer string.\n",
    "\n",
    "\n",
    "[**Hint**: If you feel this is too complex, try completing the prior learningthehardway exercises first. Start [here](http://learnpythonthehardway.org/book/ex1.html). "
   ]
  },
  {
   "cell_type": "code",
   "execution_count": 6,
   "metadata": {
    "collapsed": false
   },
   "outputs": [
    {
     "name": "stdout",
     "output_type": "stream",
     "text": [
      "There are 10 types of people.\n",
      "Those who know binary and those who don't.\n",
      "I said: 'There are 10 types of people.'.\n",
      "I also said: 'Those who know binary and those who don't.'.\n",
      "Isn't that joke so funny?! False\n",
      "This is the left side of...a string with a right side.\n"
     ]
    }
   ],
   "source": [
    "# Note from Sune: In Python, code comments follow the \"#\" character\n",
    "\n",
    "# initialize x with string formatting to add 10 into the preceeding string (%d for int)\n",
    "x = \"There are %d types of people.\" % 10 \n",
    "# initialize the binary variable to the string \"binary\"\n",
    "binary = \"binary\"\n",
    "# initialize the do_not variable to the string \"don't\"\n",
    "do_not = \"don't\"\n",
    "# initialize y with string formatting to add the variables binary and do_not into the preceeding string, (%s for string)\n",
    "y = \"Those who know %s and those who %s.\" % (binary, do_not) \n",
    "\n",
    "# print x to the screen, the first sentence above \n",
    "print x\n",
    "# print y to the screen\n",
    "print y\n",
    "\n",
    "# string formatting a string including x\n",
    "print \"I said: %r.\" % x\n",
    "# string formatting a string including y\n",
    "print \"I also said: '%s'.\" % y\n",
    "\n",
    "# initialize a boolean variable\n",
    "hilarious = False\n",
    "# initialize a string variable with an unassgined %r \n",
    "joke_evaluation = \"Isn't that joke so funny?! %r\"\n",
    "\n",
    "# print the joke_evaluation variable with string formatting\n",
    "print joke_evaluation % hilarious\n",
    "\n",
    "# initialize the w variable\n",
    "w = \"This is the left side of...\"\n",
    "# initialize the e variable\n",
    "e = \"a string with a right side.\"\n",
    "\n",
    "# concatenate and print the w and e variables\n",
    "print w + e"
   ]
  },
  {
   "cell_type": "markdown",
   "metadata": {},
   "source": [
    "**7-2:**\n",
    "\n",
    "x = \"There are %d types of people.\" % 10 <br />\n",
    "y = \"Those who know %s and those who %s.\" % (binary, do_not) <br />\n",
    "print \"I said: %r.\" % x <br />\n",
    "print \"I also said: '%s'.\" % y <br />\n",
    "print joke_evaluation % hilarious <br />\n",
    "\n",
    "**7-3:** There are 5! :) \n",
    "\n",
    "**7-4:** When the '+' operator is called on two strings, it calls the built in unicode_concatenate function which concatenates the two strings."
   ]
  },
  {
   "cell_type": "markdown",
   "metadata": {},
   "source": [
    "**Ex 8**: First, learn about JSON by reading the **[wikipedia page](https://en.wikipedia.org/wiki/JSON)**. Then answer the following two questions in the cell below. \n",
    "\n",
    "* What is `json`? What do the letters stand for?\n",
    "\n",
    "JSON (JavaScript Object Notation) is a format used for data interchanging / exchanging (for example when sending or receiving data to a server). It can also be used to store data locally. It is based on how objects are built in JavaScript (e.g. `myObj = { \"name\":\"John\", \"age\":31, \"city\":\"New York\" };`). \n",
    "\n",
    "* Why is `json` superior to `xml`? (... or why not?)\n",
    "\n",
    "The main reason to use JSON instead of XML is that JSON is much more *lightweight*. "
   ]
  },
  {
   "cell_type": "markdown",
   "metadata": {},
   "source": [
    "**Ex 9a**: Use the `json` module (instructions on usage here: https://docs.python.org/2.7/library/json.html). \n",
    "\n",
    "First use `urllib2` (https://docs.python.org/2.7/howto/urllib2.html), or another Python library, to download **[this file](https://raw.githubusercontent.com/suneman/socialgraphs2016/master/files/test.json)**. \n",
    "\n",
    "The downloaded file is a string when you first download it, but you can use the `json` library to \"load\" the string and decode it to a Python object, using `json.loads()`. (The decoded string is a python object, a list with a single element, a dictionary (with nested dictionaries inside it))."
   ]
  },
  {
   "cell_type": "code",
   "execution_count": 7,
   "metadata": {
    "collapsed": false
   },
   "outputs": [],
   "source": [
    "import urllib2\n",
    "import json\n",
    "\n",
    "response = urllib2.urlopen('https://raw.githubusercontent.com/suneman/socialgraphs2016/master/files/test.json')\n",
    "\n",
    "html = response.read()\n",
    "\n",
    "twitter_json = json.loads(html)"
   ]
  },
  {
   "cell_type": "markdown",
   "metadata": {},
   "source": [
    "**Ex 9b**: Now, let's take a look at the file you downloaded. First, just write the name of the variable that contains the decoded file content and hit enter to take a look at it. It's  the list of Twitter Trending topics, a few days ago."
   ]
  },
  {
   "cell_type": "code",
   "execution_count": 8,
   "metadata": {
    "collapsed": false
   },
   "outputs": [
    {
     "name": "stdout",
     "output_type": "stream",
     "text": [
      "locations:  [{u'woeid': 23424796, u'name': u'Denmark'}]\n",
      "\n",
      "\n",
      "created_at:  2015-08-24T08:32:44Z\n",
      "\n",
      "\n",
      "trends:  [{u'url': u'http://twitter.com/search?q=%23rfcvff', u'query': u'%23rfcvff', u'name': u'#rfcvff', u'promoted_content': None}, {u'url': u'http://twitter.com/search?q=%23EFBFCM', u'query': u'%23EFBFCM', u'name': u'#EFBFCM', u'promoted_content': None}, {u'url': u'http://twitter.com/search?q=%23bifsje', u'query': u'%23bifsje', u'name': u'#bifsje', u'promoted_content': None}, {u'url': u'http://twitter.com/search?q=nordstrand', u'query': u'nordstrand', u'name': u'nordstrand', u'promoted_content': None}, {u'url': u'http://twitter.com/search?q=%23WhyILoveLiam', u'query': u'%23WhyILoveLiam', u'name': u'#WhyILoveLiam', u'promoted_content': None}, {u'url': u'http://twitter.com/search?q=%23lv2015', u'query': u'%23lv2015', u'name': u'#lv2015', u'promoted_content': None}, {u'url': u'http://twitter.com/search?q=%22Harald+Nielsen%22', u'query': u'%22Harald+Nielsen%22', u'name': u'Harald Nielsen', u'promoted_content': None}, {u'url': u'http://twitter.com/search?q=Fnatic', u'query': u'Fnatic', u'name': u'Fnatic', u'promoted_content': None}, {u'url': u'http://twitter.com/search?q=Nash', u'query': u'Nash', u'name': u'Nash', u'promoted_content': None}, {u'url': u'http://twitter.com/search?q=kjeldsen', u'query': u'kjeldsen', u'name': u'kjeldsen', u'promoted_content': None}]\n",
      "\n",
      "\n",
      "as_of:  2015-08-24T08:36:54Z\n",
      "\n",
      "\n"
     ]
    }
   ],
   "source": [
    "for i in twitter_json[0]:\n",
    "    print i + ': ', twitter_json[0][i]\n",
    "    print '\\n'"
   ]
  },
  {
   "cell_type": "markdown",
   "metadata": {},
   "source": [
    "**Ex 9c**: The thing you've just decoded is now a list of length 1. What are the names of the keys organizing the dictionary at position 0 in the list? (Just write the code to produce the answer.) \n",
    "\n",
    "**Hint** use the `.keys()` method to easily get the keys of any dictionary."
   ]
  },
  {
   "cell_type": "code",
   "execution_count": 9,
   "metadata": {
    "collapsed": false
   },
   "outputs": [
    {
     "data": {
      "text/plain": [
       "[u'locations', u'created_at', u'trends', u'as_of']"
      ]
     },
     "execution_count": 9,
     "metadata": {},
     "output_type": "execute_result"
    }
   ],
   "source": [
    "twitter_json[0].keys()"
   ]
  },
  {
   "cell_type": "markdown",
   "metadata": {},
   "source": [
    "**Ex 9d**: Two small questions \n",
    "* What time did I create the list of Trending Topics?\n",
    "* Print the names of the trending topics (bonus for using a list comprehension)\n",
    "\n",
    "(Just write the code to produce the answer.)"
   ]
  },
  {
   "cell_type": "code",
   "execution_count": 10,
   "metadata": {
    "collapsed": false
   },
   "outputs": [
    {
     "data": {
      "text/plain": [
       "[u'#rfcvff',\n",
       " u'#EFBFCM',\n",
       " u'#bifsje',\n",
       " u'nordstrand',\n",
       " u'#WhyILoveLiam',\n",
       " u'#lv2015',\n",
       " u'Harald Nielsen',\n",
       " u'Fnatic',\n",
       " u'Nash',\n",
       " u'kjeldsen']"
      ]
     },
     "execution_count": 10,
     "metadata": {},
     "output_type": "execute_result"
    }
   ],
   "source": [
    "twitter_json[0]['created_at']\n",
    "\n",
    "[i['name'] for i in twitter_json[0]['trends']]"
   ]
  },
  {
   "cell_type": "markdown",
   "metadata": {},
   "source": [
    "**Ex 9e**: Two more small questions\n",
    "\n",
    "* Go on-line and figure out why there's a `u` in front of every string. Write the answer in your own words. (Hint it has to do with strings in Python).\n",
    "\n",
    "The 'u' in front of a string value means that the string can be represented as unicode. Unicode is a way to represent more characters than normal ASCII can manage (there are 256 ASCII characters and 128,172. characters in Unicode standard version 9).\n",
    "\n",
    "* What's going on with all of the `%22` and `%23`? Go on-line and figure it out. Write the answer in your own words. (Hint: It has to do with HTML URL encoding)\n",
    "\n",
    "The %22 and %23 is an URL encoding of the \" and # characters respectively. URL encoding is used because URLs can only be sent over the web in the ASCII format, but URLs can contain non ASCII characters. Therefore, URL encoding is used to encode the URL into an ASCII format before being transfered.\n",
    "\n",
    "For example:\n",
    "\n",
    "\n",
    "https://www.example.com/new%20cars.htm actually retrives a document called \"new cars.htm\" (the %20 represents the space character)."
   ]
  }
 ],
 "metadata": {
  "anaconda-cloud": {},
  "kernelspec": {
   "display_name": "Python [default]",
   "language": "python",
   "name": "python2"
  },
  "language_info": {
   "codemirror_mode": {
    "name": "ipython",
    "version": 2
   },
   "file_extension": ".py",
   "mimetype": "text/x-python",
   "name": "python",
   "nbconvert_exporter": "python",
   "pygments_lexer": "ipython2",
   "version": "2.7.13"
  }
 },
 "nbformat": 4,
 "nbformat_minor": 0
}
