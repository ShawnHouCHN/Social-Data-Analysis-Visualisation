{
 "cells": [
  {
   "cell_type": "code",
   "execution_count": 1,
   "metadata": {
    "collapsed": true
   },
   "outputs": [],
   "source": [
    "import numpy as np\n",
    "import matplotlib.pyplot as plt"
   ]
  },
  {
   "cell_type": "markdown",
   "metadata": {},
   "source": [
    "## Part 2: Statistics (DSFS Chapter 5)"
   ]
  },
  {
   "cell_type": "markdown",
   "metadata": {},
   "source": [
    "* **Mean and median: Explain the difference between the mean and the median in your own words. In what kinds of dataset are the mean and median similar? Can you think of a dataset where the mean and median would be very different?**\n",
    "\n",
    "The mean is measuring the average value of all observations while the median is measuring the \"middle\" of our dataset (collection of observations). The mean and median are similar for datasets that are \"evenly spread\" and without many outliers (as outliers can significantly \"pull\" the mean in one direction, while affecting the median to a much lesser extent).\n",
    "\n",
    "Therefore, datasets taht have a number of outliers lead the mean and median to being quite different.\n",
    "\n",
    "* **Variance: Explain the variance in your own words.**\n",
    "\n",
    "Variance is a measure of how how \"spread out\" the data is. It other words, it measure on average how far observations deviate from the mean. The variance can be calculated according to (assuming a uniform distribution):\n",
    "\n",
    "$Var(X) = \\frac{1}{N} \\times \\sum_{n=1}^{N} (x_n - \\mu)^2$\n",
    "\n",
    "Therefor if all observations lie close to the mean, the variance is not very high. If however there are quite a few observations that deviate from the mean, the variacne will be higher.\n",
    "\n",
    "* **A paradox: What is Simpson's Paradox. Provide your own example of a dataset where this issue occurs.**\n",
    "\n",
    "THe Simpson's paradox refers to a phenomenom where a trend appears in different groups of data but disappears or reverses when these groups are combined. A classical example is the admission rate to University of Berkeley’s graduate schools. In that if we look at the total admission rates is shows 44% admission rate for men and a 35% admission rate for women. This indicates that men are favored in the admission process over women.\n",
    "\n",
    "However, the paradox stems from the fact that we are pooling groups from different departments and treating them as one. Looking at the admission rates by department, one can see that women tended to apply for departments that are very competitive, while men applied for departments which were \"easier\" to get into. If we pool all the men and women together as two groups, we lose the information that women were applying for more difficult departments, and we only get the acceptance rate.\n",
    "\n",
    "Looking at each department separately, it shows that women are actually slightly favored over men in the admission process.\n",
    "\n",
    "* **Correlation and causation: Explain what's funny about this comic.**\n",
    "\n",
    "The comic is talking about a classic fallacy wherein it is assumed that there is a causal relationship between two events because they correlate together. An example of such a fallacy is saying that *\"The sun comes up after the rooster crows, therefore the rooster crowing causes the sun come up\"*."
   ]
  },
  {
   "cell_type": "code",
   "execution_count": 2,
   "metadata": {
    "collapsed": true
   },
   "outputs": [],
   "source": [
    "import numpy as np\n",
    "import urllib2\n",
    "from StringIO import StringIO"
   ]
  },
  {
   "cell_type": "markdown",
   "metadata": {},
   "source": [
    "**Downloading the datasets**"
   ]
  },
  {
   "cell_type": "code",
   "execution_count": 3,
   "metadata": {
    "collapsed": false,
    "scrolled": true
   },
   "outputs": [],
   "source": [
    "data_dict = {}\n",
    "\n",
    "for number in range(1,5):\n",
    "    \n",
    "    data_file = \"data_file\" + str(number)\n",
    "    \n",
    "    current_response = urllib2.urlopen('https://raw.githubusercontent.com/suneman/socialdataanalysis2017/master/files/data{}.tsv'.format(number))\n",
    "    current_array = np.genfromtxt(StringIO(current_response.read()), delimiter='\\t')\n",
    "    \n",
    "    \n",
    "    data_dict[\"Array {}\".format(number)] = current_array"
   ]
  },
  {
   "cell_type": "markdown",
   "metadata": {},
   "source": [
    "**Using the numpy function mean, calculate the mean of both x-values and y-values for each dataset.**\n",
    "\n",
    "**Use python string formatting to print precisely two decimal places of these results to the output cell.**"
   ]
  },
  {
   "cell_type": "code",
   "execution_count": 4,
   "metadata": {
    "collapsed": false,
    "scrolled": true
   },
   "outputs": [
    {
     "name": "stdout",
     "output_type": "stream",
     "text": [
      "The mean values of x and y in Array 1 are 9.00 and 7.50 respectively.\n",
      "The mean values of x and y in Array 2 are 9.00 and 7.50 respectively.\n",
      "The mean values of x and y in Array 3 are 9.00 and 7.50 respectively.\n",
      "The mean values of x and y in Array 4 are 9.00 and 7.50 respectively.\n"
     ]
    }
   ],
   "source": [
    "for key, value in data_dict.items():\n",
    "    \n",
    "    all_means = np.mean(data_dict[key], axis=0)\n",
    "    current_x_mean, current_y_mean = all_means[0], all_means[1]\n",
    "    print(\"The mean values of x and y in {} are {:.2f} and {:.2f} respectively.\".format(key, current_x_mean, current_y_mean))\n",
    "    "
   ]
  },
  {
   "cell_type": "markdown",
   "metadata": {},
   "source": [
    "**Now calculate the variance for all of the various sets of x- and y-values (to three decimal places).**"
   ]
  },
  {
   "cell_type": "code",
   "execution_count": 5,
   "metadata": {
    "collapsed": false
   },
   "outputs": [
    {
     "name": "stdout",
     "output_type": "stream",
     "text": [
      "The variance values of x and y in Array 1 are 10.000 and 3.752 respectively.\n",
      "The variance values of x and y in Array 2 are 10.000 and 3.752 respectively.\n",
      "The variance values of x and y in Array 3 are 10.000 and 3.748 respectively.\n",
      "The variance values of x and y in Array 4 are 10.000 and 3.748 respectively.\n"
     ]
    }
   ],
   "source": [
    "for key, value in data_dict.items():\n",
    "    \n",
    "    all_var = np.var(data_dict[key], axis=0)\n",
    "    current_x_var, current_y_var = all_var[0], all_var[1]\n",
    "    print(\"The variance values of x and y in {} are {:.3f} and {:.3f} respectively.\".format(key, current_x_var, current_y_var))\n",
    "    "
   ]
  },
  {
   "cell_type": "markdown",
   "metadata": {},
   "source": [
    "**Use numpy to calculate the Pearson correlation between x- and y-values for all four data sets (also to three decimal places)**"
   ]
  },
  {
   "cell_type": "code",
   "execution_count": 6,
   "metadata": {
    "collapsed": false
   },
   "outputs": [
    {
     "name": "stdout",
     "output_type": "stream",
     "text": [
      "The Pearsons Correlation coefficient for Array 1 is 0.816\n",
      "The Pearsons Correlation coefficient for Array 2 is 0.816\n",
      "The Pearsons Correlation coefficient for Array 3 is 0.816\n",
      "The Pearsons Correlation coefficient for Array 4 is 0.817\n"
     ]
    }
   ],
   "source": [
    "for key, value in data_dict.items():\n",
    "    \n",
    "    x = data_dict[key][:,0]\n",
    "    y = data_dict[key][:,1]\n",
    "    pearsons_cof = np.corrcoef(x, y)\n",
    "    print(\"The Pearsons Correlation coefficient for {} is {:.3f}\".format(key, pearsons_cof[0,1]))\n",
    "    "
   ]
  },
  {
   "cell_type": "markdown",
   "metadata": {},
   "source": [
    "**The next step is use linear regression to fit a straight line f(x)=ax+b through each dataset and report a and b (to two decimal places).**"
   ]
  },
  {
   "cell_type": "code",
   "execution_count": 7,
   "metadata": {
    "collapsed": false
   },
   "outputs": [
    {
     "name": "stdout",
     "output_type": "stream",
     "text": [
      "The linear equation describing Array 1 is y = 0.50x + 3.00\n",
      "The linear equation describing Array 2 is y = 0.50x + 3.00\n",
      "The linear equation describing Array 3 is y = 0.50x + 3.00\n",
      "The linear equation describing Array 4 is y = 0.50x + 3.00\n"
     ]
    }
   ],
   "source": [
    "from scipy import stats\n",
    "\n",
    "for key, value in data_dict.items():\n",
    "    \n",
    "    x = data_dict[key][:,0]\n",
    "    y = data_dict[key][:,1]\n",
    "    \n",
    "    slope, intercept, r_value, p_value, std_err = stats.linregress(x,y)\n",
    "    \n",
    "    print(\"The linear equation describing {} is y = {:.2f}x + {:.2f}\".format(key, slope, intercept))\n",
    "    "
   ]
  },
  {
   "cell_type": "markdown",
   "metadata": {},
   "source": [
    "Finally, it's time to plot the four datasets using `matplotlib.pyplot`."
   ]
  },
  {
   "cell_type": "code",
   "execution_count": 8,
   "metadata": {
    "collapsed": false
   },
   "outputs": [
    {
     "data": {
      "image/png": "[encoded data removed]",
      "text/plain": [
       "<matplotlib.figure.Figure at 0x115eda2d0>"
      ]
     },
     "metadata": {},
     "output_type": "display_data"
    }
   ],
   "source": [
    "subplot_counter = 1\n",
    "\n",
    "plt.figure(figsize=(12,10)) # size must be defined before plotting\n",
    "\n",
    "for key, value in data_dict.items():\n",
    "    \n",
    "    # Calculate values\n",
    "    x = data_dict[key][:,0]\n",
    "    y = data_dict[key][:,1]\n",
    "    m, b = np.polyfit(x, y, 1) # fit a 1 degree polynomial \n",
    "    regression_line_limits = np.array([0,20]) # limits to extend regression lines\n",
    "    \n",
    "    # Plotting\n",
    "    plt.subplot(2, 2, subplot_counter)\n",
    "    plt.scatter(x, y, c='black') # plot the data\n",
    "    plt.plot(regression_line_limits, m*regression_line_limits + b, '-', c=\"r\") # plot the regression line\n",
    "    plt.xlim(0,20)\n",
    "    plt.ylim(0,14)\n",
    "    plt.title(key)\n",
    "    \n",
    "    subplot_counter += 1\n",
    "\n",
    "plt.show()"
   ]
  },
  {
   "cell_type": "markdown",
   "metadata": {},
   "source": [
    "**Explain - in your own words - what you think my point with this exercise is**\n",
    "\n",
    "The point of this exercise is to show how basic statistic properties can sometimes do a poor job at describing datasets. Looking at properties such as the mean, variance, Person's coefficent and the linear equations describing the data could lead one to conclude that the datasets are all the same or the very least extremely similar.\n",
    "\n",
    "However, it isn't until we actually plot our data that we see that the datasets are in fact very different from each other. This emphasizes the importance of visualizing the data we are analyzing."
   ]
  },
  {
   "cell_type": "markdown",
   "metadata": {},
   "source": [
    "## Part 3: Probability (DSFS Chapter 6)"
   ]
  },
  {
   "cell_type": "markdown",
   "metadata": {},
   "source": [
    "* What is the probability of three girls?\n",
    "* What is the probability of two girls and one boy?\n",
    "* What is the probability of one girl and two boys?\n",
    "* What is the probability of three boys?\n",
    "* What is the probability that all children are girls given that the oldest child is a girl?\n",
    "* What is the probability that all children are girls given that one of the children is a girl?"
   ]
  },
  {
   "cell_type": "code",
   "execution_count": 9,
   "metadata": {
    "collapsed": false
   },
   "outputs": [
    {
     "name": "stdout",
     "output_type": "stream",
     "text": [
      "p(G, G, G): 0.1249\n",
      "p(G, G, B): 0.3782\n",
      "p(G, B, B): 0.3782\n",
      "p(B, B, B): 0.1249\n",
      "p(G, G, G | older = G): 0.246\n",
      "p(G, G, G | any = G): 0.1419\n"
     ]
    }
   ],
   "source": [
    "import random\n",
    "from __future__ import division\n",
    "from collections import Counter\n",
    "\n",
    "def random_kid():\n",
    "    return random.choice([\"boy\", \"girl\"])\n",
    "\n",
    "n_trials = 10000\n",
    "\n",
    "all_girls = 0\n",
    "two_girls_one_boy = 0\n",
    "oldest_girl = 0\n",
    "any_girl = 0\n",
    "\n",
    "random.seed(0)\n",
    "for _ in range(n_trials):\n",
    "    \n",
    "    younger, middle, older = random_kid(), random_kid(), random_kid()\n",
    "    \n",
    "    kid_count = dict(Counter([younger, middle, older]))\n",
    "    \n",
    "    if kid_count == {'girl': 3}:\n",
    "        all_girls += 1\n",
    "    \n",
    "    if kid_count == {'girl': 2, 'boy': 1}:\n",
    "        two_girls_one_boy += 1\n",
    "    \n",
    "    if older == 'girl':\n",
    "        oldest_girl += 1\n",
    "        \n",
    "    if 'girl' in kid_count:\n",
    "        any_girl += 1\n",
    "\n",
    "        \n",
    "print \"p(G, G, G):\", all_girls / n_trials  \n",
    "print \"p(G, G, B):\", two_girls_one_boy / n_trials  \n",
    "print \"p(G, B, B):\", two_girls_one_boy / n_trials  # same probability as for two girls one boy\n",
    "print \"p(B, B, B):\", all_girls / n_trials # same probability as for 3 girls\n",
    "\n",
    "print \"p(G, G, G | older = G):\", round(all_girls / oldest_girl, 4) # same probability as for 3 girls\n",
    "print \"p(G, G, G | any = G):\", round(all_girls / any_girl, 4) # same probability as for 3 girls"
   ]
  },
  {
   "cell_type": "markdown",
   "metadata": {},
   "source": [
    "* Work out the expected answer using your math skills.\n",
    "\n",
    "$p(G, G, G) = p(G)^3 = (\\frac{1}{2})^3 = \\frac{1}{8}$\n",
    "\n",
    "$p(G, G, B) = 3 \\times \\frac{1}{8} = \\frac{1}{8}$ (since there are 3 ways to to order a set of 3 elements with 2 unique values)\n",
    "\n",
    "$p(G, B, B) = 3 \\times \\frac{1}{8} = \\frac{1}{8}$\n",
    "\n",
    "$p(B, B, B) = p(B)^3 = (\\frac{1}{2})^3 = \\frac{1}{8}$\n",
    "\n",
    "$p(G, G, G \\mid older = G)  = \\frac{p(G, G, G)}{p(older = G)} = \\frac{1/8}{1/2} = \\frac{1}{4}$ \n",
    "\n",
    "$p(G, G, G \\mid any = G)  = \\frac{p(G, G, G)}{p(any = G)} = \\frac{1/8}{1 - p(all = B)} = \\frac{1/8}{1 - 1/8} = \\frac{1}{7}$ "
   ]
  },
  {
   "cell_type": "markdown",
   "metadata": {},
   "source": [
    "* Use Python's random module to simulate rolling a fair six-sided die 10 000 000 times."
   ]
  },
  {
   "cell_type": "code",
   "execution_count": 10,
   "metadata": {
    "collapsed": false
   },
   "outputs": [],
   "source": [
    "import random\n",
    "\n",
    "dice_throws = [random.randint(1,6) for throw in range(10000000)]"
   ]
  },
  {
   "cell_type": "markdown",
   "metadata": {},
   "source": [
    "* Plot the distribution of dice rolls using a bar-chart. Hint: Use counter (see p. 24) to bin the values, then go back to Chapter 3 for examples of how to plot bar-charts (or try Google → stackoverflow)."
   ]
  },
  {
   "cell_type": "code",
   "execution_count": 11,
   "metadata": {
    "collapsed": false
   },
   "outputs": [
    {
     "data": {
      "image/png": "[encoded data removed]",
      "text/plain": [
       "<matplotlib.figure.Figure at 0x110167350>"
      ]
     },
     "metadata": {},
     "output_type": "display_data"
    }
   ],
   "source": [
    "from collections import Counter\n",
    "\n",
    "labels, values = zip(*Counter(dice_throws).items()) # * to unpack the tuples\n",
    "\n",
    "plt.bar(labels, values)\n",
    "plt.title(\"Simulation of dice throws\")\n",
    "plt.xlabel(\"Dice throw\")\n",
    "plt.ylabel(\"Count\")\n",
    "plt.show()"
   ]
  },
  {
   "cell_type": "markdown",
   "metadata": {},
   "source": [
    "* Describe the shape of the distribution.\n",
    "\n",
    "The shape of the distribution is a uniform shape as there is an equal probabilty of getting each value of the dice throws."
   ]
  },
  {
   "cell_type": "markdown",
   "metadata": {},
   "source": [
    "* Now perform a new simulation. Roll a fair six-sided die 10 times and take the average. Do that 1 000 000 times."
   ]
  },
  {
   "cell_type": "code",
   "execution_count": 12,
   "metadata": {
    "collapsed": false
   },
   "outputs": [],
   "source": [
    "def generate_mean():\n",
    "    \n",
    "    total = [np.random.randint(1,7) for throw in range(10)] # using np here as it is faster\n",
    "    \n",
    "    return np.sum(total)/10\n",
    "\n",
    "\n",
    "mean_dice_throws = [generate_mean() for n_trows in range(1000000)]"
   ]
  },
  {
   "cell_type": "markdown",
   "metadata": {},
   "source": [
    "* Plot the distribution of those average values. This time you can't use counter (since the averages are not integer values).\n",
    "* Instead use numpy.histogram to bin those number into 25 bins.\n",
    "* What does the numpy.histogram function return? Do the two arrays have the same length?\n",
    "* Then let's use matplotlib.pyplot.bar to plot the binned data. You will have to deal with the fact that the counts- and bin-arrays have different lengths. Explain how you deal with this problem and why."
   ]
  },
  {
   "cell_type": "code",
   "execution_count": 13,
   "metadata": {
    "collapsed": false
   },
   "outputs": [
    {
     "data": {
      "image/png": "[encoded data removed]",
      "text/plain": [
       "<matplotlib.figure.Figure at 0x11643e150>"
      ]
     },
     "metadata": {},
     "output_type": "display_data"
    }
   ],
   "source": [
    "# With plt.hist\n",
    "plt.hist(mean_dice_throws, bins=25)  # plt.hist passes it's arguments to np.histogram\n",
    "plt.show()"
   ]
  },
  {
   "cell_type": "code",
   "execution_count": 14,
   "metadata": {
    "collapsed": false
   },
   "outputs": [
    {
     "data": {
      "image/png": "[encoded data removed]",
      "text/plain": [
       "<matplotlib.figure.Figure at 0x115f7d110>"
      ]
     },
     "metadata": {},
     "output_type": "display_data"
    }
   ],
   "source": [
    "# Also possible with np.histogram and plt.bar\n",
    "hist, bins = np.histogram(mean_dice_throws, bins=25) # hist = height for eac column\n",
    "width = 0.7 * (bins[1] - bins[0])\n",
    "center = (bins[:-1] + bins[1:]) / 2 # bin edges for the x-axis, a function of bins \n",
    "plt.bar(center, hist, align='center', width=width)\n",
    "plt.show()"
   ]
  },
  {
   "cell_type": "markdown",
   "metadata": {},
   "source": [
    "* Describe the shape of this distribution. Explain in your own words what happened to that flat distribution of die-rolls to suddenly make it Gaussian just by taking some averages.\n",
    "\n",
    "The same of this distribution strongly resembles the normal distribution. The reason why taking the means of samples drawn from a uniform distribution is normal distributed is due to the Central Limit Theorem (CLT). The CLT states that for a given distribution with a mean $\\mu$ and standard deviation $\\sigma$, the sampling distribution will resemble a normal distribution with a mean of $\\mu$ and a standard deviation of $\\sigma/\\sqrt{N}$. Therefore as the sample size increases, the variance (and standard deviation) decreases."
   ]
  },
  {
   "cell_type": "markdown",
   "metadata": {},
   "source": [
    "* Calculate the mean μ and standard deviation σ observed of the averaged values. Could you have predicted these values by reading DSFS pp. 78-80?"
   ]
  },
  {
   "cell_type": "markdown",
   "metadata": {},
   "source": [
    "Since the CLT states that:\n",
    "\n",
    "$\\mu_{\\bar{x}} = \\mu$\n",
    "\n",
    "where $\\mu_{\\bar{x}}$ is the mean of sample means and $\\mu$ is the population meal. Additionally, the theorem states that:\n",
    "\n",
    "$\\sigma_{\\bar{x}} = \\frac{\\sigma}{n^{1/2}}$\n",
    "\n",
    "where $\\sigma_{\\bar{x}}$ is the standard deviation of the sample means and $\\sigma$ is the standard deviation of the population.\n",
    "\n",
    "Calculating the values for $\\mu$ and $\\sigma$ we get 3.5 and 1.71 respectively.\n",
    "\n",
    "Calulating the values for $\\mu_{\\bar{x}}$ and $\\sigma_{\\bar{x}}$ we get:"
   ]
  },
  {
   "cell_type": "code",
   "execution_count": 15,
   "metadata": {
    "collapsed": false
   },
   "outputs": [
    {
     "name": "stdout",
     "output_type": "stream",
     "text": [
      "(3.5012127000000017, 0.53967488301634881)\n"
     ]
    }
   ],
   "source": [
    "print(np.mean(mean_dice_throws), np.std(mean_dice_throws))"
   ]
  },
  {
   "cell_type": "markdown",
   "metadata": {},
   "source": [
    "where $\\frac{\\sigma}{n^{1/2}} = \\frac{1.71}{10^{1/2}} = 0.54$. Therefore, the equations derived from the CTL agree with our experiment of simulated dice throws."
   ]
  },
  {
   "cell_type": "markdown",
   "metadata": {},
   "source": [
    "## Part 4: Hypothesis and inference (DSFS Chapter 7)"
   ]
  },
  {
   "cell_type": "markdown",
   "metadata": {},
   "source": [
    "* What's the null hypothesis when testing if a coin is fair?\n",
    "\n",
    "When testing if a coin is fair, we have the following hypotheses:\n",
    "\n",
    "$H_0: p = 0.5$\n",
    "\n",
    "$H_1: p \\neq 0.5$\n",
    "\n",
    "In this case, our null hypothesis is that the coin is fer an the alternative hypothesis is that it is not fair. If we cannot reject the null hypothesis, we can assume that the coin is fair.\n",
    "\n",
    "* Explain in your own words what Joel means by significance on p. 83.\n",
    "\n",
    "The significance is a threshold which determines the probability that we make a *type I error* (false positive)- where we say there is a significant different between two values when in fact the difference is just due to sampling error, not that we are sampling from two different populations. Having a lower significance means that the sample values have to be more significantly different in order for us make conclusions that the populations actually are.\n",
    "\n",
    "* Explain in your own words what Joel means by power on p. 83.\n",
    "\n",
    "Power is the probability of making a *type II error* (false negative). This is when we cannot reject a null hypothesis, but in fact our samples were coming from a different population.\n",
    "\n",
    "* Write down a short definition of p-value.\n",
    "\n",
    "The p-value determines how extreme our data is - we compare that with our significance threshold (alpha) in order to make assumptions about the values that are being compared. \n",
    "\n",
    "* Explain the problem with p-hacking.\n",
    "\n",
    "p-hacking refers to actively manipulating our data in order to get a good p-value (lower than $\\alpha/2$) so we can say that our sample is significantly different from population. This is not good practice as we are introducing a bias by e.g. only keeping those observations that support our alternative hypothesis - which does not reflect the ground truth we are examining."
   ]
  }
 ],
 "metadata": {
  "kernelspec": {
   "display_name": "Python [conda root]",
   "language": "python",
   "name": "conda-root-py"
  },
  "language_info": {
   "codemirror_mode": {
    "name": "ipython",
    "version": 2
   },
   "file_extension": ".py",
   "mimetype": "text/x-python",
   "name": "python",
   "nbconvert_exporter": "python",
   "pygments_lexer": "ipython2",
   "version": "2.7.13"
  }
 },
 "nbformat": 4,
 "nbformat_minor": 2
}
